{
 "cells": [
  {
   "cell_type": "markdown",
   "metadata": {},
   "source": [
    "## 0. Introduction\n",
    "\n",
    "This file covers all parts related to the initial data explorations that are part of our defined research questions. The purpose of that is to dig deeper into data distributions and querying subtleties of the cleaned datasets. Subsequent in-depth analysis will follow in Milestone 3. The following parts are pre-requisites of this exploration and were done separately:\n",
    "\n",
    "1. Dataset transformation and cleaning:\n",
    "\n",
    "- Extraction of historical events from Wikipedia Timelines (`scripts/extract_wikipedia_timelines.ipynb`) \n",
    "- IMDb dataset extraction and merging with the main CMU movies dataset (`scripts/merge_imdb_with_cmu.ipynb`)\n",
    "- Merging CMU movies with their summaries (`scripts/merge_movies_with_summaries.ipynb`)\n",
    "\n",
    "2. Utility methods and functions to fetch structured Google Search Trends data:\n",
    "\n",
    "- Functions to analyze movie genres and their distributions (`utils/genres.py`)\n",
    "- Methods to fetch Google Trends data for given timelines and keywords (`utils/google_trends.py`)"
   ]
  },
  {
   "cell_type": "code",
   "execution_count": 1,
   "metadata": {},
   "outputs": [
    {
     "ename": "ModuleNotFoundError",
     "evalue": "No module named 'dotenv'",
     "output_type": "error",
     "traceback": [
      "\u001b[1;31m---------------------------------------------------------------------------\u001b[0m",
      "\u001b[1;31mModuleNotFoundError\u001b[0m                       Traceback (most recent call last)",
      "Cell \u001b[1;32mIn[1], line 19\u001b[0m\n\u001b[0;32m     17\u001b[0m \u001b[38;5;28;01mfrom\u001b[39;00m \u001b[38;5;21;01mnltk\u001b[39;00m \u001b[38;5;28;01mimport\u001b[39;00m ne_chunk\n\u001b[0;32m     18\u001b[0m \u001b[38;5;28;01mfrom\u001b[39;00m \u001b[38;5;21;01mnltk\u001b[39;00m\u001b[38;5;21;01m.\u001b[39;00m\u001b[38;5;21;01msentiment\u001b[39;00m \u001b[38;5;28;01mimport\u001b[39;00m SentimentIntensityAnalyzer\n\u001b[1;32m---> 19\u001b[0m \u001b[38;5;28;01mfrom\u001b[39;00m \u001b[38;5;21;01msrc\u001b[39;00m\u001b[38;5;21;01m.\u001b[39;00m\u001b[38;5;21;01mutils\u001b[39;00m \u001b[38;5;28;01mimport\u001b[39;00m google_trends \u001b[38;5;28;01mas\u001b[39;00m gt\n\u001b[0;32m     20\u001b[0m \u001b[38;5;28;01mfrom\u001b[39;00m \u001b[38;5;21;01mdata\u001b[39;00m\u001b[38;5;21;01m.\u001b[39;00m\u001b[38;5;21;01mCleaning\u001b[39;00m \u001b[38;5;28;01mimport\u001b[39;00m final_df\n\u001b[0;32m     21\u001b[0m warnings\u001b[38;5;241m.\u001b[39msimplefilter(\u001b[38;5;124m\"\u001b[39m\u001b[38;5;124mignore\u001b[39m\u001b[38;5;124m\"\u001b[39m)\n",
      "File \u001b[1;32m~\\Desktop\\ADA\\ada-2024-project-americandentalassociation\\src\\utils\\google_trends.py:6\u001b[0m\n\u001b[0;32m      4\u001b[0m \u001b[38;5;28;01mimport\u001b[39;00m \u001b[38;5;21;01mmatplotlib\u001b[39;00m\u001b[38;5;21;01m.\u001b[39;00m\u001b[38;5;21;01mpyplot\u001b[39;00m \u001b[38;5;28;01mas\u001b[39;00m \u001b[38;5;21;01mplt\u001b[39;00m\n\u001b[0;32m      5\u001b[0m \u001b[38;5;28;01mimport\u001b[39;00m \u001b[38;5;21;01mjson\u001b[39;00m\n\u001b[1;32m----> 6\u001b[0m \u001b[38;5;28;01mfrom\u001b[39;00m \u001b[38;5;21;01mdotenv\u001b[39;00m \u001b[38;5;28;01mimport\u001b[39;00m load_dotenv\n\u001b[0;32m      7\u001b[0m \u001b[38;5;28;01mimport\u001b[39;00m \u001b[38;5;21;01mos\u001b[39;00m\n\u001b[0;32m      9\u001b[0m \u001b[38;5;66;03m# Fetch data by defining a query and date range\u001b[39;00m\n",
      "\u001b[1;31mModuleNotFoundError\u001b[0m: No module named 'dotenv'"
     ]
    }
   ],
   "source": [
    "import pandas as pd\n",
    "import plotly.express as px\n",
    "from collections import Counter\n",
    "import ast\n",
    "import numpy as np\n",
    "import matplotlib.pyplot as plt\n",
    "import seaborn as sns\n",
    "from src.utils.genres import *\n",
    "from src.utils.genres import name_plot, count_genre_over_years, top_years_for_genre, bottom_years_for_genre, count_genres_by_year, calc_genre_differences, calc_genre_growth, calc_proportion_growth\n",
    "import warnings\n",
    "import csv\n",
    "import re\n",
    "import nltk\n",
    "from nltk.tokenize import word_tokenize, sent_tokenize\n",
    "from nltk.corpus import stopwords\n",
    "from nltk.stem import WordNetLemmatizer\n",
    "from nltk import ne_chunk\n",
    "from nltk.sentiment import SentimentIntensityAnalyzer\n",
    "from src.utils import google_trends as gt\n",
    "from data.Cleaning import final_df\n",
    "warnings.simplefilter(\"ignore\")\n",
    "from ast import literal_eval\n",
    "import plotly.graph_objects as go \n"
   ]
  },
  {
   "cell_type": "markdown",
   "metadata": {},
   "source": [
    "## 1. Research Question 1\n",
    "\n",
    "How do global crises and significant world events shape the production, themes, and budget allocations of movies?"
   ]
  },
  {
   "cell_type": "code",
   "execution_count": 2,
   "metadata": {},
   "outputs": [],
   "source": [
    "# Import data\n",
    "data = pd.read_csv(\"data/filtered_movie_data.csv\")\n",
    "df = pd.DataFrame(data)"
   ]
  },
  {
   "cell_type": "markdown",
   "metadata": {},
   "source": [
    "Here I would like to explore the genres released throughout the Vietnam War. The war lasted from 1959 to 1975, so I have chosen to comapre those years with the middle of the war - 1967, plus years 1957 and 1977. Note that the Civil War in Vietnam started in 1957, while America joined in 1959. The year of 1967 was included as the middle of the war for comparison, and the year 1977 was included to see how the genre production changed after the war had ended and two years have passed. First, I calculate the 30 most popular genres during each year.\n",
    "\n",
    "The War Films genre stays in the top 30 throught all of the years, even though its popularity decreases over time. Interestingly, the Spy genre enters the top in 1967 and is two places ahead of War Films, however, is disappears from the top after."
   ]
  },
  {
   "cell_type": "code",
   "execution_count": null,
   "metadata": {},
   "outputs": [],
   "source": [
    "# Initialize years and datafraes for genre counts for each\n",
    "'''\n",
    "vietnam_war_rows = final_df[final_df['WarName'].str.contains('Vietnam War', case=False, na=False)].iloc[0]\n",
    "year1 = vietnam_war_rows[\"StartYear\"]\n",
    "year3 = vietnam_war_rows[\"EndYear\"]\n",
    "year0 = year1 - 2\n",
    "year2 = (year1 + year3) // 2\n",
    "year4 = year3 + 2\n",
    "'''\n",
    "\n",
    "year0, year1, year2, year3, year4 = 1957, 1959, 1967, 1975, 1977\n",
    "\n",
    "counts_year0, total_movies_year0 = count_genres_by_year(df, year0)\n",
    "counts_year1, total_movies_year1 = count_genres_by_year(df, year1)\n",
    "counts_year2, total_movies_year2 = count_genres_by_year(df, year2)\n",
    "counts_year3, total_movies_year3 = count_genres_by_year(df, year3)\n",
    "counts_year4, total_movies_year4 = count_genres_by_year(df, year4)\n",
    "\n",
    "# Calculating genre differences\n",
    "print(\"Genre Counts:\")\n",
    "VW_0_genres = count_genres_by_year(df, year0)[0].head(30)\n",
    "VW_1_genres = count_genres_by_year(df, year1)[0].head(30)\n",
    "VW_2_genres = count_genres_by_year(df, year2)[0].head(30)\n",
    "VW_3_genres = count_genres_by_year(df, year3)[0].head(30)\n",
    "VW_4_genres = count_genres_by_year(df, year4)[0].head(30)\n",
    "\n",
    "sns.barplot(data = VW_0_genres, x = \"Genre\", y = \"Count\")\n",
    "name_plot(\"Number of Movies Released\", \"Movies of each genre released in 1957\")\n",
    "sns.barplot(data = VW_1_genres, x = \"Genre\", y = \"Count\")\n",
    "name_plot(\"Number of Movies Released\", \"Movies of each genre released in 1959\")\n",
    "sns.barplot(data = VW_2_genres, x = \"Genre\", y = \"Count\")\n",
    "name_plot(\"Number of Movies Released\", \"Movies of each genre released in 1967\")\n",
    "sns.barplot(data = VW_3_genres, x = \"Genre\", y = \"Count\")\n",
    "name_plot(\"Number of Movies Released\", \"Movies of each genre released in 1975\")\n",
    "sns.barplot(data = VW_4_genres, x = \"Genre\", y = \"Count\")\n",
    "name_plot(\"Number of Movies Released\", \"Movies of each genre released in 1977\")"
   ]
  },
  {
   "cell_type": "markdown",
   "metadata": {},
   "source": [
    "Here the abosulte growth was calculated for the pairs of consecutive year from the list: 1957, 1959, 1967, 1975, 1977. \n",
    "\n",
    "From 1959 to 1967 the War Film genre takes second place as the genre with the biggest absolute growth. However, from 1967 to 1975 the War Film genre is now at the 20th place, while the Spy genre entered the top 5. Interestingly, from the end of the war in 1975 to the year of 1975 both Spy and War Film genres are no longer in the top 30, however genres Superhero movie and Superhero entered the top, taking 18th and 19th place."
   ]
  },
  {
   "cell_type": "code",
   "execution_count": null,
   "metadata": {},
   "outputs": [],
   "source": [
    "abs_difference_year0_year1 = calc_genre_differences(counts_year0, counts_year1, year0, year1)\n",
    "abs_difference_year1_year2 = calc_genre_differences(counts_year1, counts_year2, year1, year2)\n",
    "abs_difference_year2_year3 = calc_genre_differences(counts_year2, counts_year3, year2, year3)\n",
    "abs_difference_year3_year4 = calc_genre_differences(counts_year3, counts_year4, year3, year4)\n",
    "\n",
    "# Create subplots with two plots side by side\n",
    "fig, axes = plt.subplots(1, 2, figsize=(20, 8))  # 1 row, 2 columns\n",
    "\n",
    "# First plot: Absolute difference for year1 and year2\n",
    "sns.barplot(data=abs_difference_year0_year1.head(30), x=\"Genre\", y=\"Difference\", ax=axes[0])\n",
    "axes[0].set_title(f\"Absolute Growth in Genres from {year0} to {year1} - Top 30\")\n",
    "axes[0].set_xlabel(\"Genre\")\n",
    "axes[0].set_ylabel(\"Absolute Difference\")\n",
    "axes[0].tick_params(axis='x', rotation=90)  # Rotate x-axis labels for readability\n",
    "\n",
    "# Second plot: Absolute difference for year2 and year3\n",
    "sns.barplot(data=abs_difference_year1_year2.head(30), x=\"Genre\", y=\"Difference\", ax=axes[1])\n",
    "axes[1].set_title(f\"Absolute Growth in Genres from {year1} to {year2} - Top 30\")\n",
    "axes[1].set_xlabel(\"Genre\")\n",
    "axes[0].set_ylabel(\"Absolute Difference\")\n",
    "axes[1].tick_params(axis='x', rotation=90)  # Rotate x-axis labels for readability\n",
    "\n",
    "# Adjust layout to prevent overlap and ensure both plots fit within the figure\n",
    "plt.tight_layout()\n",
    "plt.show()\n",
    "plt.close()\n",
    "\n",
    "fig, axes = plt.subplots(1, 2, figsize=(20, 8))\n",
    "# First plot: Absolute difference for year1 and year2\n",
    "sns.barplot(data=abs_difference_year2_year3.head(30), x=\"Genre\", y=\"Difference\", ax=axes[0])\n",
    "axes[0].set_title(f\"Absolute Growth in Genres from {year2} to {year3} - Top 30\")\n",
    "axes[0].set_xlabel(\"Genre\")\n",
    "axes[0].set_ylabel(\"Absolute Difference\")\n",
    "axes[0].tick_params(axis='x', rotation=90)  # Rotate x-axis labels for readability\n",
    "\n",
    "# Second plot: Absolute difference for year2 and year3\n",
    "sns.barplot(data=abs_difference_year3_year4.head(30), x=\"Genre\", y=\"Difference\", ax=axes[1])\n",
    "axes[1].set_title(f\"Absolute Growth in Genres from {year3} to {year4} - Top 30\")\n",
    "axes[1].set_xlabel(\"Genre\")\n",
    "axes[0].set_ylabel(\"Absolute Difference\")\n",
    "axes[1].tick_params(axis='x', rotation=90)  # Rotate x-axis labels for readability\n",
    "\n",
    "# Adjust layout to prevent overlap and ensure both plots fit within the figure\n",
    "plt.tight_layout()\n",
    "plt.show()\n",
    "plt.close()"
   ]
  },
  {
   "cell_type": "markdown",
   "metadata": {},
   "source": [
    "We calculate the growth of a genre in percentage to account for some natural growth the most popular genres like Drama and Comedy always have in comparison to other more specific genres. The line plots are build for the top 30 and bottom 30.\\\n",
    "Note: Here the genres that created an infinite percentage increase (from 0 to any other number) were deleted. The genres with a -100 were deleted due to their small values as well.\n",
    "\n",
    "Throughout the years of the Vietnam War Spy genre had the biggest growth of 325%. Meanwhile the War Film genre is in the bottom 30 with a 40.7% decrease."
   ]
  },
  {
   "cell_type": "code",
   "execution_count": null,
   "metadata": {},
   "outputs": [],
   "source": [
    "relative_growth = calc_genre_growth(counts_year1, counts_year2, year1, year2)\n",
    "relative_growth['Percentage_Increase'] = relative_growth['Percentage_Increase'].replace([np.inf, -np.inf], np.nan)\n",
    "relative_growth = relative_growth.dropna(subset=['Percentage_Increase'])\n",
    "relative_growth = relative_growth[relative_growth['Percentage_Increase'] != -100]\n",
    "print(relative_growth[relative_growth[\"Genre\"] == \"War film\"])\n",
    "sns.barplot(data = relative_growth.head(30), x = \"Genre\", y = \"Percentage_Increase\")\n",
    "name_plot(\"Relative Increase\", \"Relative Growth in Genres from 1959 to 1975\")\n",
    "sns.barplot(data = relative_growth.tail(30), x = \"Genre\", y = \"Percentage_Increase\")\n",
    "name_plot(\"Relative Increase\", \"Relative Growth in Genres from 1959 to 1975\")"
   ]
  },
  {
   "cell_type": "markdown",
   "metadata": {},
   "source": [
    "Here we analyze the proportion growth of the movie genres to take into account the proportion each genre constituted of the overall number of movies released that year. Interestengly, the growth in the proportion of Spy Movies from 1959 to 1975 takes second place, while Glamorized Spy Movie is another genre that made it into the top 30. However, interestingly, the War Films genre had the 3rd highest decrease in proportion over the years of the Vietnam War."
   ]
  },
  {
   "cell_type": "code",
   "execution_count": null,
   "metadata": {},
   "outputs": [],
   "source": [
    "proportion_growth = calc_proportion_growth(counts_year1, counts_year2, year1, year2, total_movies_year1, total_movies_year2)\n",
    "sns.barplot(data = proportion_growth.head(30), x = \"Genre\", y = \"Proportion_Difference\")\n",
    "name_plot(\"Proportion Increase\", \"Change in the Propotion of Genres from 1959 to 1975 Top 30\")\n",
    "\n",
    "sns.barplot(data = proportion_growth.tail(30), x = \"Genre\", y = \"Proportion_Difference\")\n",
    "name_plot(\"Proportion Increase\", \"Change in the Propotion of Genres from 1959 to 1975 Bottom 30\")"
   ]
  },
  {
   "cell_type": "markdown",
   "metadata": {},
   "source": [
    "Here we analyze the number of War Films released every year and build a line plot. Some interesting findings from the ine plot and the top 20 years with the most War Films released are that biggest spike in War films except during World War 2 happened in the year of 2007. Moreover the period of 2006-2008 constitutes the top 5 years for the War Films. During those time the Iraq War was still ongoing and it is considered that the year of 2007 was the year of the biggest death toll for the war. Moreover, 2006 was the year when the Lebanon War happened. Overall, the 2000s take up almost half of the top, which could also be associated with the Afghanistan War\n",
    "\n",
    "We can also notice that the years related to the event of our current analysis - the Vietnam War - are also in the top 30 for the War Films genre. The year 1958 is at highest 11th place out of all, and meanwhile the U.S. entered the Vietnam War in 1959, before that it funded the South Vietnam in the Civil War, which started in 1957 (16th on the list, taking 2nd place for the Vietnam War years). It is also important to note, however, that the U.S. invasion of Lebanon also happened in 1958."
   ]
  },
  {
   "cell_type": "code",
   "execution_count": null,
   "metadata": {},
   "outputs": [],
   "source": [
    "war_films = count_genre_over_years(df, \"War film\")\n",
    "sns.lineplot(data = war_films, x = \"Year\", y = \"Count\")\n",
    "name_plot(\"Number of Movies Released\", \"War Films Throughout the Years\")\n",
    "print(top_years_for_genre(war_films, 20).reset_index(drop=True))\n",
    "print(bottom_years_for_genre(war_films, 20).reset_index(drop=True))\n",
    "\n",
    "# Get the proportion of War Films for each year\n",
    "war_films_proportion = count_genre_proportion(df, \"War film\")\n",
    "\n",
    "# Plot the proportion of War Films over the years\n",
    "sns.lineplot(data=war_films_proportion, x=\"Year\", y=\"Proportion\")\n",
    "name_plot(\"Proportion of War Films Released\", \"Proportion of War Films Over the Years\")\n",
    "\n",
    "# Print top 20 years with the highest proportion of War Films\n",
    "print(war_films_proportion.nlargest(20, 'Proportion'))\n",
    "\n",
    "# Print bottom 20 years with the lowest proportion of War Films\n",
    "print(war_films_proportion.nsmallest(20, 'Proportion'))\n"
   ]
  },
  {
   "cell_type": "code",
   "execution_count": null,
   "metadata": {},
   "outputs": [],
   "source": [
    "war_films = count_genre_over_years(df, \"War film\")\n",
    "sns.lineplot(data = war_films, x = \"Year\", y = \"Count\")\n",
    "name_plot(\"Number of Movies Released\", \"War Films Throughout the Years\")\n",
    "print(top_years_for_genre(war_films, 20).reset_index(drop=True))\n",
    "print(bottom_years_for_genre(war_films, 20).reset_index(drop=True))"
   ]
  },
  {
   "cell_type": "markdown",
   "metadata": {},
   "source": [
    "Noticing that the revenue values are often missing, let's discover the number of data we have for revenue."
   ]
  },
  {
   "cell_type": "code",
   "execution_count": null,
   "metadata": {},
   "outputs": [],
   "source": [
    "print(df[\"Revenue\"].count())\n",
    "print(df.shape[0])"
   ]
  },
  {
   "cell_type": "markdown",
   "metadata": {},
   "source": [
    "## 2. Research Question 2\n",
    "\n",
    "How do movie genre preferences differ between countries in conflict or those experiencing similar global events?"
   ]
  },
  {
   "cell_type": "code",
   "execution_count": null,
   "metadata": {},
   "outputs": [],
   "source": [
    "# Import the data\n",
    "data = pd.read_table(\"data/movies_with_summaries.csv\", sep=\",\")\n",
    "data.head()"
   ]
  },
  {
   "cell_type": "code",
   "execution_count": null,
   "metadata": {},
   "outputs": [],
   "source": [
    "data['Genres'] = data['Genres'].fillna(\"[]\")\n",
    "data['Genres'] = data['Genres'].str.strip(\"[]\").str.replace(\"'\", \"\").str.split(\", \")\n",
    "\n",
    "data['Genres_IMDb'] = data['Genres_IMDb'].fillna(\"[]\")\n",
    "data['Genres_IMDb'] = data['Genres_IMDb'].str.strip(\"[]\").str.replace(\"'\", \"\").str.split(\",\")\n",
    "\n",
    "data['Countries'] = data['Countries'].fillna(\"[]\")\n",
    "data['Countries'] = data['Countries'].str.strip(\"[]\").str.replace(\"'\", \"\").str.split(\", \")\n",
    "\n",
    "data.head()"
   ]
  },
  {
   "cell_type": "markdown",
   "metadata": {},
   "source": [
    "Our data has two columns related to genres, one coming from the CMU dataset, and one coming from the IMDb dataset.   "
   ]
  },
  {
   "cell_type": "code",
   "execution_count": null,
   "metadata": {},
   "outputs": [],
   "source": [
    "all_genres = data['Genres'].dropna().apply(lambda x: x if isinstance(x, list) else x.split(','))\n",
    "genres_count = Counter([genre.strip() for genres in all_genres for genre in genres])\n",
    "genres_list = genres_count.keys()\n",
    "len(genres_list)"
   ]
  },
  {
   "cell_type": "code",
   "execution_count": null,
   "metadata": {},
   "outputs": [],
   "source": [
    "genres_list"
   ]
  },
  {
   "cell_type": "code",
   "execution_count": null,
   "metadata": {},
   "outputs": [],
   "source": [
    "all_genres_imdb = data['Genres_IMDb'].dropna().apply(lambda x: x if isinstance(x, list) else x.split(','))\n",
    "genres_count_imdb = Counter([genre.strip() for genres in all_genres_imdb for genre in genres])\n",
    "genres_list_imdb = genres_count_imdb.keys()\n",
    "len(genres_list_imdb)"
   ]
  },
  {
   "cell_type": "markdown",
   "metadata": {},
   "source": [
    "It is easy to see that both columns have their advantages and disadvantages: the `Genres` column, coming from the CMU dataset, has several more classes compared to the `Genres_IMDb` column, derived from the IMDb dataset (356 vs 27), and this strong difference can have both positive and negative effects based on the task at hand.   \n",
    "Due to the very high amount of different classes, several of them are considerably similar to one-another (an example can be given by 'Crime Thriller', 'Crime Drama', 'Crime Comedy', 'Law  Crime', 'Crime', 'Master Criminal Films',... - here all the movies could be put under the common tag 'Crime'), and this could lead to some problems in the use of some models.   \n",
    "On the other hand, in some more targeted analysis - such as the one we face in this section - the few classes provided by the IMDb dataset don't allow any conclusion on very specific subtopics, which is why in this section the column on which we will focus our analysis is the column `Genres`."
   ]
  },
  {
   "cell_type": "markdown",
   "metadata": {},
   "source": [
    "### Genres Distribution by Year"
   ]
  },
  {
   "cell_type": "markdown",
   "metadata": {},
   "source": [
    "A first tool of our analysis is a chronological filtering, using the `Release_Date` and `Year` columns.   \n",
    "We selected two subsets of movies, the ones produced in the 1960s and those produced in the XXI century, and we look at the differences in movie genres between these two periods of time."
   ]
  },
  {
   "cell_type": "code",
   "execution_count": null,
   "metadata": {},
   "outputs": [],
   "source": [
    "movies_60s = data[(data['Year'] < 1970) & (data['Year'] >= 1960)]\n",
    "movies_2000s = data[data['Year'] >= 2000]\n",
    "movies_60s.head()"
   ]
  },
  {
   "cell_type": "code",
   "execution_count": null,
   "metadata": {},
   "outputs": [],
   "source": [
    "all_genres_60s = movies_60s['Genres'].dropna().apply(lambda x: x if isinstance(x, list) else x.split(','))\n",
    "genres_count_60s = Counter([genre.strip() for genres in all_genres_60s for genre in genres])\n",
    "genres_count_60s_reduced = dict(genres_count_60s.most_common(30))\n",
    "genres_count_60s_reduced"
   ]
  },
  {
   "cell_type": "code",
   "execution_count": null,
   "metadata": {},
   "outputs": [],
   "source": [
    "all_genres_2000s = movies_2000s['Genres'].dropna().apply(lambda x: x if isinstance(x, list) else x.split(','))\n",
    "genres_count_2000s = Counter([genre.strip() for genres in all_genres_2000s for genre in genres])\n",
    "genres_count_2000s_reduced = dict(genres_count_2000s.most_common(30))\n",
    "genres_count_2000s_reduced"
   ]
  },
  {
   "cell_type": "code",
   "execution_count": null,
   "metadata": {},
   "outputs": [],
   "source": [
    "# Plotting\n",
    "fig, axes = plt.subplots(1, 2, figsize=(14, 6))\n",
    "\n",
    "# Plot for 1960s\n",
    "axes[0].bar(genres_count_60s_reduced.keys(), genres_count_60s_reduced.values(), color='skyblue')\n",
    "axes[0].set_title('Genre Distribution (1960s)')\n",
    "axes[0].set_xticklabels(genres_count_60s_reduced.keys(), rotation=90)\n",
    "axes[0].set_ylabel('Count')\n",
    "\n",
    "# Plot for 2000s\n",
    "axes[1].bar(genres_count_2000s_reduced.keys(), genres_count_2000s_reduced.values(), color='salmon')\n",
    "axes[1].set_title('Genre Distribution (2000s)')\n",
    "axes[1].set_xticklabels(genres_count_2000s_reduced.keys(), rotation=90)\n",
    "axes[1].set_ylabel('Count')\n",
    "\n",
    "plt.tight_layout()\n",
    "plt.show()"
   ]
  },
  {
   "cell_type": "markdown",
   "metadata": {},
   "source": [
    "By looking at the most common genres in both time periods, it is easy to see some significant differences between the two histogram plots:\n",
    "- The overall number of produced movies has increased a lot iver time, so much that the least common movie genre in the 2000s plot (Film Adaptation, with 466 movies) has more elements than the third most common genre in the 60s (Romance Film, with 448 movies).   \n",
    "- Some movie genres have disappeared from the most common ones (such as Black and White movies or Westerns), leaving space to others touching themes more relevant to the common era (such as 'LGBT' and 'Sports')"
   ]
  },
  {
   "cell_type": "markdown",
   "metadata": {},
   "source": [
    "### Genres Distribution by Country"
   ]
  },
  {
   "cell_type": "markdown",
   "metadata": {},
   "source": [
    "A second approach to our analysis is driven by the elements in the column `Countries`: are the distributions between genres different between the various countries where they are produced? We will do a quick analysis of USA and Russia, two countries which historically are confronted in several contexts."
   ]
  },
  {
   "cell_type": "code",
   "execution_count": null,
   "metadata": {},
   "outputs": [],
   "source": [
    "us_movies = data[data['Countries'].apply(lambda x: 'United States of America' in x if isinstance(x, list) else False)]\n",
    "russia_movies = data[data['Countries'].apply(lambda x: 'Russia' in x or 'Soviet Union' in x if isinstance(x, list) else False)]\n",
    "russia_movies.head()"
   ]
  },
  {
   "cell_type": "code",
   "execution_count": null,
   "metadata": {},
   "outputs": [],
   "source": [
    "all_genres_us = us_movies['Genres'].dropna().apply(lambda x: x if isinstance(x, list) else x.split(','))\n",
    "genres_count_us = Counter([genre.strip() for genres in all_genres_us for genre in genres])\n",
    "genres_count_us_reduced = dict(genres_count_us.most_common(30))\n",
    "genres_count_us_reduced"
   ]
  },
  {
   "cell_type": "code",
   "execution_count": null,
   "metadata": {},
   "outputs": [],
   "source": [
    "all_genres_russia = russia_movies['Genres'].dropna().apply(lambda x: x if isinstance(x, list) else x.split(','))\n",
    "genres_count_russia = Counter([genre.strip() for genres in all_genres_russia for genre in genres])\n",
    "genres_count_russia_reduced = dict(genres_count_russia.most_common(30))\n",
    "genres_count_russia_reduced"
   ]
  },
  {
   "cell_type": "code",
   "execution_count": null,
   "metadata": {},
   "outputs": [],
   "source": [
    "# Plotting\n",
    "fig, axes = plt.subplots(1, 2, figsize=(14, 6))\n",
    "\n",
    "# Plot for USA\n",
    "axes[0].bar(genres_count_us_reduced.keys(), genres_count_us_reduced.values(), color='skyblue')\n",
    "axes[0].set_title('Genre Distribution (United States)')\n",
    "axes[0].set_xticklabels(genres_count_us_reduced.keys(), rotation=90)\n",
    "axes[0].set_ylabel('Count')\n",
    "\n",
    "# Plot for Russia\n",
    "axes[1].bar(genres_count_russia_reduced.keys(), genres_count_russia_reduced.values(), color='salmon')\n",
    "axes[1].set_title('Genre Distribution (Russia)')\n",
    "axes[1].set_xticklabels(genres_count_russia_reduced.keys(), rotation=90)\n",
    "axes[1].set_ylabel('Count')\n",
    "\n",
    "plt.tight_layout()\n",
    "plt.show()"
   ]
  },
  {
   "cell_type": "markdown",
   "metadata": {},
   "source": [
    "Similarly to the chronological analysis from the previous section, the most common genres stay pretty much the same between various countries, but we can see some slight differences between the two countries in exam:\n",
    "- War films are much more common in Russia rather than in the USA, being 5th in popularity in Russia and only 25th in the USA (this however is not necessarily a significant difference, as the total number of movies in the two datasets are in completely different scales)\n",
    "- Some genres such as Family Film are fairly common in the USA, while they are almost at the bottom of the list in Russia\n",
    "- Genres like Westerns and Japanese Movies are geographically restricted to their respective countries, effect which is reflected by the above histograms."
   ]
  },
  {
   "cell_type": "markdown",
   "metadata": {},
   "source": [
    "### Genres Distribution by Year and Country"
   ]
  },
  {
   "cell_type": "markdown",
   "metadata": {},
   "source": [
    "An additional step would be to combine the two analyses, filtering the dataset by both `Country` and `Year`.   \n",
    "In this section we check for significant differences between the pair of USA and Russia vs the rest of the world, in the time period of the 1960s."
   ]
  },
  {
   "cell_type": "code",
   "execution_count": null,
   "metadata": {},
   "outputs": [],
   "source": [
    "cw_movies = data[\n",
    "    ((data['Countries'].apply(lambda x: 'United States of America' in x if isinstance(x, list) else False)) | (data['Countries'].apply(lambda x: 'Russia' in x or 'Soviet Union' in x if isinstance(x, list) else False))) & \n",
    "    (data['Year'] >= 1960) & (data['Year'] < 1970)]\n",
    "not_cw_movies = data[\n",
    "    ((data['Countries'].apply(lambda x: 'United States of America' not in x if isinstance(x, list) else False)) & (data['Countries'].apply(lambda x: 'Russia' not in x and 'Soviet Union' not in x if isinstance(x, list) else False))) & \n",
    "    (data['Year'] >= 1960) & (data['Year'] < 1970)]\n",
    "not_cw_movies.head()"
   ]
  },
  {
   "cell_type": "code",
   "execution_count": null,
   "metadata": {},
   "outputs": [],
   "source": [
    "all_genres_cw = cw_movies['Genres'].dropna().apply(lambda x: x if isinstance(x, list) else x.split(','))\n",
    "genres_count_cw = Counter([genre.strip() for genres in all_genres_cw for genre in genres])\n",
    "genres_count_cw_reduced = dict(genres_count_cw.most_common(30))\n",
    "genres_count_cw_reduced"
   ]
  },
  {
   "cell_type": "code",
   "execution_count": null,
   "metadata": {},
   "outputs": [],
   "source": [
    "all_genres_not_cw = not_cw_movies['Genres'].dropna().apply(lambda x: x if isinstance(x, list) else x.split(','))\n",
    "genres_count_not_cw = Counter([genre.strip() for genres in all_genres_not_cw for genre in genres])\n",
    "genres_count_not_cw_reduced = dict(genres_count_not_cw.most_common(30))\n",
    "genres_count_not_cw_reduced"
   ]
  },
  {
   "cell_type": "code",
   "execution_count": null,
   "metadata": {},
   "outputs": [],
   "source": [
    "# Plotting\n",
    "fig, axes = plt.subplots(1, 2, figsize=(14, 6))\n",
    "\n",
    "# Plot for USA and Russia\n",
    "axes[0].bar(genres_count_cw_reduced.keys(), genres_count_cw_reduced.values(), color='skyblue')\n",
    "axes[0].set_title('Genre Distribution (USA & Russia)')\n",
    "axes[0].set_xticklabels(genres_count_cw_reduced.keys(), rotation=90)\n",
    "axes[0].set_ylabel('Count')\n",
    "\n",
    "# Plot for Rest of the World\n",
    "axes[1].bar(genres_count_not_cw_reduced.keys(), genres_count_not_cw_reduced.values(), color='salmon')\n",
    "axes[1].set_title('Genre Distribution (Rest of the World)')\n",
    "axes[1].set_xticklabels(genres_count_not_cw_reduced.keys(), rotation=90)\n",
    "axes[1].set_ylabel('Count')\n",
    "\n",
    "plt.suptitle(\"1960s\")\n",
    "plt.tight_layout()\n",
    "plt.show()"
   ]
  },
  {
   "cell_type": "markdown",
   "metadata": {},
   "source": [
    "Unfortunately, the two histograms show very few differences between one-another, with `War Film` and `Spy` movies having only a slightly higher position in the list despite being genres with possibly significant relevance to the historical period.   \n",
    "It is moreover difficult to link this higher position solely to an historical correlation, as on the right histogram we see genres such as 'Japanese Movies' and 'Bollywood' which are inherently limited to the rest of the world."
   ]
  },
  {
   "cell_type": "markdown",
   "metadata": {},
   "source": [
    "### Single Genre Analysis"
   ]
  },
  {
   "cell_type": "markdown",
   "metadata": {},
   "source": [
    "Single Movie genres are also a great driver of the analysis, as they can show some results which we can relate to historical events thanks to outside knowledge, as in the following example for the `Spy` genre:"
   ]
  },
  {
   "cell_type": "code",
   "execution_count": null,
   "metadata": {},
   "outputs": [],
   "source": [
    "genre_to_plot = \"Spy\"\n",
    "genre_movies = data[data['Genres'].apply(lambda x: genre_to_plot in x if isinstance(x, list) else False)]\n",
    "movies_per_year = genre_movies.groupby('Year').size()\n",
    "plt.figure(figsize=(10, 6))\n",
    "plt.plot(movies_per_year.index, movies_per_year.values, marker='o')\n",
    "plt.title(f\"Distribution of '{genre_to_plot}' Movies Over Time\")\n",
    "plt.xlabel(\"Year\")\n",
    "plt.ylabel(\"Number of Movies\")\n",
    "plt.grid(True)\n",
    "plt.show()"
   ]
  },
  {
   "cell_type": "code",
   "execution_count": null,
   "metadata": {},
   "outputs": [],
   "source": [
    "sorted_years = dict(sorted(movies_per_year.items(), key=lambda item: item[1], reverse=True))\n",
    "list(sorted_years.keys())[:10]"
   ]
  },
  {
   "cell_type": "markdown",
   "metadata": {},
   "source": [
    "The timeline for the genre shows two significant peaks near end of WWII (1942-1945) and middle of Cold War (1960s).   \n",
    "We can explain this phenomena with a brief historical analysis: for example, we can say that in the period of WWII the topic of spies selling information to the enemies, as well as enemies stealing or intercepting information important for winning the war was a common fear among both Allies and Axis. This could have lead to the topic becoming part of the everyday life for a lot of people, up to the point of becoming part of the cinematic culture."
   ]
  },
  {
   "cell_type": "markdown",
   "metadata": {},
   "source": [
    "### Summary Analysis"
   ]
  },
  {
   "cell_type": "markdown",
   "metadata": {},
   "source": [
    "A final approach to this analysis is to look at the difference in genre of movies produced in the same country but talking about other countries:\n",
    "in this section we look at movies produced in the USA, and in particular to movies talking about the USA themselves and movies talking about Russia.   \n",
    "This analysis is made possible by the column `summary`, which contains the brief summary of the movie plot."
   ]
  },
  {
   "cell_type": "code",
   "execution_count": null,
   "metadata": {},
   "outputs": [],
   "source": [
    "us_on_russia_movies = data[\n",
    "    (data['Countries'].apply(lambda x: 'United States of America' in x if isinstance(x, list) else False)) & \n",
    "    (data['summary'].apply(lambda x: 'russia' in x.lower() or 'soviet union' in x.lower() if isinstance(x, str) else False))]\n",
    "us_on_russia_movies.head()"
   ]
  },
  {
   "cell_type": "code",
   "execution_count": null,
   "metadata": {},
   "outputs": [],
   "source": [
    "us_on_us_movies = data[\n",
    "    (data['Countries'].apply(lambda x: 'United States of America' in x if isinstance(x, list) else False)) & \n",
    "    (data['summary'].apply(lambda x: 'united states of america' in x.lower() or 'usa' in x.lower() if isinstance(x, str) else False))]\n",
    "us_on_us_movies.head()"
   ]
  },
  {
   "cell_type": "code",
   "execution_count": null,
   "metadata": {},
   "outputs": [],
   "source": [
    "all_genres_us_on_russia = us_on_russia_movies['Genres'].dropna().apply(lambda x: x if isinstance(x, list) else x.split(','))\n",
    "genres_count_us_on_russia = Counter([genre.strip() for genres in all_genres_us_on_russia for genre in genres])\n",
    "genres_count_us_on_russia_reduced = dict(genres_count_us_on_russia.most_common(30))\n",
    "genres_count_us_on_russia_reduced"
   ]
  },
  {
   "cell_type": "code",
   "execution_count": null,
   "metadata": {},
   "outputs": [],
   "source": [
    "all_genres_us_on_us = us_on_us_movies['Genres'].dropna().apply(lambda x: x if isinstance(x, list) else x.split(','))\n",
    "genres_count_us_on_us = Counter([genre.strip() for genres in all_genres_us_on_us for genre in genres])\n",
    "genres_count_us_on_us_reduced = dict(genres_count_us_on_us.most_common(30))\n",
    "genres_count_us_on_us_reduced"
   ]
  },
  {
   "cell_type": "code",
   "execution_count": null,
   "metadata": {},
   "outputs": [],
   "source": [
    "# Plotting\n",
    "fig, axes = plt.subplots(1, 2, figsize=(14, 6))\n",
    "\n",
    "# Plot for USA and Russia\n",
    "axes[0].bar(genres_count_us_on_russia_reduced.keys(), genres_count_us_on_russia_reduced.values(), color='skyblue')\n",
    "axes[0].set_title('Genre Distribution (USA on Russia)')\n",
    "axes[0].set_xticklabels(genres_count_us_on_russia_reduced.keys(), rotation=90)\n",
    "axes[0].set_ylabel('Count')\n",
    "\n",
    "# Plot for Rest of the World\n",
    "axes[1].bar(genres_count_us_on_us_reduced.keys(), genres_count_us_on_us_reduced.values(), color='salmon')\n",
    "axes[1].set_title('Genre Distribution (USA on USA)')\n",
    "axes[1].set_xticklabels(genres_count_us_on_us_reduced.keys(), rotation=90)\n",
    "axes[1].set_ylabel('Count')\n",
    "\n",
    "plt.tight_layout()\n",
    "plt.show()"
   ]
  },
  {
   "cell_type": "code",
   "execution_count": null,
   "metadata": {},
   "outputs": [],
   "source": [
    "set(genres_count_us_on_russia_reduced.keys()) - set(genres_count_us_on_us_reduced.keys())"
   ]
  },
  {
   "cell_type": "code",
   "execution_count": null,
   "metadata": {},
   "outputs": [],
   "source": [
    "set(genres_count_us_on_us_reduced.keys()) - set(genres_count_us_on_russia_reduced.keys())"
   ]
  },
  {
   "cell_type": "markdown",
   "metadata": {},
   "source": [
    "We can see that, other than the first few common genres, there are some strong differences between the two subsets:\n",
    "- Movies talking about Russia are often movies with tags such as 'Spy', 'Disaster' and 'Political Thriller', and often associated with a general feeling of suspence\n",
    "- Biographical Movies are more common when talking about the USA, showing that production in the USA is more inclined to talking about people from the USA themselves\n",
    "- There are much more movies talking about USA than Russia"
   ]
  },
  {
   "cell_type": "markdown",
   "metadata": {},
   "source": [
    "## 3. Research Question 3\n",
    "\n",
    "In this section, we delve deeper into our previous analysis by exploring how events have shaped the movie industry and whether public opinions about these movies vary across regions. We focus on a few events and countries for now, refining our scope in milestone 3 based on our colleagues' findings. To achieve this, we conduct sentiment analysis and named entity recognition to uncover perceptions of conflicts, particularly identifying who is portrayed as a hero or villain based on geographic context. "
   ]
  },
  {
   "cell_type": "code",
   "execution_count": 5,
   "metadata": {},
   "outputs": [
    {
     "data": {
      "text/html": [
       "<div>\n",
       "<style scoped>\n",
       "    .dataframe tbody tr th:only-of-type {\n",
       "        vertical-align: middle;\n",
       "    }\n",
       "\n",
       "    .dataframe tbody tr th {\n",
       "        vertical-align: top;\n",
       "    }\n",
       "\n",
       "    .dataframe thead th {\n",
       "        text-align: right;\n",
       "    }\n",
       "</style>\n",
       "<table border=\"1\" class=\"dataframe\">\n",
       "  <thead>\n",
       "    <tr style=\"text-align: right;\">\n",
       "      <th></th>\n",
       "      <th>WarName</th>\n",
       "      <th>StateName</th>\n",
       "      <th>Side</th>\n",
       "      <th>StartYear</th>\n",
       "      <th>EndYear</th>\n",
       "      <th>WhereFought</th>\n",
       "      <th>Outcome</th>\n",
       "      <th>BatDeath</th>\n",
       "      <th>Movies</th>\n",
       "    </tr>\n",
       "  </thead>\n",
       "  <tbody>\n",
       "    <tr>\n",
       "      <th>0</th>\n",
       "      <td>Second Sino-Japanese</td>\n",
       "      <td>Japan</td>\n",
       "      <td>1</td>\n",
       "      <td>1931</td>\n",
       "      <td>1933</td>\n",
       "      <td>7</td>\n",
       "      <td>1</td>\n",
       "      <td>10000.0</td>\n",
       "      <td>931</td>\n",
       "    </tr>\n",
       "    <tr>\n",
       "      <th>1</th>\n",
       "      <td>Second Sino-Japanese</td>\n",
       "      <td>China</td>\n",
       "      <td>2</td>\n",
       "      <td>1931</td>\n",
       "      <td>1933</td>\n",
       "      <td>7</td>\n",
       "      <td>2</td>\n",
       "      <td>50000.0</td>\n",
       "      <td>931</td>\n",
       "    </tr>\n",
       "    <tr>\n",
       "      <th>2</th>\n",
       "      <td>Chaco</td>\n",
       "      <td>Bolivia</td>\n",
       "      <td>2</td>\n",
       "      <td>1932</td>\n",
       "      <td>1935</td>\n",
       "      <td>1</td>\n",
       "      <td>2</td>\n",
       "      <td>56661.0</td>\n",
       "      <td>1198</td>\n",
       "    </tr>\n",
       "    <tr>\n",
       "      <th>3</th>\n",
       "      <td>Chaco</td>\n",
       "      <td>Paraguay</td>\n",
       "      <td>1</td>\n",
       "      <td>1932</td>\n",
       "      <td>1935</td>\n",
       "      <td>1</td>\n",
       "      <td>1</td>\n",
       "      <td>36000.0</td>\n",
       "      <td>1198</td>\n",
       "    </tr>\n",
       "    <tr>\n",
       "      <th>4</th>\n",
       "      <td>Saudi-Yemeni</td>\n",
       "      <td>Saudi Arabia</td>\n",
       "      <td>1</td>\n",
       "      <td>1934</td>\n",
       "      <td>1934</td>\n",
       "      <td>6</td>\n",
       "      <td>1</td>\n",
       "      <td>100.0</td>\n",
       "      <td>806</td>\n",
       "    </tr>\n",
       "  </tbody>\n",
       "</table>\n",
       "</div>"
      ],
      "text/plain": [
       "                WarName     StateName  Side  StartYear  EndYear  WhereFought  \\\n",
       "0  Second Sino-Japanese         Japan     1       1931     1933            7   \n",
       "1  Second Sino-Japanese         China     2       1931     1933            7   \n",
       "2                 Chaco       Bolivia     2       1932     1935            1   \n",
       "3                 Chaco      Paraguay     1       1932     1935            1   \n",
       "4          Saudi-Yemeni  Saudi Arabia     1       1934     1934            6   \n",
       "\n",
       "   Outcome  BatDeath  Movies  \n",
       "0        1   10000.0     931  \n",
       "1        2   50000.0     931  \n",
       "2        2   56661.0    1198  \n",
       "3        1   36000.0    1198  \n",
       "4        1     100.0     806  "
      ]
     },
     "execution_count": 5,
     "metadata": {},
     "output_type": "execute_result"
    }
   ],
   "source": [
    "df = pd.read_csv('data/movies_with_summaries.csv')\n",
    "df.head()\n"
   ]
  },
  {
   "cell_type": "code",
   "execution_count": 6,
   "metadata": {},
   "outputs": [
    {
     "data": {
      "text/html": [
       "<div>\n",
       "<style scoped>\n",
       "    .dataframe tbody tr th:only-of-type {\n",
       "        vertical-align: middle;\n",
       "    }\n",
       "\n",
       "    .dataframe tbody tr th {\n",
       "        vertical-align: top;\n",
       "    }\n",
       "\n",
       "    .dataframe thead th {\n",
       "        text-align: right;\n",
       "    }\n",
       "</style>\n",
       "<table border=\"1\" class=\"dataframe\">\n",
       "  <thead>\n",
       "    <tr style=\"text-align: right;\">\n",
       "      <th></th>\n",
       "      <th>WarName</th>\n",
       "      <th>StateName</th>\n",
       "      <th>Side</th>\n",
       "      <th>StartYear</th>\n",
       "      <th>EndYear</th>\n",
       "      <th>WhereFought</th>\n",
       "      <th>Outcome</th>\n",
       "      <th>BatDeath</th>\n",
       "      <th>Movies</th>\n",
       "    </tr>\n",
       "  </thead>\n",
       "  <tbody>\n",
       "    <tr>\n",
       "      <th>0</th>\n",
       "      <td>Second Sino-Japanese</td>\n",
       "      <td>Japan</td>\n",
       "      <td>1</td>\n",
       "      <td>1931</td>\n",
       "      <td>1933</td>\n",
       "      <td>7</td>\n",
       "      <td>1</td>\n",
       "      <td>10000.0</td>\n",
       "      <td>931</td>\n",
       "    </tr>\n",
       "    <tr>\n",
       "      <th>1</th>\n",
       "      <td>Second Sino-Japanese</td>\n",
       "      <td>China</td>\n",
       "      <td>2</td>\n",
       "      <td>1931</td>\n",
       "      <td>1933</td>\n",
       "      <td>7</td>\n",
       "      <td>2</td>\n",
       "      <td>50000.0</td>\n",
       "      <td>931</td>\n",
       "    </tr>\n",
       "    <tr>\n",
       "      <th>2</th>\n",
       "      <td>Chaco</td>\n",
       "      <td>Bolivia</td>\n",
       "      <td>2</td>\n",
       "      <td>1932</td>\n",
       "      <td>1935</td>\n",
       "      <td>1</td>\n",
       "      <td>2</td>\n",
       "      <td>56661.0</td>\n",
       "      <td>1198</td>\n",
       "    </tr>\n",
       "    <tr>\n",
       "      <th>3</th>\n",
       "      <td>Chaco</td>\n",
       "      <td>Paraguay</td>\n",
       "      <td>1</td>\n",
       "      <td>1932</td>\n",
       "      <td>1935</td>\n",
       "      <td>1</td>\n",
       "      <td>1</td>\n",
       "      <td>36000.0</td>\n",
       "      <td>1198</td>\n",
       "    </tr>\n",
       "    <tr>\n",
       "      <th>4</th>\n",
       "      <td>Saudi-Yemeni</td>\n",
       "      <td>Saudi Arabia</td>\n",
       "      <td>1</td>\n",
       "      <td>1934</td>\n",
       "      <td>1934</td>\n",
       "      <td>6</td>\n",
       "      <td>1</td>\n",
       "      <td>100.0</td>\n",
       "      <td>806</td>\n",
       "    </tr>\n",
       "  </tbody>\n",
       "</table>\n",
       "</div>"
      ],
      "text/plain": [
       "                WarName     StateName  Side  StartYear  EndYear  WhereFought  \\\n",
       "0  Second Sino-Japanese         Japan     1       1931     1933            7   \n",
       "1  Second Sino-Japanese         China     2       1931     1933            7   \n",
       "2                 Chaco       Bolivia     2       1932     1935            1   \n",
       "3                 Chaco      Paraguay     1       1932     1935            1   \n",
       "4          Saudi-Yemeni  Saudi Arabia     1       1934     1934            6   \n",
       "\n",
       "   Outcome  BatDeath  Movies  \n",
       "0        1   10000.0     931  \n",
       "1        2   50000.0     931  \n",
       "2        2   56661.0    1198  \n",
       "3        1   36000.0    1198  \n",
       "4        1     100.0     806  "
      ]
     },
     "execution_count": 6,
     "metadata": {},
     "output_type": "execute_result"
    }
   ],
   "source": [
    "wars_df = pd.read_csv('data/wars_filtered_clean.csv')\n",
    "wars_df.head()"
   ]
  },
  {
   "cell_type": "code",
   "execution_count": 7,
   "metadata": {},
   "outputs": [
    {
     "name": "stderr",
     "output_type": "stream",
     "text": [
      "[nltk_data] Downloading package punkt to\n",
      "[nltk_data]     C:\\Users\\wflaf\\AppData\\Roaming\\nltk_data...\n",
      "[nltk_data]   Package punkt is already up-to-date!\n",
      "[nltk_data] Downloading package averaged_perceptron_tagger to\n",
      "[nltk_data]     C:\\Users\\wflaf\\AppData\\Roaming\\nltk_data...\n",
      "[nltk_data]   Package averaged_perceptron_tagger is already up-to-\n",
      "[nltk_data]       date!\n",
      "[nltk_data] Downloading package maxent_ne_chunker to\n",
      "[nltk_data]     C:\\Users\\wflaf\\AppData\\Roaming\\nltk_data...\n",
      "[nltk_data]   Package maxent_ne_chunker is already up-to-date!\n",
      "[nltk_data] Downloading package words to\n",
      "[nltk_data]     C:\\Users\\wflaf\\AppData\\Roaming\\nltk_data...\n",
      "[nltk_data]   Package words is already up-to-date!\n",
      "[nltk_data] Downloading package stopwords to\n",
      "[nltk_data]     C:\\Users\\wflaf\\AppData\\Roaming\\nltk_data...\n",
      "[nltk_data]   Package stopwords is already up-to-date!\n",
      "[nltk_data] Downloading package wordnet to\n",
      "[nltk_data]     C:\\Users\\wflaf\\AppData\\Roaming\\nltk_data...\n",
      "[nltk_data]   Package wordnet is already up-to-date!\n",
      "[nltk_data] Downloading package vader_lexicon to\n",
      "[nltk_data]     C:\\Users\\wflaf\\AppData\\Roaming\\nltk_data...\n",
      "[nltk_data]   Package vader_lexicon is already up-to-date!\n"
     ]
    }
   ],
   "source": [
    "# Download necessary NLTK packages for text processing and sentiment analysis\n",
    "nltk.download('punkt')  # Tokenizer for splitting text into words\n",
    "nltk.download('averaged_perceptron_tagger')  # POS tagger for grammatical structure\n",
    "nltk.download('maxent_ne_chunker')  # NER chunker for extracting named entities\n",
    "nltk.download('words')  # Word corpus for NER\n",
    "nltk.download('stopwords')  # Common words to exclude from analysis\n",
    "nltk.download('wordnet')  # Lexical database for English\n",
    "nltk.download('vader_lexicon')  # Lexicon for sentiment analysis\n",
    "\n",
    "# Define the set of English stopwords to remove common words that don't add meaning\n",
    "stop_words = set(stopwords.words(\"english\"))\n"
   ]
  },
  {
   "cell_type": "markdown",
   "metadata": {},
   "source": [
    "### Extract wars belligerents\n",
    "\n",
    "From the wars.csv dataset we extract the different contries involved in the conlicts as well as their side. The cold war case is a bit more complicated since... "
   ]
  },
  {
   "cell_type": "code",
   "execution_count": 8,
   "metadata": {},
   "outputs": [
    {
     "name": "stdout",
     "output_type": "stream",
     "text": [
      "Side 1 countries: ['Belgium', 'Yugoslavia', 'Norway', 'Canada', 'United States of America', 'United Kingdom', 'Netherlands', 'Greece', 'Brazil', 'Australia', 'New Zealand', 'USSR', 'Poland', 'France', 'Mongolia', 'China', 'South Africa', 'Ethiopia']\n",
      "Side 2 countries: ['Hungary', 'Finland', 'Italy', 'Romania', 'Bulgaria', 'Germany', 'Japan']\n",
      "Side 1 countries: ['United States of America']\n",
      "Side 2 countries: ['Soviet Union', 'USSR', 'Union of Soviet Socialist Republics', 'Russia', 'Russian Federation', 'Belarus', 'Ukraine', 'Kazakhstan', 'Estonia', 'Latvia', 'Lithuania', 'Uzbekistan', 'Turkmenistan', 'Kyrgyzstan', 'Tajikistan', 'Germany', 'Albania', 'East Germany', 'GDR', 'Bulgaria', 'Hungary', 'Poland', 'Romania', 'Czechoslovakia', 'Yugoslavia']\n",
      "Side 1 countries: ['Belgium', 'Canada', 'Colombia', 'United Kingdom', 'Netherlands', 'Greece', 'France', 'Turkey', 'Philippines', 'Thailand', 'Ethiopia', 'Australia', 'South Korea', 'United States of America']\n",
      "Side 2 countries: ['China', 'North Korea']\n",
      "Side 1 countries: ['Vietnam']\n",
      "Side 2 countries: ['United States of America', 'Cambodia', 'South Korea', 'Philippines', 'Thailand', 'Australia']\n"
     ]
    }
   ],
   "source": [
    "#WWII\n",
    "# WWII\n",
    "wwii_bell = wars_df[wars_df['WarName'] == 'World War II'][['StateName', 'Side', 'Outcome']]\n",
    "wwii_bell_side1 = wwii_bell[wwii_bell['Side'] == 1]['StateName'].values.tolist()\n",
    "wwii_bell_side2 = wwii_bell[wwii_bell['Side'] == 2]['StateName'].values.tolist()\n",
    "\n",
    "print(\"Side 1 countries:\", wwii_bell_side1)\n",
    "print(\"Side 2 countries:\", wwii_bell_side2)\n",
    "\n",
    "#Cold War \n",
    "cold_bell = wars_df[wars_df['WarName']=='Cold War'][['StateName', 'Side', 'Outcome']]\n",
    "cold_bell_side1 = cold_bell[cold_bell['Side'] == 1]['StateName'].values.tolist()\n",
    "cold_bell_side2 = cold_bell[cold_bell['Side'] == 2]['StateName'].values.tolist()\n",
    "soviet_equivalents = [\n",
    "    'Soviet Union', 'USSR', 'Union of Soviet Socialist Republics', \n",
    "    'Russia', 'Russian Federation', 'Belarus', 'Ukraine', 'Kazakhstan',\n",
    "    'Estonia', 'Latvia', 'Lithuania', 'Uzbekistan', \n",
    "    'Turkmenistan', 'Kyrgyzstan', 'Tajikistan',\"Germany\", \"Albania\",\n",
    "    \"East Germany\",\"GDR\",\"Bulgaria\",\"Hungary\",\"Poland\",\"Romania\",\n",
    "    \"Czechoslovakia\",\"Yugoslavia\"\n",
    "]\n",
    "cold_bell_side2.extend([country for country in soviet_equivalents if country not in cold_bell_side2])\n",
    "print(\"Side 1 countries:\", cold_bell_side1)\n",
    "print(\"Side 2 countries:\", cold_bell_side2)\n",
    "\n",
    "\n",
    "#Korean\n",
    "korean_bell = wars_df[wars_df['WarName']=='Korean'][['StateName', 'Side', 'Outcome']]\n",
    "korean_bell_side1 = korean_bell[korean_bell['Side'] == 1]['StateName'].values.tolist()\n",
    "korean_bell_side2 = korean_bell[korean_bell['Side'] == 2]['StateName'].values.tolist()\n",
    "# print(korean_bell_side1)\n",
    "print(\"Side 1 countries:\", korean_bell_side1)\n",
    "print(\"Side 2 countries:\", korean_bell_side2)\n",
    "\n",
    "#Vietnam War\n",
    "viet_bell = wars_df[wars_df['WarName']=='Vietnam War, Phase 2'][['StateName', 'Side', 'Outcome']]\n",
    "viet_bell_side1 = viet_bell[viet_bell['Side'] == 1]['StateName'].values.tolist()\n",
    "viet_bell_side2 = viet_bell[viet_bell['Side'] == 2]['StateName'].values.tolist()\n",
    "print(viet_bell_side1)\n",
    "print(\"Side 1 countries:\", viet_bell_side1)\n",
    "print(\"Side 2 countries:\", viet_bell_side2)\n",
    "\n",
    "\n",
    "\n"
   ]
  },
  {
   "cell_type": "markdown",
   "metadata": {},
   "source": [
    "### Separating per Event\n",
    "\n",
    "We begin by focusing on three key conflicts: WWII, the Cold War, and the Vietnam War, as they are widely represented in films. War movies are our focus because they are likely to evoke divided opinions, given their portrayal of opposing sides. To achieve this, we filter the dataset to include only movies whose synopses contain keywords associated with these conflicts."
   ]
  },
  {
   "cell_type": "code",
   "execution_count": 9,
   "metadata": {},
   "outputs": [],
   "source": [
    "# Filter rows where 'Genres' contains \"WarMovie\"\n",
    "df_war_movies = df[df['Genres'].str.contains(\"War film\", case=False, na=False)].reset_index(drop=True)\n",
    "\n",
    "# Defining the function that detects specific keywords related to conflicts \n",
    "def label_event_regex(summary):\n",
    "    if re.search(r\"(World\\sWar\\sII|WWII|WW2|Hitler|Nazis|Hiroshima|Holocaust|D-Day|Axis|Allies|Pearl\\sHarbor|Third\\sReich|Blitzkrieg)\", summary, re.IGNORECASE):\n",
    "        return \"World War II\"\n",
    "    elif re.search(r\"(Vietnam\\sWar|Viet\\sCong|Saigon|Ho\\sChi\\sMinh|Tet\\sOffensive|Agent\\sOrange|Hanoi|Domino\\sTheory)\", summary, re.IGNORECASE):\n",
    "        return \"Vietnam War\"\n",
    "    elif re.search(r\"(Cold\\sWar|Soviet\\sUnion|USSR|communism|nuclear|Iron\\sCurtain|Berlin\\sWall|Cuban\\sMissile\\sCrisis|Space\\sRace|Reagan|Stalin|KGB|Eastern\\sBloc|Gorbachev|Perestroika|Glasnost)\", summary, re.IGNORECASE):\n",
    "        return \"Cold War\"\n",
    "    elif re.search(r\"(Korean\\sWar|Kim|Korea|Korean|NKPA|Demilitarized\\sZone|Pyongyang|Seoul|Joint\\sChiefs\\sof\\sStaff|Inchon|38th\\sParallel|MacArthur)\", summary, re.IGNORECASE):\n",
    "        return \"Korean\"\n",
    "    else:\n",
    "        return \"Other\"\n",
    "\n",
    "# Apply the function to the \"summary\" column \n",
    "df_war_movies['event'] = df_war_movies['summary'].apply(label_event_regex)"
   ]
  },
  {
   "cell_type": "code",
   "execution_count": 9,
   "metadata": {},
   "outputs": [
    {
     "data": {
      "text/html": [
       "<div>\n",
       "<style scoped>\n",
       "    .dataframe tbody tr th:only-of-type {\n",
       "        vertical-align: middle;\n",
       "    }\n",
       "\n",
       "    .dataframe tbody tr th {\n",
       "        vertical-align: top;\n",
       "    }\n",
       "\n",
       "    .dataframe thead th {\n",
       "        text-align: right;\n",
       "    }\n",
       "</style>\n",
       "<table border=\"1\" class=\"dataframe\">\n",
       "  <thead>\n",
       "    <tr style=\"text-align: right;\">\n",
       "      <th></th>\n",
       "      <th>Movie_ID</th>\n",
       "      <th>IMDb_Index</th>\n",
       "      <th>Title</th>\n",
       "      <th>Original_Title</th>\n",
       "      <th>Release_Date</th>\n",
       "      <th>Year</th>\n",
       "      <th>Genres</th>\n",
       "      <th>Genres_IMDb</th>\n",
       "      <th>Rating</th>\n",
       "      <th>Votes</th>\n",
       "      <th>Revenue</th>\n",
       "      <th>Length</th>\n",
       "      <th>Languages</th>\n",
       "      <th>Countries</th>\n",
       "      <th>summary</th>\n",
       "      <th>event</th>\n",
       "    </tr>\n",
       "  </thead>\n",
       "  <tbody>\n",
       "    <tr>\n",
       "      <th>6</th>\n",
       "      <td>21209475</td>\n",
       "      <td>tt0024915</td>\n",
       "      <td>British Agent</td>\n",
       "      <td>British Agent</td>\n",
       "      <td>1934-09-15</td>\n",
       "      <td>1934</td>\n",
       "      <td>['Romantic drama', 'War film', 'Drama', 'Spy']</td>\n",
       "      <td>['Drama,History,Romance']</td>\n",
       "      <td>6.1</td>\n",
       "      <td>796</td>\n",
       "      <td>NaN</td>\n",
       "      <td>80.0</td>\n",
       "      <td>['English Language']</td>\n",
       "      <td>['United States of America']</td>\n",
       "      <td>In the days leading up to the Russian Revoluti...</td>\n",
       "      <td>Cold War</td>\n",
       "    </tr>\n",
       "    <tr>\n",
       "      <th>41</th>\n",
       "      <td>28209320</td>\n",
       "      <td>tt1382250</td>\n",
       "      <td>The Heart of No Place</td>\n",
       "      <td>The Heart of No Place</td>\n",
       "      <td>2009-03-21</td>\n",
       "      <td>2009</td>\n",
       "      <td>['Musical', 'Drama', 'War film']</td>\n",
       "      <td>['Drama,Music,War']</td>\n",
       "      <td>8.2</td>\n",
       "      <td>26</td>\n",
       "      <td>NaN</td>\n",
       "      <td>85.0</td>\n",
       "      <td>[]</td>\n",
       "      <td>[]</td>\n",
       "      <td>Rock widow Y. tries to come to terms with the ...</td>\n",
       "      <td>Cold War</td>\n",
       "    </tr>\n",
       "    <tr>\n",
       "      <th>43</th>\n",
       "      <td>19245641</td>\n",
       "      <td>tt1300563</td>\n",
       "      <td>The Age of Stupid</td>\n",
       "      <td>The Age of Stupid</td>\n",
       "      <td>2009-02-06</td>\n",
       "      <td>2009</td>\n",
       "      <td>['Social problem film', 'History', 'Experiment...</td>\n",
       "      <td>['Documentary,History,News']</td>\n",
       "      <td>7.0</td>\n",
       "      <td>4739</td>\n",
       "      <td>NaN</td>\n",
       "      <td>89.0</td>\n",
       "      <td>['French Language', 'English Language']</td>\n",
       "      <td>['United Kingdom']</td>\n",
       "      <td>The film begins in the year 2055 in a world ra...</td>\n",
       "      <td>Cold War</td>\n",
       "    </tr>\n",
       "    <tr>\n",
       "      <th>93</th>\n",
       "      <td>189776</td>\n",
       "      <td>tt0114787</td>\n",
       "      <td>Underground</td>\n",
       "      <td>Underground</td>\n",
       "      <td>1995-04-01</td>\n",
       "      <td>1995</td>\n",
       "      <td>['World cinema', 'Drama', 'Comedy', 'War film'...</td>\n",
       "      <td>['Comedy,Drama,Fantasy']</td>\n",
       "      <td>8.0</td>\n",
       "      <td>61979</td>\n",
       "      <td>171082.0</td>\n",
       "      <td>170.0</td>\n",
       "      <td>['French Language', 'SerboCroatian', 'German L...</td>\n",
       "      <td>['Serbia and Montenegro', 'Bulgaria', 'France'...</td>\n",
       "      <td>{{Plot|datePart One: War19411944Part Two: Cold...</td>\n",
       "      <td>Cold War</td>\n",
       "    </tr>\n",
       "    <tr>\n",
       "      <th>151</th>\n",
       "      <td>1040736</td>\n",
       "      <td>tt0108211</td>\n",
       "      <td>Stalingrad</td>\n",
       "      <td>Stalingrad</td>\n",
       "      <td>1993</td>\n",
       "      <td>1993</td>\n",
       "      <td>['Drama', 'World cinema', 'War film']</td>\n",
       "      <td>['Drama,War']</td>\n",
       "      <td>7.5</td>\n",
       "      <td>38359</td>\n",
       "      <td>152972.0</td>\n",
       "      <td>132.0</td>\n",
       "      <td>['German Language', 'Russian Language']</td>\n",
       "      <td>['Sweden', 'Germany']</td>\n",
       "      <td>In August 1942, a group of German storm troope...</td>\n",
       "      <td>Cold War</td>\n",
       "    </tr>\n",
       "  </tbody>\n",
       "</table>\n",
       "</div>"
      ],
      "text/plain": [
       "     Movie_ID IMDb_Index                  Title         Original_Title  \\\n",
       "6    21209475  tt0024915          British Agent          British Agent   \n",
       "41   28209320  tt1382250  The Heart of No Place  The Heart of No Place   \n",
       "43   19245641  tt1300563      The Age of Stupid      The Age of Stupid   \n",
       "93     189776  tt0114787            Underground            Underground   \n",
       "151   1040736  tt0108211             Stalingrad             Stalingrad   \n",
       "\n",
       "    Release_Date  Year                                             Genres  \\\n",
       "6     1934-09-15  1934     ['Romantic drama', 'War film', 'Drama', 'Spy']   \n",
       "41    2009-03-21  2009                   ['Musical', 'Drama', 'War film']   \n",
       "43    2009-02-06  2009  ['Social problem film', 'History', 'Experiment...   \n",
       "93    1995-04-01  1995  ['World cinema', 'Drama', 'Comedy', 'War film'...   \n",
       "151         1993  1993              ['Drama', 'World cinema', 'War film']   \n",
       "\n",
       "                      Genres_IMDb  Rating  Votes   Revenue  Length  \\\n",
       "6       ['Drama,History,Romance']     6.1    796       NaN    80.0   \n",
       "41            ['Drama,Music,War']     8.2     26       NaN    85.0   \n",
       "43   ['Documentary,History,News']     7.0   4739       NaN    89.0   \n",
       "93       ['Comedy,Drama,Fantasy']     8.0  61979  171082.0   170.0   \n",
       "151                 ['Drama,War']     7.5  38359  152972.0   132.0   \n",
       "\n",
       "                                             Languages  \\\n",
       "6                                 ['English Language']   \n",
       "41                                                  []   \n",
       "43             ['French Language', 'English Language']   \n",
       "93   ['French Language', 'SerboCroatian', 'German L...   \n",
       "151            ['German Language', 'Russian Language']   \n",
       "\n",
       "                                             Countries  \\\n",
       "6                         ['United States of America']   \n",
       "41                                                  []   \n",
       "43                                  ['United Kingdom']   \n",
       "93   ['Serbia and Montenegro', 'Bulgaria', 'France'...   \n",
       "151                              ['Sweden', 'Germany']   \n",
       "\n",
       "                                               summary     event  \n",
       "6    In the days leading up to the Russian Revoluti...  Cold War  \n",
       "41   Rock widow Y. tries to come to terms with the ...  Cold War  \n",
       "43   The film begins in the year 2055 in a world ra...  Cold War  \n",
       "93   {{Plot|datePart One: War19411944Part Two: Cold...  Cold War  \n",
       "151  In August 1942, a group of German storm troope...  Cold War  "
      ]
     },
     "execution_count": 9,
     "metadata": {},
     "output_type": "execute_result"
    }
   ],
   "source": [
    "# Display movies labeled as \"Cold War\" for verification\n",
    "df_war_movies[df_war_movies['event'] == \"Cold War\"].head()"
   ]
  },
  {
   "cell_type": "code",
   "execution_count": 10,
   "metadata": {},
   "outputs": [
    {
     "name": "stdout",
     "output_type": "stream",
     "text": [
      "----------------------------------------\n",
      "Shape of wwii_movies: (317, 16)\n",
      "Shape of wwii_movies_side1: (295, 16)\n",
      "Shape of wwii_movies_side2: (64, 16)\n",
      "Shape of sample_wwii_movies_side1 for verification: (64, 16)\n",
      "----------------------------------------\n",
      "----------------------------------------\n",
      "Shape of cold_war_movies: (34, 16)\n",
      "Shape of cold_war_movies_side1: (26, 16)\n",
      "Shape of cold_war_movies_side2: (12, 16)\n",
      "Shape of sample_cold_war_movies_side1 for verification: (12, 16)\n",
      "----------------------------------------\n",
      "----------------------------------------\n",
      "Shape of vietnam_war_movies: (42, 16)\n",
      "Shape of vietnam_war_movies_side1: (0, 16)\n",
      "Shape of vietnam_war_movies_side2: (42, 16)\n",
      "----------------------------------------\n",
      "----------------------------------------\n",
      "Shape of korean_war_movies: (53, 16)\n",
      "Shape of korean_war_movies_side1: (52, 16)\n",
      "Shape of korean_war_movies_side2: (4, 16)\n",
      "----------------------------------------\n"
     ]
    }
   ],
   "source": [
    "\n",
    "# World War II\n",
    "wwii_movies = df_war_movies[\n",
    "    (df_war_movies['event'] == \"World War II\") &\n",
    "    (df_war_movies['Countries'].apply(lambda loc: any(country in str(loc) for country in (wwii_bell_side1 + wwii_bell_side2))))\n",
    "]\n",
    "\n",
    "wwii_movies_side1 = df_war_movies[\n",
    "    (df_war_movies['event'] == \"World War II\") &\n",
    "    (df_war_movies['Countries'].apply(lambda loc: any(country in str(loc) for country in wwii_bell_side1)))\n",
    "]\n",
    "\n",
    "wwii_movies_side2 = df_war_movies[\n",
    "    (df_war_movies['event'] == \"World War II\") &\n",
    "    (df_war_movies['Countries'].apply(lambda loc: any(country in str(loc) for country in wwii_bell_side2)))\n",
    "]\n",
    "\n",
    "sample_wwii_movies_side1 = wwii_movies_side1.sample(n=64, random_state=42)\n",
    "\n",
    "print(\"-\" * 40)\n",
    "print(f\"Shape of wwii_movies: {wwii_movies.shape}\")\n",
    "print(f\"Shape of wwii_movies_side1: {wwii_movies_side1.shape}\")\n",
    "print(f\"Shape of wwii_movies_side2: {wwii_movies_side2.shape}\")\n",
    "print(f\"Shape of sample_wwii_movies_side1 for verification: {sample_wwii_movies_side1.shape}\")\n",
    "print(\"-\" * 40)\n",
    "\n",
    "# Cold War\n",
    "cold_war_movies = df_war_movies[\n",
    "    (df_war_movies['event'] == \"Cold War\") &\n",
    "    (df_war_movies['Countries'].apply(lambda loc: any(country in str(loc) for country in (cold_bell_side1 + cold_bell_side2))))\n",
    "]\n",
    "\n",
    "\n",
    "cold_war_movies_side1 = df_war_movies[\n",
    "    (df_war_movies['event'] == \"Cold War\") &\n",
    "    (df_war_movies['Countries'].apply(lambda loc: any(country in str(loc) for country in cold_bell_side1)))\n",
    "]\n",
    "\n",
    "cold_war_movies_side2 = df_war_movies[\n",
    "    (df_war_movies['event'] == \"Cold War\") &\n",
    "    (df_war_movies['Countries'].apply(lambda loc: any(country in str(loc) for country in cold_bell_side2)))\n",
    "]\n",
    "\n",
    "sample_cold_war_movies_side1 = cold_war_movies_side1.sample(n=12, random_state=42)\n",
    "\n",
    "\n",
    "\n",
    "print(\"-\" * 40)\n",
    "print(f\"Shape of cold_war_movies: {cold_war_movies.shape}\")\n",
    "print(f\"Shape of cold_war_movies_side1: {cold_war_movies_side1.shape}\")\n",
    "print(f\"Shape of cold_war_movies_side2: {cold_war_movies_side2.shape}\")\n",
    "print(f\"Shape of sample_cold_war_movies_side1 for verification: {sample_cold_war_movies_side1.shape}\")\n",
    "print(\"-\" * 40)\n",
    "\n",
    "# Vietnam War\n",
    "vietnam_war_movies = df_war_movies[\n",
    "    (df_war_movies['event'] == \"Vietnam War\") &\n",
    "    (df_war_movies['Countries'].apply(lambda loc: any(country in str(loc) for country in (viet_bell_side1 + viet_bell_side2))))\n",
    "]\n",
    "\n",
    "vietnam_war_movies_side1 = df_war_movies[\n",
    "    (df_war_movies['event'] == \"Vietnam War\") &\n",
    "    (df_war_movies['Countries'].apply(lambda loc: any(country in str(loc) for country in viet_bell_side1)))\n",
    "]\n",
    "\n",
    "vietnam_war_movies_side2 = df_war_movies[\n",
    "    (df_war_movies['event'] == \"Vietnam War\") &\n",
    "    (df_war_movies['Countries'].apply(lambda loc: any(country in str(loc) for country in viet_bell_side2)))\n",
    "]\n",
    "\n",
    "print(\"-\" * 40)\n",
    "print(f\"Shape of vietnam_war_movies: {vietnam_war_movies.shape}\")\n",
    "print(f\"Shape of vietnam_war_movies_side1: {vietnam_war_movies_side1.shape}\")\n",
    "print(f\"Shape of vietnam_war_movies_side2: {vietnam_war_movies_side2.shape}\")\n",
    "print(\"-\" * 40)\n",
    "\n",
    "# Korean War\n",
    "korean_war_movies = df_war_movies[\n",
    "    (df_war_movies['event'] == \"Korean\") &\n",
    "    (df_war_movies['Countries'].apply(lambda loc: any(country in str(loc) for country in (korean_bell_side1 + korean_bell_side2))))\n",
    "]\n",
    "\n",
    "korean_war_movies_side1 = df_war_movies[\n",
    "    (df_war_movies['event'] == \"Korean\") &\n",
    "    (df_war_movies['Countries'].apply(lambda loc: any(country in str(loc) for country in korean_bell_side1)))\n",
    "]\n",
    "\n",
    "korean_war_movies_side2 = df_war_movies[\n",
    "    (df_war_movies['event'] == \"Korean\") &\n",
    "    (df_war_movies['Countries'].apply(lambda loc: any(country in str(loc) for country in korean_bell_side2)))\n",
    "]\n",
    "\n",
    "print(\"-\" * 40)\n",
    "print(f\"Shape of korean_war_movies: {korean_war_movies.shape}\")\n",
    "print(f\"Shape of korean_war_movies_side1: {korean_war_movies_side1.shape}\")\n",
    "print(f\"Shape of korean_war_movies_side2: {korean_war_movies_side2.shape}\")\n",
    "print(\"-\" * 40)"
   ]
  },
  {
   "cell_type": "code",
   "execution_count": 11,
   "metadata": {},
   "outputs": [
    {
     "name": "stdout",
     "output_type": "stream",
     "text": [
      "Requirement already satisfied: matplotlib in c:\\users\\wflaf\\nouveau_dossier\\lib\\site-packages (3.7.0)\n",
      "Requirement already satisfied: seaborn in c:\\users\\wflaf\\nouveau_dossier\\lib\\site-packages (0.12.2)\n",
      "Requirement already satisfied: kiwisolver>=1.0.1 in c:\\users\\wflaf\\nouveau_dossier\\lib\\site-packages (from matplotlib) (1.4.4)\n",
      "Requirement already satisfied: numpy>=1.20 in c:\\users\\wflaf\\nouveau_dossier\\lib\\site-packages (from matplotlib) (1.26.4)\n",
      "Requirement already satisfied: packaging>=20.0 in c:\\users\\wflaf\\nouveau_dossier\\lib\\site-packages (from matplotlib) (22.0)\n",
      "Requirement already satisfied: pillow>=6.2.0 in c:\\users\\wflaf\\nouveau_dossier\\lib\\site-packages (from matplotlib) (9.4.0)\n",
      "Requirement already satisfied: cycler>=0.10 in c:\\users\\wflaf\\nouveau_dossier\\lib\\site-packages (from matplotlib) (0.11.0)\n",
      "Requirement already satisfied: python-dateutil>=2.7 in c:\\users\\wflaf\\nouveau_dossier\\lib\\site-packages (from matplotlib) (2.8.2)\n",
      "Requirement already satisfied: pyparsing>=2.3.1 in c:\\users\\wflaf\\nouveau_dossier\\lib\\site-packages (from matplotlib) (3.0.9)\n",
      "Requirement already satisfied: fonttools>=4.22.0 in c:\\users\\wflaf\\nouveau_dossier\\lib\\site-packages (from matplotlib) (4.25.0)\n",
      "Requirement already satisfied: contourpy>=1.0.1 in c:\\users\\wflaf\\nouveau_dossier\\lib\\site-packages (from matplotlib) (1.0.5)\n",
      "Requirement already satisfied: pandas>=0.25 in c:\\users\\wflaf\\nouveau_dossier\\lib\\site-packages (from seaborn) (1.5.3)\n",
      "Requirement already satisfied: pytz>=2020.1 in c:\\users\\wflaf\\nouveau_dossier\\lib\\site-packages (from pandas>=0.25->seaborn) (2022.7)\n",
      "Requirement already satisfied: six>=1.5 in c:\\users\\wflaf\\nouveau_dossier\\lib\\site-packages (from python-dateutil>=2.7->matplotlib) (1.16.0)\n",
      "Note: you may need to restart the kernel to use updated packages.\n"
     ]
    }
   ],
   "source": [
    "%pip install matplotlib seaborn\n",
    "\n",
    "import pandas as pd\n",
    "import matplotlib.pyplot as plt\n",
    "import seaborn as sns\n"
   ]
  },
  {
   "cell_type": "code",
   "execution_count": 11,
   "metadata": {},
   "outputs": [
    {
     "data": {
      "image/png": "[encoded data removed]",
      "text/plain": [
       "<Figure size 1200x800 with 1 Axes>"
      ]
     },
     "metadata": {},
     "output_type": "display_data"
    }
   ],
   "source": [
    "data = {\n",
    "    'Wars': ['World War II', 'Vietnam War', 'Korean War', 'Cold War'],\n",
    "    'Side1': [\n",
    "        wwii_movies_side1.shape[0], \n",
    "        vietnam_war_movies_side1.shape[0], \n",
    "        korean_war_movies_side1.shape[0], \n",
    "        cold_war_movies_side1.shape[0]\n",
    "    ],\n",
    "    'Side2': [\n",
    "        wwii_movies_side2.shape[0], \n",
    "        vietnam_war_movies_side2.shape[0], \n",
    "        korean_war_movies_side2.shape[0], \n",
    "        cold_war_movies_side2.shape[0]  \n",
    "    ]\n",
    "}\n",
    "\n",
    "\n",
    "df_visual = pd.DataFrame(data)\n",
    "\n",
    "# Set the style\n",
    "sns.set_theme(style=\"whitegrid\")\n",
    "plt.figure(figsize=(12, 8))\n",
    "bar_width = 0.35\n",
    "index = range(len(df_visual))\n",
    "\n",
    "# Create bars for Side1 and Side2\n",
    "bars1 = plt.bar([i - bar_width/2 for i in index], df_visual['Side1'], bar_width, label='Side1', color='#1f77b4')\n",
    "bars2 = plt.bar([i + bar_width/2 for i in index], df_visual['Side2'], bar_width, label='Side2', color='#ff7f0e')\n",
    "\n",
    "# Add labels and title\n",
    "plt.xlabel('Conflict', fontsize=14)\n",
    "plt.ylabel('Number of Movies', fontsize=14)\n",
    "plt.title('Number of War Movies by Conflict and Side', fontsize=16)\n",
    "plt.xticks(index, df_visual['Wars'], fontsize=12, rotation=45)\n",
    "plt.legend(fontsize=12)\n",
    "\n",
    "# Add annotations\n",
    "for bars in [bars1, bars2]:\n",
    "    for bar in bars:\n",
    "        height = bar.get_height()\n",
    "        plt.annotate(f'{height}',\n",
    "                     xy=(bar.get_x() + bar.get_width() / 2, height),\n",
    "                     xytext=(0, 3),\n",
    "                     textcoords=\"offset points\",\n",
    "                     ha='center', va='bottom', fontsize=12)\n",
    "\n",
    "plt.tight_layout()\n",
    "plt.show()"
   ]
  },
  {
   "cell_type": "markdown",
   "metadata": {},
   "source": [
    "### Sentiment Analysis\n",
    "As an example, we conduct an overall sentiment analysis on the Word War II movies to highlight differences in their portrayal. Using the sentiment analyzer, we calculate sentiment scores (negative, neutral, positive, and compound) for the summaries of WWII movies."
   ]
  },
  {
   "cell_type": "code",
   "execution_count": 12,
   "metadata": {},
   "outputs": [],
   "source": [
    "# Extract the summaries from the sampled movies\n",
    "synopses1=wwii_movies_side1[\"summary\"].tolist()\n",
    "synopses2=wwii_movies_side2[\"summary\"].tolist()\n",
    "\n",
    "synopses3=cold_war_movies_side1[\"summary\"].tolist()\n",
    "synopses4=cold_war_movies_side2[\"summary\"].tolist()"
   ]
  },
  {
   "cell_type": "code",
   "execution_count": 13,
   "metadata": {
    "tags": []
   },
   "outputs": [],
   "source": [
    "# Preprocess the summaries: tokenize and clean the text and Remove stopwords\n",
    "\n",
    "#WORD WAR II\n",
    "processed_docs_1 = []\n",
    "processed_docs_2 = []\n",
    "for synopsis in synopses1:\n",
    "    tokens = word_tokenize(synopsis.lower())\n",
    "    filtered_tokens = [word for word in tokens if word.isalnum() and word not in stop_words]\n",
    "    processed_docs_1.append(filtered_tokens)\n",
    "\n",
    "for synopsis in synopses2:\n",
    "    tokens = word_tokenize(synopsis.lower())\n",
    "    filtered_tokens = [word for word in tokens if word.isalnum() and word not in stop_words]\n",
    "    processed_docs_2.append(filtered_tokens)\n",
    "\n",
    "#COLD WAR II\n",
    "\n",
    "processed_docs_3 = []\n",
    "processed_docs_4 = []\n",
    "for synopsis in synopses3:\n",
    "    tokens = word_tokenize(synopsis.lower())\n",
    "    filtered_tokens = [word for word in tokens if word.isalnum() and word not in stop_words]\n",
    "    processed_docs_3.append(filtered_tokens)\n",
    "\n",
    "for synopsis in synopses4:\n",
    "    tokens = word_tokenize(synopsis.lower())\n",
    "    filtered_tokens = [word for word in tokens if word.isalnum() and word not in stop_words]\n",
    "    processed_docs_4.append(filtered_tokens)"
   ]
  },
  {
   "cell_type": "code",
   "execution_count": 14,
   "metadata": {},
   "outputs": [
    {
     "name": "stdout",
     "output_type": "stream",
     "text": [
      "                                               summary    neg    neu    pos  \\\n",
      "0    The film opens in 1991, with the funeral of a ...  0.141  0.569  0.291   \n",
      "1    {{Expand section}} In late October 1943, a bat...  0.000  0.766  0.234   \n",
      "2    In the build-up to the Normandy landings, thou...  0.111  0.788  0.101   \n",
      "3    In 1933, Freya Roth  is a young German girl en...  0.121  0.676  0.203   \n",
      "4    The primary characters are earnest aspiring no...  0.174  0.615  0.210   \n",
      "..                                                 ...    ...    ...    ...   \n",
      "290  The crew of an American submarine are on a rec...  0.232  0.686  0.082   \n",
      "291  In 1944, soon after the Soviet Red Army had li...  0.236  0.699  0.064   \n",
      "292  Young Murphy  grows up in a large, poor sharec...  0.224  0.631  0.145   \n",
      "293  The title character is Victor Church, a World ...  0.355  0.531  0.114   \n",
      "294  Master Sergeant Dan O'Farrell is a G.I. on an ...  0.288  0.681  0.030   \n",
      "\n",
      "     compound  \n",
      "0      0.9860  \n",
      "1      0.9313  \n",
      "2     -0.1970  \n",
      "3      0.8658  \n",
      "4      0.8271  \n",
      "..        ...  \n",
      "290   -0.8442  \n",
      "291   -0.9992  \n",
      "292   -0.9738  \n",
      "293   -0.9545  \n",
      "294   -0.9501  \n",
      "\n",
      "[295 rows x 5 columns]\n",
      "                                              summary    neg    neu    pos  \\\n",
      "0   In 1941, one year after Italy joined Germany a...  0.068  0.759  0.173   \n",
      "1   During World War II the British army is attemp...  0.219  0.702  0.078   \n",
      "2   In 1961, the Soviet Union launches its first b...  0.174  0.715  0.111   \n",
      "3   Yugoslav partisans grimly crop the hair of a v...  0.145  0.786  0.069   \n",
      "4    The day is May 8, 1938, the day when Hitler v...  0.153  0.649  0.198   \n",
      "..                                                ...    ...    ...    ...   \n",
      "59  Private Mizushima , a Japanese soldier, become...  0.190  0.730  0.079   \n",
      "60  As German soldiers march through occupied Rome...  0.154  0.716  0.130   \n",
      "61  {{Expand section}} The film moves between Shiz...  0.261  0.638  0.101   \n",
      "62  {{Expand section}} The film moves between Shiz...  0.261  0.638  0.101   \n",
      "63  In 1944, soon after the Soviet Red Army had li...  0.236  0.699  0.064   \n",
      "\n",
      "    compound  \n",
      "0     0.9571  \n",
      "1    -0.9652  \n",
      "2    -0.9976  \n",
      "3    -0.2732  \n",
      "4     0.7514  \n",
      "..       ...  \n",
      "59   -0.9764  \n",
      "60   -0.7506  \n",
      "61   -0.9001  \n",
      "62   -0.9001  \n",
      "63   -0.9992  \n",
      "\n",
      "[64 rows x 5 columns]\n",
      "                                              summary    neg    neu    pos  \\\n",
      "0   In the days leading up to the Russian Revoluti...  0.184  0.691  0.125   \n",
      "1   In October 1962, U-2 surveillance photos revea...  0.197  0.731  0.072   \n",
      "2   In post-Soviet Russia, military units loyal to...  0.178  0.709  0.113   \n",
      "3   American Conductor John Meredith  and his mana...  0.044  0.591  0.365   \n",
      "4   Young lovers Ruth Beckett  and Jimmy Kemp  dec...  0.269  0.652  0.079   \n",
      "5   Snipes plays a marksman  who is sent as a spec...  0.187  0.640  0.173   \n",
      "6   The film takes place mostly against a backdrop...  0.176  0.702  0.122   \n",
      "7   The film chronicles Ambassador Davies' impress...  0.057  0.856  0.087   \n",
      "8   The story begins with the birth of the Tsarevi...  0.197  0.673  0.130   \n",
      "9   In 1942, Vassili Zaitsev , a shepherd from the...  0.228  0.676  0.096   \n",
      "10  Reagan plays Commander Casey Abbott, commander...  0.248  0.676  0.076   \n",
      "11  {{Cleanup-rewrite}} The film begins at Flemner...  0.278  0.602  0.119   \n",
      "12  After the Cuban Missile Crisis, the Soviet Uni...  0.246  0.636  0.118   \n",
      "13  Sergeant Brock  and Goldie  are American Korea...  0.144  0.629  0.227   \n",
      "14   A joint Anglo-American plot is devised to ste...  0.134  0.722  0.144   \n",
      "15  Terrorists blow up a school bus in the Middle ...  0.365  0.553  0.082   \n",
      "16  Blood Alley tells the story of Captain Tom Wil...  0.140  0.725  0.134   \n",
      "17  In the early 1960s NASA discovered a vast and ...  0.019  0.905  0.077   \n",
      "18  A Russian defector lands a jet on an American ...  0.134  0.721  0.144   \n",
      "19  In the future, humans are a space-faring Feder...  0.188  0.650  0.163   \n",
      "20  The film covers the life of John Reed and Loui...  0.145  0.718  0.137   \n",
      "21  In 1942, both Nazi Germany and the Soviet Unio...  0.232  0.657  0.111   \n",
      "22  In 2003, Doctor Serena Kogan  of Cyberdyne Sys...  0.219  0.677  0.104   \n",
      "23  In 2003, Doctor Serena Kogan  of Cyberdyne Sys...  0.219  0.677  0.104   \n",
      "24  In 2003, Doctor Serena Kogan  of Cyberdyne Sys...  0.219  0.677  0.104   \n",
      "25  The United States and Russia have had a nuclea...  0.195  0.493  0.313   \n",
      "\n",
      "    compound  \n",
      "0    -0.9559  \n",
      "1    -0.9914  \n",
      "2    -0.9633  \n",
      "3     0.9729  \n",
      "4    -0.9996  \n",
      "5    -0.2732  \n",
      "6    -0.9909  \n",
      "7     0.7152  \n",
      "8    -0.9946  \n",
      "9    -0.9950  \n",
      "10   -0.8807  \n",
      "11   -0.9959  \n",
      "12   -0.9899  \n",
      "13    0.9325  \n",
      "14   -0.6846  \n",
      "15   -0.9865  \n",
      "16   -0.9140  \n",
      "17    0.7096  \n",
      "18    0.2263  \n",
      "19   -0.9001  \n",
      "20   -0.1280  \n",
      "21   -0.9928  \n",
      "22   -0.9961  \n",
      "23   -0.9961  \n",
      "24   -0.9961  \n",
      "25    0.7579  \n",
      "                                              summary    neg    neu    pos  \\\n",
      "0   In 1941, one year after Italy joined Germany a...  0.260  0.670  0.070   \n",
      "1   During World War II the British army is attemp...  0.238  0.676  0.086   \n",
      "2   In 1961, the Soviet Union launches its first b...  0.133  0.630  0.238   \n",
      "3   Yugoslav partisans grimly crop the hair of a v...  0.196  0.650  0.155   \n",
      "4    The day is May 8, 1938, the day when Hitler v...  0.182  0.677  0.141   \n",
      "..                                                ...    ...    ...    ...   \n",
      "59  Private Mizushima , a Japanese soldier, become...    NaN    NaN    NaN   \n",
      "60  As German soldiers march through occupied Rome...    NaN    NaN    NaN   \n",
      "61  {{Expand section}} The film moves between Shiz...    NaN    NaN    NaN   \n",
      "62  {{Expand section}} The film moves between Shiz...    NaN    NaN    NaN   \n",
      "63  In 1944, soon after the Soviet Red Army had li...    NaN    NaN    NaN   \n",
      "\n",
      "    compound  \n",
      "0    -0.9260  \n",
      "1    -0.9967  \n",
      "2     0.9909  \n",
      "3    -0.8750  \n",
      "4    -0.5106  \n",
      "..       ...  \n",
      "59       NaN  \n",
      "60       NaN  \n",
      "61       NaN  \n",
      "62       NaN  \n",
      "63       NaN  \n",
      "\n",
      "[64 rows x 5 columns]\n",
      "neg         0.192749\n",
      "neu         0.689010\n",
      "pos         0.118264\n",
      "compound   -0.592337\n",
      "dtype: float64\n",
      "neg         0.194766\n",
      "neu         0.698906\n",
      "pos         0.106313\n",
      "compound   -0.633420\n",
      "dtype: float64\n",
      "neg         0.186231\n",
      "neu         0.678423\n",
      "pos         0.135346\n",
      "compound   -0.511935\n",
      "dtype: float64\n",
      "neg         0.211167\n",
      "neu         0.662667\n",
      "pos         0.126333\n",
      "compound   -0.630942\n",
      "dtype: float64\n"
     ]
    }
   ],
   "source": [
    "analyzer = SentimentIntensityAnalyzer()\n",
    "sentiment_scores = []\n",
    "\n",
    "####### WORD WAR II ##############\n",
    "\n",
    "# Analyze the sentiment of each processed summary\n",
    "for tokens in processed_docs_1:\n",
    "    text = ' '.join(tokens)\n",
    "    score = analyzer.polarity_scores(text)\n",
    "    sentiment_scores.append(score)\n",
    "\n",
    "sentiment_df_1 = pd.DataFrame(sentiment_scores)\n",
    "test_sample_1 = wwii_movies_side1.reset_index(drop=True)\n",
    "test_sample_1 = pd.concat([test_sample_1, sentiment_df_1], axis=1)\n",
    "\n",
    "\n",
    "analyzer_2 = SentimentIntensityAnalyzer()\n",
    "sentiment_scores_2= []\n",
    "\n",
    "# Analyze the sentiment of each processed summary\n",
    "for tokens in processed_docs_2:\n",
    "    text = ' '.join(tokens)\n",
    "    score = analyzer_2.polarity_scores(text)\n",
    "    sentiment_scores_2.append(score)\n",
    "\n",
    "sentiment_df_2 = pd.DataFrame(sentiment_scores_2)\n",
    "test_sample_2 = wwii_movies_side2.reset_index(drop=True)\n",
    "test_sample_2 = pd.concat([test_sample_2, sentiment_df_2], axis=1)\n",
    "\n",
    "\n",
    "##########COLD WAR################\n",
    "\n",
    "analyzer_3 = SentimentIntensityAnalyzer()\n",
    "sentiment_scores_3= []\n",
    "\n",
    "# Analyze the sentiment of each processed summary\n",
    "for tokens in processed_docs_3:\n",
    "    text = ' '.join(tokens)\n",
    "    score = analyzer.polarity_scores(text)\n",
    "    sentiment_scores_3.append(score)\n",
    "\n",
    "sentiment_df_3 = pd.DataFrame(sentiment_scores_3)\n",
    "test_sample_3 = cold_war_movies_side1.reset_index(drop=True)\n",
    "test_sample_3 = pd.concat([test_sample_3, sentiment_df_3], axis=1)\n",
    "\n",
    "\n",
    "analyzer_4 = SentimentIntensityAnalyzer()\n",
    "sentiment_scores_4= []\n",
    "\n",
    "# Analyze the sentiment of each processed summary\n",
    "for tokens in processed_docs_4:\n",
    "    text = ' '.join(tokens)\n",
    "    score = analyzer_4.polarity_scores(text)\n",
    "    sentiment_scores_4.append(score)\n",
    "\n",
    "sentiment_df_4 = pd.DataFrame(sentiment_scores_4)\n",
    "test_sample_4 = wwii_movies_side2.reset_index(drop=True)\n",
    "test_sample_4 = pd.concat([test_sample_4, sentiment_df_4], axis=1)\n",
    "\n",
    "# Display the summaries along with their sentiment scores\n",
    "print(test_sample_1[['summary', 'neg', 'neu', 'pos', 'compound']])\n",
    "print(test_sample_2[['summary', 'neg', 'neu', 'pos', 'compound']])\n",
    "print(test_sample_3[['summary', 'neg', 'neu', 'pos', 'compound']])\n",
    "print(test_sample_4[['summary', 'neg', 'neu', 'pos', 'compound']])\n",
    "\n",
    "# Mean for each set \n",
    "mean_scores_1 = sentiment_df_1.mean()\n",
    "mean_scores_2 = sentiment_df_2.mean()\n",
    "mean_scores_3 = sentiment_df_3.mean()\n",
    "mean_scores_4 = sentiment_df_4.mean()\n",
    "\n",
    "print(mean_scores_1)\n",
    "print(mean_scores_2)\n",
    "print(mean_scores_3) \n",
    "print(mean_scores_4)"
   ]
  },
  {
   "cell_type": "code",
   "execution_count": 24,
   "metadata": {},
   "outputs": [
    {
     "name": "stdout",
     "output_type": "stream",
     "text": [
      "     mesure   moyenne  ci_lower  ci_upper\n",
      "0       neg  0.192749  0.185118  0.200380\n",
      "1       neu  0.689010  0.680802  0.697218\n",
      "2       pos  0.118264  0.111605  0.124924\n",
      "3  compound -0.592337 -0.664697 -0.519977\n",
      "     mesure   moyenne  ci_lower  ci_upper\n",
      "0       neg  0.194766  0.178926  0.210605\n",
      "1       neu  0.698906  0.682878  0.714934\n",
      "2       pos  0.106313  0.089568  0.123057\n",
      "3  compound -0.633420 -0.792499 -0.474342\n",
      "     mesure   moyenne  ci_lower  ci_upper\n",
      "0       neg  0.186231  0.156206  0.216255\n",
      "1       neu  0.678423  0.645504  0.711342\n",
      "2       pos  0.135346  0.107269  0.163424\n",
      "3  compound -0.511935 -0.806713 -0.217156\n",
      "     mesure   moyenne  ci_lower  ci_upper\n",
      "0       neg  0.211167  0.179082  0.243251\n",
      "1       neu  0.662667  0.634634  0.690699\n",
      "2       pos  0.126333  0.097933  0.154734\n",
      "3  compound -0.630942 -1.075382 -0.186502\n"
     ]
    }
   ],
   "source": [
    "from scipy import stats\n",
    "\n",
    "def calculate_confidence_intervals(sentiment_df, confidence=0.95):\n",
    "    results = []\n",
    "    \n",
    "    for column in ['neg', 'neu', 'pos', 'compound']:\n",
    "        data = sentiment_df[column]\n",
    "        mean = np.mean(data)\n",
    "        std_err = stats.sem(data)\n",
    "        ci = stats.t.interval(confidence, len(data)-1, mean, std_err)\n",
    "        \n",
    "        results.append({\n",
    "            'mesure': column,\n",
    "            'moyenne': mean,\n",
    "            'ci_lower': ci[0],\n",
    "            'ci_upper': ci[1]\n",
    "        })\n",
    "    \n",
    "    return pd.DataFrame(results)\n",
    "\n",
    "ci_wwii_side1 = calculate_confidence_intervals(sentiment_df_1)\n",
    "ci_wwii_side2 = calculate_confidence_intervals(sentiment_df_2)\n",
    "ci_cold_side1 = calculate_confidence_intervals(sentiment_df_3)\n",
    "ci_cold_side2 = calculate_confidence_intervals(sentiment_df_4)\n",
    "\n",
    "print(ci_wwii_side1)\n",
    "print(ci_wwii_side2)\n",
    "print(ci_cold_side1)\n",
    "print(ci_cold_side2)"
   ]
  },
  {
   "cell_type": "code",
   "execution_count": 25,
   "metadata": {},
   "outputs": [
    {
     "data": {
      "image/png": "[encoded data removed]",
      "text/plain": [
       "<Figure size 800x600 with 1 Axes>"
      ]
     },
     "metadata": {},
     "output_type": "display_data"
    },
    {
     "data": {
      "image/png": "[encoded data removed]",
      "text/plain": [
       "<Figure size 1000x600 with 1 Axes>"
      ]
     },
     "metadata": {},
     "output_type": "display_data"
    },
    {
     "name": "stdout",
     "output_type": "stream",
     "text": [
      "(295, 4)\n",
      "(64, 4)\n"
     ]
    }
   ],
   "source": [
    "# Visualisation 1 : mean compearison\n",
    "labels = ['Negative', 'Neutral', 'Positive', 'Compound']\n",
    "x = np.arange(len(labels))\n",
    "\n",
    "#Confiance Intervall\n",
    "\n",
    "ci_lower_1 = mean_scores_1 - ci_wwii_side1['ci_lower'].values\n",
    "ci_upper_1 = ci_wwii_side1['ci_upper'].values - mean_scores_1\n",
    "\n",
    "ci_lower_2 = mean_scores_2 - ci_wwii_side2['ci_lower'].values\n",
    "ci_upper_2 = ci_wwii_side2['ci_upper'].values - mean_scores_2\n",
    "\n",
    "\n",
    "fig, ax = plt.subplots(figsize=(8, 6))\n",
    "width = 0.35\n",
    "\n",
    "#Confiance Intervall visualisation\n",
    "\n",
    "rects1 = ax.bar(x - width/2, mean_scores_1, width, label='Side 1', color='blue', alpha=0.7,\n",
    "                yerr=[ci_lower_1, ci_upper_1], capsize=5, ecolor='black')\n",
    "rects2 = ax.bar(x + width/2, mean_scores_2, width, label='Side 2', color='orange', alpha=0.7,\n",
    "                yerr=[ci_lower_2, ci_upper_2], capsize=5, ecolor='black')\n",
    "\n",
    "\n",
    "ax.bar(x - width/2, mean_scores_1, width, label='Side 1', color='blue', alpha=0.7)\n",
    "ax.bar(x + width/2, mean_scores_2, width, label='Side 2', color='orange', alpha=0.7)\n",
    "\n",
    "ax.set_title(\"Comparison of Mean Sentiment Scores\", fontsize=16)\n",
    "ax.set_xticks(x)\n",
    "ax.set_xticklabels(labels)\n",
    "ax.set_ylabel(\"Mean Sentiment Score\", fontsize=12)\n",
    "ax.legend()\n",
    "plt.tight_layout()\n",
    "plt.show()\n",
    "\n",
    "# Visualisation 2 : Distribution of 'compound' scores Boxplot\n",
    "\n",
    "\n",
    "fig, ax = plt.subplots(figsize=(10, 6))\n",
    "data = [sentiment_df_1['compound'], sentiment_df_2['compound']]\n",
    "ax.boxplot(data, vert=True, patch_artist=True, labels=['Side 1', 'Side 2'],\n",
    "           boxprops=dict(facecolor='lightblue', color='blue'), medianprops=dict(color='red'))\n",
    "\n",
    "ax.set_title(\"Distribution of Compound Sentiment Scores\", fontsize=16)\n",
    "ax.set_ylabel(\"Compound Sentiment Score\", fontsize=12)\n",
    "plt.tight_layout()\n",
    "plt.show()\n",
    "\n",
    "print(sentiment_df_1.shape)\n",
    "print(sentiment_df_2.shape)\n"
   ]
  },
  {
   "cell_type": "code",
   "execution_count": 26,
   "metadata": {},
   "outputs": [
    {
     "data": {
      "image/png": "[encoded data removed]",
      "text/plain": [
       "<Figure size 800x600 with 1 Axes>"
      ]
     },
     "metadata": {},
     "output_type": "display_data"
    },
    {
     "data": {
      "image/png": "[encoded data removed]",
      "text/plain": [
       "<Figure size 1000x600 with 1 Axes>"
      ]
     },
     "metadata": {},
     "output_type": "display_data"
    },
    {
     "name": "stdout",
     "output_type": "stream",
     "text": [
      "(26, 4)\n",
      "(12, 4)\n"
     ]
    }
   ],
   "source": [
    "# Labels for the sentiment categories\n",
    "labels = ['Negative', 'Neutral', 'Positive', 'Compound']\n",
    "x = np.arange(len(labels))\n",
    "\n",
    "ci_lower_3 = mean_scores_3 - ci_cold_side1['ci_lower'].values\n",
    "ci_upper_3 = ci_cold_side1['ci_upper'].values - mean_scores_3\n",
    "\n",
    "ci_lower_4 = mean_scores_4 - ci_cold_side2['ci_lower'].values\n",
    "ci_upper_4 = ci_cold_side2['ci_upper'].values - mean_scores_4\n",
    "\n",
    "\n",
    "# Visualization 1: Comparison of Mean Sentiment Scores for Cold War movies\n",
    "fig, ax = plt.subplots(figsize=(8, 6))\n",
    "width = 0.35\n",
    "\n",
    "rects1 = ax.bar(x - width/2, mean_scores_3, width, label='Cold War Side 1', color='green', alpha=0.7,\n",
    "                yerr=[ci_lower_3, ci_upper_3], capsize=5, ecolor='black')\n",
    "rects2 = ax.bar(x + width/2, mean_scores_4, width, label='Cold War Side 2', color='purple', alpha=0.7,\n",
    "                yerr=[ci_lower_4, ci_upper_4], capsize=5, ecolor='black')\n",
    "\n",
    "\n",
    "ax.bar(x - width/2, mean_scores_3, width, label='Cold War Side 1', color='green', alpha=0.7)\n",
    "ax.bar(x + width/2, mean_scores_4, width, label='Cold War Side 2', color='purple', alpha=0.7)\n",
    "\n",
    "ax.set_title(\"Comparison of Mean Sentiment Scores for Cold War Movies\", fontsize=16)\n",
    "ax.set_xticks(x)\n",
    "ax.set_xticklabels(labels)\n",
    "ax.set_ylabel(\"Mean Sentiment Score\", fontsize=12)\n",
    "ax.legend()\n",
    "plt.tight_layout()\n",
    "plt.show()\n",
    "\n",
    "# Visualization 2: Distribution of 'compound' scores for Cold War movies using boxplots\n",
    "fig, ax = plt.subplots(figsize=(10, 6))\n",
    "data_cold_war = [sentiment_df_3['compound'], sentiment_df_4['compound']]\n",
    "ax.boxplot(data_cold_war, vert=True, patch_artist=True, labels=['Cold War Side 1', 'Cold War Side 2'],\n",
    "           boxprops=dict(facecolor='lightgreen', color='green'), medianprops=dict(color='red'))\n",
    "\n",
    "ax.set_title(\"Distribution of Compound Sentiment Scores for Cold War Movies\", fontsize=16)\n",
    "ax.set_ylabel(\"Compound Sentiment Score\", fontsize=12)\n",
    "plt.tight_layout()\n",
    "plt.show()\n",
    "\n",
    "print(sentiment_df_3.shape)\n",
    "print(sentiment_df_4.shape)"
   ]
  },
  {
   "cell_type": "markdown",
   "metadata": {},
   "source": [
    "#### displaying results"
   ]
  },
  {
   "cell_type": "code",
   "execution_count": null,
   "metadata": {},
   "outputs": [],
   "source": []
  },
  {
   "cell_type": "code",
   "execution_count": null,
   "metadata": {},
   "outputs": [],
   "source": [
    "# Prepare data for visualization\n",
    "sentiment_analysis_viz = test_sample[['Countries', 'neg', 'pos', 'neu']]\n",
    "sentiment_analysis_viz['Countries'] = sentiment_analysis_viz['Countries'].apply(ast.literal_eval)\n",
    "\n",
    "# Calculate the mean negative,neutral and positive sentiment score per country\n",
    "neg_by_countries = pd.DataFrame(sentiment_analysis_viz.explode('Countries').groupby('Countries')['neg'].mean()).reset_index()\n",
    "pos_by_countries = pd.DataFrame(sentiment_analysis_viz.explode('Countries').groupby('Countries')['pos'].mean()).reset_index()\n",
    "neu_by_countries = pd.DataFrame(sentiment_analysis_viz.explode('Countries').groupby('Countries')['neu'].mean()).reset_index()"
   ]
  },
  {
   "cell_type": "markdown",
   "metadata": {},
   "source": [
    "## Sentiment Scores per Country \n",
    "We decided to focus on Japan, the USA, and Germany, as these countries likely experienced the conflict in fundamentally different ways."
   ]
  },
  {
   "cell_type": "code",
   "execution_count": null,
   "metadata": {},
   "outputs": [],
   "source": [
    "# Extract sentiment data for the USA, Japan and Germany\n",
    "data_usa = [neg_by_countries.loc[neg_by_countries['Countries'] == 'United States of America']['neg'], pos_by_countries.loc[pos_by_countries['Countries'] == 'United States of America']['pos'], neu_by_countries.loc[neu_by_countries['Countries'] == 'United States of America']['neu']]\n",
    "data_japan = [neg_by_countries.loc[neg_by_countries['Countries'] == 'Japan']['neg'], pos_by_countries.loc[pos_by_countries['Countries'] == 'Japan']['pos'], neu_by_countries.loc[neu_by_countries['Countries'] == 'Japan']['neu']]\n",
    "data_germany = [neg_by_countries.loc[neg_by_countries['Countries'] == 'German Democratic Republic']['neg'], pos_by_countries.loc[pos_by_countries['Countries'] == 'German Democratic Republic']['pos'], neu_by_countries.loc[neu_by_countries['Countries'] == 'German Democratic Republic']['neu']]\n",
    "\n",
    "# Organize the sentiment data into a dictionary for plotting\n",
    "score = (\"Negative\", \"Neutral\", \"Positive\")\n",
    "sentiment_means = {\n",
    "    'USA': (data_usa[0].values.item(), data_usa[1].values.item(), data_usa[2].values.item()),\n",
    "    'Germany': (data_germany[0].values.item(), data_germany[1].values.item(), data_germany[2].values.item()),\n",
    "    'Japan': (data_japan[0].values.item(), data_japan[1].values.item(), data_japan[2].values.item()),\n",
    "}\n",
    "\n",
    "# Plot the sentiment scores for each country\n",
    "x = np.arange(len(score))\n",
    "width = 0.25\n",
    "multiplier = 0\n",
    "\n",
    "fig, ax = plt.subplots(layout='constrained')\n",
    "\n",
    "for attribute, measurement in sentiment_means.items():\n",
    "    offset = width * multiplier\n",
    "    rects = ax.bar(x + offset, measurement, width, label=attribute)\n",
    "    ax.bar_label(rects, padding=3)\n",
    "    multiplier += 1\n",
    "\n",
    "ax.set_ylabel('Sentiment Score')\n",
    "ax.set_title('Sentiment scores per Country')\n",
    "ax.set_xticks(x + width, score)\n",
    "ax.legend(loc='upper left', ncols=3)\n",
    "ax.set_ylim(0, 1)\n",
    "\n",
    "plt.show()"
   ]
  },
  {
   "cell_type": "markdown",
   "metadata": {},
   "source": [
    "### "
   ]
  },
  {
   "cell_type": "markdown",
   "metadata": {},
   "source": [
    "### Named Entity recognition\n",
    "\n",
    "We perform Named Entity Recognition (NER) to extract key roles in the synopses. This allows us to connect sentiment analysis results to the main figures or groups depicted in the films. Hence, we can better understand public opinion on these characters or figures and how they are portrayed in the context of major conflicts.\n"
   ]
  },
  {
   "cell_type": "code",
   "execution_count": null,
   "metadata": {},
   "outputs": [],
   "source": [
    "##  Defining the function used in the anaylysis \n",
    "\n",
    "# Extracting entities corresponding to organizations from the NER tags\n",
    "def extracting_entities(tree):\n",
    "    # Initializing the entities \n",
    "    entities = []\n",
    "    for subtree in tree.subtrees():\n",
    "        # If the label of subtree corresponds to an organization, append its leaves (the names) to the entities list\n",
    "        if (subtree.label() == 'ORGANIZATION'):\n",
    "            entities.append(\" \".join(word for word, tag in subtree.leaves()))\n",
    "    return entities\n",
    "\n",
    "\n",
    "\n",
    "# Defining a function to extract sentiment scores per entity\n",
    "def entity_sentiment_analysis(summary, entities, country):\n",
    "    # Initialization of the variables used \n",
    "    global average_sentiment\n",
    "    entities_sentiment = []\n",
    "    # Tokenizing the summary by sentences \n",
    "    sent = sent_tokenize(summary)\n",
    "    \n",
    "    for entity in entities:\n",
    "        # Extracting the sentences that contain a specific entity, and obtaining the sentiment score of all of these sentences\n",
    "        entity_sentences = [sentence for sentence in sent if entity in sentence]\n",
    "        sentiment_scores = [analyzer.polarity_scores(sentence) for sentence in entity_sentences]\n",
    "\n",
    "        if sentiment_scores:\n",
    "            #Computing the average compound score for the entity, and creating \n",
    "            average_sentiment = {\n",
    "                'Entity' : entity,\n",
    "                'Country': country,\n",
    "                'Compound' : sum([score['compound'] for score in sentiment_scores])/len(sentiment_scores),\n",
    "            }\n",
    "        entities_sentiment.append(average_sentiment)\n",
    "\n",
    "    return entities_sentiment"
   ]
  },
  {
   "cell_type": "code",
   "execution_count": null,
   "metadata": {},
   "outputs": [],
   "source": [
    "# Tokenize the summaries for NER processing\n",
    "wwii_movies['tokenized_summaries'] = wwii_movies['summary'].apply(word_tokenize)\n",
    "cold_war_movies['tokenized_summaries'] = cold_war_movies['summary'].apply(word_tokenize)\n",
    "korean_war_movies['tokenized_summaries'] = korean_war_movies['summary'].apply(word_tokenize)\n",
    "vietnam_war_movies['tokenized_summaries'] = vietnam_war_movies['summary'].apply(word_tokenize)"
   ]
  },
  {
   "cell_type": "code",
   "execution_count": null,
   "metadata": {},
   "outputs": [],
   "source": [
    "# Initializing variables necessary for iteration over all of the conflicts\n",
    "wars_iterator = [wwii_movies, cold_war_movies, korean_war_movies, vietnam_war_movies]\n",
    "war_names = ['World War II', \"Cold War\", \"Korean war\", \"Vietnan war\"]\n",
    "\n",
    "# Initializing stop words and Lemmatizer for data processing\n",
    "stop_words = set(stopwords.words('english'))\n",
    "lemmatizer = WordNetLemmatizer()\n"
   ]
  },
  {
   "cell_type": "code",
   "execution_count": null,
   "metadata": {},
   "outputs": [],
   "source": [
    "# Extracting the NER tags from each  summary\n",
    "\n",
    "full_NER_TAGS = [[], [], [], []]\n",
    "for i, test_sample in enumerate(wars_iterator):\n",
    "    # Preprocess the text,tokenize, clean and remove stopwords\n",
    "    tokens_summ = test_sample['tokenized_summaries'].to_list()\n",
    "    NER_tags = []\n",
    "    for summary in tokens_summ:\n",
    "        filtered_token = [word for word in summary if word not in stop_words]\n",
    "        lemmatized_tokens = ([lemmatizer.lemmatize(token) for token in filtered_token])\n",
    "        pos_tags = nltk.pos_tag(lemmatized_tokens)\n",
    "        # Perform NER chunking to identify named entities\n",
    "        ner_tags = ne_chunk(pos_tags)\n",
    "        NER_tags.append(ner_tags)\n",
    "\n",
    "    full_NER_TAGS[i] = NER_tags\n",
    "    "
   ]
  },
  {
   "cell_type": "code",
   "execution_count": null,
   "metadata": {},
   "outputs": [],
   "source": [
    "# Displaying one tag for verification \n",
    "full_NER_TAGS[1][0]"
   ]
  },
  {
   "cell_type": "code",
   "execution_count": null,
   "metadata": {},
   "outputs": [],
   "source": [
    "# Extracting entities \n",
    "full_entities = [[], [], [], []]\n",
    "for i, tags in enumerate(full_NER_TAGS): \n",
    "    entities = []\n",
    "    for tree in tags:\n",
    "        entities.append(extracting_entities(tree))\n",
    "    full_entities[i] = entities "
   ]
  },
  {
   "cell_type": "code",
   "execution_count": null,
   "metadata": {},
   "outputs": [],
   "source": [
    "# Creating a new column in each movies dataset containing the entities\n",
    "wwii_movies['Entities'] = full_entities[0]\n",
    "cold_war_movies['Entities'] = full_entities[1]\n",
    "korean_war_movies['Entities'] = full_entities[2]\n",
    "vietnam_war_movies['Entities'] = full_entities[3]\n",
    "\n",
    "# Verification\n",
    "wwii_movies.head()"
   ]
  },
  {
   "cell_type": "markdown",
   "metadata": {},
   "source": [
    "### Entity-level sentiment analysis"
   ]
  },
  {
   "cell_type": "code",
   "execution_count": null,
   "metadata": {},
   "outputs": [],
   "source": [
    "# Perform entity-level sentiment analysis on every conflict's subset of movies\n",
    "for i, test_sample in enumerate(wars_iterator):\n",
    "    # Create a new dataframe for analysis\n",
    "    summaries = test_sample[['summary', 'Entities', 'Countries']]\n",
    "\n",
    "    # Perform the entity-level analysis on each row of the dataset and appending it in the results table\n",
    "    results = []\n",
    "    for _, row in summaries.iterrows():\n",
    "        sentiments = entity_sentiment_analysis(row[\"summary\"], row[\"Entities\"], row['Countries'])\n",
    "        results.extend(sentiments)\n",
    "\n",
    "    # Convert results to a DataFrame\n",
    "    entity_sentiments_df = pd.DataFrame(results)\n",
    "\n",
    "    # TODO: maybe delete this ? \n",
    "    sentiment = []\n",
    "    for j in range(len(entity_sentiments_df)):\n",
    "        if entity_sentiments_df.iloc[j, 2] >= 0.05:\n",
    "            sentiment.append('Protagonist')\n",
    "        elif entity_sentiments_df.iloc[j, 2] <= -0.05:\n",
    "            sentiment.append('Antagonist')\n",
    "        else:\n",
    "            sentiment.append('Protagonist')\n",
    "\n",
    "    # Create a new column for the role of the entity (Protagonist or Antagonist) and drop the duplicates \n",
    "    entity_sentiments_df['Sentiment'] = sentiment\n",
    "    entity_sentiments_df.drop_duplicates(inplace=True)\n",
    "    entity_sentiments_df['Country'] = entity_sentiments_df['Country'].apply(literal_eval)\n",
    "\n",
    "    # Explode the dataframe on the country column in order to analyse country-wise\n",
    "    entity_sentiments_df_exploded = entity_sentiments_df.explode(\"Country\").reset_index(drop=True)\n",
    "\n",
    "    # Initializing the heatmap data by pivoting the dataframe on the \"Country\" column\n",
    "    heatmap_data = entity_sentiments_df_exploded.pivot_table(index=\"Entity\", columns=\"Country\", values=\"Compound\")\n",
    "\n",
    "    ## Data Visualitation\n",
    "\n",
    "    # Create the initial heatmap (first frame)\n",
    "    frames = []\n",
    "    first_side_data = entity_sentiments_df_exploded[entity_sentiments_df_exploded[\"Country\"].isin(wwii_bell_side1)]\n",
    "    frames.append(go.Frame(\n",
    "            data=[go.Heatmap(\n",
    "                z=first_side_data[\"Compound\"],\n",
    "                x=first_side_data[\"Country\"],\n",
    "                y=first_side_data[\"Entity\"],\n",
    "                colorscale=\"RdBu\"\n",
    "            )],\n",
    "            name = 'Side 1'\n",
    "        ))\n",
    "    second_side_data = entity_sentiments_df_exploded[entity_sentiments_df_exploded[\"Country\"].isin(wwii_bell_side2)]\n",
    "    frames.append(go.Frame(\n",
    "            data=[go.Heatmap(\n",
    "                z=second_side_data[\"Compound\"],\n",
    "                x=second_side_data[\"Country\"],\n",
    "                y=second_side_data[\"Entity\"],\n",
    "                colorscale=\"RdBu\"\n",
    "            )],\n",
    "            name = 'Side 2'\n",
    "        ))\n",
    "\n",
    "    heatmap = go.Heatmap(\n",
    "        z=[first_side_data[\"Compound\"]],\n",
    "        x=first_side_data[\"Country\"],\n",
    "        y=first_side_data[\"Entity\"],\n",
    "        colorscale=\"RdBu\",\n",
    "        colorbar=dict(title=\"Sentiment Score\")\n",
    "    )\n",
    "\n",
    "    # Create Figure\n",
    "    fig = go.Figure(\n",
    "        data=[heatmap],  # Initial data\n",
    "        frames=frames    # Add all frames for animation\n",
    "    )\n",
    "\n",
    "    # Update Layout with Slider\n",
    "    fig.update_layout(\n",
    "        title=f\"Sentiment Score Heatmap of {war_names[i]}\",\n",
    "        sliders=[{\n",
    "            \"steps\": [\n",
    "                {\"args\": [[frame.name]],\n",
    "                \"label\": frame.name,\n",
    "                \"method\": \"animate\"}\n",
    "                for frame in frames\n",
    "            ],\n",
    "            \"transition\": {\"duration\": 500},\n",
    "        }],\n",
    "\n",
    "    )\n",
    "\n",
    "    # Show Figure\n",
    "    fig.show()\n"
   ]
  },
  {
   "cell_type": "markdown",
   "metadata": {},
   "source": [
    "## 4. Research Question 4\n",
    "\n",
    "How do global events, such as natural disasters, pandemics, wars, and economic downturns, influence public preferences for certain movie thematics?"
   ]
  },
  {
   "cell_type": "markdown",
   "metadata": {},
   "source": [
    "### 4.0 Fetch and graph Google Search Trends: Example"
   ]
  },
  {
   "cell_type": "code",
   "execution_count": null,
   "metadata": {},
   "outputs": [],
   "source": [
    "# Define the search query\n",
    "query = \"war movies\""
   ]
  },
  {
   "cell_type": "code",
   "execution_count": null,
   "metadata": {},
   "outputs": [],
   "source": [
    "# Find interest for a given query over all time\n",
    "df = gt.query_full_interest(query)\n",
    "df.head(20)"
   ]
  },
  {
   "cell_type": "code",
   "execution_count": null,
   "metadata": {},
   "outputs": [],
   "source": [
    "# Plot the interest over time for a given query\n",
    "gt.plot_interest_time_series(df, query)"
   ]
  },
  {
   "cell_type": "code",
   "execution_count": null,
   "metadata": {},
   "outputs": [],
   "source": [
    "# Find interest for a given query around a specific date\n",
    "df_partial = gt.query_interest_around_date(query, '2021-01-01')\n",
    "df_partial.head(20)"
   ]
  },
  {
   "cell_type": "code",
   "execution_count": null,
   "metadata": {},
   "outputs": [],
   "source": [
    "# Plot the interest over time for a given query around a specific date\n",
    "gt.plot_interest_time_series(df_partial, query, '2021-01-01', 'some event')"
   ]
  },
  {
   "cell_type": "markdown",
   "metadata": {},
   "source": [
    "### 4.1 Wikidata Events timeline"
   ]
  },
  {
   "cell_type": "code",
   "execution_count": null,
   "metadata": {},
   "outputs": [],
   "source": [
    "df_events = pd.read_csv('data/events.csv')\n",
    "df_events['date'] = pd.to_datetime(df_events['date'])\n",
    "df_events.head()"
   ]
  },
  {
   "cell_type": "code",
   "execution_count": null,
   "metadata": {},
   "outputs": [],
   "source": [
    "df_events['event_type'].value_counts()"
   ]
  },
  {
   "cell_type": "code",
   "execution_count": null,
   "metadata": {},
   "outputs": [],
   "source": [
    "# Graph the number of events by type\n",
    "plt.figure(figsize=(12, 6))\n",
    "sns.countplot(data=df_events, x='event_type', order=df_events['event_type'].value_counts().index)\n",
    "plt.xticks(rotation=45)\n",
    "plt.title('Number of events by type')\n",
    "plt.show()"
   ]
  },
  {
   "cell_type": "code",
   "execution_count": null,
   "metadata": {},
   "outputs": [],
   "source": [
    "# Plot the event types by year\n",
    "df_year = df_events.copy()\n",
    "df_year['year'] = df_year['date'].dt.year\n",
    "\n",
    "# Group by year and event type, and count occurrences\n",
    "df_grouped = df_year.groupby(['year', 'event_type']).size().reset_index(name='count')\n",
    "\n",
    "# Pivot to get data in wide format for stacking\n",
    "df_pivot = df_grouped.pivot(index='year', columns='event_type', values='count').fillna(0)\n",
    "\n",
    "# Plot the stacked bar chart\n",
    "ax = df_pivot.plot(kind='bar', stacked=True, figsize=(20, 10), cmap='tab10')\n",
    "\n",
    "plt.title(\"Event Types by Year\")\n",
    "plt.xlabel(\"Year\")\n",
    "plt.ylabel(\"Number of Events\")\n",
    "plt.legend(title=\"Event Type\")\n",
    "plt.tight_layout()"
   ]
  },
  {
   "cell_type": "markdown",
   "metadata": {},
   "source": [
    "### 4.2 Google Search Trends: Case Study"
   ]
  },
  {
   "cell_type": "code",
   "execution_count": null,
   "metadata": {},
   "outputs": [],
   "source": [
    "# Sample some events marked as catastrophic\n",
    "df_catastrophic = df_events[df_events['event_type'] == 'catastrophe']\n",
    "\n",
    "pd.set_option('display.max_colwidth', None)\n",
    "df_catastrophic.tail(30)"
   ]
  },
  {
   "cell_type": "code",
   "execution_count": null,
   "metadata": {},
   "outputs": [],
   "source": [
    "# Select one event\n",
    "event_date = \"2020-01-08\"\n",
    "event_name = \"Ukrainian Boeing 737 Crash\"\n",
    "keyword = \"plane crash movies\""
   ]
  },
  {
   "cell_type": "code",
   "execution_count": null,
   "metadata": {},
   "outputs": [],
   "source": [
    "# Query Google Trends for interest around the event date\n",
    "df_event = gt.query_interest_around_date(keyword, event_date)\n",
    "\n",
    "# Plot the interest over time\n",
    "gt.plot_interest_time_series(df_event, keyword, event_date, event_name)"
   ]
  },
  {
   "cell_type": "markdown",
   "metadata": {},
   "source": [
    "We can clearly observe an impact of interest for \"plane crash movies\" just after the worldwide news of a large plane crash. This can be applied to multiple events, either to see short-time trends or long-time evolution of trends."
   ]
  },
  {
   "cell_type": "markdown",
   "metadata": {},
   "source": []
  }
 ],
 "metadata": {
  "kernelspec": {
   "display_name": "Python 3 (ipykernel)",
   "language": "python",
   "name": "python3"
  },
  "language_info": {
   "codemirror_mode": {
    "name": "ipython",
    "version": 3
   },
   "file_extension": ".py",
   "mimetype": "text/x-python",
   "name": "python",
   "nbconvert_exporter": "python",
   "pygments_lexer": "ipython3",
   "version": "3.10.9"
  }
 },
 "nbformat": 4,
 "nbformat_minor": 4
}
