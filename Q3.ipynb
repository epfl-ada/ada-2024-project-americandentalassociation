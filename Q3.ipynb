{
 "cells": [
  {
   "cell_type": "code",
   "execution_count": 2,
   "metadata": {},
   "outputs": [],
   "source": [
    "import pandas as pd\n",
    "import plotly.express as px\n",
    "from collections import Counter\n",
    "import ast\n",
    "import numpy as np\n",
    "import matplotlib.pyplot as plt\n",
    "import seaborn as sns\n",
    "from src.utils.genres import *\n",
    "from src.utils.genres import name_plot, count_genre_over_years, top_years_for_genre, bottom_years_for_genre, count_genres_by_year, calc_genre_differences, calc_genre_growth, calc_proportion_growth\n",
    "import warnings\n",
    "import csv\n",
    "import re\n",
    "import nltk\n",
    "from nltk.tokenize import word_tokenize, sent_tokenize\n",
    "from nltk.corpus import stopwords\n",
    "from nltk.stem import WordNetLemmatizer\n",
    "from nltk import ne_chunk\n",
    "from nltk.sentiment import SentimentIntensityAnalyzer\n",
    "from src.utils import google_trends as gt\n",
    "#from data.Cleaning import final_df\n",
    "warnings.simplefilter(\"ignore\")\n",
    "from ast import literal_eval\n",
    "import plotly.graph_objects as go "
   ]
  },
  {
   "cell_type": "markdown",
   "metadata": {},
   "source": [
    "#### Extracting sides"
   ]
  },
  {
   "cell_type": "code",
   "execution_count": 3,
   "metadata": {},
   "outputs": [
    {
     "data": {
      "text/html": [
       "<div>\n",
       "<style scoped>\n",
       "    .dataframe tbody tr th:only-of-type {\n",
       "        vertical-align: middle;\n",
       "    }\n",
       "\n",
       "    .dataframe tbody tr th {\n",
       "        vertical-align: top;\n",
       "    }\n",
       "\n",
       "    .dataframe thead th {\n",
       "        text-align: right;\n",
       "    }\n",
       "</style>\n",
       "<table border=\"1\" class=\"dataframe\">\n",
       "  <thead>\n",
       "    <tr style=\"text-align: right;\">\n",
       "      <th></th>\n",
       "      <th>Movie_ID</th>\n",
       "      <th>IMDb_Index</th>\n",
       "      <th>Title</th>\n",
       "      <th>Original_Title</th>\n",
       "      <th>Release_Date</th>\n",
       "      <th>Year</th>\n",
       "      <th>Genres</th>\n",
       "      <th>Genres_IMDb</th>\n",
       "      <th>Rating</th>\n",
       "      <th>Votes</th>\n",
       "      <th>Revenue</th>\n",
       "      <th>Length</th>\n",
       "      <th>Languages</th>\n",
       "      <th>Countries</th>\n",
       "      <th>summary</th>\n",
       "    </tr>\n",
       "  </thead>\n",
       "  <tbody>\n",
       "    <tr>\n",
       "      <th>0</th>\n",
       "      <td>975900</td>\n",
       "      <td>tt0228333</td>\n",
       "      <td>Ghosts of Mars</td>\n",
       "      <td>Ghosts of Mars</td>\n",
       "      <td>2001-08-24</td>\n",
       "      <td>2001</td>\n",
       "      <td>['Thriller', 'Science Fiction', 'Horror', 'Adv...</td>\n",
       "      <td>['Action,Horror,Sci-Fi']</td>\n",
       "      <td>4.9</td>\n",
       "      <td>58872</td>\n",
       "      <td>14010832.0</td>\n",
       "      <td>98.0</td>\n",
       "      <td>['English Language']</td>\n",
       "      <td>['United States of America']</td>\n",
       "      <td>Set in the second half of the 22nd century, th...</td>\n",
       "    </tr>\n",
       "    <tr>\n",
       "      <th>1</th>\n",
       "      <td>261236</td>\n",
       "      <td>tt0083949</td>\n",
       "      <td>A Woman in Flames</td>\n",
       "      <td>Die flambierte Frau</td>\n",
       "      <td>1983</td>\n",
       "      <td>1983</td>\n",
       "      <td>['Drama']</td>\n",
       "      <td>['Drama']</td>\n",
       "      <td>5.9</td>\n",
       "      <td>648</td>\n",
       "      <td>NaN</td>\n",
       "      <td>106.0</td>\n",
       "      <td>['German Language']</td>\n",
       "      <td>['Germany']</td>\n",
       "      <td>Eva, an upper class housewife, becomes frustra...</td>\n",
       "    </tr>\n",
       "    <tr>\n",
       "      <th>2</th>\n",
       "      <td>171005</td>\n",
       "      <td>tt0097499</td>\n",
       "      <td>Henry V</td>\n",
       "      <td>Henry V</td>\n",
       "      <td>1989-11-08</td>\n",
       "      <td>1989</td>\n",
       "      <td>['Costume drama', 'War film', 'Epic', 'Period ...</td>\n",
       "      <td>['Biography,Drama,History']</td>\n",
       "      <td>7.5</td>\n",
       "      <td>32088</td>\n",
       "      <td>10161099.0</td>\n",
       "      <td>137.0</td>\n",
       "      <td>['English Language']</td>\n",
       "      <td>['United Kingdom']</td>\n",
       "      <td>{{Plot|dateAct 1Act 2Act 3Act 4Act 5 Finally n...</td>\n",
       "    </tr>\n",
       "    <tr>\n",
       "      <th>3</th>\n",
       "      <td>77856</td>\n",
       "      <td>tt0058331</td>\n",
       "      <td>Mary Poppins</td>\n",
       "      <td>Mary Poppins</td>\n",
       "      <td>1964-08-27</td>\n",
       "      <td>1964</td>\n",
       "      <td>['ChildrensFamily', 'Musical', 'Fantasy', 'Com...</td>\n",
       "      <td>['Comedy,Family,Fantasy']</td>\n",
       "      <td>7.8</td>\n",
       "      <td>189202</td>\n",
       "      <td>102272727.0</td>\n",
       "      <td>139.0</td>\n",
       "      <td>['English Language']</td>\n",
       "      <td>['United States of America']</td>\n",
       "      <td>The film opens with Mary Poppins  perched in a...</td>\n",
       "    </tr>\n",
       "    <tr>\n",
       "      <th>4</th>\n",
       "      <td>32456683</td>\n",
       "      <td>tt0061637</td>\n",
       "      <td>Die Fahne von Kriwoj Rog</td>\n",
       "      <td>Die Fahne von Kriwoj Rog</td>\n",
       "      <td>1967</td>\n",
       "      <td>1967</td>\n",
       "      <td>[]</td>\n",
       "      <td>['Drama']</td>\n",
       "      <td>7.7</td>\n",
       "      <td>24</td>\n",
       "      <td>NaN</td>\n",
       "      <td>108.0</td>\n",
       "      <td>['German Language']</td>\n",
       "      <td>['German Democratic Republic']</td>\n",
       "      <td>Otto Brosowski, a communist miner, writes to t...</td>\n",
       "    </tr>\n",
       "  </tbody>\n",
       "</table>\n",
       "</div>"
      ],
      "text/plain": [
       "   Movie_ID IMDb_Index                     Title            Original_Title  \\\n",
       "0    975900  tt0228333            Ghosts of Mars            Ghosts of Mars   \n",
       "1    261236  tt0083949         A Woman in Flames       Die flambierte Frau   \n",
       "2    171005  tt0097499                   Henry V                   Henry V   \n",
       "3     77856  tt0058331              Mary Poppins              Mary Poppins   \n",
       "4  32456683  tt0061637  Die Fahne von Kriwoj Rog  Die Fahne von Kriwoj Rog   \n",
       "\n",
       "  Release_Date  Year                                             Genres  \\\n",
       "0   2001-08-24  2001  ['Thriller', 'Science Fiction', 'Horror', 'Adv...   \n",
       "1         1983  1983                                          ['Drama']   \n",
       "2   1989-11-08  1989  ['Costume drama', 'War film', 'Epic', 'Period ...   \n",
       "3   1964-08-27  1964  ['ChildrensFamily', 'Musical', 'Fantasy', 'Com...   \n",
       "4         1967  1967                                                 []   \n",
       "\n",
       "                   Genres_IMDb  Rating   Votes      Revenue  Length  \\\n",
       "0     ['Action,Horror,Sci-Fi']     4.9   58872   14010832.0    98.0   \n",
       "1                    ['Drama']     5.9     648          NaN   106.0   \n",
       "2  ['Biography,Drama,History']     7.5   32088   10161099.0   137.0   \n",
       "3    ['Comedy,Family,Fantasy']     7.8  189202  102272727.0   139.0   \n",
       "4                    ['Drama']     7.7      24          NaN   108.0   \n",
       "\n",
       "              Languages                       Countries  \\\n",
       "0  ['English Language']    ['United States of America']   \n",
       "1   ['German Language']                     ['Germany']   \n",
       "2  ['English Language']              ['United Kingdom']   \n",
       "3  ['English Language']    ['United States of America']   \n",
       "4   ['German Language']  ['German Democratic Republic']   \n",
       "\n",
       "                                             summary  \n",
       "0  Set in the second half of the 22nd century, th...  \n",
       "1  Eva, an upper class housewife, becomes frustra...  \n",
       "2  {{Plot|dateAct 1Act 2Act 3Act 4Act 5 Finally n...  \n",
       "3  The film opens with Mary Poppins  perched in a...  \n",
       "4  Otto Brosowski, a communist miner, writes to t...  "
      ]
     },
     "execution_count": 3,
     "metadata": {},
     "output_type": "execute_result"
    }
   ],
   "source": [
    "df = pd.read_csv('data/movies_with_summaries.csv')\n",
    "df.head()"
   ]
  },
  {
   "cell_type": "code",
   "execution_count": 4,
   "metadata": {},
   "outputs": [
    {
     "name": "stderr",
     "output_type": "stream",
     "text": [
      "[nltk_data] Downloading package punkt to\n",
      "[nltk_data]     C:\\Users\\fatum\\AppData\\Roaming\\nltk_data...\n",
      "[nltk_data]   Package punkt is already up-to-date!\n",
      "[nltk_data] Downloading package averaged_perceptron_tagger to\n",
      "[nltk_data]     C:\\Users\\fatum\\AppData\\Roaming\\nltk_data...\n",
      "[nltk_data]   Package averaged_perceptron_tagger is already up-to-\n",
      "[nltk_data]       date!\n",
      "[nltk_data] Downloading package maxent_ne_chunker to\n",
      "[nltk_data]     C:\\Users\\fatum\\AppData\\Roaming\\nltk_data...\n",
      "[nltk_data]   Package maxent_ne_chunker is already up-to-date!\n",
      "[nltk_data] Downloading package words to\n",
      "[nltk_data]     C:\\Users\\fatum\\AppData\\Roaming\\nltk_data...\n",
      "[nltk_data]   Package words is already up-to-date!\n",
      "[nltk_data] Downloading package stopwords to\n",
      "[nltk_data]     C:\\Users\\fatum\\AppData\\Roaming\\nltk_data...\n",
      "[nltk_data]   Package stopwords is already up-to-date!\n",
      "[nltk_data] Downloading package wordnet to\n",
      "[nltk_data]     C:\\Users\\fatum\\AppData\\Roaming\\nltk_data...\n",
      "[nltk_data]   Package wordnet is already up-to-date!\n",
      "[nltk_data] Downloading package vader_lexicon to\n",
      "[nltk_data]     C:\\Users\\fatum\\AppData\\Roaming\\nltk_data...\n",
      "[nltk_data]   Package vader_lexicon is already up-to-date!\n"
     ]
    }
   ],
   "source": [
    "# Download necessary NLTK packages for text processing and sentiment analysis\n",
    "nltk.download('punkt')  # Tokenizer for splitting text into words\n",
    "nltk.download('averaged_perceptron_tagger')  # POS tagger for grammatical structure\n",
    "nltk.download('maxent_ne_chunker')  # NER chunker for extracting named entities\n",
    "nltk.download('words')  # Word corpus for NER\n",
    "nltk.download('stopwords')  # Common words to exclude from analysis\n",
    "nltk.download('wordnet')  # Lexical database for English\n",
    "nltk.download('vader_lexicon')  # Lexicon for sentiment analysis\n",
    "\n",
    "# Define the set of English stopwords to remove common words that don't add meaning\n",
    "stop_words = set(stopwords.words(\"english\"))"
   ]
  },
  {
   "cell_type": "code",
   "execution_count": 5,
   "metadata": {},
   "outputs": [
    {
     "data": {
      "text/html": [
       "<div>\n",
       "<style scoped>\n",
       "    .dataframe tbody tr th:only-of-type {\n",
       "        vertical-align: middle;\n",
       "    }\n",
       "\n",
       "    .dataframe tbody tr th {\n",
       "        vertical-align: top;\n",
       "    }\n",
       "\n",
       "    .dataframe thead th {\n",
       "        text-align: right;\n",
       "    }\n",
       "</style>\n",
       "<table border=\"1\" class=\"dataframe\">\n",
       "  <thead>\n",
       "    <tr style=\"text-align: right;\">\n",
       "      <th></th>\n",
       "      <th>Movie_ID</th>\n",
       "      <th>IMDb_Index</th>\n",
       "      <th>Title</th>\n",
       "      <th>Original_Title</th>\n",
       "      <th>Release_Date</th>\n",
       "      <th>Year</th>\n",
       "      <th>Genres</th>\n",
       "      <th>Genres_IMDb</th>\n",
       "      <th>Rating</th>\n",
       "      <th>Votes</th>\n",
       "      <th>Revenue</th>\n",
       "      <th>Length</th>\n",
       "      <th>Languages</th>\n",
       "      <th>Countries</th>\n",
       "      <th>summary</th>\n",
       "    </tr>\n",
       "  </thead>\n",
       "  <tbody>\n",
       "    <tr>\n",
       "      <th>0</th>\n",
       "      <td>975900</td>\n",
       "      <td>tt0228333</td>\n",
       "      <td>Ghosts of Mars</td>\n",
       "      <td>Ghosts of Mars</td>\n",
       "      <td>2001-08-24</td>\n",
       "      <td>2001</td>\n",
       "      <td>['Thriller', 'Science Fiction', 'Horror', 'Adv...</td>\n",
       "      <td>['Action,Horror,Sci-Fi']</td>\n",
       "      <td>4.9</td>\n",
       "      <td>58872</td>\n",
       "      <td>14010832.0</td>\n",
       "      <td>98.0</td>\n",
       "      <td>['English Language']</td>\n",
       "      <td>['United States of America']</td>\n",
       "      <td>Set in the second half of the 22nd century, th...</td>\n",
       "    </tr>\n",
       "    <tr>\n",
       "      <th>1</th>\n",
       "      <td>261236</td>\n",
       "      <td>tt0083949</td>\n",
       "      <td>A Woman in Flames</td>\n",
       "      <td>Die flambierte Frau</td>\n",
       "      <td>1983</td>\n",
       "      <td>1983</td>\n",
       "      <td>['Drama']</td>\n",
       "      <td>['Drama']</td>\n",
       "      <td>5.9</td>\n",
       "      <td>648</td>\n",
       "      <td>NaN</td>\n",
       "      <td>106.0</td>\n",
       "      <td>['German Language']</td>\n",
       "      <td>['Germany']</td>\n",
       "      <td>Eva, an upper class housewife, becomes frustra...</td>\n",
       "    </tr>\n",
       "    <tr>\n",
       "      <th>2</th>\n",
       "      <td>171005</td>\n",
       "      <td>tt0097499</td>\n",
       "      <td>Henry V</td>\n",
       "      <td>Henry V</td>\n",
       "      <td>1989-11-08</td>\n",
       "      <td>1989</td>\n",
       "      <td>['Costume drama', 'War film', 'Epic', 'Period ...</td>\n",
       "      <td>['Biography,Drama,History']</td>\n",
       "      <td>7.5</td>\n",
       "      <td>32088</td>\n",
       "      <td>10161099.0</td>\n",
       "      <td>137.0</td>\n",
       "      <td>['English Language']</td>\n",
       "      <td>['United Kingdom']</td>\n",
       "      <td>{{Plot|dateAct 1Act 2Act 3Act 4Act 5 Finally n...</td>\n",
       "    </tr>\n",
       "    <tr>\n",
       "      <th>3</th>\n",
       "      <td>77856</td>\n",
       "      <td>tt0058331</td>\n",
       "      <td>Mary Poppins</td>\n",
       "      <td>Mary Poppins</td>\n",
       "      <td>1964-08-27</td>\n",
       "      <td>1964</td>\n",
       "      <td>['ChildrensFamily', 'Musical', 'Fantasy', 'Com...</td>\n",
       "      <td>['Comedy,Family,Fantasy']</td>\n",
       "      <td>7.8</td>\n",
       "      <td>189202</td>\n",
       "      <td>102272727.0</td>\n",
       "      <td>139.0</td>\n",
       "      <td>['English Language']</td>\n",
       "      <td>['United States of America']</td>\n",
       "      <td>The film opens with Mary Poppins  perched in a...</td>\n",
       "    </tr>\n",
       "    <tr>\n",
       "      <th>4</th>\n",
       "      <td>32456683</td>\n",
       "      <td>tt0061637</td>\n",
       "      <td>Die Fahne von Kriwoj Rog</td>\n",
       "      <td>Die Fahne von Kriwoj Rog</td>\n",
       "      <td>1967</td>\n",
       "      <td>1967</td>\n",
       "      <td>[]</td>\n",
       "      <td>['Drama']</td>\n",
       "      <td>7.7</td>\n",
       "      <td>24</td>\n",
       "      <td>NaN</td>\n",
       "      <td>108.0</td>\n",
       "      <td>['German Language']</td>\n",
       "      <td>['German Democratic Republic']</td>\n",
       "      <td>Otto Brosowski, a communist miner, writes to t...</td>\n",
       "    </tr>\n",
       "  </tbody>\n",
       "</table>\n",
       "</div>"
      ],
      "text/plain": [
       "   Movie_ID IMDb_Index                     Title            Original_Title  \\\n",
       "0    975900  tt0228333            Ghosts of Mars            Ghosts of Mars   \n",
       "1    261236  tt0083949         A Woman in Flames       Die flambierte Frau   \n",
       "2    171005  tt0097499                   Henry V                   Henry V   \n",
       "3     77856  tt0058331              Mary Poppins              Mary Poppins   \n",
       "4  32456683  tt0061637  Die Fahne von Kriwoj Rog  Die Fahne von Kriwoj Rog   \n",
       "\n",
       "  Release_Date  Year                                             Genres  \\\n",
       "0   2001-08-24  2001  ['Thriller', 'Science Fiction', 'Horror', 'Adv...   \n",
       "1         1983  1983                                          ['Drama']   \n",
       "2   1989-11-08  1989  ['Costume drama', 'War film', 'Epic', 'Period ...   \n",
       "3   1964-08-27  1964  ['ChildrensFamily', 'Musical', 'Fantasy', 'Com...   \n",
       "4         1967  1967                                                 []   \n",
       "\n",
       "                   Genres_IMDb  Rating   Votes      Revenue  Length  \\\n",
       "0     ['Action,Horror,Sci-Fi']     4.9   58872   14010832.0    98.0   \n",
       "1                    ['Drama']     5.9     648          NaN   106.0   \n",
       "2  ['Biography,Drama,History']     7.5   32088   10161099.0   137.0   \n",
       "3    ['Comedy,Family,Fantasy']     7.8  189202  102272727.0   139.0   \n",
       "4                    ['Drama']     7.7      24          NaN   108.0   \n",
       "\n",
       "              Languages                       Countries  \\\n",
       "0  ['English Language']    ['United States of America']   \n",
       "1   ['German Language']                     ['Germany']   \n",
       "2  ['English Language']              ['United Kingdom']   \n",
       "3  ['English Language']    ['United States of America']   \n",
       "4   ['German Language']  ['German Democratic Republic']   \n",
       "\n",
       "                                             summary  \n",
       "0  Set in the second half of the 22nd century, th...  \n",
       "1  Eva, an upper class housewife, becomes frustra...  \n",
       "2  {{Plot|dateAct 1Act 2Act 3Act 4Act 5 Finally n...  \n",
       "3  The film opens with Mary Poppins  perched in a...  \n",
       "4  Otto Brosowski, a communist miner, writes to t...  "
      ]
     },
     "execution_count": 5,
     "metadata": {},
     "output_type": "execute_result"
    }
   ],
   "source": [
    "df = pd.read_csv('data/movies_with_summaries.csv')\n",
    "wars_df = pd.read_csv('data/wars_filtered_clean.csv')\n",
    "df.head()"
   ]
  },
  {
   "cell_type": "code",
   "execution_count": 6,
   "metadata": {},
   "outputs": [
    {
     "name": "stdout",
     "output_type": "stream",
     "text": [
      "['Belgium', 'Yugoslavia', 'Norway', 'Canada', 'United States of America', 'United Kingdom', 'Netherlands', 'Romania', 'Bulgaria', 'Greece', 'Brazil', 'Italy', 'Australia', 'New Zealand', 'USSR', 'Poland', 'France', 'Mongolia', 'China', 'South Africa', 'Ethiopia']\n",
      "Side 1 countries: []\n",
      "Side 2 countries: ['Soviet Union', 'USSR', 'Union of Soviet Socialist Republics', 'Russia', 'Russian Federation', 'Belarus', 'Ukraine', 'Kazakhstan', 'Estonia', 'Latvia', 'Lithuania', 'Uzbekistan', 'Turkmenistan', 'Kyrgyzstan', 'Tajikistan', 'Germany', 'Albania', 'East Germany', 'GDR', 'Bulgaria', 'Hungary', 'Poland', 'Romania', 'Czechoslovakia', 'Yugoslavia']\n",
      "['Belgium', 'Canada', 'Colombia', 'United Kingdom', 'Netherlands', 'Greece', 'France', 'Turkey', 'Philippines', 'Thailand', 'Ethiopia', 'Australia', 'South Korea', 'United States of America']\n",
      "['Vietnam']\n"
     ]
    }
   ],
   "source": [
    "#WWII\n",
    "wwii_bell = wars_df[wars_df['WarName']=='World War II'][['StateName', 'Side', 'Outcome']]\n",
    "wwii_bell_side1 = wwii_bell[wwii_bell['Side'] == 1]['StateName'].values.tolist()\n",
    "wwii_bell_side2 = wwii_bell[wwii_bell['Side'] == 2]['StateName'].values.tolist()\n",
    "print(wwii_bell_side1)\n",
    "\n",
    "#Cold War \n",
    "cold_bell = wars_df[wars_df['WarName']=='Cold War'][['StateName', 'Side', 'Outcome']]\n",
    "cold_bell_side1 = cold_bell[cold_bell['Side'] == 1]['StateName'].values.tolist()\n",
    "cold_bell_side2 = cold_bell[cold_bell['Side'] == 2]['StateName'].values.tolist()\n",
    "soviet_equivalents = [\n",
    "    'Soviet Union', 'USSR', 'Union of Soviet Socialist Republics', \n",
    "    'Russia', 'Russian Federation', 'Belarus', 'Ukraine', 'Kazakhstan',\n",
    "    'Estonia', 'Latvia', 'Lithuania', 'Uzbekistan', \n",
    "    'Turkmenistan', 'Kyrgyzstan', 'Tajikistan',\"Germany\", \"Albania\",\n",
    "    \"East Germany\",\"GDR\",\"Bulgaria\",\"Hungary\",\"Poland\",\"Romania\",\n",
    "    \"Czechoslovakia\",\"Yugoslavia\"\n",
    "]\n",
    "cold_bell_side2.extend([country for country in soviet_equivalents if country not in cold_bell_side2])\n",
    "print(\"Side 1 countries:\", cold_bell_side1)\n",
    "print(\"Side 2 countries:\", cold_bell_side2)\n",
    "\n",
    "\n",
    "#Korean\n",
    "korean_bell = wars_df[wars_df['WarName']=='Korean'][['StateName', 'Side', 'Outcome']]\n",
    "korean_bell_side1 = korean_bell[korean_bell['Side'] == 1]['StateName'].values.tolist()\n",
    "korean_bell_side2 = korean_bell[korean_bell['Side'] == 2]['StateName'].values.tolist()\n",
    "print(korean_bell_side1)\n",
    "\n",
    "#Vietnam War\n",
    "viet_bell = wars_df[wars_df['WarName']=='Vietnam War, Phase 2'][['StateName', 'Side', 'Outcome']]\n",
    "viet_bell_side1 = viet_bell[viet_bell['Side'] == 1]['StateName'].values.tolist()\n",
    "viet_bell_side2 = viet_bell[viet_bell['Side'] == 2]['StateName'].values.tolist()\n",
    "print(viet_bell_side1)\n"
   ]
  },
  {
   "cell_type": "code",
   "execution_count": 7,
   "metadata": {},
   "outputs": [],
   "source": [
    "# Filter rows where 'Genres' contains \"WarMovie\"\n",
    "df_war_movies = df[df['Genres'].str.contains(\"War film\", case=False, na=False)].reset_index(drop=True)\n",
    "\n",
    "# Defining the function that detects specific keywords related to conflicts \n",
    "def label_event_regex(summary):\n",
    "    if re.search(r\"(World\\sWar\\sII|WWII|Hitler|Nazis|Hiroshima|Holocaust)\", summary, re.IGNORECASE):\n",
    "        return \"World War II\"\n",
    "    elif re.search(r\"(Vietnam\\sWar|Viet\\sCong|Saigon)\", summary, re.IGNORECASE):\n",
    "        return \"Vietnam War\"\n",
    "    elif re.search(r\"(Cold\\sWar|Soviet\\sUnion|USSR|communism|nuclear|Iron\\sCurtain|Berlin\\sWall|Cuban\\sMissile\\sCrisis|Space\\sRace|Reagan|Stalin|KGB|Eastern\\sBloc|Gorbachev|Perestroika|Glasnost)\", summary, re.IGNORECASE):\n",
    "        return \"Cold War\"\n",
    "    elif re.search(r\"(Kim|Korea|Korean|NKPA|Demilitarized\\sZone|Pyongyang|Seoul|Joint\\sChiefs\\sof\\sStaff)\", summary, re.IGNORECASE):\n",
    "        return \"Korean\"\n",
    "    else:\n",
    "        return \"Other\"\n",
    "\n",
    "# Apply the function to the \"summary\" column \n",
    "df_war_movies['event'] = df_war_movies['summary'].apply(label_event_regex)"
   ]
  },
  {
   "cell_type": "code",
   "execution_count": 8,
   "metadata": {},
   "outputs": [
    {
     "data": {
      "text/html": [
       "<div>\n",
       "<style scoped>\n",
       "    .dataframe tbody tr th:only-of-type {\n",
       "        vertical-align: middle;\n",
       "    }\n",
       "\n",
       "    .dataframe tbody tr th {\n",
       "        vertical-align: top;\n",
       "    }\n",
       "\n",
       "    .dataframe thead th {\n",
       "        text-align: right;\n",
       "    }\n",
       "</style>\n",
       "<table border=\"1\" class=\"dataframe\">\n",
       "  <thead>\n",
       "    <tr style=\"text-align: right;\">\n",
       "      <th></th>\n",
       "      <th>Movie_ID</th>\n",
       "      <th>IMDb_Index</th>\n",
       "      <th>Title</th>\n",
       "      <th>Original_Title</th>\n",
       "      <th>Release_Date</th>\n",
       "      <th>Year</th>\n",
       "      <th>Genres</th>\n",
       "      <th>Genres_IMDb</th>\n",
       "      <th>Rating</th>\n",
       "      <th>Votes</th>\n",
       "      <th>Revenue</th>\n",
       "      <th>Length</th>\n",
       "      <th>Languages</th>\n",
       "      <th>Countries</th>\n",
       "      <th>summary</th>\n",
       "      <th>event</th>\n",
       "    </tr>\n",
       "  </thead>\n",
       "  <tbody>\n",
       "    <tr>\n",
       "      <th>6</th>\n",
       "      <td>21209475</td>\n",
       "      <td>tt0024915</td>\n",
       "      <td>British Agent</td>\n",
       "      <td>British Agent</td>\n",
       "      <td>1934-09-15</td>\n",
       "      <td>1934</td>\n",
       "      <td>['Romantic drama', 'War film', 'Drama', 'Spy']</td>\n",
       "      <td>['Drama,History,Romance']</td>\n",
       "      <td>6.1</td>\n",
       "      <td>796</td>\n",
       "      <td>NaN</td>\n",
       "      <td>80.0</td>\n",
       "      <td>['English Language']</td>\n",
       "      <td>['United States of America']</td>\n",
       "      <td>In the days leading up to the Russian Revoluti...</td>\n",
       "      <td>Cold War</td>\n",
       "    </tr>\n",
       "    <tr>\n",
       "      <th>41</th>\n",
       "      <td>28209320</td>\n",
       "      <td>tt1382250</td>\n",
       "      <td>The Heart of No Place</td>\n",
       "      <td>The Heart of No Place</td>\n",
       "      <td>2009-03-21</td>\n",
       "      <td>2009</td>\n",
       "      <td>['Musical', 'Drama', 'War film']</td>\n",
       "      <td>['Drama,Music,War']</td>\n",
       "      <td>8.2</td>\n",
       "      <td>26</td>\n",
       "      <td>NaN</td>\n",
       "      <td>85.0</td>\n",
       "      <td>[]</td>\n",
       "      <td>[]</td>\n",
       "      <td>Rock widow Y. tries to come to terms with the ...</td>\n",
       "      <td>Cold War</td>\n",
       "    </tr>\n",
       "    <tr>\n",
       "      <th>43</th>\n",
       "      <td>19245641</td>\n",
       "      <td>tt1300563</td>\n",
       "      <td>The Age of Stupid</td>\n",
       "      <td>The Age of Stupid</td>\n",
       "      <td>2009-02-06</td>\n",
       "      <td>2009</td>\n",
       "      <td>['Social problem film', 'History', 'Experiment...</td>\n",
       "      <td>['Documentary,History,News']</td>\n",
       "      <td>7.0</td>\n",
       "      <td>4739</td>\n",
       "      <td>NaN</td>\n",
       "      <td>89.0</td>\n",
       "      <td>['French Language', 'English Language']</td>\n",
       "      <td>['United Kingdom']</td>\n",
       "      <td>The film begins in the year 2055 in a world ra...</td>\n",
       "      <td>Cold War</td>\n",
       "    </tr>\n",
       "    <tr>\n",
       "      <th>93</th>\n",
       "      <td>189776</td>\n",
       "      <td>tt0114787</td>\n",
       "      <td>Underground</td>\n",
       "      <td>Underground</td>\n",
       "      <td>1995-04-01</td>\n",
       "      <td>1995</td>\n",
       "      <td>['World cinema', 'Drama', 'Comedy', 'War film'...</td>\n",
       "      <td>['Comedy,Drama,Fantasy']</td>\n",
       "      <td>8.0</td>\n",
       "      <td>61979</td>\n",
       "      <td>171082.0</td>\n",
       "      <td>170.0</td>\n",
       "      <td>['French Language', 'SerboCroatian', 'German L...</td>\n",
       "      <td>['Serbia and Montenegro', 'Bulgaria', 'France'...</td>\n",
       "      <td>{{Plot|datePart One: War19411944Part Two: Cold...</td>\n",
       "      <td>Cold War</td>\n",
       "    </tr>\n",
       "    <tr>\n",
       "      <th>151</th>\n",
       "      <td>1040736</td>\n",
       "      <td>tt0108211</td>\n",
       "      <td>Stalingrad</td>\n",
       "      <td>Stalingrad</td>\n",
       "      <td>1993</td>\n",
       "      <td>1993</td>\n",
       "      <td>['Drama', 'World cinema', 'War film']</td>\n",
       "      <td>['Drama,War']</td>\n",
       "      <td>7.5</td>\n",
       "      <td>38359</td>\n",
       "      <td>152972.0</td>\n",
       "      <td>132.0</td>\n",
       "      <td>['German Language', 'Russian Language']</td>\n",
       "      <td>['Sweden', 'Germany']</td>\n",
       "      <td>In August 1942, a group of German storm troope...</td>\n",
       "      <td>Cold War</td>\n",
       "    </tr>\n",
       "  </tbody>\n",
       "</table>\n",
       "</div>"
      ],
      "text/plain": [
       "     Movie_ID IMDb_Index                  Title         Original_Title  \\\n",
       "6    21209475  tt0024915          British Agent          British Agent   \n",
       "41   28209320  tt1382250  The Heart of No Place  The Heart of No Place   \n",
       "43   19245641  tt1300563      The Age of Stupid      The Age of Stupid   \n",
       "93     189776  tt0114787            Underground            Underground   \n",
       "151   1040736  tt0108211             Stalingrad             Stalingrad   \n",
       "\n",
       "    Release_Date  Year                                             Genres  \\\n",
       "6     1934-09-15  1934     ['Romantic drama', 'War film', 'Drama', 'Spy']   \n",
       "41    2009-03-21  2009                   ['Musical', 'Drama', 'War film']   \n",
       "43    2009-02-06  2009  ['Social problem film', 'History', 'Experiment...   \n",
       "93    1995-04-01  1995  ['World cinema', 'Drama', 'Comedy', 'War film'...   \n",
       "151         1993  1993              ['Drama', 'World cinema', 'War film']   \n",
       "\n",
       "                      Genres_IMDb  Rating  Votes   Revenue  Length  \\\n",
       "6       ['Drama,History,Romance']     6.1    796       NaN    80.0   \n",
       "41            ['Drama,Music,War']     8.2     26       NaN    85.0   \n",
       "43   ['Documentary,History,News']     7.0   4739       NaN    89.0   \n",
       "93       ['Comedy,Drama,Fantasy']     8.0  61979  171082.0   170.0   \n",
       "151                 ['Drama,War']     7.5  38359  152972.0   132.0   \n",
       "\n",
       "                                             Languages  \\\n",
       "6                                 ['English Language']   \n",
       "41                                                  []   \n",
       "43             ['French Language', 'English Language']   \n",
       "93   ['French Language', 'SerboCroatian', 'German L...   \n",
       "151            ['German Language', 'Russian Language']   \n",
       "\n",
       "                                             Countries  \\\n",
       "6                         ['United States of America']   \n",
       "41                                                  []   \n",
       "43                                  ['United Kingdom']   \n",
       "93   ['Serbia and Montenegro', 'Bulgaria', 'France'...   \n",
       "151                              ['Sweden', 'Germany']   \n",
       "\n",
       "                                               summary     event  \n",
       "6    In the days leading up to the Russian Revoluti...  Cold War  \n",
       "41   Rock widow Y. tries to come to terms with the ...  Cold War  \n",
       "43   The film begins in the year 2055 in a world ra...  Cold War  \n",
       "93   {{Plot|datePart One: War19411944Part Two: Cold...  Cold War  \n",
       "151  In August 1942, a group of German storm troope...  Cold War  "
      ]
     },
     "execution_count": 8,
     "metadata": {},
     "output_type": "execute_result"
    }
   ],
   "source": [
    "# Display movies labeled as \"Cold War\" for verification\n",
    "df_war_movies[df_war_movies['event'] == \"Cold War\"].head()"
   ]
  },
  {
   "cell_type": "code",
   "execution_count": 9,
   "metadata": {},
   "outputs": [
    {
     "name": "stdout",
     "output_type": "stream",
     "text": [
      "----------------------------------------\n",
      "Shape of wwii_movies: (242, 16)\n",
      "Shape of wwii_movies_side1: (231, 16)\n",
      "Shape of wwii_movies_side2: (63, 16)\n",
      "Shape of sample for verification: (55, 16)\n",
      "----------------------------------------\n",
      "----------------------------------------\n",
      "Shape of cold_war_movies: (14, 16)\n",
      "Shape of cold_war_movies_side1: (0, 16)\n",
      "Shape of cold_war_movies_side2: (14, 16)\n",
      "----------------------------------------\n",
      "----------------------------------------\n",
      "Shape of vietnam_war_movies: (39, 16)\n",
      "Shape of vietnam_war_movies_side1: (0, 16)\n",
      "Shape of vietnam_war_movies_side2: (39, 16)\n",
      "----------------------------------------\n",
      "----------------------------------------\n",
      "Shape of korean_war_movies: (49, 16)\n",
      "Shape of korean_war_movies_side1: (48, 16)\n",
      "Shape of korean_war_movies_side2: (4, 16)\n",
      "----------------------------------------\n"
     ]
    }
   ],
   "source": [
    "# World War II\n",
    "wwii_movies = df_war_movies[\n",
    "    (df_war_movies['event'] == \"World War II\") &\n",
    "    (df_war_movies['Countries'].apply(lambda loc: any(country in str(loc) for country in (wwii_bell_side1 + wwii_bell_side2))))\n",
    "]\n",
    "\n",
    "wwii_movies_side1 = df_war_movies[\n",
    "    (df_war_movies['event'] == \"World War II\") &\n",
    "    (df_war_movies['Countries'].apply(lambda loc: any(country in str(loc) for country in wwii_bell_side1)))\n",
    "]\n",
    "\n",
    "wwii_movies_side2 = df_war_movies[\n",
    "    (df_war_movies['event'] == \"World War II\") &\n",
    "    (df_war_movies['Countries'].apply(lambda loc: any(country in str(loc) for country in wwii_bell_side2)))\n",
    "]\n",
    "\n",
    "sample_wwii_movies_side1 = wwii_movies_side1.sample(n=55, random_state=42)\n",
    "\n",
    "print(\"-\" * 40)\n",
    "print(f\"Shape of wwii_movies: {wwii_movies.shape}\")\n",
    "print(f\"Shape of wwii_movies_side1: {wwii_movies_side1.shape}\")\n",
    "print(f\"Shape of wwii_movies_side2: {wwii_movies_side2.shape}\")\n",
    "print(f\"Shape of sample for verification: {sample_wwii_movies_side1.shape}\")\n",
    "print(\"-\" * 40)\n",
    "\n",
    "# # Identifier les films ayant des pays des deux sides\n",
    "# movies_in_both_sides = wwii_movies_side1.index.intersection(wwii_movies_side2.index)\n",
    "\n",
    "# # Retirer les films présents dans les deux sides des DataFrames exclusifs\n",
    "# exclusive_wwii_movies_side1 = wwii_movies_side1.drop(movies_in_both_sides)\n",
    "# exclusive_wwii_movies_side2 = wwii_movies_side2.drop(movies_in_both_sides)\n",
    "\n",
    "# # Vérifier les tailles des DataFrames finaux\n",
    "# print(f\"Shape of wwii_movies: {wwii_movies.shape}\")\n",
    "# print(f\"Shape of exclusive_wwii_movies_side1: {exclusive_wwii_movies_side1.shape}\")\n",
    "# print(f\"Shape of exclusive_wwii_movies_side2: {exclusive_wwii_movies_side2.shape}\")\n",
    "\n",
    "# Cold War\n",
    "cold_war_movies = df_war_movies[\n",
    "    (df_war_movies['event'] == \"Cold War\") &\n",
    "    (df_war_movies['Countries'].apply(lambda loc: any(country in str(loc) for country in (cold_bell_side1 + cold_bell_side2))))\n",
    "]\n",
    "\n",
    "cold_war_movies_side1 = df_war_movies[\n",
    "    (df_war_movies['event'] == \"Cold War\") &\n",
    "    (df_war_movies['Countries'].apply(lambda loc: any(country in str(loc) for country in cold_bell_side1)))\n",
    "]\n",
    "\n",
    "cold_war_movies_side2 = df_war_movies[\n",
    "    (df_war_movies['event'] == \"Cold War\") &\n",
    "    (df_war_movies['Countries'].apply(lambda loc: any(country in str(loc) for country in cold_bell_side2)))\n",
    "]\n",
    "\n",
    "\n",
    "print(\"-\" * 40)\n",
    "print(f\"Shape of cold_war_movies: {cold_war_movies.shape}\")\n",
    "print(f\"Shape of cold_war_movies_side1: {cold_war_movies_side1.shape}\")\n",
    "print(f\"Shape of cold_war_movies_side2: {cold_war_movies_side2.shape}\")\n",
    "print(\"-\" * 40)\n",
    "\n",
    "# Vietnam War\n",
    "vietnam_war_movies = df_war_movies[\n",
    "    (df_war_movies['event'] == \"Vietnam War\") &\n",
    "    (df_war_movies['Countries'].apply(lambda loc: any(country in str(loc) for country in (viet_bell_side1 + viet_bell_side2))))\n",
    "]\n",
    "\n",
    "vietnam_war_movies_side1 = df_war_movies[\n",
    "    (df_war_movies['event'] == \"Vietnam War\") &\n",
    "    (df_war_movies['Countries'].apply(lambda loc: any(country in str(loc) for country in viet_bell_side1)))\n",
    "]\n",
    "\n",
    "vietnam_war_movies_side2 = df_war_movies[\n",
    "    (df_war_movies['event'] == \"Vietnam War\") &\n",
    "    (df_war_movies['Countries'].apply(lambda loc: any(country in str(loc) for country in viet_bell_side2)))\n",
    "]\n",
    "\n",
    "print(\"-\" * 40)\n",
    "print(f\"Shape of vietnam_war_movies: {vietnam_war_movies.shape}\")\n",
    "print(f\"Shape of vietnam_war_movies_side1: {vietnam_war_movies_side1.shape}\")\n",
    "print(f\"Shape of vietnam_war_movies_side2: {vietnam_war_movies_side2.shape}\")\n",
    "print(\"-\" * 40)\n",
    "\n",
    "# Korean War\n",
    "korean_war_movies = df_war_movies[\n",
    "    (df_war_movies['event'] == \"Korean\") &\n",
    "    (df_war_movies['Countries'].apply(lambda loc: any(country in str(loc) for country in (korean_bell_side1 + korean_bell_side2))))\n",
    "]\n",
    "\n",
    "korean_war_movies_side1 = df_war_movies[\n",
    "    (df_war_movies['event'] == \"Korean\") &\n",
    "    (df_war_movies['Countries'].apply(lambda loc: any(country in str(loc) for country in korean_bell_side1)))\n",
    "]\n",
    "\n",
    "korean_war_movies_side2 = df_war_movies[\n",
    "    (df_war_movies['event'] == \"Korean\") &\n",
    "    (df_war_movies['Countries'].apply(lambda loc: any(country in str(loc) for country in korean_bell_side2)))\n",
    "]\n",
    "\n",
    "print(\"-\" * 40)\n",
    "print(f\"Shape of korean_war_movies: {korean_war_movies.shape}\")\n",
    "print(f\"Shape of korean_war_movies_side1: {korean_war_movies_side1.shape}\")\n",
    "print(f\"Shape of korean_war_movies_side2: {korean_war_movies_side2.shape}\")\n",
    "print(\"-\" * 40)"
   ]
  },
  {
   "cell_type": "markdown",
   "metadata": {},
   "source": [
    "TODO: Partie Flavia ici"
   ]
  },
  {
   "cell_type": "markdown",
   "metadata": {},
   "source": [
    "#### Sentiment Analysis"
   ]
  },
  {
   "cell_type": "code",
   "execution_count": 10,
   "metadata": {},
   "outputs": [],
   "source": [
    "# Extract the summaries from the sampled movies\n",
    "synopses1=sample_wwii_movies_side1[\"summary\"].tolist()\n",
    "synopses2=wwii_movies_side2[\"summary\"].tolist()\n",
    "\n",
    "synopses3=cold_war_movies_side1[\"summary\"].tolist()\n",
    "synopses4=cold_war_movies_side2[\"summary\"].tolist()"
   ]
  },
  {
   "cell_type": "code",
   "execution_count": 11,
   "metadata": {},
   "outputs": [],
   "source": [
    "# Preprocess the summaries: tokenize and clean the text and Remove stopwords\n",
    "\n",
    "#WORD WAR II\n",
    "processed_docs_1 = []\n",
    "processed_docs_2 = []\n",
    "for synopsis in synopses1:\n",
    "    tokens = word_tokenize(synopsis.lower())\n",
    "    filtered_tokens = [word for word in tokens if word.isalnum() and word not in stop_words]\n",
    "    processed_docs_1.append(filtered_tokens)\n",
    "\n",
    "for synopsis in synopses2:\n",
    "    tokens = word_tokenize(synopsis.lower())\n",
    "    filtered_tokens = [word for word in tokens if word.isalnum() and word not in stop_words]\n",
    "    processed_docs_2.append(filtered_tokens)\n",
    "\n",
    "#COLD WAR II\n",
    "\n",
    "processed_docs_3 = []\n",
    "processed_docs_4 = []\n",
    "for synopsis in synopses3:\n",
    "    tokens = word_tokenize(synopsis.lower())\n",
    "    filtered_tokens = [word for word in tokens if word.isalnum() and word not in stop_words]\n",
    "    processed_docs_3.append(filtered_tokens)\n",
    "\n",
    "for synopsis in synopses4:\n",
    "    tokens = word_tokenize(synopsis.lower())\n",
    "    filtered_tokens = [word for word in tokens if word.isalnum() and word not in stop_words]\n",
    "    processed_docs_4.append(filtered_tokens)"
   ]
  },
  {
   "cell_type": "markdown",
   "metadata": {},
   "source": [
    "### Named Entity Recognition"
   ]
  },
  {
   "cell_type": "code",
   "execution_count": 12,
   "metadata": {},
   "outputs": [],
   "source": [
    "# Initialisation de l'analyseur de sentiment\n",
    "analyzer = SentimentIntensityAnalyzer()\n",
    "\n",
    "##  Defining the function used in the anaylysis \n",
    "\n",
    "# Extracting entities corresponding to organizations from the NER tags\n",
    "def extracting_entities(tree):\n",
    "    # Initializing the entities \n",
    "    entities = []\n",
    "    for subtree in tree.subtrees():\n",
    "        # If the label of subtree corresponds to an organization, append its leaves (the names) to the entities list\n",
    "        if (subtree.label() == 'ORGANIZATION'):\n",
    "            entities.append(\" \".join(word for word, tag in subtree.leaves()))\n",
    "    return entities\n",
    "\n",
    "\n",
    "\n",
    "# Defining a function to extract sentiment scores per entity\n",
    "def entity_sentiment_analysis(summary, entities, country):\n",
    "    # Initialization of the variables used \n",
    "    global average_sentiment\n",
    "    entities_sentiment = []\n",
    "    # Tokenizing the summary by sentences \n",
    "    sent = sent_tokenize(summary)\n",
    "    \n",
    "    for entity in entities:\n",
    "        # Extracting the sentences that contain a specific entity, and obtaining the sentiment score of all of these sentences\n",
    "        entity_sentences = [sentence for sentence in sent if entity in sentence]\n",
    "        sentiment_scores = [analyzer.polarity_scores(sentence) for sentence in entity_sentences]\n",
    "\n",
    "        if sentiment_scores:\n",
    "            #Computing the average compound score for the entity, and creating \n",
    "            average_sentiment = {\n",
    "                'Entity' : entity,\n",
    "                'Country': country,\n",
    "                'Compound' : sum([score['compound'] for score in sentiment_scores])/len(sentiment_scores),\n",
    "            }\n",
    "        entities_sentiment.append(average_sentiment)\n",
    "\n",
    "    return entities_sentiment"
   ]
  },
  {
   "cell_type": "code",
   "execution_count": 13,
   "metadata": {},
   "outputs": [],
   "source": [
    "# Only keeping relevant countries\n",
    "\n",
    "# Changing the sides\n",
    "wwii_bell_side1 = ['United States of America', 'United Kingdom', 'USSR', 'Poland', 'France']\n",
    "wwii_bell_side2 = ['Italy', 'Germany', 'Japan']\n",
    "\n",
    "cold_bell_side1 = ['France', 'United States of America', 'Belgium']\n",
    "cold_bell_side2 = cold_bell[cold_bell['Side'] == 2]['StateName'].values.tolist()\n",
    "soviet_equivalents = [\n",
    "    'Soviet Union', 'USSR', 'Union of Soviet Socialist Republics', \n",
    "    'Russia', 'Russian Federation', 'Belarus', 'Ukraine', 'Kazakhstan',\n",
    "    'Estonia', 'Latvia', 'Lithuania', 'Uzbekistan', \n",
    "    'Turkmenistan', 'Kyrgyzstan', 'Tajikistan',\"Germany\", \"Albania\",\n",
    "    \"East Germany\",\"GDR\",\"Bulgaria\",\"Hungary\",\"Poland\",\"Romania\",\n",
    "    \"Czechoslovakia\",\"Yugoslavia\"\n",
    "]\n",
    "cold_bell_side2.extend([country for country in soviet_equivalents if country not in cold_bell_side2])\n",
    "\n",
    "# Selecting movies \n",
    "wwii_movies = df_war_movies[\n",
    "    (df_war_movies['event'] == \"World War II\") &\n",
    "    (df_war_movies['Countries'].apply(lambda loc: any(country in str(loc) for country in (wwii_bell_side1 + wwii_bell_side2))))\n",
    "]\n",
    "\n",
    "wwii_movies_side1 = df_war_movies[\n",
    "    (df_war_movies['event'] == \"World War II\") &\n",
    "    (df_war_movies['Countries'].apply(lambda loc: any(country in str(loc) for country in wwii_bell_side1)))\n",
    "]\n",
    "\n",
    "wwii_movies_side2 = df_war_movies[\n",
    "    (df_war_movies['event'] == \"World War II\") &\n",
    "    (df_war_movies['Countries'].apply(lambda loc: any(country in str(loc) for country in wwii_bell_side2)))\n",
    "]\n",
    "\n",
    "cold_war_movies_side1 = df_war_movies[\n",
    "    (df_war_movies['event'] == \"Cold War\") &\n",
    "    (df_war_movies['Countries'].apply(lambda loc: any(country in str(loc) for country in cold_bell_side1)))\n",
    "]\n",
    "\n",
    "cold_war_movies_side2 = df_war_movies[\n",
    "    (df_war_movies['event'] == \"Cold War\") &\n",
    "    (df_war_movies['Countries'].apply(lambda loc: any(country in str(loc) for country in cold_bell_side2)))\n",
    "]"
   ]
  },
  {
   "cell_type": "code",
   "execution_count": 14,
   "metadata": {},
   "outputs": [],
   "source": [
    "# Tokenize the summaries for NER processing\n",
    "wwii_movies_side1['tokenized_summaries'] = wwii_movies_side1['summary'].apply(word_tokenize)\n",
    "wwii_movies_side2['tokenized_summaries'] = wwii_movies_side2['summary'].apply(word_tokenize)\n",
    "\n",
    "cold_war_movies_side1['tokenized_summaries'] = cold_war_movies_side1['summary'].apply(word_tokenize)\n",
    "cold_war_movies_side2['tokenized_summaries'] = cold_war_movies_side2['summary'].apply(word_tokenize)\n"
   ]
  },
  {
   "cell_type": "code",
   "execution_count": 15,
   "metadata": {},
   "outputs": [
    {
     "data": {
      "text/plain": [
       "1995"
      ]
     },
     "execution_count": 15,
     "metadata": {},
     "output_type": "execute_result"
    }
   ],
   "source": [
    "cold_war_movies_side2.iloc[0]['Year']"
   ]
  },
  {
   "cell_type": "code",
   "execution_count": 16,
   "metadata": {},
   "outputs": [
    {
     "data": {
      "text/html": [
       "<div>\n",
       "<style scoped>\n",
       "    .dataframe tbody tr th:only-of-type {\n",
       "        vertical-align: middle;\n",
       "    }\n",
       "\n",
       "    .dataframe tbody tr th {\n",
       "        vertical-align: top;\n",
       "    }\n",
       "\n",
       "    .dataframe thead th {\n",
       "        text-align: right;\n",
       "    }\n",
       "</style>\n",
       "<table border=\"1\" class=\"dataframe\">\n",
       "  <thead>\n",
       "    <tr style=\"text-align: right;\">\n",
       "      <th></th>\n",
       "      <th>Movie_ID</th>\n",
       "      <th>IMDb_Index</th>\n",
       "      <th>Title</th>\n",
       "      <th>Original_Title</th>\n",
       "      <th>Release_Date</th>\n",
       "      <th>Year</th>\n",
       "      <th>Genres</th>\n",
       "      <th>Genres_IMDb</th>\n",
       "      <th>Rating</th>\n",
       "      <th>Votes</th>\n",
       "      <th>Revenue</th>\n",
       "      <th>Length</th>\n",
       "      <th>Languages</th>\n",
       "      <th>Countries</th>\n",
       "      <th>summary</th>\n",
       "      <th>event</th>\n",
       "      <th>tokenized_summaries</th>\n",
       "    </tr>\n",
       "  </thead>\n",
       "  <tbody>\n",
       "    <tr>\n",
       "      <th>6</th>\n",
       "      <td>21209475</td>\n",
       "      <td>tt0024915</td>\n",
       "      <td>British Agent</td>\n",
       "      <td>British Agent</td>\n",
       "      <td>1934-09-15</td>\n",
       "      <td>1934</td>\n",
       "      <td>['Romantic drama', 'War film', 'Drama', 'Spy']</td>\n",
       "      <td>['Drama,History,Romance']</td>\n",
       "      <td>6.1</td>\n",
       "      <td>796</td>\n",
       "      <td>NaN</td>\n",
       "      <td>80.0</td>\n",
       "      <td>['English Language']</td>\n",
       "      <td>['United States of America']</td>\n",
       "      <td>In the days leading up to the Russian Revoluti...</td>\n",
       "      <td>Cold War</td>\n",
       "      <td>[In, the, days, leading, up, to, the, Russian,...</td>\n",
       "    </tr>\n",
       "    <tr>\n",
       "      <th>93</th>\n",
       "      <td>189776</td>\n",
       "      <td>tt0114787</td>\n",
       "      <td>Underground</td>\n",
       "      <td>Underground</td>\n",
       "      <td>1995-04-01</td>\n",
       "      <td>1995</td>\n",
       "      <td>['World cinema', 'Drama', 'Comedy', 'War film'...</td>\n",
       "      <td>['Comedy,Drama,Fantasy']</td>\n",
       "      <td>8.0</td>\n",
       "      <td>61979</td>\n",
       "      <td>171082.0</td>\n",
       "      <td>170.0</td>\n",
       "      <td>['French Language', 'SerboCroatian', 'German L...</td>\n",
       "      <td>['Serbia and Montenegro', 'Bulgaria', 'France'...</td>\n",
       "      <td>{{Plot|datePart One: War19411944Part Two: Cold...</td>\n",
       "      <td>Cold War</td>\n",
       "      <td>[{, {, Plot|datePart, One, :, War19411944Part,...</td>\n",
       "    </tr>\n",
       "    <tr>\n",
       "      <th>152</th>\n",
       "      <td>11347793</td>\n",
       "      <td>tt0808417</td>\n",
       "      <td>Persepolis</td>\n",
       "      <td>Persepolis</td>\n",
       "      <td>2007-06-27</td>\n",
       "      <td>2007</td>\n",
       "      <td>['Biography', 'World cinema', 'Film adaptation...</td>\n",
       "      <td>['Animation,Biography,Drama']</td>\n",
       "      <td>8.0</td>\n",
       "      <td>101439</td>\n",
       "      <td>22752488.0</td>\n",
       "      <td>95.0</td>\n",
       "      <td>['French Language', 'Persian Language', 'Germa...</td>\n",
       "      <td>['France', 'United States of America']</td>\n",
       "      <td>{{Copy edit-section}} The film begins at Paris...</td>\n",
       "      <td>Cold War</td>\n",
       "      <td>[{, {, Copy, edit-section, }, }, The, film, be...</td>\n",
       "    </tr>\n",
       "    <tr>\n",
       "      <th>153</th>\n",
       "      <td>1129041</td>\n",
       "      <td>tt0146309</td>\n",
       "      <td>Thirteen Days</td>\n",
       "      <td>Thirteen Days</td>\n",
       "      <td>2000-12-16</td>\n",
       "      <td>2000</td>\n",
       "      <td>['Thriller', 'Historical fiction', 'History', ...</td>\n",
       "      <td>['Drama,History,Thriller']</td>\n",
       "      <td>7.3</td>\n",
       "      <td>63736</td>\n",
       "      <td>66579890.0</td>\n",
       "      <td>145.0</td>\n",
       "      <td>['Russian Language', 'Romanian Language', 'Eng...</td>\n",
       "      <td>['United States of America']</td>\n",
       "      <td>In October 1962, U-2 surveillance photos revea...</td>\n",
       "      <td>Cold War</td>\n",
       "      <td>[In, October, 1962, ,, U-2, surveillance, phot...</td>\n",
       "    </tr>\n",
       "    <tr>\n",
       "      <th>159</th>\n",
       "      <td>1317604</td>\n",
       "      <td>tt0112740</td>\n",
       "      <td>Crimson Tide</td>\n",
       "      <td>Crimson Tide</td>\n",
       "      <td>1995-05-12</td>\n",
       "      <td>1995</td>\n",
       "      <td>['Thriller', 'Action Thrillers', 'ActionAdvent...</td>\n",
       "      <td>['Action,Drama,Thriller']</td>\n",
       "      <td>7.3</td>\n",
       "      <td>126100</td>\n",
       "      <td>157387195.0</td>\n",
       "      <td>123.0</td>\n",
       "      <td>['English Language']</td>\n",
       "      <td>['United States of America']</td>\n",
       "      <td>In post-Soviet Russia, military units loyal to...</td>\n",
       "      <td>Cold War</td>\n",
       "      <td>[In, post-Soviet, Russia, ,, military, units, ...</td>\n",
       "    </tr>\n",
       "  </tbody>\n",
       "</table>\n",
       "</div>"
      ],
      "text/plain": [
       "     Movie_ID IMDb_Index          Title Original_Title Release_Date  Year  \\\n",
       "6    21209475  tt0024915  British Agent  British Agent   1934-09-15  1934   \n",
       "93     189776  tt0114787    Underground    Underground   1995-04-01  1995   \n",
       "152  11347793  tt0808417     Persepolis     Persepolis   2007-06-27  2007   \n",
       "153   1129041  tt0146309  Thirteen Days  Thirteen Days   2000-12-16  2000   \n",
       "159   1317604  tt0112740   Crimson Tide   Crimson Tide   1995-05-12  1995   \n",
       "\n",
       "                                                Genres  \\\n",
       "6       ['Romantic drama', 'War film', 'Drama', 'Spy']   \n",
       "93   ['World cinema', 'Drama', 'Comedy', 'War film'...   \n",
       "152  ['Biography', 'World cinema', 'Film adaptation...   \n",
       "153  ['Thriller', 'Historical fiction', 'History', ...   \n",
       "159  ['Thriller', 'Action Thrillers', 'ActionAdvent...   \n",
       "\n",
       "                       Genres_IMDb  Rating   Votes      Revenue  Length  \\\n",
       "6        ['Drama,History,Romance']     6.1     796          NaN    80.0   \n",
       "93        ['Comedy,Drama,Fantasy']     8.0   61979     171082.0   170.0   \n",
       "152  ['Animation,Biography,Drama']     8.0  101439   22752488.0    95.0   \n",
       "153     ['Drama,History,Thriller']     7.3   63736   66579890.0   145.0   \n",
       "159      ['Action,Drama,Thriller']     7.3  126100  157387195.0   123.0   \n",
       "\n",
       "                                             Languages  \\\n",
       "6                                 ['English Language']   \n",
       "93   ['French Language', 'SerboCroatian', 'German L...   \n",
       "152  ['French Language', 'Persian Language', 'Germa...   \n",
       "153  ['Russian Language', 'Romanian Language', 'Eng...   \n",
       "159                               ['English Language']   \n",
       "\n",
       "                                             Countries  \\\n",
       "6                         ['United States of America']   \n",
       "93   ['Serbia and Montenegro', 'Bulgaria', 'France'...   \n",
       "152             ['France', 'United States of America']   \n",
       "153                       ['United States of America']   \n",
       "159                       ['United States of America']   \n",
       "\n",
       "                                               summary     event  \\\n",
       "6    In the days leading up to the Russian Revoluti...  Cold War   \n",
       "93   {{Plot|datePart One: War19411944Part Two: Cold...  Cold War   \n",
       "152  {{Copy edit-section}} The film begins at Paris...  Cold War   \n",
       "153  In October 1962, U-2 surveillance photos revea...  Cold War   \n",
       "159  In post-Soviet Russia, military units loyal to...  Cold War   \n",
       "\n",
       "                                   tokenized_summaries  \n",
       "6    [In, the, days, leading, up, to, the, Russian,...  \n",
       "93   [{, {, Plot|datePart, One, :, War19411944Part,...  \n",
       "152  [{, {, Copy, edit-section, }, }, The, film, be...  \n",
       "153  [In, October, 1962, ,, U-2, surveillance, phot...  \n",
       "159  [In, post-Soviet, Russia, ,, military, units, ...  "
      ]
     },
     "execution_count": 16,
     "metadata": {},
     "output_type": "execute_result"
    }
   ],
   "source": [
    "wwii_movies_side1_before = wwii_movies_side1[wwii_movies_side1['Year'] <= 1945]\n",
    "wwii_movies_side1_after = wwii_movies_side1[wwii_movies_side1['Year'] > 1945]\n",
    "\n",
    "wwii_movies_side2_before = wwii_movies_side2[wwii_movies_side2['Year'] <= 1945]\n",
    "wwii_movies_side2_after = wwii_movies_side2[wwii_movies_side2['Year'] > 1945]\n",
    "\n",
    "cold_war_movies_side1_before = cold_war_movies_side1[cold_war_movies_side1['Year'] <= 1989]\n",
    "cold_war_movies_side1_after = cold_war_movies_side1[cold_war_movies_side1['Year'] > 1989]\n",
    "\n",
    "cold_war_movies_side2_before = cold_war_movies_side2[cold_war_movies_side2['Year'] <= 1989]\n",
    "cold_war_movies_side2_after = cold_war_movies_side2[cold_war_movies_side2['Year'] > 1989]\n",
    "\n",
    "cold_war_movies_side1.head()\n"
   ]
  },
  {
   "cell_type": "code",
   "execution_count": 17,
   "metadata": {},
   "outputs": [],
   "source": [
    "# Initializing variables necessary for iteration over all of the conflicts\n",
    "wars_iterator = [wwii_movies_side1_before, wwii_movies_side1_after, wwii_movies_side2, cold_war_movies_side1_before, cold_war_movies_side1_after, cold_war_movies_side2_before, cold_war_movies_side2_after]\n",
    "war_names = ['World War II Allied Side Before','World War II Allied Side After', \"World War II Axis Side\", 'Cold War Western Side Before', 'Cold War Western Side After', 'Cold War Sovietic Side Before', 'Cold War Sovietic Side After']# \"Cold War\", \"Korean war\", \"Vietnan war\"]\n",
    "side_iterator = [wwii_bell_side1, wwii_bell_side1, wwii_bell_side2, cold_bell_side1, cold_bell_side1, cold_bell_side2, cold_bell_side2]\n",
    "# Initializing stop words and Lemmatizer for data processing\n",
    "stop_words = set(stopwords.words('english'))\n",
    "lemmatizer = WordNetLemmatizer()"
   ]
  },
  {
   "cell_type": "code",
   "execution_count": 18,
   "metadata": {},
   "outputs": [],
   "source": [
    "# Extracting the NER tags from each  summary\n",
    "\n",
    "full_NER_TAGS = [[], [], [], [], [], [], []] \n",
    "for i, test_sample in enumerate(wars_iterator):\n",
    "    # Preprocess the text,tokenize, clean and remove stopwords\n",
    "    tokens_summ = test_sample['tokenized_summaries'].to_list()\n",
    "    NER_tags = []\n",
    "    for summary in tokens_summ:\n",
    "        filtered_token = [word for word in summary if word not in stop_words]\n",
    "        lemmatized_tokens = ([lemmatizer.lemmatize(token) for token in filtered_token])\n",
    "        pos_tags = nltk.pos_tag(lemmatized_tokens)\n",
    "        # Perform NER chunking to identify named entities\n",
    "        ner_tags = ne_chunk(pos_tags)\n",
    "        NER_tags.append(ner_tags)\n",
    "\n",
    "    full_NER_TAGS[i] = NER_tags"
   ]
  },
  {
   "cell_type": "code",
   "execution_count": 19,
   "metadata": {},
   "outputs": [
    {
     "data": {
      "image/svg+xml": [
       "<svg baseProfile=\"full\" height=\"168px\" preserveAspectRatio=\"xMidYMid meet\" style=\"font-family: times, serif; font-weight: normal; font-style: normal; font-size: 16px\" version=\"1.1\" viewBox=\"0,0,3848.0,168.0\" width=\"3848px\" xmlns=\"http://www.w3.org/2000/svg\" xmlns:ev=\"http://www.w3.org/2001/xml-events\" xmlns:xlink=\"http://www.w3.org/1999/xlink\"><defs /><svg width=\"100%\" x=\"0\" y=\"0px\"><defs /><text text-anchor=\"middle\" x=\"50%\" y=\"16px\">S</text></svg><svg width=\"0.623701%\" x=\"0%\" y=\"48px\"><defs /><svg width=\"100%\" x=\"0\" y=\"0px\"><defs /><text text-anchor=\"middle\" x=\"50%\" y=\"16px\">{</text></svg><svg width=\"100%\" x=\"0%\" y=\"48px\"><defs /><svg width=\"100%\" x=\"0\" y=\"0px\"><defs /><text text-anchor=\"middle\" x=\"50%\" y=\"16px\">(</text></svg></svg><line stroke=\"black\" x1=\"50%\" x2=\"50%\" y1=\"20px\" y2=\"48px\" /></svg><line stroke=\"black\" x1=\"50%\" x2=\"0.31185%\" y1=\"20px\" y2=\"48px\" /><svg width=\"0.623701%\" x=\"0.623701%\" y=\"48px\"><defs /><svg width=\"100%\" x=\"0\" y=\"0px\"><defs /><text text-anchor=\"middle\" x=\"50%\" y=\"16px\">{</text></svg><svg width=\"100%\" x=\"0%\" y=\"48px\"><defs /><svg width=\"100%\" x=\"0\" y=\"0px\"><defs /><text text-anchor=\"middle\" x=\"50%\" y=\"16px\">(</text></svg></svg><line stroke=\"black\" x1=\"50%\" x2=\"50%\" y1=\"20px\" y2=\"48px\" /></svg><line stroke=\"black\" x1=\"50%\" x2=\"0.935551%\" y1=\"20px\" y2=\"48px\" /><svg width=\"3.1185%\" x=\"1.2474%\" y=\"48px\"><defs /><svg width=\"100%\" x=\"0\" y=\"0px\"><defs /><text text-anchor=\"middle\" x=\"50%\" y=\"16px\">Plot|datePart</text></svg><svg width=\"100%\" x=\"0%\" y=\"48px\"><defs /><svg width=\"100%\" x=\"0\" y=\"0px\"><defs /><text text-anchor=\"middle\" x=\"50%\" y=\"16px\">VB</text></svg></svg><line stroke=\"black\" x1=\"50%\" x2=\"50%\" y1=\"20px\" y2=\"48px\" /></svg><line stroke=\"black\" x1=\"50%\" x2=\"2.80665%\" y1=\"20px\" y2=\"48px\" /><svg width=\"1.0395%\" x=\"4.3659%\" y=\"48px\"><defs /><svg width=\"100%\" x=\"0\" y=\"0px\"><defs /><text text-anchor=\"middle\" x=\"50%\" y=\"16px\">One</text></svg><svg width=\"100%\" x=\"0%\" y=\"48px\"><defs /><svg width=\"100%\" x=\"0\" y=\"0px\"><defs /><text text-anchor=\"middle\" x=\"50%\" y=\"16px\">CD</text></svg></svg><line stroke=\"black\" x1=\"50%\" x2=\"50%\" y1=\"20px\" y2=\"48px\" /></svg><line stroke=\"black\" x1=\"50%\" x2=\"4.88565%\" y1=\"20px\" y2=\"48px\" /><svg width=\"0.623701%\" x=\"5.40541%\" y=\"48px\"><defs /><svg width=\"100%\" x=\"0\" y=\"0px\"><defs /><text text-anchor=\"middle\" x=\"50%\" y=\"16px\">:</text></svg><svg width=\"100%\" x=\"0%\" y=\"48px\"><defs /><svg width=\"100%\" x=\"0\" y=\"0px\"><defs /><text text-anchor=\"middle\" x=\"50%\" y=\"16px\">:</text></svg></svg><line stroke=\"black\" x1=\"50%\" x2=\"50%\" y1=\"20px\" y2=\"48px\" /></svg><line stroke=\"black\" x1=\"50%\" x2=\"5.71726%\" y1=\"20px\" y2=\"48px\" /><svg width=\"3.5343%\" x=\"6.02911%\" y=\"48px\"><defs /><svg width=\"100%\" x=\"0\" y=\"0px\"><defs /><text text-anchor=\"middle\" x=\"50%\" y=\"16px\">War19411944Part</text></svg><svg width=\"100%\" x=\"0%\" y=\"48px\"><defs /><svg width=\"100%\" x=\"0\" y=\"0px\"><defs /><text text-anchor=\"middle\" x=\"50%\" y=\"16px\">JJ</text></svg></svg><line stroke=\"black\" x1=\"50%\" x2=\"50%\" y1=\"20px\" y2=\"48px\" /></svg><line stroke=\"black\" x1=\"50%\" x2=\"7.79626%\" y1=\"20px\" y2=\"48px\" /><svg width=\"1.0395%\" x=\"9.56341%\" y=\"48px\"><defs /><svg width=\"100%\" x=\"0\" y=\"0px\"><defs /><text text-anchor=\"middle\" x=\"50%\" y=\"16px\">Two</text></svg><svg width=\"100%\" x=\"0%\" y=\"48px\"><defs /><svg width=\"100%\" x=\"0\" y=\"0px\"><defs /><text text-anchor=\"middle\" x=\"50%\" y=\"16px\">CD</text></svg></svg><line stroke=\"black\" x1=\"50%\" x2=\"50%\" y1=\"20px\" y2=\"48px\" /></svg><line stroke=\"black\" x1=\"50%\" x2=\"10.0832%\" y1=\"20px\" y2=\"48px\" /><svg width=\"0.623701%\" x=\"10.6029%\" y=\"48px\"><defs /><svg width=\"100%\" x=\"0\" y=\"0px\"><defs /><text text-anchor=\"middle\" x=\"50%\" y=\"16px\">:</text></svg><svg width=\"100%\" x=\"0%\" y=\"48px\"><defs /><svg width=\"100%\" x=\"0\" y=\"0px\"><defs /><text text-anchor=\"middle\" x=\"50%\" y=\"16px\">:</text></svg></svg><line stroke=\"black\" x1=\"50%\" x2=\"50%\" y1=\"20px\" y2=\"48px\" /></svg><line stroke=\"black\" x1=\"50%\" x2=\"10.9148%\" y1=\"20px\" y2=\"48px\" /><svg width=\"1.2474%\" x=\"11.2266%\" y=\"48px\"><defs /><svg width=\"100%\" x=\"0\" y=\"0px\"><defs /><text text-anchor=\"middle\" x=\"50%\" y=\"16px\">Cold</text></svg><svg width=\"100%\" x=\"0%\" y=\"48px\"><defs /><svg width=\"100%\" x=\"0\" y=\"0px\"><defs /><text text-anchor=\"middle\" x=\"50%\" y=\"16px\">JJ</text></svg></svg><line stroke=\"black\" x1=\"50%\" x2=\"50%\" y1=\"20px\" y2=\"48px\" /></svg><line stroke=\"black\" x1=\"50%\" x2=\"11.8503%\" y1=\"20px\" y2=\"48px\" /><svg width=\"3.1185%\" x=\"12.474%\" y=\"48px\"><defs /><svg width=\"100%\" x=\"0\" y=\"0px\"><defs /><text text-anchor=\"middle\" x=\"50%\" y=\"16px\">PERSON</text></svg><svg width=\"60%\" x=\"0%\" y=\"48px\"><defs /><svg width=\"100%\" x=\"0\" y=\"0px\"><defs /><text text-anchor=\"middle\" x=\"50%\" y=\"16px\">War1961</text></svg><svg width=\"100%\" x=\"0%\" y=\"48px\"><defs /><svg width=\"100%\" x=\"0\" y=\"0px\"><defs /><text text-anchor=\"middle\" x=\"50%\" y=\"16px\">NNP</text></svg></svg><line stroke=\"black\" x1=\"50%\" x2=\"50%\" y1=\"20px\" y2=\"48px\" /></svg><line stroke=\"black\" x1=\"50%\" x2=\"30%\" y1=\"20px\" y2=\"48px\" /><svg width=\"40%\" x=\"60%\" y=\"48px\"><defs /><svg width=\"100%\" x=\"0\" y=\"0px\"><defs /><text text-anchor=\"middle\" x=\"50%\" y=\"16px\">Part</text></svg><svg width=\"100%\" x=\"0%\" y=\"48px\"><defs /><svg width=\"100%\" x=\"0\" y=\"0px\"><defs /><text text-anchor=\"middle\" x=\"50%\" y=\"16px\">NNP</text></svg></svg><line stroke=\"black\" x1=\"50%\" x2=\"50%\" y1=\"20px\" y2=\"48px\" /></svg><line stroke=\"black\" x1=\"50%\" x2=\"80%\" y1=\"20px\" y2=\"48px\" /></svg><line stroke=\"black\" x1=\"50%\" x2=\"14.0333%\" y1=\"20px\" y2=\"48px\" /><svg width=\"1.4553%\" x=\"15.5925%\" y=\"48px\"><defs /><svg width=\"100%\" x=\"0\" y=\"0px\"><defs /><text text-anchor=\"middle\" x=\"50%\" y=\"16px\">Three</text></svg><svg width=\"100%\" x=\"0%\" y=\"48px\"><defs /><svg width=\"100%\" x=\"0\" y=\"0px\"><defs /><text text-anchor=\"middle\" x=\"50%\" y=\"16px\">NNP</text></svg></svg><line stroke=\"black\" x1=\"50%\" x2=\"50%\" y1=\"20px\" y2=\"48px\" /></svg><line stroke=\"black\" x1=\"50%\" x2=\"16.3202%\" y1=\"20px\" y2=\"48px\" /><svg width=\"0.623701%\" x=\"17.0478%\" y=\"48px\"><defs /><svg width=\"100%\" x=\"0\" y=\"0px\"><defs /><text text-anchor=\"middle\" x=\"50%\" y=\"16px\">:</text></svg><svg width=\"100%\" x=\"0%\" y=\"48px\"><defs /><svg width=\"100%\" x=\"0\" y=\"0px\"><defs /><text text-anchor=\"middle\" x=\"50%\" y=\"16px\">:</text></svg></svg><line stroke=\"black\" x1=\"50%\" x2=\"50%\" y1=\"20px\" y2=\"48px\" /></svg><line stroke=\"black\" x1=\"50%\" x2=\"17.3597%\" y1=\"20px\" y2=\"48px\" /><svg width=\"1.0395%\" x=\"17.6715%\" y=\"48px\"><defs /><svg width=\"100%\" x=\"0\" y=\"0px\"><defs /><text text-anchor=\"middle\" x=\"50%\" y=\"16px\">War</text></svg><svg width=\"100%\" x=\"0%\" y=\"48px\"><defs /><svg width=\"100%\" x=\"0\" y=\"0px\"><defs /><text text-anchor=\"middle\" x=\"50%\" y=\"16px\">JJ</text></svg></svg><line stroke=\"black\" x1=\"50%\" x2=\"50%\" y1=\"20px\" y2=\"48px\" /></svg><line stroke=\"black\" x1=\"50%\" x2=\"18.1913%\" y1=\"20px\" y2=\"48px\" /><svg width=\"1.2474%\" x=\"18.711%\" y=\"48px\"><defs /><svg width=\"100%\" x=\"0\" y=\"0px\"><defs /><text text-anchor=\"middle\" x=\"50%\" y=\"16px\">1992</text></svg><svg width=\"100%\" x=\"0%\" y=\"48px\"><defs /><svg width=\"100%\" x=\"0\" y=\"0px\"><defs /><text text-anchor=\"middle\" x=\"50%\" y=\"16px\">CD</text></svg></svg><line stroke=\"black\" x1=\"50%\" x2=\"50%\" y1=\"20px\" y2=\"48px\" /></svg><line stroke=\"black\" x1=\"50%\" x2=\"19.3347%\" y1=\"20px\" y2=\"48px\" /><svg width=\"1.0395%\" x=\"19.9584%\" y=\"48px\"><defs /><svg width=\"100%\" x=\"0\" y=\"0px\"><defs /><text text-anchor=\"middle\" x=\"50%\" y=\"16px\">The</text></svg><svg width=\"100%\" x=\"0%\" y=\"48px\"><defs /><svg width=\"100%\" x=\"0\" y=\"0px\"><defs /><text text-anchor=\"middle\" x=\"50%\" y=\"16px\">DT</text></svg></svg><line stroke=\"black\" x1=\"50%\" x2=\"50%\" y1=\"20px\" y2=\"48px\" /></svg><line stroke=\"black\" x1=\"50%\" x2=\"20.4782%\" y1=\"20px\" y2=\"48px\" /><svg width=\"1.4553%\" x=\"20.9979%\" y=\"48px\"><defs /><svg width=\"100%\" x=\"0\" y=\"0px\"><defs /><text text-anchor=\"middle\" x=\"50%\" y=\"16px\">final</text></svg><svg width=\"100%\" x=\"0%\" y=\"48px\"><defs /><svg width=\"100%\" x=\"0\" y=\"0px\"><defs /><text text-anchor=\"middle\" x=\"50%\" y=\"16px\">JJ</text></svg></svg><line stroke=\"black\" x1=\"50%\" x2=\"50%\" y1=\"20px\" y2=\"48px\" /></svg><line stroke=\"black\" x1=\"50%\" x2=\"21.7256%\" y1=\"20px\" y2=\"48px\" /><svg width=\"1.8711%\" x=\"22.4532%\" y=\"48px\"><defs /><svg width=\"100%\" x=\"0\" y=\"0px\"><defs /><text text-anchor=\"middle\" x=\"50%\" y=\"16px\">section</text></svg><svg width=\"100%\" x=\"0%\" y=\"48px\"><defs /><svg width=\"100%\" x=\"0\" y=\"0px\"><defs /><text text-anchor=\"middle\" x=\"50%\" y=\"16px\">NN</text></svg></svg><line stroke=\"black\" x1=\"50%\" x2=\"50%\" y1=\"20px\" y2=\"48px\" /></svg><line stroke=\"black\" x1=\"50%\" x2=\"23.3888%\" y1=\"20px\" y2=\"48px\" /><svg width=\"0.623701%\" x=\"24.3243%\" y=\"48px\"><defs /><svg width=\"100%\" x=\"0\" y=\"0px\"><defs /><text text-anchor=\"middle\" x=\"50%\" y=\"16px\">,</text></svg><svg width=\"100%\" x=\"0%\" y=\"48px\"><defs /><svg width=\"100%\" x=\"0\" y=\"0px\"><defs /><text text-anchor=\"middle\" x=\"50%\" y=\"16px\">,</text></svg></svg><line stroke=\"black\" x1=\"50%\" x2=\"50%\" y1=\"20px\" y2=\"48px\" /></svg><line stroke=\"black\" x1=\"50%\" x2=\"24.6362%\" y1=\"20px\" y2=\"48px\" /><svg width=\"1.0395%\" x=\"24.948%\" y=\"48px\"><defs /><svg width=\"100%\" x=\"0\" y=\"0px\"><defs /><text text-anchor=\"middle\" x=\"50%\" y=\"16px\">set</text></svg><svg width=\"100%\" x=\"0%\" y=\"48px\"><defs /><svg width=\"100%\" x=\"0\" y=\"0px\"><defs /><text text-anchor=\"middle\" x=\"50%\" y=\"16px\">VB</text></svg></svg><line stroke=\"black\" x1=\"50%\" x2=\"50%\" y1=\"20px\" y2=\"48px\" /></svg><line stroke=\"black\" x1=\"50%\" x2=\"25.4678%\" y1=\"20px\" y2=\"48px\" /><svg width=\"1.2474%\" x=\"25.9875%\" y=\"48px\"><defs /><svg width=\"100%\" x=\"0\" y=\"0px\"><defs /><text text-anchor=\"middle\" x=\"50%\" y=\"16px\">1992</text></svg><svg width=\"100%\" x=\"0%\" y=\"48px\"><defs /><svg width=\"100%\" x=\"0\" y=\"0px\"><defs /><text text-anchor=\"middle\" x=\"50%\" y=\"16px\">CD</text></svg></svg><line stroke=\"black\" x1=\"50%\" x2=\"50%\" y1=\"20px\" y2=\"48px\" /></svg><line stroke=\"black\" x1=\"50%\" x2=\"26.6112%\" y1=\"20px\" y2=\"48px\" /><svg width=\"1.6632%\" x=\"27.2349%\" y=\"48px\"><defs /><svg width=\"100%\" x=\"0\" y=\"0px\"><defs /><text text-anchor=\"middle\" x=\"50%\" y=\"16px\">height</text></svg><svg width=\"100%\" x=\"0%\" y=\"48px\"><defs /><svg width=\"100%\" x=\"0\" y=\"0px\"><defs /><text text-anchor=\"middle\" x=\"50%\" y=\"16px\">JJ</text></svg></svg><line stroke=\"black\" x1=\"50%\" x2=\"50%\" y1=\"20px\" y2=\"48px\" /></svg><line stroke=\"black\" x1=\"50%\" x2=\"28.0665%\" y1=\"20px\" y2=\"48px\" /><svg width=\"2.079%\" x=\"28.8981%\" y=\"48px\"><defs /><svg width=\"100%\" x=\"0\" y=\"0px\"><defs /><text text-anchor=\"middle\" x=\"50%\" y=\"16px\">GPE</text></svg><svg width=\"100%\" x=\"0%\" y=\"48px\"><defs /><svg width=\"100%\" x=\"0\" y=\"0px\"><defs /><text text-anchor=\"middle\" x=\"50%\" y=\"16px\">Yugoslav</text></svg><svg width=\"100%\" x=\"0%\" y=\"48px\"><defs /><svg width=\"100%\" x=\"0\" y=\"0px\"><defs /><text text-anchor=\"middle\" x=\"50%\" y=\"16px\">NNP</text></svg></svg><line stroke=\"black\" x1=\"50%\" x2=\"50%\" y1=\"20px\" y2=\"48px\" /></svg><line stroke=\"black\" x1=\"50%\" x2=\"50%\" y1=\"20px\" y2=\"48px\" /></svg><line stroke=\"black\" x1=\"50%\" x2=\"29.9376%\" y1=\"20px\" y2=\"48px\" /><svg width=\"1.0395%\" x=\"30.9771%\" y=\"48px\"><defs /><svg width=\"100%\" x=\"0\" y=\"0px\"><defs /><text text-anchor=\"middle\" x=\"50%\" y=\"16px\">war</text></svg><svg width=\"100%\" x=\"0%\" y=\"48px\"><defs /><svg width=\"100%\" x=\"0\" y=\"0px\"><defs /><text text-anchor=\"middle\" x=\"50%\" y=\"16px\">NN</text></svg></svg><line stroke=\"black\" x1=\"50%\" x2=\"50%\" y1=\"20px\" y2=\"48px\" /></svg><line stroke=\"black\" x1=\"50%\" x2=\"31.4969%\" y1=\"20px\" y2=\"48px\" /><svg width=\"0.623701%\" x=\"32.0166%\" y=\"48px\"><defs /><svg width=\"100%\" x=\"0\" y=\"0px\"><defs /><text text-anchor=\"middle\" x=\"50%\" y=\"16px\">,</text></svg><svg width=\"100%\" x=\"0%\" y=\"48px\"><defs /><svg width=\"100%\" x=\"0\" y=\"0px\"><defs /><text text-anchor=\"middle\" x=\"50%\" y=\"16px\">,</text></svg></svg><line stroke=\"black\" x1=\"50%\" x2=\"50%\" y1=\"20px\" y2=\"48px\" /></svg><line stroke=\"black\" x1=\"50%\" x2=\"32.3285%\" y1=\"20px\" y2=\"48px\" /><svg width=\"1.0395%\" x=\"32.6403%\" y=\"48px\"><defs /><svg width=\"100%\" x=\"0\" y=\"0px\"><defs /><text text-anchor=\"middle\" x=\"50%\" y=\"16px\">see</text></svg><svg width=\"100%\" x=\"0%\" y=\"48px\"><defs /><svg width=\"100%\" x=\"0\" y=\"0px\"><defs /><text text-anchor=\"middle\" x=\"50%\" y=\"16px\">VBP</text></svg></svg><line stroke=\"black\" x1=\"50%\" x2=\"50%\" y1=\"20px\" y2=\"48px\" /></svg><line stroke=\"black\" x1=\"50%\" x2=\"33.1601%\" y1=\"20px\" y2=\"48px\" /><svg width=\"1.6632%\" x=\"33.6798%\" y=\"48px\"><defs /><svg width=\"100%\" x=\"0\" y=\"0px\"><defs /><text text-anchor=\"middle\" x=\"50%\" y=\"16px\">PERSON</text></svg><svg width=\"100%\" x=\"0%\" y=\"48px\"><defs /><svg width=\"100%\" x=\"0\" y=\"0px\"><defs /><text text-anchor=\"middle\" x=\"50%\" y=\"16px\">Blacky</text></svg><svg width=\"100%\" x=\"0%\" y=\"48px\"><defs /><svg width=\"100%\" x=\"0\" y=\"0px\"><defs /><text text-anchor=\"middle\" x=\"50%\" y=\"16px\">NNP</text></svg></svg><line stroke=\"black\" x1=\"50%\" x2=\"50%\" y1=\"20px\" y2=\"48px\" /></svg><line stroke=\"black\" x1=\"50%\" x2=\"50%\" y1=\"20px\" y2=\"48px\" /></svg><line stroke=\"black\" x1=\"50%\" x2=\"34.5114%\" y1=\"20px\" y2=\"48px\" /><svg width=\"2.4948%\" x=\"35.343%\" y=\"48px\"><defs /><svg width=\"100%\" x=\"0\" y=\"0px\"><defs /><text text-anchor=\"middle\" x=\"50%\" y=\"16px\">embittered</text></svg><svg width=\"100%\" x=\"0%\" y=\"48px\"><defs /><svg width=\"100%\" x=\"0\" y=\"0px\"><defs /><text text-anchor=\"middle\" x=\"50%\" y=\"16px\">VBD</text></svg></svg><line stroke=\"black\" x1=\"50%\" x2=\"50%\" y1=\"20px\" y2=\"48px\" /></svg><line stroke=\"black\" x1=\"50%\" x2=\"36.5904%\" y1=\"20px\" y2=\"48px\" /><svg width=\"1.0395%\" x=\"37.8378%\" y=\"48px\"><defs /><svg width=\"100%\" x=\"0\" y=\"0px\"><defs /><text text-anchor=\"middle\" x=\"50%\" y=\"16px\">yet</text></svg><svg width=\"100%\" x=\"0%\" y=\"48px\"><defs /><svg width=\"100%\" x=\"0\" y=\"0px\"><defs /><text text-anchor=\"middle\" x=\"50%\" y=\"16px\">RB</text></svg></svg><line stroke=\"black\" x1=\"50%\" x2=\"50%\" y1=\"20px\" y2=\"48px\" /></svg><line stroke=\"black\" x1=\"50%\" x2=\"38.3576%\" y1=\"20px\" y2=\"48px\" /><svg width=\"1.4553%\" x=\"38.8773%\" y=\"48px\"><defs /><svg width=\"100%\" x=\"0\" y=\"0px\"><defs /><text text-anchor=\"middle\" x=\"50%\" y=\"16px\">still</text></svg><svg width=\"100%\" x=\"0%\" y=\"48px\"><defs /><svg width=\"100%\" x=\"0\" y=\"0px\"><defs /><text text-anchor=\"middle\" x=\"50%\" y=\"16px\">RB</text></svg></svg><line stroke=\"black\" x1=\"50%\" x2=\"50%\" y1=\"20px\" y2=\"48px\" /></svg><line stroke=\"black\" x1=\"50%\" x2=\"39.605%\" y1=\"20px\" y2=\"48px\" /><svg width=\"2.2869%\" x=\"40.3326%\" y=\"48px\"><defs /><svg width=\"100%\" x=\"0\" y=\"0px\"><defs /><text text-anchor=\"middle\" x=\"50%\" y=\"16px\">patriotic</text></svg><svg width=\"100%\" x=\"0%\" y=\"48px\"><defs /><svg width=\"100%\" x=\"0\" y=\"0px\"><defs /><text text-anchor=\"middle\" x=\"50%\" y=\"16px\">JJ</text></svg></svg><line stroke=\"black\" x1=\"50%\" x2=\"50%\" y1=\"20px\" y2=\"48px\" /></svg><line stroke=\"black\" x1=\"50%\" x2=\"41.4761%\" y1=\"20px\" y2=\"48px\" /><svg width=\"1.8711%\" x=\"42.6195%\" y=\"48px\"><defs /><svg width=\"100%\" x=\"0\" y=\"0px\"><defs /><text text-anchor=\"middle\" x=\"50%\" y=\"16px\">warlord</text></svg><svg width=\"100%\" x=\"0%\" y=\"48px\"><defs /><svg width=\"100%\" x=\"0\" y=\"0px\"><defs /><text text-anchor=\"middle\" x=\"50%\" y=\"16px\">NN</text></svg></svg><line stroke=\"black\" x1=\"50%\" x2=\"50%\" y1=\"20px\" y2=\"48px\" /></svg><line stroke=\"black\" x1=\"50%\" x2=\"43.5551%\" y1=\"20px\" y2=\"48px\" /><svg width=\"0.623701%\" x=\"44.4906%\" y=\"48px\"><defs /><svg width=\"100%\" x=\"0\" y=\"0px\"><defs /><text text-anchor=\"middle\" x=\"50%\" y=\"16px\">;</text></svg><svg width=\"100%\" x=\"0%\" y=\"48px\"><defs /><svg width=\"100%\" x=\"0\" y=\"0px\"><defs /><text text-anchor=\"middle\" x=\"50%\" y=\"16px\">:</text></svg></svg><line stroke=\"black\" x1=\"50%\" x2=\"50%\" y1=\"20px\" y2=\"48px\" /></svg><line stroke=\"black\" x1=\"50%\" x2=\"44.8025%\" y1=\"20px\" y2=\"48px\" /><svg width=\"3.1185%\" x=\"45.1143%\" y=\"48px\"><defs /><svg width=\"100%\" x=\"0\" y=\"0px\"><defs /><text text-anchor=\"middle\" x=\"50%\" y=\"16px\">inadvertently</text></svg><svg width=\"100%\" x=\"0%\" y=\"48px\"><defs /><svg width=\"100%\" x=\"0\" y=\"0px\"><defs /><text text-anchor=\"middle\" x=\"50%\" y=\"16px\">RB</text></svg></svg><line stroke=\"black\" x1=\"50%\" x2=\"50%\" y1=\"20px\" y2=\"48px\" /></svg><line stroke=\"black\" x1=\"50%\" x2=\"46.6736%\" y1=\"20px\" y2=\"48px\" /><svg width=\"1.4553%\" x=\"48.2328%\" y=\"48px\"><defs /><svg width=\"100%\" x=\"0\" y=\"0px\"><defs /><text text-anchor=\"middle\" x=\"50%\" y=\"16px\">order</text></svg><svg width=\"100%\" x=\"0%\" y=\"48px\"><defs /><svg width=\"100%\" x=\"0\" y=\"0px\"><defs /><text text-anchor=\"middle\" x=\"50%\" y=\"16px\">NN</text></svg></svg><line stroke=\"black\" x1=\"50%\" x2=\"50%\" y1=\"20px\" y2=\"48px\" /></svg><line stroke=\"black\" x1=\"50%\" x2=\"48.9605%\" y1=\"20px\" y2=\"48px\" /><svg width=\"2.2869%\" x=\"49.6881%\" y=\"48px\"><defs /><svg width=\"100%\" x=\"0\" y=\"0px\"><defs /><text text-anchor=\"middle\" x=\"50%\" y=\"16px\">execution</text></svg><svg width=\"100%\" x=\"0%\" y=\"48px\"><defs /><svg width=\"100%\" x=\"0\" y=\"0px\"><defs /><text text-anchor=\"middle\" x=\"50%\" y=\"16px\">NN</text></svg></svg><line stroke=\"black\" x1=\"50%\" x2=\"50%\" y1=\"20px\" y2=\"48px\" /></svg><line stroke=\"black\" x1=\"50%\" x2=\"50.8316%\" y1=\"20px\" y2=\"48px\" /><svg width=\"3.5343%\" x=\"51.9751%\" y=\"48px\"><defs /><svg width=\"100%\" x=\"0\" y=\"0px\"><defs /><text text-anchor=\"middle\" x=\"50%\" y=\"16px\">PERSON</text></svg><svg width=\"41.1765%\" x=\"0%\" y=\"48px\"><defs /><svg width=\"100%\" x=\"0\" y=\"0px\"><defs /><text text-anchor=\"middle\" x=\"50%\" y=\"16px\">Marko</text></svg><svg width=\"100%\" x=\"0%\" y=\"48px\"><defs /><svg width=\"100%\" x=\"0\" y=\"0px\"><defs /><text text-anchor=\"middle\" x=\"50%\" y=\"16px\">NNP</text></svg></svg><line stroke=\"black\" x1=\"50%\" x2=\"50%\" y1=\"20px\" y2=\"48px\" /></svg><line stroke=\"black\" x1=\"50%\" x2=\"20.5882%\" y1=\"20px\" y2=\"48px\" /><svg width=\"58.8235%\" x=\"41.1765%\" y=\"48px\"><defs /><svg width=\"100%\" x=\"0\" y=\"0px\"><defs /><text text-anchor=\"middle\" x=\"50%\" y=\"16px\">Natalija</text></svg><svg width=\"100%\" x=\"0%\" y=\"48px\"><defs /><svg width=\"100%\" x=\"0\" y=\"0px\"><defs /><text text-anchor=\"middle\" x=\"50%\" y=\"16px\">NNP</text></svg></svg><line stroke=\"black\" x1=\"50%\" x2=\"50%\" y1=\"20px\" y2=\"48px\" /></svg><line stroke=\"black\" x1=\"50%\" x2=\"70.5882%\" y1=\"20px\" y2=\"48px\" /></svg><line stroke=\"black\" x1=\"50%\" x2=\"53.7422%\" y1=\"20px\" y2=\"48px\" /><svg width=\"1.4553%\" x=\"55.5094%\" y=\"48px\"><defs /><svg width=\"100%\" x=\"0\" y=\"0px\"><defs /><text text-anchor=\"middle\" x=\"50%\" y=\"16px\">still</text></svg><svg width=\"100%\" x=\"0%\" y=\"48px\"><defs /><svg width=\"100%\" x=\"0\" y=\"0px\"><defs /><text text-anchor=\"middle\" x=\"50%\" y=\"16px\">RB</text></svg></svg><line stroke=\"black\" x1=\"50%\" x2=\"50%\" y1=\"20px\" y2=\"48px\" /></svg><line stroke=\"black\" x1=\"50%\" x2=\"56.237%\" y1=\"20px\" y2=\"48px\" /><svg width=\"1.6632%\" x=\"56.9647%\" y=\"48px\"><defs /><svg width=\"100%\" x=\"0\" y=\"0px\"><defs /><text text-anchor=\"middle\" x=\"50%\" y=\"16px\">making</text></svg><svg width=\"100%\" x=\"0%\" y=\"48px\"><defs /><svg width=\"100%\" x=\"0\" y=\"0px\"><defs /><text text-anchor=\"middle\" x=\"50%\" y=\"16px\">VBG</text></svg></svg><line stroke=\"black\" x1=\"50%\" x2=\"50%\" y1=\"20px\" y2=\"48px\" /></svg><line stroke=\"black\" x1=\"50%\" x2=\"57.7963%\" y1=\"20px\" y2=\"48px\" /><svg width=\"1.6632%\" x=\"58.6279%\" y=\"48px\"><defs /><svg width=\"100%\" x=\"0\" y=\"0px\"><defs /><text text-anchor=\"middle\" x=\"50%\" y=\"16px\">living</text></svg><svg width=\"100%\" x=\"0%\" y=\"48px\"><defs /><svg width=\"100%\" x=\"0\" y=\"0px\"><defs /><text text-anchor=\"middle\" x=\"50%\" y=\"16px\">VBG</text></svg></svg><line stroke=\"black\" x1=\"50%\" x2=\"50%\" y1=\"20px\" y2=\"48px\" /></svg><line stroke=\"black\" x1=\"50%\" x2=\"59.4595%\" y1=\"20px\" y2=\"48px\" /><svg width=\"1.0395%\" x=\"60.2911%\" y=\"48px\"><defs /><svg width=\"100%\" x=\"0\" y=\"0px\"><defs /><text text-anchor=\"middle\" x=\"50%\" y=\"16px\">war</text></svg><svg width=\"100%\" x=\"0%\" y=\"48px\"><defs /><svg width=\"100%\" x=\"0\" y=\"0px\"><defs /><text text-anchor=\"middle\" x=\"50%\" y=\"16px\">NN</text></svg></svg><line stroke=\"black\" x1=\"50%\" x2=\"50%\" y1=\"20px\" y2=\"48px\" /></svg><line stroke=\"black\" x1=\"50%\" x2=\"60.8108%\" y1=\"20px\" y2=\"48px\" /><svg width=\"2.2869%\" x=\"61.3306%\" y=\"48px\"><defs /><svg width=\"100%\" x=\"0\" y=\"0px\"><defs /><text text-anchor=\"middle\" x=\"50%\" y=\"16px\">profiteer</text></svg><svg width=\"100%\" x=\"0%\" y=\"48px\"><defs /><svg width=\"100%\" x=\"0\" y=\"0px\"><defs /><text text-anchor=\"middle\" x=\"50%\" y=\"16px\">NN</text></svg></svg><line stroke=\"black\" x1=\"50%\" x2=\"50%\" y1=\"20px\" y2=\"48px\" /></svg><line stroke=\"black\" x1=\"50%\" x2=\"62.474%\" y1=\"20px\" y2=\"48px\" /><svg width=\"0.623701%\" x=\"63.6175%\" y=\"48px\"><defs /><svg width=\"100%\" x=\"0\" y=\"0px\"><defs /><text text-anchor=\"middle\" x=\"50%\" y=\"16px\">,</text></svg><svg width=\"100%\" x=\"0%\" y=\"48px\"><defs /><svg width=\"100%\" x=\"0\" y=\"0px\"><defs /><text text-anchor=\"middle\" x=\"50%\" y=\"16px\">,</text></svg></svg><line stroke=\"black\" x1=\"50%\" x2=\"50%\" y1=\"20px\" y2=\"48px\" /></svg><line stroke=\"black\" x1=\"50%\" x2=\"63.9293%\" y1=\"20px\" y2=\"48px\" /><svg width=\"1.8711%\" x=\"64.2412%\" y=\"48px\"><defs /><svg width=\"100%\" x=\"0\" y=\"0px\"><defs /><text text-anchor=\"middle\" x=\"50%\" y=\"16px\">running</text></svg><svg width=\"100%\" x=\"0%\" y=\"48px\"><defs /><svg width=\"100%\" x=\"0\" y=\"0px\"><defs /><text text-anchor=\"middle\" x=\"50%\" y=\"16px\">VBG</text></svg></svg><line stroke=\"black\" x1=\"50%\" x2=\"50%\" y1=\"20px\" y2=\"48px\" /></svg><line stroke=\"black\" x1=\"50%\" x2=\"65.1767%\" y1=\"20px\" y2=\"48px\" /><svg width=\"1.0395%\" x=\"66.1123%\" y=\"48px\"><defs /><svg width=\"100%\" x=\"0\" y=\"0px\"><defs /><text text-anchor=\"middle\" x=\"50%\" y=\"16px\">gun</text></svg><svg width=\"100%\" x=\"0%\" y=\"48px\"><defs /><svg width=\"100%\" x=\"0\" y=\"0px\"><defs /><text text-anchor=\"middle\" x=\"50%\" y=\"16px\">NN</text></svg></svg><line stroke=\"black\" x1=\"50%\" x2=\"50%\" y1=\"20px\" y2=\"48px\" /></svg><line stroke=\"black\" x1=\"50%\" x2=\"66.632%\" y1=\"20px\" y2=\"48px\" /><svg width=\"1.8711%\" x=\"67.1518%\" y=\"48px\"><defs /><svg width=\"100%\" x=\"0\" y=\"0px\"><defs /><text text-anchor=\"middle\" x=\"50%\" y=\"16px\">various</text></svg><svg width=\"100%\" x=\"0%\" y=\"48px\"><defs /><svg width=\"100%\" x=\"0\" y=\"0px\"><defs /><text text-anchor=\"middle\" x=\"50%\" y=\"16px\">JJ</text></svg></svg><line stroke=\"black\" x1=\"50%\" x2=\"50%\" y1=\"20px\" y2=\"48px\" /></svg><line stroke=\"black\" x1=\"50%\" x2=\"68.0873%\" y1=\"20px\" y2=\"48px\" /><svg width=\"1.8711%\" x=\"69.0229%\" y=\"48px\"><defs /><svg width=\"100%\" x=\"0\" y=\"0px\"><defs /><text text-anchor=\"middle\" x=\"50%\" y=\"16px\">faction</text></svg><svg width=\"100%\" x=\"0%\" y=\"48px\"><defs /><svg width=\"100%\" x=\"0\" y=\"0px\"><defs /><text text-anchor=\"middle\" x=\"50%\" y=\"16px\">NN</text></svg></svg><line stroke=\"black\" x1=\"50%\" x2=\"50%\" y1=\"20px\" y2=\"48px\" /></svg><line stroke=\"black\" x1=\"50%\" x2=\"69.9584%\" y1=\"20px\" y2=\"48px\" /><svg width=\"0.623701%\" x=\"70.894%\" y=\"48px\"><defs /><svg width=\"100%\" x=\"0\" y=\"0px\"><defs /><text text-anchor=\"middle\" x=\"50%\" y=\"16px\">.</text></svg><svg width=\"100%\" x=\"0%\" y=\"48px\"><defs /><svg width=\"100%\" x=\"0\" y=\"0px\"><defs /><text text-anchor=\"middle\" x=\"50%\" y=\"16px\">.</text></svg></svg><line stroke=\"black\" x1=\"50%\" x2=\"50%\" y1=\"20px\" y2=\"48px\" /></svg><line stroke=\"black\" x1=\"50%\" x2=\"71.2058%\" y1=\"20px\" y2=\"48px\" /><svg width=\"0.831601%\" x=\"71.5177%\" y=\"48px\"><defs /><svg width=\"100%\" x=\"0\" y=\"0px\"><defs /><text text-anchor=\"middle\" x=\"50%\" y=\"16px\">In</text></svg><svg width=\"100%\" x=\"0%\" y=\"48px\"><defs /><svg width=\"100%\" x=\"0\" y=\"0px\"><defs /><text text-anchor=\"middle\" x=\"50%\" y=\"16px\">IN</text></svg></svg><line stroke=\"black\" x1=\"50%\" x2=\"50%\" y1=\"20px\" y2=\"48px\" /></svg><line stroke=\"black\" x1=\"50%\" x2=\"71.9335%\" y1=\"20px\" y2=\"48px\" /><svg width=\"1.8711%\" x=\"72.3493%\" y=\"48px\"><defs /><svg width=\"100%\" x=\"0\" y=\"0px\"><defs /><text text-anchor=\"middle\" x=\"50%\" y=\"16px\">surreal</text></svg><svg width=\"100%\" x=\"0%\" y=\"48px\"><defs /><svg width=\"100%\" x=\"0\" y=\"0px\"><defs /><text text-anchor=\"middle\" x=\"50%\" y=\"16px\">JJ</text></svg></svg><line stroke=\"black\" x1=\"50%\" x2=\"50%\" y1=\"20px\" y2=\"48px\" /></svg><line stroke=\"black\" x1=\"50%\" x2=\"73.2848%\" y1=\"20px\" y2=\"48px\" /><svg width=\"1.6632%\" x=\"74.2204%\" y=\"48px\"><defs /><svg width=\"100%\" x=\"0\" y=\"0px\"><defs /><text text-anchor=\"middle\" x=\"50%\" y=\"16px\">ending</text></svg><svg width=\"100%\" x=\"0%\" y=\"48px\"><defs /><svg width=\"100%\" x=\"0\" y=\"0px\"><defs /><text text-anchor=\"middle\" x=\"50%\" y=\"16px\">VBG</text></svg></svg><line stroke=\"black\" x1=\"50%\" x2=\"50%\" y1=\"20px\" y2=\"48px\" /></svg><line stroke=\"black\" x1=\"50%\" x2=\"75.052%\" y1=\"20px\" y2=\"48px\" /><svg width=\"0.623701%\" x=\"75.8836%\" y=\"48px\"><defs /><svg width=\"100%\" x=\"0\" y=\"0px\"><defs /><text text-anchor=\"middle\" x=\"50%\" y=\"16px\">,</text></svg><svg width=\"100%\" x=\"0%\" y=\"48px\"><defs /><svg width=\"100%\" x=\"0\" y=\"0px\"><defs /><text text-anchor=\"middle\" x=\"50%\" y=\"16px\">,</text></svg></svg><line stroke=\"black\" x1=\"50%\" x2=\"50%\" y1=\"20px\" y2=\"48px\" /></svg><line stroke=\"black\" x1=\"50%\" x2=\"76.1954%\" y1=\"20px\" y2=\"48px\" /><svg width=\"1.6632%\" x=\"76.5073%\" y=\"48px\"><defs /><svg width=\"100%\" x=\"0\" y=\"0px\"><defs /><text text-anchor=\"middle\" x=\"50%\" y=\"16px\">friend</text></svg><svg width=\"100%\" x=\"0%\" y=\"48px\"><defs /><svg width=\"100%\" x=\"0\" y=\"0px\"><defs /><text text-anchor=\"middle\" x=\"50%\" y=\"16px\">VBP</text></svg></svg><line stroke=\"black\" x1=\"50%\" x2=\"50%\" y1=\"20px\" y2=\"48px\" /></svg><line stroke=\"black\" x1=\"50%\" x2=\"77.3389%\" y1=\"20px\" y2=\"48px\" /><svg width=\"1.6632%\" x=\"78.1705%\" y=\"48px\"><defs /><svg width=\"100%\" x=\"0\" y=\"0px\"><defs /><text text-anchor=\"middle\" x=\"50%\" y=\"16px\">family</text></svg><svg width=\"100%\" x=\"0%\" y=\"48px\"><defs /><svg width=\"100%\" x=\"0\" y=\"0px\"><defs /><text text-anchor=\"middle\" x=\"50%\" y=\"16px\">NN</text></svg></svg><line stroke=\"black\" x1=\"50%\" x2=\"50%\" y1=\"20px\" y2=\"48px\" /></svg><line stroke=\"black\" x1=\"50%\" x2=\"79.0021%\" y1=\"20px\" y2=\"48px\" /><svg width=\"0.623701%\" x=\"79.8337%\" y=\"48px\"><defs /><svg width=\"100%\" x=\"0\" y=\"0px\"><defs /><text text-anchor=\"middle\" x=\"50%\" y=\"16px\">,</text></svg><svg width=\"100%\" x=\"0%\" y=\"48px\"><defs /><svg width=\"100%\" x=\"0\" y=\"0px\"><defs /><text text-anchor=\"middle\" x=\"50%\" y=\"16px\">,</text></svg></svg><line stroke=\"black\" x1=\"50%\" x2=\"50%\" y1=\"20px\" y2=\"48px\" /></svg><line stroke=\"black\" x1=\"50%\" x2=\"80.1455%\" y1=\"20px\" y2=\"48px\" /><svg width=\"1.6632%\" x=\"80.4574%\" y=\"48px\"><defs /><svg width=\"100%\" x=\"0\" y=\"0px\"><defs /><text text-anchor=\"middle\" x=\"50%\" y=\"16px\">living</text></svg><svg width=\"100%\" x=\"0%\" y=\"48px\"><defs /><svg width=\"100%\" x=\"0\" y=\"0px\"><defs /><text text-anchor=\"middle\" x=\"50%\" y=\"16px\">VBG</text></svg></svg><line stroke=\"black\" x1=\"50%\" x2=\"50%\" y1=\"20px\" y2=\"48px\" /></svg><line stroke=\"black\" x1=\"50%\" x2=\"81.289%\" y1=\"20px\" y2=\"48px\" /><svg width=\"1.2474%\" x=\"82.1206%\" y=\"48px\"><defs /><svg width=\"100%\" x=\"0\" y=\"0px\"><defs /><text text-anchor=\"middle\" x=\"50%\" y=\"16px\">dead</text></svg><svg width=\"100%\" x=\"0%\" y=\"48px\"><defs /><svg width=\"100%\" x=\"0\" y=\"0px\"><defs /><text text-anchor=\"middle\" x=\"50%\" y=\"16px\">JJ</text></svg></svg><line stroke=\"black\" x1=\"50%\" x2=\"50%\" y1=\"20px\" y2=\"48px\" /></svg><line stroke=\"black\" x1=\"50%\" x2=\"82.7443%\" y1=\"20px\" y2=\"48px\" /><svg width=\"0.623701%\" x=\"83.368%\" y=\"48px\"><defs /><svg width=\"100%\" x=\"0\" y=\"0px\"><defs /><text text-anchor=\"middle\" x=\"50%\" y=\"16px\">,</text></svg><svg width=\"100%\" x=\"0%\" y=\"48px\"><defs /><svg width=\"100%\" x=\"0\" y=\"0px\"><defs /><text text-anchor=\"middle\" x=\"50%\" y=\"16px\">,</text></svg></svg><line stroke=\"black\" x1=\"50%\" x2=\"50%\" y1=\"20px\" y2=\"48px\" /></svg><line stroke=\"black\" x1=\"50%\" x2=\"83.6798%\" y1=\"20px\" y2=\"48px\" /><svg width=\"2.079%\" x=\"83.9917%\" y=\"48px\"><defs /><svg width=\"100%\" x=\"0\" y=\"0px\"><defs /><text text-anchor=\"middle\" x=\"50%\" y=\"16px\">reunited</text></svg><svg width=\"100%\" x=\"0%\" y=\"48px\"><defs /><svg width=\"100%\" x=\"0\" y=\"0px\"><defs /><text text-anchor=\"middle\" x=\"50%\" y=\"16px\">VBD</text></svg></svg><line stroke=\"black\" x1=\"50%\" x2=\"50%\" y1=\"20px\" y2=\"48px\" /></svg><line stroke=\"black\" x1=\"50%\" x2=\"85.0312%\" y1=\"20px\" y2=\"48px\" /><svg width=\"1.6632%\" x=\"86.0707%\" y=\"48px\"><defs /><svg width=\"100%\" x=\"0\" y=\"0px\"><defs /><text text-anchor=\"middle\" x=\"50%\" y=\"16px\">PERSON</text></svg><svg width=\"100%\" x=\"0%\" y=\"48px\"><defs /><svg width=\"100%\" x=\"0\" y=\"0px\"><defs /><text text-anchor=\"middle\" x=\"50%\" y=\"16px\">Jovan</text></svg><svg width=\"100%\" x=\"0%\" y=\"48px\"><defs /><svg width=\"100%\" x=\"0\" y=\"0px\"><defs /><text text-anchor=\"middle\" x=\"50%\" y=\"16px\">NNP</text></svg></svg><line stroke=\"black\" x1=\"50%\" x2=\"50%\" y1=\"20px\" y2=\"48px\" /></svg><line stroke=\"black\" x1=\"50%\" x2=\"50%\" y1=\"20px\" y2=\"48px\" /></svg><line stroke=\"black\" x1=\"50%\" x2=\"86.9023%\" y1=\"20px\" y2=\"48px\" /><svg width=\"1.0395%\" x=\"87.7339%\" y=\"48px\"><defs /><svg width=\"100%\" x=\"0\" y=\"0px\"><defs /><text text-anchor=\"middle\" x=\"50%\" y=\"16px\">’</text></svg><svg width=\"100%\" x=\"0%\" y=\"48px\"><defs /><svg width=\"100%\" x=\"0\" y=\"0px\"><defs /><text text-anchor=\"middle\" x=\"50%\" y=\"16px\">NNP</text></svg></svg><line stroke=\"black\" x1=\"50%\" x2=\"50%\" y1=\"20px\" y2=\"48px\" /></svg><line stroke=\"black\" x1=\"50%\" x2=\"88.2536%\" y1=\"20px\" y2=\"48px\" /><svg width=\"1.8711%\" x=\"88.7734%\" y=\"48px\"><defs /><svg width=\"100%\" x=\"0\" y=\"0px\"><defs /><text text-anchor=\"middle\" x=\"50%\" y=\"16px\">wedding</text></svg><svg width=\"100%\" x=\"0%\" y=\"48px\"><defs /><svg width=\"100%\" x=\"0\" y=\"0px\"><defs /><text text-anchor=\"middle\" x=\"50%\" y=\"16px\">NN</text></svg></svg><line stroke=\"black\" x1=\"50%\" x2=\"50%\" y1=\"20px\" y2=\"48px\" /></svg><line stroke=\"black\" x1=\"50%\" x2=\"89.7089%\" y1=\"20px\" y2=\"48px\" /><svg width=\"0.623701%\" x=\"90.6445%\" y=\"48px\"><defs /><svg width=\"100%\" x=\"0\" y=\"0px\"><defs /><text text-anchor=\"middle\" x=\"50%\" y=\"16px\">,</text></svg><svg width=\"100%\" x=\"0%\" y=\"48px\"><defs /><svg width=\"100%\" x=\"0\" y=\"0px\"><defs /><text text-anchor=\"middle\" x=\"50%\" y=\"16px\">,</text></svg></svg><line stroke=\"black\" x1=\"50%\" x2=\"50%\" y1=\"20px\" y2=\"48px\" /></svg><line stroke=\"black\" x1=\"50%\" x2=\"90.9563%\" y1=\"20px\" y2=\"48px\" /><svg width=\"1.6632%\" x=\"91.2682%\" y=\"48px\"><defs /><svg width=\"100%\" x=\"0\" y=\"0px\"><defs /><text text-anchor=\"middle\" x=\"50%\" y=\"16px\">PERSON</text></svg><svg width=\"100%\" x=\"0%\" y=\"48px\"><defs /><svg width=\"100%\" x=\"0\" y=\"0px\"><defs /><text text-anchor=\"middle\" x=\"50%\" y=\"16px\">Ivan</text></svg><svg width=\"100%\" x=\"0%\" y=\"48px\"><defs /><svg width=\"100%\" x=\"0\" y=\"0px\"><defs /><text text-anchor=\"middle\" x=\"50%\" y=\"16px\">NNP</text></svg></svg><line stroke=\"black\" x1=\"50%\" x2=\"50%\" y1=\"20px\" y2=\"48px\" /></svg><line stroke=\"black\" x1=\"50%\" x2=\"50%\" y1=\"20px\" y2=\"48px\" /></svg><line stroke=\"black\" x1=\"50%\" x2=\"92.0998%\" y1=\"20px\" y2=\"48px\" /><svg width=\"1.0395%\" x=\"92.9314%\" y=\"48px\"><defs /><svg width=\"100%\" x=\"0\" y=\"0px\"><defs /><text text-anchor=\"middle\" x=\"50%\" y=\"16px\">end</text></svg><svg width=\"100%\" x=\"0%\" y=\"48px\"><defs /><svg width=\"100%\" x=\"0\" y=\"0px\"><defs /><text text-anchor=\"middle\" x=\"50%\" y=\"16px\">VBP</text></svg></svg><line stroke=\"black\" x1=\"50%\" x2=\"50%\" y1=\"20px\" y2=\"48px\" /></svg><line stroke=\"black\" x1=\"50%\" x2=\"93.4511%\" y1=\"20px\" y2=\"48px\" /><svg width=\"1.2474%\" x=\"93.9709%\" y=\"48px\"><defs /><svg width=\"100%\" x=\"0\" y=\"0px\"><defs /><text text-anchor=\"middle\" x=\"50%\" y=\"16px\">film</text></svg><svg width=\"100%\" x=\"0%\" y=\"48px\"><defs /><svg width=\"100%\" x=\"0\" y=\"0px\"><defs /><text text-anchor=\"middle\" x=\"50%\" y=\"16px\">NN</text></svg></svg><line stroke=\"black\" x1=\"50%\" x2=\"50%\" y1=\"20px\" y2=\"48px\" /></svg><line stroke=\"black\" x1=\"50%\" x2=\"94.5946%\" y1=\"20px\" y2=\"48px\" /><svg width=\"1.8711%\" x=\"95.2183%\" y=\"48px\"><defs /><svg width=\"100%\" x=\"0\" y=\"0px\"><defs /><text text-anchor=\"middle\" x=\"50%\" y=\"16px\">closing</text></svg><svg width=\"100%\" x=\"0%\" y=\"48px\"><defs /><svg width=\"100%\" x=\"0\" y=\"0px\"><defs /><text text-anchor=\"middle\" x=\"50%\" y=\"16px\">NN</text></svg></svg><line stroke=\"black\" x1=\"50%\" x2=\"50%\" y1=\"20px\" y2=\"48px\" /></svg><line stroke=\"black\" x1=\"50%\" x2=\"96.1538%\" y1=\"20px\" y2=\"48px\" /><svg width=\"2.2869%\" x=\"97.0894%\" y=\"48px\"><defs /><svg width=\"100%\" x=\"0\" y=\"0px\"><defs /><text text-anchor=\"middle\" x=\"50%\" y=\"16px\">monologue</text></svg><svg width=\"100%\" x=\"0%\" y=\"48px\"><defs /><svg width=\"100%\" x=\"0\" y=\"0px\"><defs /><text text-anchor=\"middle\" x=\"50%\" y=\"16px\">NN</text></svg></svg><line stroke=\"black\" x1=\"50%\" x2=\"50%\" y1=\"20px\" y2=\"48px\" /></svg><line stroke=\"black\" x1=\"50%\" x2=\"98.2328%\" y1=\"20px\" y2=\"48px\" /><svg width=\"0.623701%\" x=\"99.3763%\" y=\"48px\"><defs /><svg width=\"100%\" x=\"0\" y=\"0px\"><defs /><text text-anchor=\"middle\" x=\"50%\" y=\"16px\">.</text></svg><svg width=\"100%\" x=\"0%\" y=\"48px\"><defs /><svg width=\"100%\" x=\"0\" y=\"0px\"><defs /><text text-anchor=\"middle\" x=\"50%\" y=\"16px\">.</text></svg></svg><line stroke=\"black\" x1=\"50%\" x2=\"50%\" y1=\"20px\" y2=\"48px\" /></svg><line stroke=\"black\" x1=\"50%\" x2=\"99.6881%\" y1=\"20px\" y2=\"48px\" /></svg>"
      ],
      "text/plain": [
       "Tree('S', [('{', '('), ('{', '('), ('Plot|datePart', 'VB'), ('One', 'CD'), (':', ':'), ('War19411944Part', 'JJ'), ('Two', 'CD'), (':', ':'), ('Cold', 'JJ'), Tree('PERSON', [('War1961', 'NNP'), ('Part', 'NNP')]), ('Three', 'NNP'), (':', ':'), ('War', 'JJ'), ('1992', 'CD'), ('The', 'DT'), ('final', 'JJ'), ('section', 'NN'), (',', ','), ('set', 'VB'), ('1992', 'CD'), ('height', 'JJ'), Tree('GPE', [('Yugoslav', 'NNP')]), ('war', 'NN'), (',', ','), ('see', 'VBP'), Tree('PERSON', [('Blacky', 'NNP')]), ('embittered', 'VBD'), ('yet', 'RB'), ('still', 'RB'), ('patriotic', 'JJ'), ('warlord', 'NN'), (';', ':'), ('inadvertently', 'RB'), ('order', 'NN'), ('execution', 'NN'), Tree('PERSON', [('Marko', 'NNP'), ('Natalija', 'NNP')]), ('still', 'RB'), ('making', 'VBG'), ('living', 'VBG'), ('war', 'NN'), ('profiteer', 'NN'), (',', ','), ('running', 'VBG'), ('gun', 'NN'), ('various', 'JJ'), ('faction', 'NN'), ('.', '.'), ('In', 'IN'), ('surreal', 'JJ'), ('ending', 'VBG'), (',', ','), ('friend', 'VBP'), ('family', 'NN'), (',', ','), ('living', 'VBG'), ('dead', 'JJ'), (',', ','), ('reunited', 'VBD'), Tree('PERSON', [('Jovan', 'NNP')]), ('’', 'NNP'), ('wedding', 'NN'), (',', ','), Tree('PERSON', [('Ivan', 'NNP')]), ('end', 'VBP'), ('film', 'NN'), ('closing', 'NN'), ('monologue', 'NN'), ('.', '.')])"
      ]
     },
     "execution_count": 19,
     "metadata": {},
     "output_type": "execute_result"
    }
   ],
   "source": [
    "# Displaying one tag for verification \n",
    "full_NER_TAGS[4][0]"
   ]
  },
  {
   "cell_type": "code",
   "execution_count": 20,
   "metadata": {},
   "outputs": [],
   "source": [
    "# Extracting entities \n",
    "full_entities = [[], [], [], [], [], [], []]\n",
    "for i, tags in enumerate(full_NER_TAGS): \n",
    "    entities = []\n",
    "    for tree in tags:\n",
    "        entities.append(extracting_entities(tree))\n",
    "    full_entities[i] = entities "
   ]
  },
  {
   "cell_type": "code",
   "execution_count": 21,
   "metadata": {},
   "outputs": [
    {
     "data": {
      "text/html": [
       "<div>\n",
       "<style scoped>\n",
       "    .dataframe tbody tr th:only-of-type {\n",
       "        vertical-align: middle;\n",
       "    }\n",
       "\n",
       "    .dataframe tbody tr th {\n",
       "        vertical-align: top;\n",
       "    }\n",
       "\n",
       "    .dataframe thead th {\n",
       "        text-align: right;\n",
       "    }\n",
       "</style>\n",
       "<table border=\"1\" class=\"dataframe\">\n",
       "  <thead>\n",
       "    <tr style=\"text-align: right;\">\n",
       "      <th></th>\n",
       "      <th>Movie_ID</th>\n",
       "      <th>IMDb_Index</th>\n",
       "      <th>Title</th>\n",
       "      <th>Original_Title</th>\n",
       "      <th>Release_Date</th>\n",
       "      <th>Year</th>\n",
       "      <th>Genres</th>\n",
       "      <th>Genres_IMDb</th>\n",
       "      <th>Rating</th>\n",
       "      <th>Votes</th>\n",
       "      <th>Revenue</th>\n",
       "      <th>Length</th>\n",
       "      <th>Languages</th>\n",
       "      <th>Countries</th>\n",
       "      <th>summary</th>\n",
       "      <th>event</th>\n",
       "      <th>tokenized_summaries</th>\n",
       "      <th>Entities</th>\n",
       "    </tr>\n",
       "  </thead>\n",
       "  <tbody>\n",
       "    <tr>\n",
       "      <th>93</th>\n",
       "      <td>189776</td>\n",
       "      <td>tt0114787</td>\n",
       "      <td>Underground</td>\n",
       "      <td>Underground</td>\n",
       "      <td>1995-04-01</td>\n",
       "      <td>1995</td>\n",
       "      <td>['World cinema', 'Drama', 'Comedy', 'War film'...</td>\n",
       "      <td>['Comedy,Drama,Fantasy']</td>\n",
       "      <td>8.0</td>\n",
       "      <td>61979</td>\n",
       "      <td>171082.0</td>\n",
       "      <td>170.0</td>\n",
       "      <td>['French Language', 'SerboCroatian', 'German L...</td>\n",
       "      <td>['Serbia and Montenegro', 'Bulgaria', 'France'...</td>\n",
       "      <td>{{Plot|datePart One: War19411944Part Two: Cold...</td>\n",
       "      <td>Cold War</td>\n",
       "      <td>[{, {, Plot|datePart, One, :, War19411944Part,...</td>\n",
       "      <td>[]</td>\n",
       "    </tr>\n",
       "    <tr>\n",
       "      <th>152</th>\n",
       "      <td>11347793</td>\n",
       "      <td>tt0808417</td>\n",
       "      <td>Persepolis</td>\n",
       "      <td>Persepolis</td>\n",
       "      <td>2007-06-27</td>\n",
       "      <td>2007</td>\n",
       "      <td>['Biography', 'World cinema', 'Film adaptation...</td>\n",
       "      <td>['Animation,Biography,Drama']</td>\n",
       "      <td>8.0</td>\n",
       "      <td>101439</td>\n",
       "      <td>22752488.0</td>\n",
       "      <td>95.0</td>\n",
       "      <td>['French Language', 'Persian Language', 'Germa...</td>\n",
       "      <td>['France', 'United States of America']</td>\n",
       "      <td>{{Copy edit-section}} The film begins at Paris...</td>\n",
       "      <td>Cold War</td>\n",
       "      <td>[{, {, Copy, edit-section, }, }, The, film, be...</td>\n",
       "      <td>[Airport Marjane, SAVAK, Communists, Communist...</td>\n",
       "    </tr>\n",
       "    <tr>\n",
       "      <th>153</th>\n",
       "      <td>1129041</td>\n",
       "      <td>tt0146309</td>\n",
       "      <td>Thirteen Days</td>\n",
       "      <td>Thirteen Days</td>\n",
       "      <td>2000-12-16</td>\n",
       "      <td>2000</td>\n",
       "      <td>['Thriller', 'Historical fiction', 'History', ...</td>\n",
       "      <td>['Drama,History,Thriller']</td>\n",
       "      <td>7.3</td>\n",
       "      <td>63736</td>\n",
       "      <td>66579890.0</td>\n",
       "      <td>145.0</td>\n",
       "      <td>['Russian Language', 'Romanian Language', 'Eng...</td>\n",
       "      <td>['United States of America']</td>\n",
       "      <td>In October 1962, U-2 surveillance photos revea...</td>\n",
       "      <td>Cold War</td>\n",
       "      <td>[In, October, 1962, ,, U-2, surveillance, phot...</td>\n",
       "      <td>[Joint Chiefs, Soviets, Guns, ABC News, DEFCON...</td>\n",
       "    </tr>\n",
       "    <tr>\n",
       "      <th>159</th>\n",
       "      <td>1317604</td>\n",
       "      <td>tt0112740</td>\n",
       "      <td>Crimson Tide</td>\n",
       "      <td>Crimson Tide</td>\n",
       "      <td>1995-05-12</td>\n",
       "      <td>1995</td>\n",
       "      <td>['Thriller', 'Action Thrillers', 'ActionAdvent...</td>\n",
       "      <td>['Action,Drama,Thriller']</td>\n",
       "      <td>7.3</td>\n",
       "      <td>126100</td>\n",
       "      <td>157387195.0</td>\n",
       "      <td>123.0</td>\n",
       "      <td>['English Language']</td>\n",
       "      <td>['United States of America']</td>\n",
       "      <td>In post-Soviet Russia, military units loyal to...</td>\n",
       "      <td>Cold War</td>\n",
       "      <td>[In, post-Soviet, Russia, ,, military, units, ...</td>\n",
       "      <td>[USS Alabama, Lieutenant, Alabama]</td>\n",
       "    </tr>\n",
       "    <tr>\n",
       "      <th>263</th>\n",
       "      <td>5676452</td>\n",
       "      <td>tt0457090</td>\n",
       "      <td>The Marksman</td>\n",
       "      <td>The Marksman</td>\n",
       "      <td>2005-09-06</td>\n",
       "      <td>2005</td>\n",
       "      <td>['ActionAdventure', 'Thriller', 'Action', 'Adv...</td>\n",
       "      <td>['Action,Adventure,Thriller']</td>\n",
       "      <td>4.1</td>\n",
       "      <td>4713</td>\n",
       "      <td>NaN</td>\n",
       "      <td>95.0</td>\n",
       "      <td>['English Language']</td>\n",
       "      <td>['United States of America']</td>\n",
       "      <td>Snipes plays a marksman  who is sent as a spec...</td>\n",
       "      <td>Cold War</td>\n",
       "      <td>[Snipes, plays, a, marksman, who, is, sent, as...</td>\n",
       "      <td>[]</td>\n",
       "    </tr>\n",
       "  </tbody>\n",
       "</table>\n",
       "</div>"
      ],
      "text/plain": [
       "     Movie_ID IMDb_Index          Title Original_Title Release_Date  Year  \\\n",
       "93     189776  tt0114787    Underground    Underground   1995-04-01  1995   \n",
       "152  11347793  tt0808417     Persepolis     Persepolis   2007-06-27  2007   \n",
       "153   1129041  tt0146309  Thirteen Days  Thirteen Days   2000-12-16  2000   \n",
       "159   1317604  tt0112740   Crimson Tide   Crimson Tide   1995-05-12  1995   \n",
       "263   5676452  tt0457090   The Marksman   The Marksman   2005-09-06  2005   \n",
       "\n",
       "                                                Genres  \\\n",
       "93   ['World cinema', 'Drama', 'Comedy', 'War film'...   \n",
       "152  ['Biography', 'World cinema', 'Film adaptation...   \n",
       "153  ['Thriller', 'Historical fiction', 'History', ...   \n",
       "159  ['Thriller', 'Action Thrillers', 'ActionAdvent...   \n",
       "263  ['ActionAdventure', 'Thriller', 'Action', 'Adv...   \n",
       "\n",
       "                       Genres_IMDb  Rating   Votes      Revenue  Length  \\\n",
       "93        ['Comedy,Drama,Fantasy']     8.0   61979     171082.0   170.0   \n",
       "152  ['Animation,Biography,Drama']     8.0  101439   22752488.0    95.0   \n",
       "153     ['Drama,History,Thriller']     7.3   63736   66579890.0   145.0   \n",
       "159      ['Action,Drama,Thriller']     7.3  126100  157387195.0   123.0   \n",
       "263  ['Action,Adventure,Thriller']     4.1    4713          NaN    95.0   \n",
       "\n",
       "                                             Languages  \\\n",
       "93   ['French Language', 'SerboCroatian', 'German L...   \n",
       "152  ['French Language', 'Persian Language', 'Germa...   \n",
       "153  ['Russian Language', 'Romanian Language', 'Eng...   \n",
       "159                               ['English Language']   \n",
       "263                               ['English Language']   \n",
       "\n",
       "                                             Countries  \\\n",
       "93   ['Serbia and Montenegro', 'Bulgaria', 'France'...   \n",
       "152             ['France', 'United States of America']   \n",
       "153                       ['United States of America']   \n",
       "159                       ['United States of America']   \n",
       "263                       ['United States of America']   \n",
       "\n",
       "                                               summary     event  \\\n",
       "93   {{Plot|datePart One: War19411944Part Two: Cold...  Cold War   \n",
       "152  {{Copy edit-section}} The film begins at Paris...  Cold War   \n",
       "153  In October 1962, U-2 surveillance photos revea...  Cold War   \n",
       "159  In post-Soviet Russia, military units loyal to...  Cold War   \n",
       "263  Snipes plays a marksman  who is sent as a spec...  Cold War   \n",
       "\n",
       "                                   tokenized_summaries  \\\n",
       "93   [{, {, Plot|datePart, One, :, War19411944Part,...   \n",
       "152  [{, {, Copy, edit-section, }, }, The, film, be...   \n",
       "153  [In, October, 1962, ,, U-2, surveillance, phot...   \n",
       "159  [In, post-Soviet, Russia, ,, military, units, ...   \n",
       "263  [Snipes, plays, a, marksman, who, is, sent, as...   \n",
       "\n",
       "                                              Entities  \n",
       "93                                                  []  \n",
       "152  [Airport Marjane, SAVAK, Communists, Communist...  \n",
       "153  [Joint Chiefs, Soviets, Guns, ABC News, DEFCON...  \n",
       "159                 [USS Alabama, Lieutenant, Alabama]  \n",
       "263                                                 []  "
      ]
     },
     "execution_count": 21,
     "metadata": {},
     "output_type": "execute_result"
    }
   ],
   "source": [
    "# Creating a new column in each movies dataset containing the entities\n",
    "wwii_movies_side1_before['Entities'] = full_entities[0]\n",
    "wwii_movies_side1_after['Entities'] = full_entities[1]\n",
    "wwii_movies_side2['Entities'] = full_entities[2]\n",
    "cold_war_movies_side1_before['Entities'] = full_entities[3]\n",
    "cold_war_movies_side1_after['Entities'] = full_entities[4]\n",
    "cold_war_movies_side2_before['Entities'] = full_entities[5]\n",
    "cold_war_movies_side2_after['Entities'] = full_entities[6]\n",
    "\n",
    "\n",
    "\n",
    "# Verification\n",
    "cold_war_movies_side1_after.head()"
   ]
  },
  {
   "cell_type": "code",
   "execution_count": 22,
   "metadata": {},
   "outputs": [],
   "source": [
    "# Initializing variables necessary for iteration over all of the conflicts\n",
    "wars_iterator = [wwii_movies_side1_before, wwii_movies_side1_after, wwii_movies_side2, cold_war_movies_side1_before, cold_war_movies_side1_after, cold_war_movies_side2_before, cold_war_movies_side2_after]\n",
    "war_names = ['World War II Allied Side Before','World War II Allied Side After', \"World War II Axis Side\", 'Cold War Western Side Before', 'Cold War Western Side After', 'Cold War Sovietic Side Before', 'Cold War Sovietic Side After']# \"Cold War\", \"Korean war\", \"Vietnan war\"]\n",
    "side_iterator = [wwii_bell_side1, wwii_bell_side1, wwii_bell_side2, cold_bell_side1, cold_bell_side1, cold_bell_side2, cold_bell_side2]\n",
    "# Initializing stop words and Lemmatizer for data processing\n",
    "stop_words = set(stopwords.words('english'))\n",
    "lemmatizer = WordNetLemmatizer()"
   ]
  },
  {
   "cell_type": "markdown",
   "metadata": {},
   "source": [
    "#### Entity-level sentiment analysis"
   ]
  },
  {
   "cell_type": "code",
   "execution_count": 25,
   "metadata": {},
   "outputs": [
    {
     "data": {
      "application/vnd.plotly.v1+json": {
       "config": {
        "plotlyServerURL": "https://plot.ly"
       },
       "data": [
        {
         "colorbar": {
          "title": {
           "text": "Sentiment Score"
          }
         },
         "colorscale": [
          [
           0,
           "rgb(103,0,31)"
          ],
          [
           0.1,
           "rgb(178,24,43)"
          ],
          [
           0.2,
           "rgb(214,96,77)"
          ],
          [
           0.3,
           "rgb(244,165,130)"
          ],
          [
           0.4,
           "rgb(253,219,199)"
          ],
          [
           0.5,
           "rgb(247,247,247)"
          ],
          [
           0.6,
           "rgb(209,229,240)"
          ],
          [
           0.7,
           "rgb(146,197,222)"
          ],
          [
           0.8,
           "rgb(67,147,195)"
          ],
          [
           0.9,
           "rgb(33,102,172)"
          ],
          [
           1,
           "rgb(5,48,97)"
          ]
         ],
         "type": "heatmap",
         "x": [
          "Nazi",
          "Nazi",
          "Nazi",
          "FBI",
          "Nazi",
          "Army",
          "RCAF",
          "Nazi",
          "Mullers",
          "Mullers",
          "Lieutenant Tom Sands",
          "Bayless",
          "Lieutenant",
          "Lieutenant",
          "Nazi",
          "Lieutenant Gregg",
          "Lieutenant",
          "Sûreté",
          "SS Glencairn",
          "Washington",
          "Four Freedoms",
          "Army",
          "Nazi Party",
          "Nazi Party",
          "Nazi",
          "Resistance",
          "Commandos",
          "Victoria International Airport",
          "Boat House"
         ],
         "y": [
          "United States of America",
          "United States of America",
          "United States of America",
          "United States of America",
          "United Kingdom",
          "United States of America",
          "United States of America",
          "United States of America",
          "United States of America",
          "United States of America",
          "United States of America",
          "United States of America",
          "United States of America",
          "United States of America",
          "United States of America",
          "United States of America",
          "United States of America",
          "United States of America",
          "United States of America",
          "United States of America",
          "United States of America",
          "United States of America",
          "United Kingdom",
          "United Kingdom",
          "United States of America",
          "United States of America",
          "United States of America",
          "United States of America",
          "United States of America"
         ],
         "z": [
          [
           0.44537499999999997,
           0.44537499999999997,
           -0.886,
           0,
           -0.1253,
           -0.5994,
           -0.8519,
           0.3919,
           -0.4696666666666667,
           -0.4696666666666667,
           -0.6597,
           -0.5106,
           -0.5851500000000001,
           -0.5851500000000001,
           -0.4767,
           0.3612,
           -0.1742,
           0,
           -0.5859,
           0.5574,
           0.296,
           0,
           0.6152500000000001,
           0.6152500000000001,
           -0.35247500000000004,
           -0.5574,
           -0.4588,
           0,
           0
          ]
         ]
        }
       ],
       "frames": [
        {
         "data": [
          {
           "colorscale": [
            [
             0,
             "rgb(103,0,31)"
            ],
            [
             0.1,
             "rgb(178,24,43)"
            ],
            [
             0.2,
             "rgb(214,96,77)"
            ],
            [
             0.3,
             "rgb(244,165,130)"
            ],
            [
             0.4,
             "rgb(253,219,199)"
            ],
            [
             0.5,
             "rgb(247,247,247)"
            ],
            [
             0.6,
             "rgb(209,229,240)"
            ],
            [
             0.7,
             "rgb(146,197,222)"
            ],
            [
             0.8,
             "rgb(67,147,195)"
            ],
            [
             0.9,
             "rgb(33,102,172)"
            ],
            [
             1,
             "rgb(5,48,97)"
            ]
           ],
           "type": "heatmap",
           "x": [
            "Nazi",
            "Nazi",
            "Nazi",
            "FBI",
            "Nazi",
            "Army",
            "RCAF",
            "Nazi",
            "Mullers",
            "Mullers",
            "Lieutenant Tom Sands",
            "Bayless",
            "Lieutenant",
            "Lieutenant",
            "Nazi",
            "Lieutenant Gregg",
            "Lieutenant",
            "Sûreté",
            "SS Glencairn",
            "Washington",
            "Four Freedoms",
            "Army",
            "Nazi Party",
            "Nazi Party",
            "Nazi",
            "Resistance",
            "Commandos",
            "Victoria International Airport",
            "Boat House"
           ],
           "y": [
            "United States of America",
            "United States of America",
            "United States of America",
            "United States of America",
            "United Kingdom",
            "United States of America",
            "United States of America",
            "United States of America",
            "United States of America",
            "United States of America",
            "United States of America",
            "United States of America",
            "United States of America",
            "United States of America",
            "United States of America",
            "United States of America",
            "United States of America",
            "United States of America",
            "United States of America",
            "United States of America",
            "United States of America",
            "United States of America",
            "United Kingdom",
            "United Kingdom",
            "United States of America",
            "United States of America",
            "United States of America",
            "United States of America",
            "United States of America"
           ],
           "z": [
            0.44537499999999997,
            0.44537499999999997,
            -0.886,
            0,
            -0.1253,
            -0.5994,
            -0.8519,
            0.3919,
            -0.4696666666666667,
            -0.4696666666666667,
            -0.6597,
            -0.5106,
            -0.5851500000000001,
            -0.5851500000000001,
            -0.4767,
            0.3612,
            -0.1742,
            0,
            -0.5859,
            0.5574,
            0.296,
            0,
            0.6152500000000001,
            0.6152500000000001,
            -0.35247500000000004,
            -0.5574,
            -0.4588,
            0,
            0
           ]
          }
         ],
         "name": "1"
        },
        {
         "data": [
          {
           "colorscale": [
            [
             0,
             "rgb(103,0,31)"
            ],
            [
             0.1,
             "rgb(178,24,43)"
            ],
            [
             0.2,
             "rgb(214,96,77)"
            ],
            [
             0.3,
             "rgb(244,165,130)"
            ],
            [
             0.4,
             "rgb(253,219,199)"
            ],
            [
             0.5,
             "rgb(247,247,247)"
            ],
            [
             0.6,
             "rgb(209,229,240)"
            ],
            [
             0.7,
             "rgb(146,197,222)"
            ],
            [
             0.8,
             "rgb(67,147,195)"
            ],
            [
             0.9,
             "rgb(33,102,172)"
            ],
            [
             1,
             "rgb(5,48,97)"
            ]
           ],
           "type": "heatmap",
           "x": [
            "London",
            "Roy",
            "Roy",
            "Nazi",
            "Nazi",
            "Nazi",
            "Nazi",
            "Hamlet",
            "Nazi",
            "Nazi",
            "Nazis",
            "Nazi",
            "Trollness",
            "Nazi",
            "McKittrick",
            "Nazi",
            "Nazi",
            "Nazi",
            "Nazi",
            "Nazi",
            "Hell",
            "Great Gildersleeve",
            "Nazi Party",
            "Nazi",
            "London Blitz",
            "Regimental Sergeant Major",
            "Army",
            "Lord",
            "MADE"
           ],
           "y": [
            "United States of America",
            "United States of America",
            "United States of America",
            "United States of America",
            "United States of America",
            "United States of America",
            "United States of America",
            "United States of America",
            "United States of America",
            "United States of America",
            "United States of America",
            "United States of America",
            "United States of America",
            "United States of America",
            "United States of America",
            "United States of America",
            "United States of America",
            "United States of America",
            "United States of America",
            "United States of America",
            "United States of America",
            "United States of America",
            "United States of America",
            "United States of America",
            "United States of America",
            "United States of America",
            "United States of America",
            "United States of America",
            "United States of America"
           ],
           "z": [
            0,
            -0.07178235294117645,
            -0.07178235294117645,
            -0.31143333333333334,
            -0.31143333333333334,
            -0.31143333333333334,
            0.1707,
            0.2622333333333333,
            0.1707,
            0.1707,
            0.21652,
            0.1707,
            0,
            -0.13527999999999998,
            -0.9169,
            0.296,
            0.09866666666666667,
            -0.29055,
            -0.29055,
            -0.7506,
            -0.6808,
            0.8779,
            0.3818,
            -0.13626666666666667,
            0,
            0,
            0.6369,
            0.3612,
            0
           ]
          }
         ],
         "name": "2"
        },
        {
         "data": [
          {
           "colorscale": [
            [
             0,
             "rgb(103,0,31)"
            ],
            [
             0.1,
             "rgb(178,24,43)"
            ],
            [
             0.2,
             "rgb(214,96,77)"
            ],
            [
             0.3,
             "rgb(244,165,130)"
            ],
            [
             0.4,
             "rgb(253,219,199)"
            ],
            [
             0.5,
             "rgb(247,247,247)"
            ],
            [
             0.6,
             "rgb(209,229,240)"
            ],
            [
             0.7,
             "rgb(146,197,222)"
            ],
            [
             0.8,
             "rgb(67,147,195)"
            ],
            [
             0.9,
             "rgb(33,102,172)"
            ],
            [
             1,
             "rgb(5,48,97)"
            ]
           ],
           "type": "heatmap",
           "x": [
            "MADE",
            "General",
            "Lieutenant",
            "Lieutenant Candy",
            "Imperial",
            "BBC",
            "BBC",
            "Nazi",
            "FBI",
            "General",
            "Vin",
            "Vin",
            "Beldon Hall",
            "Beldon Hall",
            "Beldon Hall",
            "Beldon Hall",
            "Soldiers",
            "Soldiers",
            "RAF",
            "RAF",
            "Bey",
            "Scottish Terrier",
            "Scottish Terrier",
            "Lieutenant",
            "US Navy",
            "Constance Chesley Susan Hayward",
            "Nazi",
            "FBI",
            "FBI",
            "American Legion Veterans"
           ],
           "y": [
            "United States of America",
            "United Kingdom",
            "United Kingdom",
            "United Kingdom",
            "United Kingdom",
            "United Kingdom",
            "United Kingdom",
            "United States of America",
            "United States of America",
            "United States of America",
            "United States of America",
            "United Kingdom",
            "United States of America",
            "United Kingdom",
            "United States of America",
            "United Kingdom",
            "United States of America",
            "United Kingdom",
            "United States of America",
            "United Kingdom",
            "United States of America",
            "United States of America",
            "United States of America",
            "United States of America",
            "United States of America",
            "United States of America",
            "United States of America",
            "United States of America",
            "United States of America",
            "United States of America"
           ],
           "z": [
            0,
            -0.61215,
            -0.5450999999999999,
            -0.8402,
            -0.5994,
            0.7096,
            0.7096,
            0.5267,
            -0.296,
            -0.5106,
            -0.22328,
            -0.22328,
            -0.6705,
            -0.6705,
            -0.6705,
            -0.6705,
            -0.5267,
            -0.5267,
            -0.5267,
            -0.5267,
            0.05466923076923077,
            0,
            0,
            0,
            -0.8275,
            -0.8275,
            0.20095,
            -0.27115,
            -0.27115,
            -0.5994
           ]
          }
         ],
         "name": "3"
        }
       ],
       "layout": {
        "height": 800,
        "sliders": [
         {
          "pad": {
           "b": 20,
           "t": 50
          },
          "steps": [
           {
            "args": [
             [
              "1"
             ]
            ],
            "label": "1",
            "method": "animate"
           },
           {
            "args": [
             [
              "2"
             ]
            ],
            "label": "2",
            "method": "animate"
           },
           {
            "args": [
             [
              "3"
             ]
            ],
            "label": "3",
            "method": "animate"
           }
          ],
          "transition": {
           "duration": 500
          }
         }
        ],
        "template": {
         "data": {
          "bar": [
           {
            "error_x": {
             "color": "#2a3f5f"
            },
            "error_y": {
             "color": "#2a3f5f"
            },
            "marker": {
             "line": {
              "color": "#E5ECF6",
              "width": 0.5
             },
             "pattern": {
              "fillmode": "overlay",
              "size": 10,
              "solidity": 0.2
             }
            },
            "type": "bar"
           }
          ],
          "barpolar": [
           {
            "marker": {
             "line": {
              "color": "#E5ECF6",
              "width": 0.5
             },
             "pattern": {
              "fillmode": "overlay",
              "size": 10,
              "solidity": 0.2
             }
            },
            "type": "barpolar"
           }
          ],
          "carpet": [
           {
            "aaxis": {
             "endlinecolor": "#2a3f5f",
             "gridcolor": "white",
             "linecolor": "white",
             "minorgridcolor": "white",
             "startlinecolor": "#2a3f5f"
            },
            "baxis": {
             "endlinecolor": "#2a3f5f",
             "gridcolor": "white",
             "linecolor": "white",
             "minorgridcolor": "white",
             "startlinecolor": "#2a3f5f"
            },
            "type": "carpet"
           }
          ],
          "choropleth": [
           {
            "colorbar": {
             "outlinewidth": 0,
             "ticks": ""
            },
            "type": "choropleth"
           }
          ],
          "contour": [
           {
            "colorbar": {
             "outlinewidth": 0,
             "ticks": ""
            },
            "colorscale": [
             [
              0,
              "#0d0887"
             ],
             [
              0.1111111111111111,
              "#46039f"
             ],
             [
              0.2222222222222222,
              "#7201a8"
             ],
             [
              0.3333333333333333,
              "#9c179e"
             ],
             [
              0.4444444444444444,
              "#bd3786"
             ],
             [
              0.5555555555555556,
              "#d8576b"
             ],
             [
              0.6666666666666666,
              "#ed7953"
             ],
             [
              0.7777777777777778,
              "#fb9f3a"
             ],
             [
              0.8888888888888888,
              "#fdca26"
             ],
             [
              1,
              "#f0f921"
             ]
            ],
            "type": "contour"
           }
          ],
          "contourcarpet": [
           {
            "colorbar": {
             "outlinewidth": 0,
             "ticks": ""
            },
            "type": "contourcarpet"
           }
          ],
          "heatmap": [
           {
            "colorbar": {
             "outlinewidth": 0,
             "ticks": ""
            },
            "colorscale": [
             [
              0,
              "#0d0887"
             ],
             [
              0.1111111111111111,
              "#46039f"
             ],
             [
              0.2222222222222222,
              "#7201a8"
             ],
             [
              0.3333333333333333,
              "#9c179e"
             ],
             [
              0.4444444444444444,
              "#bd3786"
             ],
             [
              0.5555555555555556,
              "#d8576b"
             ],
             [
              0.6666666666666666,
              "#ed7953"
             ],
             [
              0.7777777777777778,
              "#fb9f3a"
             ],
             [
              0.8888888888888888,
              "#fdca26"
             ],
             [
              1,
              "#f0f921"
             ]
            ],
            "type": "heatmap"
           }
          ],
          "heatmapgl": [
           {
            "colorbar": {
             "outlinewidth": 0,
             "ticks": ""
            },
            "colorscale": [
             [
              0,
              "#0d0887"
             ],
             [
              0.1111111111111111,
              "#46039f"
             ],
             [
              0.2222222222222222,
              "#7201a8"
             ],
             [
              0.3333333333333333,
              "#9c179e"
             ],
             [
              0.4444444444444444,
              "#bd3786"
             ],
             [
              0.5555555555555556,
              "#d8576b"
             ],
             [
              0.6666666666666666,
              "#ed7953"
             ],
             [
              0.7777777777777778,
              "#fb9f3a"
             ],
             [
              0.8888888888888888,
              "#fdca26"
             ],
             [
              1,
              "#f0f921"
             ]
            ],
            "type": "heatmapgl"
           }
          ],
          "histogram": [
           {
            "marker": {
             "pattern": {
              "fillmode": "overlay",
              "size": 10,
              "solidity": 0.2
             }
            },
            "type": "histogram"
           }
          ],
          "histogram2d": [
           {
            "colorbar": {
             "outlinewidth": 0,
             "ticks": ""
            },
            "colorscale": [
             [
              0,
              "#0d0887"
             ],
             [
              0.1111111111111111,
              "#46039f"
             ],
             [
              0.2222222222222222,
              "#7201a8"
             ],
             [
              0.3333333333333333,
              "#9c179e"
             ],
             [
              0.4444444444444444,
              "#bd3786"
             ],
             [
              0.5555555555555556,
              "#d8576b"
             ],
             [
              0.6666666666666666,
              "#ed7953"
             ],
             [
              0.7777777777777778,
              "#fb9f3a"
             ],
             [
              0.8888888888888888,
              "#fdca26"
             ],
             [
              1,
              "#f0f921"
             ]
            ],
            "type": "histogram2d"
           }
          ],
          "histogram2dcontour": [
           {
            "colorbar": {
             "outlinewidth": 0,
             "ticks": ""
            },
            "colorscale": [
             [
              0,
              "#0d0887"
             ],
             [
              0.1111111111111111,
              "#46039f"
             ],
             [
              0.2222222222222222,
              "#7201a8"
             ],
             [
              0.3333333333333333,
              "#9c179e"
             ],
             [
              0.4444444444444444,
              "#bd3786"
             ],
             [
              0.5555555555555556,
              "#d8576b"
             ],
             [
              0.6666666666666666,
              "#ed7953"
             ],
             [
              0.7777777777777778,
              "#fb9f3a"
             ],
             [
              0.8888888888888888,
              "#fdca26"
             ],
             [
              1,
              "#f0f921"
             ]
            ],
            "type": "histogram2dcontour"
           }
          ],
          "mesh3d": [
           {
            "colorbar": {
             "outlinewidth": 0,
             "ticks": ""
            },
            "type": "mesh3d"
           }
          ],
          "parcoords": [
           {
            "line": {
             "colorbar": {
              "outlinewidth": 0,
              "ticks": ""
             }
            },
            "type": "parcoords"
           }
          ],
          "pie": [
           {
            "automargin": true,
            "type": "pie"
           }
          ],
          "scatter": [
           {
            "fillpattern": {
             "fillmode": "overlay",
             "size": 10,
             "solidity": 0.2
            },
            "type": "scatter"
           }
          ],
          "scatter3d": [
           {
            "line": {
             "colorbar": {
              "outlinewidth": 0,
              "ticks": ""
             }
            },
            "marker": {
             "colorbar": {
              "outlinewidth": 0,
              "ticks": ""
             }
            },
            "type": "scatter3d"
           }
          ],
          "scattercarpet": [
           {
            "marker": {
             "colorbar": {
              "outlinewidth": 0,
              "ticks": ""
             }
            },
            "type": "scattercarpet"
           }
          ],
          "scattergeo": [
           {
            "marker": {
             "colorbar": {
              "outlinewidth": 0,
              "ticks": ""
             }
            },
            "type": "scattergeo"
           }
          ],
          "scattergl": [
           {
            "marker": {
             "colorbar": {
              "outlinewidth": 0,
              "ticks": ""
             }
            },
            "type": "scattergl"
           }
          ],
          "scattermapbox": [
           {
            "marker": {
             "colorbar": {
              "outlinewidth": 0,
              "ticks": ""
             }
            },
            "type": "scattermapbox"
           }
          ],
          "scatterpolar": [
           {
            "marker": {
             "colorbar": {
              "outlinewidth": 0,
              "ticks": ""
             }
            },
            "type": "scatterpolar"
           }
          ],
          "scatterpolargl": [
           {
            "marker": {
             "colorbar": {
              "outlinewidth": 0,
              "ticks": ""
             }
            },
            "type": "scatterpolargl"
           }
          ],
          "scatterternary": [
           {
            "marker": {
             "colorbar": {
              "outlinewidth": 0,
              "ticks": ""
             }
            },
            "type": "scatterternary"
           }
          ],
          "surface": [
           {
            "colorbar": {
             "outlinewidth": 0,
             "ticks": ""
            },
            "colorscale": [
             [
              0,
              "#0d0887"
             ],
             [
              0.1111111111111111,
              "#46039f"
             ],
             [
              0.2222222222222222,
              "#7201a8"
             ],
             [
              0.3333333333333333,
              "#9c179e"
             ],
             [
              0.4444444444444444,
              "#bd3786"
             ],
             [
              0.5555555555555556,
              "#d8576b"
             ],
             [
              0.6666666666666666,
              "#ed7953"
             ],
             [
              0.7777777777777778,
              "#fb9f3a"
             ],
             [
              0.8888888888888888,
              "#fdca26"
             ],
             [
              1,
              "#f0f921"
             ]
            ],
            "type": "surface"
           }
          ],
          "table": [
           {
            "cells": {
             "fill": {
              "color": "#EBF0F8"
             },
             "line": {
              "color": "white"
             }
            },
            "header": {
             "fill": {
              "color": "#C8D4E3"
             },
             "line": {
              "color": "white"
             }
            },
            "type": "table"
           }
          ]
         },
         "layout": {
          "annotationdefaults": {
           "arrowcolor": "#2a3f5f",
           "arrowhead": 0,
           "arrowwidth": 1
          },
          "autotypenumbers": "strict",
          "coloraxis": {
           "colorbar": {
            "outlinewidth": 0,
            "ticks": ""
           }
          },
          "colorscale": {
           "diverging": [
            [
             0,
             "#8e0152"
            ],
            [
             0.1,
             "#c51b7d"
            ],
            [
             0.2,
             "#de77ae"
            ],
            [
             0.3,
             "#f1b6da"
            ],
            [
             0.4,
             "#fde0ef"
            ],
            [
             0.5,
             "#f7f7f7"
            ],
            [
             0.6,
             "#e6f5d0"
            ],
            [
             0.7,
             "#b8e186"
            ],
            [
             0.8,
             "#7fbc41"
            ],
            [
             0.9,
             "#4d9221"
            ],
            [
             1,
             "#276419"
            ]
           ],
           "sequential": [
            [
             0,
             "#0d0887"
            ],
            [
             0.1111111111111111,
             "#46039f"
            ],
            [
             0.2222222222222222,
             "#7201a8"
            ],
            [
             0.3333333333333333,
             "#9c179e"
            ],
            [
             0.4444444444444444,
             "#bd3786"
            ],
            [
             0.5555555555555556,
             "#d8576b"
            ],
            [
             0.6666666666666666,
             "#ed7953"
            ],
            [
             0.7777777777777778,
             "#fb9f3a"
            ],
            [
             0.8888888888888888,
             "#fdca26"
            ],
            [
             1,
             "#f0f921"
            ]
           ],
           "sequentialminus": [
            [
             0,
             "#0d0887"
            ],
            [
             0.1111111111111111,
             "#46039f"
            ],
            [
             0.2222222222222222,
             "#7201a8"
            ],
            [
             0.3333333333333333,
             "#9c179e"
            ],
            [
             0.4444444444444444,
             "#bd3786"
            ],
            [
             0.5555555555555556,
             "#d8576b"
            ],
            [
             0.6666666666666666,
             "#ed7953"
            ],
            [
             0.7777777777777778,
             "#fb9f3a"
            ],
            [
             0.8888888888888888,
             "#fdca26"
            ],
            [
             1,
             "#f0f921"
            ]
           ]
          },
          "colorway": [
           "#636efa",
           "#EF553B",
           "#00cc96",
           "#ab63fa",
           "#FFA15A",
           "#19d3f3",
           "#FF6692",
           "#B6E880",
           "#FF97FF",
           "#FECB52"
          ],
          "font": {
           "color": "#2a3f5f"
          },
          "geo": {
           "bgcolor": "white",
           "lakecolor": "white",
           "landcolor": "#E5ECF6",
           "showlakes": true,
           "showland": true,
           "subunitcolor": "white"
          },
          "hoverlabel": {
           "align": "left"
          },
          "hovermode": "closest",
          "mapbox": {
           "style": "light"
          },
          "paper_bgcolor": "white",
          "plot_bgcolor": "#E5ECF6",
          "polar": {
           "angularaxis": {
            "gridcolor": "white",
            "linecolor": "white",
            "ticks": ""
           },
           "bgcolor": "#E5ECF6",
           "radialaxis": {
            "gridcolor": "white",
            "linecolor": "white",
            "ticks": ""
           }
          },
          "scene": {
           "xaxis": {
            "backgroundcolor": "#E5ECF6",
            "gridcolor": "white",
            "gridwidth": 2,
            "linecolor": "white",
            "showbackground": true,
            "ticks": "",
            "zerolinecolor": "white"
           },
           "yaxis": {
            "backgroundcolor": "#E5ECF6",
            "gridcolor": "white",
            "gridwidth": 2,
            "linecolor": "white",
            "showbackground": true,
            "ticks": "",
            "zerolinecolor": "white"
           },
           "zaxis": {
            "backgroundcolor": "#E5ECF6",
            "gridcolor": "white",
            "gridwidth": 2,
            "linecolor": "white",
            "showbackground": true,
            "ticks": "",
            "zerolinecolor": "white"
           }
          },
          "shapedefaults": {
           "line": {
            "color": "#2a3f5f"
           }
          },
          "ternary": {
           "aaxis": {
            "gridcolor": "white",
            "linecolor": "white",
            "ticks": ""
           },
           "baxis": {
            "gridcolor": "white",
            "linecolor": "white",
            "ticks": ""
           },
           "bgcolor": "#E5ECF6",
           "caxis": {
            "gridcolor": "white",
            "linecolor": "white",
            "ticks": ""
           }
          },
          "title": {
           "x": 0.05
          },
          "xaxis": {
           "automargin": true,
           "gridcolor": "white",
           "linecolor": "white",
           "ticks": "",
           "title": {
            "standoff": 15
           },
           "zerolinecolor": "white",
           "zerolinewidth": 2
          },
          "yaxis": {
           "automargin": true,
           "gridcolor": "white",
           "linecolor": "white",
           "ticks": "",
           "title": {
            "standoff": 15
           },
           "zerolinecolor": "white",
           "zerolinewidth": 2
          }
         }
        },
        "title": {
         "text": "Cmpound Score by Country and Entity, for World War II Allied Side Before"
        },
        "width": 800,
        "xaxis": {
         "title": {
          "text": "Entities"
         }
        },
        "yaxis": {
         "automargin": true,
         "title": {
          "text": "Country"
         }
        }
       }
      }
     },
     "metadata": {},
     "output_type": "display_data"
    },
    {
     "data": {
      "application/vnd.plotly.v1+json": {
       "config": {
        "plotlyServerURL": "https://plot.ly"
       },
       "data": [
        {
         "colorbar": {
          "title": {
           "text": "Sentiment Score"
          }
         },
         "colorscale": [
          [
           0,
           "rgb(103,0,31)"
          ],
          [
           0.1,
           "rgb(178,24,43)"
          ],
          [
           0.2,
           "rgb(214,96,77)"
          ],
          [
           0.3,
           "rgb(244,165,130)"
          ],
          [
           0.4,
           "rgb(253,219,199)"
          ],
          [
           0.5,
           "rgb(247,247,247)"
          ],
          [
           0.6,
           "rgb(209,229,240)"
          ],
          [
           0.7,
           "rgb(146,197,222)"
          ],
          [
           0.8,
           "rgb(67,147,195)"
          ],
          [
           0.9,
           "rgb(33,102,172)"
          ],
          [
           1,
           "rgb(5,48,97)"
          ]
         ],
         "type": "heatmap",
         "x": [
          "States Navy Rear",
          "ComSubPac",
          "USS Sea",
          "Commander Sherman",
          "Army",
          "Second Lieutenant Duran",
          "Commander Holden",
          "Sherman",
          "American",
          "Communist",
          "Widowmaker",
          "Widowmaker",
          "US",
          "US",
          "US",
          "US",
          "NATO",
          "NATO",
          "USSR",
          "USSR",
          "US Navy",
          "US Navy",
          "NATO",
          "NATO",
          "NATO",
          "NATO",
          "Pyrenees Mountains",
          "Nazi",
          "Girl Back Home",
          "Bahamas",
          "Boys",
          "Woman",
          "Journey",
          "Lieutenant Peter",
          "General Stevens",
          "Army Air Forces",
          "Colonel Cathcart",
          "US Army",
          "Navy Lieutenant Harry Brubaker",
          "USS Savo Island",
          "Admiral Tarrant",
          "Tarrant",
          "Savo Island",
          "Forney",
          "Commander Lee",
          "CIA",
          "CIA",
          "CIA",
          "New Yorker",
          "New Yorker",
          "New Yorker",
          "Army",
          "Army",
          "Army",
          "Army Group South",
          "Army",
          "Army",
          "USS Sawfish",
          "Towers",
          "Towers",
          "Commander Towers",
          "Commander Towers",
          "USS Swordfish",
          "USS Swordfish",
          "USS Scorpion",
          "USS Scorpion",
          "USS Scorpion",
          "Golden Gate",
          "Admiral Bridie",
          "Lieutenant Hosgood",
          "Commander Towers",
          "US",
          "US",
          "Arnold",
          "Arnold",
          "Arnold",
          "Arnold",
          "Arnold",
          "Arnold",
          "Nazi",
          "Nazi",
          "Arnold",
          "Arnold",
          "Arnold",
          "Arnold",
          "Arnold",
          "Arnold",
          "Nazi",
          "Nazi",
          "US",
          "US",
          "Arnold",
          "Arnold",
          "Arnold",
          "Arnold",
          "Arnold",
          "Arnold",
          "Nazi",
          "Nazi",
          "Arnold",
          "Arnold",
          "Arnold",
          "Arnold",
          "Arnold",
          "Arnold",
          "Nazi",
          "Nazi",
          "RAF",
          "Lieutenant Grey",
          "Colonel George",
          "Sergeant Max",
          "Infantry Division",
          "Infantry Division",
          "Colonel David",
          "Colonel",
          "Army Reserve",
          "Nazi",
          "General",
          "Tirailleur Regiment",
          "Corporal Abdelkader",
          "ATR",
          "NCO",
          "MPs",
          "Colonel",
          "Abdelkader",
          "McPhimister",
          "Brigadier",
          "Colonel Piniev",
          "Soviets",
          "Soviets",
          "Soviets",
          "Colonel Omicron",
          "General Bolt",
          "Lieutenant Christian",
          "Headquarters",
          "Headquarters",
          "Colonel Kastorp",
          "Colonel Kastorp"
         ],
         "y": [
          "United States of America",
          "United States of America",
          "United States of America",
          "United States of America",
          "United States of America",
          "United States of America",
          "United States of America",
          "United States of America",
          "United States of America",
          "United States of America",
          "United States of America",
          "United Kingdom",
          "United States of America",
          "United Kingdom",
          "United States of America",
          "United Kingdom",
          "United States of America",
          "United Kingdom",
          "United States of America",
          "United Kingdom",
          "United States of America",
          "United Kingdom",
          "United States of America",
          "United Kingdom",
          "United States of America",
          "United Kingdom",
          "United Kingdom",
          "United Kingdom",
          "United States of America",
          "United States of America",
          "United States of America",
          "United States of America",
          "United States of America",
          "United States of America",
          "United States of America",
          "United States of America",
          "United States of America",
          "United States of America",
          "United States of America",
          "United States of America",
          "United States of America",
          "United States of America",
          "United States of America",
          "United States of America",
          "United States of America",
          "United States of America",
          "France",
          "United Kingdom",
          "United States of America",
          "France",
          "United Kingdom",
          "United States of America",
          "France",
          "United Kingdom",
          "United States of America",
          "United States of America",
          "United States of America",
          "United States of America",
          "United States of America",
          "United States of America",
          "United States of America",
          "United States of America",
          "United States of America",
          "United States of America",
          "United States of America",
          "United States of America",
          "United States of America",
          "United States of America",
          "United States of America",
          "United States of America",
          "United States of America",
          "France",
          "United Kingdom",
          "France",
          "United Kingdom",
          "France",
          "United Kingdom",
          "France",
          "United Kingdom",
          "France",
          "United Kingdom",
          "France",
          "United Kingdom",
          "France",
          "United Kingdom",
          "France",
          "United Kingdom",
          "France",
          "United Kingdom",
          "France",
          "United Kingdom",
          "France",
          "United Kingdom",
          "France",
          "United Kingdom",
          "France",
          "United Kingdom",
          "France",
          "United Kingdom",
          "France",
          "United Kingdom",
          "France",
          "United Kingdom",
          "France",
          "United Kingdom",
          "France",
          "United Kingdom",
          "United States of America",
          "United States of America",
          "United States of America",
          "United States of America",
          "United States of America",
          "United States of America",
          "United States of America",
          "United States of America",
          "United States of America",
          "United States of America",
          "United States of America",
          "France",
          "France",
          "France",
          "France",
          "France",
          "France",
          "France",
          "United States of America",
          "United States of America",
          "United States of America",
          "United States of America",
          "United States of America",
          "United States of America",
          "United States of America",
          "United States of America",
          "United States of America",
          "United States of America",
          "United States of America",
          "United States of America",
          "United States of America"
         ],
         "z": [
          [
           0.0516,
           0.0516,
           0.0516,
           0.4215,
           0.11535000000000001,
           0.0258,
           -0.3182,
           -0.022808333333333337,
           -0.25,
           -0.8807,
           0,
           0,
           0.09344000000000001,
           0.09344000000000001,
           0.09344000000000001,
           0.09344000000000001,
           -0.10900000000000003,
           -0.10900000000000003,
           0.7717,
           0.7717,
           0.0516,
           0.0516,
           -0.10900000000000003,
           -0.10900000000000003,
           -0.10900000000000003,
           -0.10900000000000003,
           0.3182,
           0,
           0.6124,
           0,
           0,
           0,
           0.5267,
           -0.5994,
           0,
           -0.5994,
           -0.2023,
           -0.2023,
           -0.296,
           -0.6124,
           -0.6124,
           -0.5869,
           -0.332,
           -0.20026666666666668,
           -0.4767,
           0.0323,
           0.0323,
           0.0323,
           -0.9819,
           -0.9819,
           -0.9819,
           -0.9819,
           -0.9819,
           -0.9819,
           0,
           0.146475,
           0.146475,
           0.6705,
           0.056644444444444435,
           0.056644444444444435,
           -0.17020000000000002,
           -0.17020000000000002,
           -0.148,
           -0.148,
           0.0258,
           0.0258,
           0.0258,
           -0.2732,
           -0.3491,
           -0.3491,
           -0.17020000000000002,
           -0.4215,
           -0.4215,
           -0.0991625,
           -0.0991625,
           -0.0991625,
           -0.0991625,
           -0.0991625,
           -0.0991625,
           -0.04557499999999999,
           -0.04557499999999999,
           -0.0991625,
           -0.0991625,
           -0.0991625,
           -0.0991625,
           -0.0991625,
           -0.0991625,
           -0.04557499999999999,
           -0.04557499999999999,
           -0.4215,
           -0.4215,
           -0.0991625,
           -0.0991625,
           -0.0991625,
           -0.0991625,
           -0.0991625,
           -0.0991625,
           -0.04557499999999999,
           -0.04557499999999999,
           -0.0991625,
           -0.0991625,
           -0.0991625,
           -0.0991625,
           -0.0991625,
           -0.0991625,
           -0.04557499999999999,
           -0.04557499999999999,
           0,
           -0.25,
           -0.743,
           -0.2263,
           -0.2997,
           -0.2997,
           -0.5267,
           -0.06239999999999998,
           -0.296,
           -0.5267,
           0.39690000000000003,
           0,
           -0.3612,
           0.5574,
           -0.728,
           0,
           0.0516,
           -0.08779999999999999,
           -0.5994,
           0,
           0,
           0.1291857142857143,
           0.1291857142857143,
           0.1291857142857143,
           0,
           0.21610000000000001,
           -0.3412,
           0.2023,
           0.2023,
           -0.5579000000000001,
           -0.5579000000000001
          ]
         ]
        }
       ],
       "frames": [
        {
         "data": [
          {
           "colorscale": [
            [
             0,
             "rgb(103,0,31)"
            ],
            [
             0.1,
             "rgb(178,24,43)"
            ],
            [
             0.2,
             "rgb(214,96,77)"
            ],
            [
             0.3,
             "rgb(244,165,130)"
            ],
            [
             0.4,
             "rgb(253,219,199)"
            ],
            [
             0.5,
             "rgb(247,247,247)"
            ],
            [
             0.6,
             "rgb(209,229,240)"
            ],
            [
             0.7,
             "rgb(146,197,222)"
            ],
            [
             0.8,
             "rgb(67,147,195)"
            ],
            [
             0.9,
             "rgb(33,102,172)"
            ],
            [
             1,
             "rgb(5,48,97)"
            ]
           ],
           "type": "heatmap",
           "x": [
            "States Navy Rear",
            "ComSubPac",
            "USS Sea",
            "Commander Sherman",
            "Army",
            "Second Lieutenant Duran",
            "Commander Holden",
            "Sherman",
            "American",
            "Communist",
            "Widowmaker",
            "Widowmaker",
            "US",
            "US",
            "US",
            "US",
            "NATO",
            "NATO",
            "USSR",
            "USSR",
            "US Navy",
            "US Navy",
            "NATO",
            "NATO",
            "NATO",
            "NATO",
            "Pyrenees Mountains",
            "Nazi",
            "Girl Back Home",
            "Bahamas",
            "Boys",
            "Woman",
            "Journey",
            "Lieutenant Peter",
            "General Stevens",
            "Army Air Forces",
            "Colonel Cathcart",
            "US Army",
            "Navy Lieutenant Harry Brubaker",
            "USS Savo Island",
            "Admiral Tarrant",
            "Tarrant",
            "Savo Island",
            "Forney",
            "Commander Lee",
            "CIA",
            "CIA",
            "CIA",
            "New Yorker",
            "New Yorker",
            "New Yorker",
            "Army",
            "Army",
            "Army",
            "Army Group South",
            "Army",
            "Army",
            "USS Sawfish",
            "Towers",
            "Towers",
            "Commander Towers",
            "Commander Towers",
            "USS Swordfish",
            "USS Swordfish",
            "USS Scorpion",
            "USS Scorpion",
            "USS Scorpion",
            "Golden Gate",
            "Admiral Bridie",
            "Lieutenant Hosgood",
            "Commander Towers",
            "US",
            "US",
            "Arnold",
            "Arnold",
            "Arnold",
            "Arnold",
            "Arnold",
            "Arnold",
            "Nazi",
            "Nazi",
            "Arnold",
            "Arnold",
            "Arnold",
            "Arnold",
            "Arnold",
            "Arnold",
            "Nazi",
            "Nazi",
            "US",
            "US",
            "Arnold",
            "Arnold",
            "Arnold",
            "Arnold",
            "Arnold",
            "Arnold",
            "Nazi",
            "Nazi",
            "Arnold",
            "Arnold",
            "Arnold",
            "Arnold",
            "Arnold",
            "Arnold",
            "Nazi",
            "Nazi",
            "RAF",
            "Lieutenant Grey",
            "Colonel George",
            "Sergeant Max",
            "Infantry Division",
            "Infantry Division",
            "Colonel David",
            "Colonel",
            "Army Reserve",
            "Nazi",
            "General",
            "Tirailleur Regiment",
            "Corporal Abdelkader",
            "ATR",
            "NCO",
            "MPs",
            "Colonel",
            "Abdelkader",
            "McPhimister",
            "Brigadier",
            "Colonel Piniev",
            "Soviets",
            "Soviets",
            "Soviets",
            "Colonel Omicron",
            "General Bolt",
            "Lieutenant Christian",
            "Headquarters",
            "Headquarters",
            "Colonel Kastorp",
            "Colonel Kastorp"
           ],
           "y": [
            "United States of America",
            "United States of America",
            "United States of America",
            "United States of America",
            "United States of America",
            "United States of America",
            "United States of America",
            "United States of America",
            "United States of America",
            "United States of America",
            "United States of America",
            "United Kingdom",
            "United States of America",
            "United Kingdom",
            "United States of America",
            "United Kingdom",
            "United States of America",
            "United Kingdom",
            "United States of America",
            "United Kingdom",
            "United States of America",
            "United Kingdom",
            "United States of America",
            "United Kingdom",
            "United States of America",
            "United Kingdom",
            "United Kingdom",
            "United Kingdom",
            "United States of America",
            "United States of America",
            "United States of America",
            "United States of America",
            "United States of America",
            "United States of America",
            "United States of America",
            "United States of America",
            "United States of America",
            "United States of America",
            "United States of America",
            "United States of America",
            "United States of America",
            "United States of America",
            "United States of America",
            "United States of America",
            "United States of America",
            "United States of America",
            "France",
            "United Kingdom",
            "United States of America",
            "France",
            "United Kingdom",
            "United States of America",
            "France",
            "United Kingdom",
            "United States of America",
            "United States of America",
            "United States of America",
            "United States of America",
            "United States of America",
            "United States of America",
            "United States of America",
            "United States of America",
            "United States of America",
            "United States of America",
            "United States of America",
            "United States of America",
            "United States of America",
            "United States of America",
            "United States of America",
            "United States of America",
            "United States of America",
            "France",
            "United Kingdom",
            "France",
            "United Kingdom",
            "France",
            "United Kingdom",
            "France",
            "United Kingdom",
            "France",
            "United Kingdom",
            "France",
            "United Kingdom",
            "France",
            "United Kingdom",
            "France",
            "United Kingdom",
            "France",
            "United Kingdom",
            "France",
            "United Kingdom",
            "France",
            "United Kingdom",
            "France",
            "United Kingdom",
            "France",
            "United Kingdom",
            "France",
            "United Kingdom",
            "France",
            "United Kingdom",
            "France",
            "United Kingdom",
            "France",
            "United Kingdom",
            "France",
            "United Kingdom",
            "United States of America",
            "United States of America",
            "United States of America",
            "United States of America",
            "United States of America",
            "United States of America",
            "United States of America",
            "United States of America",
            "United States of America",
            "United States of America",
            "United States of America",
            "France",
            "France",
            "France",
            "France",
            "France",
            "France",
            "France",
            "United States of America",
            "United States of America",
            "United States of America",
            "United States of America",
            "United States of America",
            "United States of America",
            "United States of America",
            "United States of America",
            "United States of America",
            "United States of America",
            "United States of America",
            "United States of America",
            "United States of America"
           ],
           "z": [
            0.0516,
            0.0516,
            0.0516,
            0.4215,
            0.11535000000000001,
            0.0258,
            -0.3182,
            -0.022808333333333337,
            -0.25,
            -0.8807,
            0,
            0,
            0.09344000000000001,
            0.09344000000000001,
            0.09344000000000001,
            0.09344000000000001,
            -0.10900000000000003,
            -0.10900000000000003,
            0.7717,
            0.7717,
            0.0516,
            0.0516,
            -0.10900000000000003,
            -0.10900000000000003,
            -0.10900000000000003,
            -0.10900000000000003,
            0.3182,
            0,
            0.6124,
            0,
            0,
            0,
            0.5267,
            -0.5994,
            0,
            -0.5994,
            -0.2023,
            -0.2023,
            -0.296,
            -0.6124,
            -0.6124,
            -0.5869,
            -0.332,
            -0.20026666666666668,
            -0.4767,
            0.0323,
            0.0323,
            0.0323,
            -0.9819,
            -0.9819,
            -0.9819,
            -0.9819,
            -0.9819,
            -0.9819,
            0,
            0.146475,
            0.146475,
            0.6705,
            0.056644444444444435,
            0.056644444444444435,
            -0.17020000000000002,
            -0.17020000000000002,
            -0.148,
            -0.148,
            0.0258,
            0.0258,
            0.0258,
            -0.2732,
            -0.3491,
            -0.3491,
            -0.17020000000000002,
            -0.4215,
            -0.4215,
            -0.0991625,
            -0.0991625,
            -0.0991625,
            -0.0991625,
            -0.0991625,
            -0.0991625,
            -0.04557499999999999,
            -0.04557499999999999,
            -0.0991625,
            -0.0991625,
            -0.0991625,
            -0.0991625,
            -0.0991625,
            -0.0991625,
            -0.04557499999999999,
            -0.04557499999999999,
            -0.4215,
            -0.4215,
            -0.0991625,
            -0.0991625,
            -0.0991625,
            -0.0991625,
            -0.0991625,
            -0.0991625,
            -0.04557499999999999,
            -0.04557499999999999,
            -0.0991625,
            -0.0991625,
            -0.0991625,
            -0.0991625,
            -0.0991625,
            -0.0991625,
            -0.04557499999999999,
            -0.04557499999999999,
            0,
            -0.25,
            -0.743,
            -0.2263,
            -0.2997,
            -0.2997,
            -0.5267,
            -0.06239999999999998,
            -0.296,
            -0.5267,
            0.39690000000000003,
            0,
            -0.3612,
            0.5574,
            -0.728,
            0,
            0.0516,
            -0.08779999999999999,
            -0.5994,
            0,
            0,
            0.1291857142857143,
            0.1291857142857143,
            0.1291857142857143,
            0,
            0.21610000000000001,
            -0.3412,
            0.2023,
            0.2023,
            -0.5579000000000001,
            -0.5579000000000001
           ]
          }
         ],
         "name": "1"
        },
        {
         "data": [
          {
           "colorscale": [
            [
             0,
             "rgb(103,0,31)"
            ],
            [
             0.1,
             "rgb(178,24,43)"
            ],
            [
             0.2,
             "rgb(214,96,77)"
            ],
            [
             0.3,
             "rgb(244,165,130)"
            ],
            [
             0.4,
             "rgb(253,219,199)"
            ],
            [
             0.5,
             "rgb(247,247,247)"
            ],
            [
             0.6,
             "rgb(209,229,240)"
            ],
            [
             0.7,
             "rgb(146,197,222)"
            ],
            [
             0.8,
             "rgb(67,147,195)"
            ],
            [
             0.9,
             "rgb(33,102,172)"
            ],
            [
             1,
             "rgb(5,48,97)"
            ]
           ],
           "type": "heatmap",
           "x": [
            "Communists",
            "Nazi",
            "Nazi Germany",
            "Nazi Germany",
            "Nazi Germany",
            "Nazi Germany",
            "Nazi Germany",
            "Nazi Germany",
            "Nazi",
            "Nazi",
            "Nazi",
            "POW",
            "POW",
            "POW",
            "Admiral Canaris",
            "IRA",
            "IRA",
            "Army Rangers",
            "Colonel Pitt",
            "Nazi",
            "Communist",
            "Communist",
            "Nazi",
            "Nazi",
            "WWII",
            "WAVE",
            "Weight Of Chains",
            "National",
            "National",
            "Foreign Operations Appropriations",
            "NATO",
            "Muslim",
            "NATO",
            "International Monetary Fund",
            "Lieutenant Ed Pell",
            "Lieutenant Corona",
            "Pell",
            "Pell",
            "Lieutenant Carl Abbott",
            "Boeing",
            "Colonel Tibbets",
            "Colonel Tibbets",
            "Congress",
            "USS Bedford",
            "USS Bedford",
            "GIUK",
            "GIUK",
            "NATO",
            "NATO",
            "NATO",
            "NATO",
            "Lieutenant",
            "Lieutenant",
            "USNR",
            "USNR",
            "Commander",
            "Army Air Corps Officer",
            "PBJ",
            "Yamato",
            "Lieutenant",
            "Lieutenant",
            "McConnell",
            "American Navy",
            "POWs",
            "POWs",
            "Royal Navy",
            "USAAF Captain Virgil Hilts",
            "Cooler King",
            "RAF",
            "POWs",
            "POWs",
            "MacDonald",
            "POWs",
            "MacDonald",
            "POWs",
            "House Armed Services Committee",
            "Fighter Group",
            "RAF",
            "Nazi Germany",
            "General Olbricht",
            "General Ludwig Beck",
            "Nazi",
            "General Friedrich Fromm",
            "Goerdeler",
            "Colonel Mertz",
            "General Fellgiebel",
            "Lieutenant Haeften",
            "Nazi",
            "General",
            "General Fromm",
            "Colonel Stauffenberg",
            "Colonel Stauffenberg",
            "Countess Nina",
            "Nazi",
            "Nazi",
            "MI5",
            "MI5",
            "Nazis",
            "Nazis",
            "Nazis",
            "Army",
            "Infantry",
            "Colonel Dankhopf",
            "American Major",
            "Imperial Japanese Navy",
            "Admiral Isoroku Yamamoto",
            "American Admiral Chester Nimitz",
            "Nazi",
            "Nazi",
            "RAF",
            "BBC",
            "RAF Air",
            "RAF",
            "Luftwaffe",
            "RAF",
            "RAF",
            "RAF",
            "RAF",
            "Mac Tilton",
            "US Army Air Service",
            "WREN",
            "Lieutenant Pierson",
            "American Naval",
            "USS Reluctant",
            "Lieutenant",
            "Lieutenant",
            "Army",
            "VE",
            "USS Livingston",
            "Nazi Party",
            "Catholic Poles",
            "Catholic Poles",
            "Nazi",
            "Nazi Party",
            "Red Army",
            "SS",
            "Golden Party",
            "Schindler Jews"
           ],
           "y": [
            "United States of America",
            "United States of America",
            "France",
            "Poland",
            "United Kingdom",
            "France",
            "Poland",
            "United Kingdom",
            "France",
            "Poland",
            "United Kingdom",
            "France",
            "Poland",
            "United Kingdom",
            "United Kingdom",
            "United Kingdom",
            "United Kingdom",
            "United Kingdom",
            "United Kingdom",
            "United Kingdom",
            "United States of America",
            "United States of America",
            "United States of America",
            "France",
            "United States of America",
            "United States of America",
            "United States of America",
            "United States of America",
            "United States of America",
            "United States of America",
            "United States of America",
            "United States of America",
            "United States of America",
            "United States of America",
            "United States of America",
            "United States of America",
            "United States of America",
            "United States of America",
            "United States of America",
            "United States of America",
            "United States of America",
            "United States of America",
            "United States of America",
            "United States of America",
            "United Kingdom",
            "United States of America",
            "United Kingdom",
            "United States of America",
            "United Kingdom",
            "United States of America",
            "United Kingdom",
            "United States of America",
            "United Kingdom",
            "United States of America",
            "United Kingdom",
            "United States of America",
            "United States of America",
            "United States of America",
            "United States of America",
            "United States of America",
            "United States of America",
            "United States of America",
            "United States of America",
            "United States of America",
            "United States of America",
            "United States of America",
            "United States of America",
            "United States of America",
            "United States of America",
            "United States of America",
            "United States of America",
            "United States of America",
            "United States of America",
            "United States of America",
            "United States of America",
            "United States of America",
            "United States of America",
            "United States of America",
            "United States of America",
            "United States of America",
            "United States of America",
            "United States of America",
            "United States of America",
            "United States of America",
            "United States of America",
            "United States of America",
            "United States of America",
            "United States of America",
            "United States of America",
            "United States of America",
            "United States of America",
            "United States of America",
            "United States of America",
            "United States of America",
            "United Kingdom",
            "United States of America",
            "United Kingdom",
            "United States of America",
            "United Kingdom",
            "United States of America",
            "United States of America",
            "United States of America",
            "United States of America",
            "United States of America",
            "United States of America",
            "United States of America",
            "United States of America",
            "United States of America",
            "United States of America",
            "United Kingdom",
            "United Kingdom",
            "United Kingdom",
            "United Kingdom",
            "United Kingdom",
            "United Kingdom",
            "United Kingdom",
            "United Kingdom",
            "United Kingdom",
            "United States of America",
            "United States of America",
            "United States of America",
            "United States of America",
            "United States of America",
            "United States of America",
            "United States of America",
            "United States of America",
            "United States of America",
            "United States of America",
            "United States of America",
            "United States of America",
            "United States of America",
            "United States of America",
            "United States of America",
            "United States of America",
            "United States of America",
            "United States of America",
            "United States of America",
            "United States of America"
           ],
           "z": [
            -0.25,
            -0.8074,
            -0.5994,
            -0.5994,
            -0.5994,
            -0.5994,
            -0.5994,
            -0.5994,
            -0.61815,
            -0.61815,
            -0.61815,
            0,
            0,
            0,
            0.3182,
            0,
            0,
            0.8047,
            -0.9716,
            -0.43445,
            0.7506,
            0.7506,
            -0.3818,
            -0.3818,
            0.3818,
            0.6369,
            -0.5267,
            0.29500000000000004,
            0.29500000000000004,
            -0.4019,
            -0.02855000000000002,
            0.36145,
            -0.02855000000000002,
            -0.4939,
            0.2846,
            -0.9022,
            0.11612,
            0.11612,
            -0.4576,
            -0.4767,
            0,
            0,
            0,
            -0.4588,
            -0.4588,
            -0.4588,
            -0.4588,
            0.1891,
            0.1891,
            0.1891,
            0.1891,
            -0.2732,
            -0.2732,
            -0.2732,
            -0.2732,
            -0.17304999999999998,
            -0.7906,
            0.3182,
            -0.6249,
            0.51215,
            0.51215,
            0.2398,
            -0.5994,
            -0.30382857142857145,
            -0.30382857142857145,
            -0.7845,
            -0.25,
            -0.25,
            0,
            -0.30382857142857145,
            -0.30382857142857145,
            0.10405,
            -0.30382857142857145,
            0.10405,
            -0.30382857142857145,
            0,
            0.5106,
            -0.743,
            -0.2643,
            -0.4767,
            0,
            0.03542500000000001,
            0.2144,
            -0.14339999999999997,
            0,
            0.4404,
            0,
            0.03542500000000001,
            -0.06269999999999999,
            -0.1779,
            -0.5255,
            -0.5255,
            -0.7269,
            -0.25655000000000006,
            -0.25655000000000006,
            0.25,
            0.25,
            -0.8949,
            -0.8949,
            -0.32093333333333335,
            -0.743,
            -0.7906,
            -0.6808,
            -0.25,
            0,
            0.3612,
            0.25,
            -0.4019,
            -0.4019,
            -0.30058571428571434,
            0,
            0.5423,
            -0.30058571428571434,
            -0.4217,
            -0.30058571428571434,
            -0.30058571428571434,
            -0.30058571428571434,
            -0.30058571428571434,
            0,
            0.7717,
            0.5806,
            0.5598,
            -0.7096,
            -0.7096,
            0.64465,
            0.64465,
            -0.4767,
            0.8834,
            -0.5859,
            0.47209999999999996,
            0,
            0,
            0.543525,
            0.47209999999999996,
            0.27115,
            0.08485999999999999,
            0.6628,
            -0.05983333333333332
           ]
          }
         ],
         "name": "2"
        },
        {
         "data": [
          {
           "colorscale": [
            [
             0,
             "rgb(103,0,31)"
            ],
            [
             0.1,
             "rgb(178,24,43)"
            ],
            [
             0.2,
             "rgb(214,96,77)"
            ],
            [
             0.3,
             "rgb(244,165,130)"
            ],
            [
             0.4,
             "rgb(253,219,199)"
            ],
            [
             0.5,
             "rgb(247,247,247)"
            ],
            [
             0.6,
             "rgb(209,229,240)"
            ],
            [
             0.7,
             "rgb(146,197,222)"
            ],
            [
             0.8,
             "rgb(67,147,195)"
            ],
            [
             0.9,
             "rgb(33,102,172)"
            ],
            [
             1,
             "rgb(5,48,97)"
            ]
           ],
           "type": "heatmap",
           "x": [
            "Red Army",
            "Navy Lieutenant",
            "Commander",
            "Nazi",
            "Margaret",
            "Margaret",
            "Kvinde",
            "Campbell",
            "Campbell",
            "Army",
            "Nazi",
            "Campbell",
            "FBI",
            "American",
            "Nazi",
            "Sturmabteilung",
            "Learoyd",
            "Colonel Craig Harriman",
            "Colonel Craig Harriman",
            "Nazi",
            "Nazi",
            "Army",
            "Army",
            "McVey",
            "McVey",
            "American",
            "American",
            "Nazi",
            "Nazi",
            "US Army",
            "Corporal Britt Harris",
            "Corporal Lindsay",
            "New",
            "Colonel",
            "US",
            "US",
            "Monique",
            "Corporal Lindsay",
            "Fighter Group",
            "American",
            "USAAF",
            "American",
            "MustangThe Tuskegee Airmen",
            "Bell",
            "Republic",
            "American",
            "Easy",
            "POW",
            "POWs",
            "POWs",
            "POWs",
            "POWs",
            "Tuskegee Airmen",
            "Fighter Group",
            "American",
            "USAAF",
            "American",
            "MustangThe Tuskegee Airmen",
            "Bell",
            "Republic",
            "American",
            "Easy",
            "POW",
            "POWs",
            "POWs",
            "POWs",
            "POWs",
            "Tuskegee Airmen",
            "Corporal Steiner",
            "Colonel Brandt",
            "Corporal Steiner",
            "Private Reisenauer",
            "Senior Sergeant",
            "Lieutenant Triebig",
            "Lieutenant Meyer",
            "Nazi Party",
            "MP40",
            "Colonel Saito",
            "Colonel Saito",
            "USS Houston",
            "USS Houston",
            "Commander Shears",
            "Commander Shears",
            "Army",
            "Army",
            "Army",
            "MacRoberts",
            "MacRoberts",
            "MacRoberts",
            "MacRoberts",
            "MacRoberts",
            "MacRoberts",
            "MacRoberts",
            "MacRoberts",
            "MacRoberts",
            "MacRoberts",
            "MacRoberts",
            "MacRoberts",
            "Australians",
            "General Claude Auchinleck",
            "MacRoberts",
            "MacRoberts",
            "MacRoberts",
            "MacRoberts",
            "Auchinleck",
            "Lieutenant Ed Bolland",
            "Lieutenant Ed Bolland",
            "Lieutenant Ed Bolland",
            "Lieutenant Ed Bolland",
            "Summers",
            "Summers",
            "Summers",
            "Summers",
            "Summers",
            "Nazis",
            "Summers",
            "Colonel Kimball",
            "Colonel Kimball",
            "Summers",
            "Summers",
            "Summers",
            "Summers",
            "Nazi Germany",
            "Admiral Günther Lütjens",
            "Shepard",
            "WREN",
            "HMS Hood",
            "HMS Ark",
            "HMS",
            "HMS",
            "Shepard",
            "General Kahlenberg",
            "General Kahlenberg",
            "General Kahlenberg",
            "General Tanz",
            "General Tanz",
            "General Tanz",
            "Interpol"
           ],
           "y": [
            "United States of America",
            "United States of America",
            "United States of America",
            "United Kingdom",
            "United States of America",
            "United States of America",
            "United States of America",
            "United States of America",
            "United States of America",
            "United States of America",
            "United States of America",
            "United States of America",
            "United States of America",
            "United States of America",
            "United States of America",
            "United Kingdom",
            "United States of America",
            "United States of America",
            "United Kingdom",
            "United States of America",
            "United Kingdom",
            "United States of America",
            "United Kingdom",
            "United States of America",
            "United Kingdom",
            "United States of America",
            "United Kingdom",
            "United States of America",
            "United Kingdom",
            "United States of America",
            "United States of America",
            "United States of America",
            "United States of America",
            "United States of America",
            "United States of America",
            "United States of America",
            "United States of America",
            "United States of America",
            "United States of America",
            "United States of America",
            "United States of America",
            "United States of America",
            "United States of America",
            "United States of America",
            "United States of America",
            "United States of America",
            "United States of America",
            "United States of America",
            "United States of America",
            "United States of America",
            "United States of America",
            "United States of America",
            "United States of America",
            "United States of America",
            "United States of America",
            "United States of America",
            "United States of America",
            "United States of America",
            "United States of America",
            "United States of America",
            "United States of America",
            "United States of America",
            "United States of America",
            "United States of America",
            "United States of America",
            "United States of America",
            "United States of America",
            "United States of America",
            "United Kingdom",
            "United Kingdom",
            "United Kingdom",
            "United Kingdom",
            "United Kingdom",
            "United Kingdom",
            "United Kingdom",
            "United Kingdom",
            "United Kingdom",
            "United States of America",
            "United Kingdom",
            "United States of America",
            "United Kingdom",
            "United States of America",
            "United Kingdom",
            "United States of America",
            "United Kingdom",
            "United States of America",
            "United States of America",
            "United States of America",
            "United States of America",
            "United States of America",
            "United States of America",
            "United States of America",
            "United States of America",
            "United States of America",
            "United States of America",
            "United States of America",
            "United States of America",
            "United States of America",
            "United States of America",
            "United States of America",
            "United States of America",
            "United States of America",
            "United States of America",
            "United States of America",
            "United States of America",
            "United States of America",
            "United Kingdom",
            "United States of America",
            "United Kingdom",
            "United Kingdom",
            "United Kingdom",
            "United Kingdom",
            "United Kingdom",
            "United Kingdom",
            "United Kingdom",
            "United Kingdom",
            "United Kingdom",
            "United Kingdom",
            "United Kingdom",
            "United Kingdom",
            "United Kingdom",
            "United Kingdom",
            "United Kingdom",
            "United Kingdom",
            "United Kingdom",
            "United Kingdom",
            "United Kingdom",
            "United Kingdom",
            "United Kingdom",
            "United Kingdom",
            "United Kingdom",
            "France",
            "United States of America",
            "United Kingdom",
            "France",
            "United States of America",
            "United Kingdom",
            "France"
           ],
           "z": [
            0.27115,
            -0.6486,
            -0.6486,
            -0.2617,
            -0.1773,
            -0.1773,
            -0.42425,
            -0.15333750000000004,
            -0.15333750000000004,
            -0.5764,
            0.20733333333333334,
            -0.15333750000000004,
            0.8338,
            -0.6249,
            -0.8126,
            -0.6705,
            -0.398925,
            -0.296,
            -0.296,
            -0.1618,
            -0.1618,
            0,
            0,
            0,
            0,
            0.21806666666666666,
            0.21806666666666666,
            -0.1618,
            -0.1618,
            -0.05930000000000002,
            0.5423,
            -0.4063,
            -0.8126,
            0.346325,
            0.07263333333333331,
            0.07263333333333331,
            0.10213333333333333,
            -0.4063,
            -0.6486,
            -0.19433333333333333,
            -0.10409999999999997,
            -0.19433333333333333,
            0.5423,
            0.5423,
            0.5423,
            -0.19433333333333333,
            -0.017449999999999993,
            -0.24736666666666665,
            -0.24736666666666665,
            -0.24736666666666665,
            -0.24736666666666665,
            -0.24736666666666665,
            0.2391375,
            -0.6486,
            -0.19433333333333333,
            -0.10409999999999997,
            -0.19433333333333333,
            0.5423,
            0.5423,
            0.5423,
            -0.19433333333333333,
            -0.017449999999999993,
            -0.24736666666666665,
            -0.24736666666666665,
            -0.24736666666666665,
            -0.24736666666666665,
            -0.24736666666666665,
            0.2391375,
            -0.2997,
            0.8126,
            -0.2997,
            -0.1779,
            0.2732,
            0,
            0.34,
            0.5719,
            0,
            -0.5106,
            -0.5106,
            0,
            0,
            -0.40835,
            -0.40835,
            -0.1027,
            -0.1027,
            -0.2263,
            -0.2269466666666666,
            -0.2269466666666666,
            -0.2269466666666666,
            -0.2269466666666666,
            -0.2269466666666666,
            -0.2269466666666666,
            -0.2269466666666666,
            -0.2269466666666666,
            -0.2269466666666666,
            -0.2269466666666666,
            -0.2269466666666666,
            -0.2269466666666666,
            -0.100475,
            0.4767,
            -0.2269466666666666,
            -0.2269466666666666,
            -0.2269466666666666,
            -0.2269466666666666,
            0.1589,
            0.802,
            0.802,
            0.802,
            0.802,
            -0.20653636363636368,
            -0.20653636363636368,
            -0.20653636363636368,
            -0.20653636363636368,
            -0.20653636363636368,
            -0.3715,
            -0.20653636363636368,
            0.6369,
            0.6369,
            -0.20653636363636368,
            -0.20653636363636368,
            -0.20653636363636368,
            -0.20653636363636368,
            0.4964,
            -0.7351,
            -0.16775714285714288,
            -0.0772,
            0,
            -0.23924999999999996,
            -0.41069999999999995,
            -0.41069999999999995,
            -0.16775714285714288,
            -0.8779,
            -0.8779,
            -0.8779,
            -0.8779,
            -0.8779,
            -0.8779,
            -0.8625
           ]
          }
         ],
         "name": "3"
        },
        {
         "data": [
          {
           "colorscale": [
            [
             0,
             "rgb(103,0,31)"
            ],
            [
             0.1,
             "rgb(178,24,43)"
            ],
            [
             0.2,
             "rgb(214,96,77)"
            ],
            [
             0.3,
             "rgb(244,165,130)"
            ],
            [
             0.4,
             "rgb(253,219,199)"
            ],
            [
             0.5,
             "rgb(247,247,247)"
            ],
            [
             0.6,
             "rgb(209,229,240)"
            ],
            [
             0.7,
             "rgb(146,197,222)"
            ],
            [
             0.8,
             "rgb(67,147,195)"
            ],
            [
             0.9,
             "rgb(33,102,172)"
            ],
            [
             1,
             "rgb(5,48,97)"
            ]
           ],
           "type": "heatmap",
           "x": [
            "Interpol",
            "Interpol",
            "Wehrmacht",
            "Wehrmacht",
            "Wehrmacht",
            "Lieutenant Colonel",
            "Lieutenant Colonel",
            "Lieutenant Colonel",
            "Bent",
            "Lieutenant Sam Lawson",
            "USN",
            "New Hebrides Islands",
            "Sergeant Johnstone",
            "Aboriginal",
            "Aboriginal",
            "Aboriginal",
            "Aboriginal",
            "Aboriginal",
            "Aboriginal",
            "Aboriginal",
            "Aboriginal",
            "Mission Island",
            "Mission Island",
            "Aboriginal",
            "Aboriginal",
            "Aboriginal",
            "Aboriginal",
            "Aboriginal",
            "Aboriginal",
            "Aboriginal",
            "Aboriginal",
            "Mission Island",
            "Mission Island",
            "Aboriginal",
            "Aboriginal",
            "Aboriginal",
            "Aboriginal",
            "Aboriginal",
            "Aboriginal",
            "Aboriginal",
            "Aboriginal",
            "Mission Island",
            "Mission Island",
            "Nazi",
            "Nazi",
            "Gestapos",
            "Gestapos",
            "Gestapos",
            "Gestapos",
            "Infantry Division",
            "Sergeant Bishop Cummings",
            "Corporal Hector Negrón",
            "Corporal Hector Negrón",
            "Land Army",
            "Land Army",
            "Nazi",
            "Nazi",
            "Nazi",
            "Nazi",
            "OSS",
            "OSS",
            "Army",
            "Corporal Bill Ringa",
            "Express",
            "Colonel Greg Brandon",
            "Army Air",
            "Bomb Group",
            "Lieutenant Archer",
            "RAF",
            "WAC Lieutenant Gabrielle Ames",
            "Singapore",
            "POW",
            "POW",
            "cmpidSkarsgard",
            "SS",
            "SS",
            "Private Hogan",
            "Lieutenant Betty Bixby",
            "Colonel",
            "SS",
            "Nazi",
            "Nazi",
            "Nazi",
            "Nazi Germany",
            "Nazi Germany",
            "Komsomol",
            "Komsomol",
            "Communist",
            "Communist",
            "Dem Morgenrot Entgegen",
            "Dem Morgenrot Entgegen",
            "Soviets",
            "Soviets",
            "Nazi",
            "Nazi",
            "Nazi",
            "Nazi",
            "Nazi",
            "Nazi",
            "Nazi",
            "Nazi",
            "Gestapo",
            "Gestapo",
            "Communist",
            "Communist",
            "Communist",
            "Communist",
            "Communist",
            "Communist",
            "Colonel Steve Janowski",
            "Private",
            "United Nations",
            "Colonel Joe Parker",
            "US Army",
            "Army",
            "US Army",
            "US Army",
            "US Army",
            "Nazi Party",
            "Paralyzed",
            "Bronx Veterans Administration",
            "Bronx Veterans Administration",
            "Democratic National Convention",
            "Army",
            "Partisan",
            "JNA",
            "JNA",
            "Dijabola",
            "Sergeant Zack",
            "Corporal Thompson",
            "Lieutenant Driscoll",
            "Sergeant Tanaka",
            "Korean",
            "Colonel Rhodes",
            "PTSD",
            "McGregor",
            "POWs",
            "CIA"
           ],
           "y": [
            "United States of America",
            "United Kingdom",
            "France",
            "United States of America",
            "United Kingdom",
            "France",
            "United States of America",
            "United Kingdom",
            "France",
            "United Kingdom",
            "United Kingdom",
            "United Kingdom",
            "United Kingdom",
            "United States of America",
            "United Kingdom",
            "United States of America",
            "United Kingdom",
            "United States of America",
            "United Kingdom",
            "United States of America",
            "United Kingdom",
            "United States of America",
            "United Kingdom",
            "United States of America",
            "United Kingdom",
            "United States of America",
            "United Kingdom",
            "United States of America",
            "United Kingdom",
            "United States of America",
            "United Kingdom",
            "United States of America",
            "United Kingdom",
            "United States of America",
            "United Kingdom",
            "United States of America",
            "United Kingdom",
            "United States of America",
            "United Kingdom",
            "United States of America",
            "United Kingdom",
            "United States of America",
            "United Kingdom",
            "United States of America",
            "United Kingdom",
            "United States of America",
            "United Kingdom",
            "United States of America",
            "United Kingdom",
            "United States of America",
            "United States of America",
            "United States of America",
            "United States of America",
            "France",
            "United Kingdom",
            "France",
            "Poland",
            "France",
            "Poland",
            "United States of America",
            "United States of America",
            "United States of America",
            "United States of America",
            "United States of America",
            "United States of America",
            "United States of America",
            "United States of America",
            "United States of America",
            "United States of America",
            "United States of America",
            "United Kingdom",
            "United Kingdom",
            "United Kingdom",
            "United Kingdom",
            "United States of America",
            "United States of America",
            "United States of America",
            "United States of America",
            "United States of America",
            "France",
            "France",
            "France",
            "France",
            "Poland",
            "France",
            "Poland",
            "France",
            "Poland",
            "France",
            "Poland",
            "France",
            "Poland",
            "France",
            "Poland",
            "France",
            "Poland",
            "France",
            "Poland",
            "France",
            "Poland",
            "France",
            "Poland",
            "France",
            "Poland",
            "France",
            "Poland",
            "France",
            "United States of America",
            "United States of America",
            "United States of America",
            "United States of America",
            "United States of America",
            "United States of America",
            "United States of America",
            "United States of America",
            "United States of America",
            "United States of America",
            "United States of America",
            "United Kingdom",
            "United States of America",
            "United States of America",
            "United States of America",
            "United States of America",
            "France",
            "France",
            "France",
            "France",
            "France",
            "United States of America",
            "United States of America",
            "United States of America",
            "United States of America",
            "United States of America",
            "United States of America",
            "United States of America",
            "United States of America",
            "United States of America",
            "United States of America"
           ],
           "z": [
            -0.8625,
            -0.8625,
            0,
            0,
            0,
            -0.836,
            -0.836,
            -0.836,
            -0.8716,
            -0.9163,
            -0.9163,
            -0.5423,
            -0.0258,
            -0.10714000000000004,
            -0.10714000000000004,
            -0.10714000000000004,
            -0.10714000000000004,
            -0.10714000000000004,
            -0.10714000000000004,
            -0.10714000000000004,
            -0.10714000000000004,
            0.2603,
            0.2603,
            -0.10714000000000004,
            -0.10714000000000004,
            -0.10714000000000004,
            -0.10714000000000004,
            -0.10714000000000004,
            -0.10714000000000004,
            -0.10714000000000004,
            -0.10714000000000004,
            0.2603,
            0.2603,
            -0.10714000000000004,
            -0.10714000000000004,
            -0.10714000000000004,
            -0.10714000000000004,
            -0.10714000000000004,
            -0.10714000000000004,
            -0.10714000000000004,
            -0.10714000000000004,
            0.2603,
            0.2603,
            -0.24496666666666667,
            -0.24496666666666667,
            -0.34,
            -0.34,
            -0.34,
            -0.34,
            -0.5994,
            -0.8442,
            -0.8442,
            -0.8442,
            -0.872,
            -0.872,
            -0.5600333333333333,
            -0.5600333333333333,
            -0.5600333333333333,
            -0.5600333333333333,
            -0.7576,
            -0.7576,
            0,
            -0.3788,
            -0.5719,
            -0.5106,
            -0.5106,
            -0.5106,
            -0.2023,
            -0.2023,
            -0.2023,
            -0.7845,
            -0.6709499999999999,
            -0.6709499999999999,
            0,
            -0.4404,
            -0.4404,
            -0.0258,
            -0.0258,
            -0.148,
            0.5994,
            0.079,
            0.079,
            0.079,
            0,
            0,
            0,
            0,
            -0.18076666666666666,
            -0.18076666666666666,
            0,
            0,
            -0.7579,
            -0.7579,
            -0.31895,
            -0.31895,
            -0.31895,
            -0.31895,
            -0.31895,
            -0.31895,
            -0.31895,
            -0.31895,
            -0.14613333333333334,
            -0.14613333333333334,
            -0.18076666666666666,
            -0.18076666666666666,
            -0.18076666666666666,
            -0.18076666666666666,
            -0.7357,
            -0.7357,
            -0.8625,
            -0.8625,
            0.5104500000000001,
            -0.4767,
            0.2997,
            0.131875,
            0.2997,
            0.2997,
            0.2997,
            0.7351,
            0,
            0,
            0,
            0,
            0.4576,
            -0.5499,
            -0.19244999999999995,
            -0.19244999999999995,
            0.12820000000000004,
            0.53505,
            0.3612,
            0,
            -0.8126,
            -0.3799,
            -0.8294,
            -0.8294,
            -0.4032,
            0.5719,
            -0.8934
           ]
          }
         ],
         "name": "4"
        },
        {
         "data": [
          {
           "colorscale": [
            [
             0,
             "rgb(103,0,31)"
            ],
            [
             0.1,
             "rgb(178,24,43)"
            ],
            [
             0.2,
             "rgb(214,96,77)"
            ],
            [
             0.3,
             "rgb(244,165,130)"
            ],
            [
             0.4,
             "rgb(253,219,199)"
            ],
            [
             0.5,
             "rgb(247,247,247)"
            ],
            [
             0.6,
             "rgb(209,229,240)"
            ],
            [
             0.7,
             "rgb(146,197,222)"
            ],
            [
             0.8,
             "rgb(67,147,195)"
            ],
            [
             0.9,
             "rgb(33,102,172)"
            ],
            [
             1,
             "rgb(5,48,97)"
            ]
           ],
           "type": "heatmap",
           "x": [
            "Bangkok",
            "McGregor",
            "McGregor",
            "McGregor",
            "McGregor",
            "Colonel Rhodes",
            "PTSD",
            "McGregor",
            "POWs",
            "CIA",
            "Bangkok",
            "McGregor",
            "McGregor",
            "McGregor",
            "McGregor",
            "Mandate Palestine",
            "Mandate Palestine",
            "Margaret Freemantle",
            "Nazi",
            "Blackshirt Major Battaglia",
            "Infantry Brigade",
            "POWs",
            "Nazis",
            "Lieutenant",
            "POW",
            "POW",
            "POW",
            "US Air Corp",
            "Central Station",
            "POWs",
            "POW",
            "Catholic",
            "Catholic",
            "Catholic",
            "Fred",
            "Distinguished",
            "McGurn",
            "McGann",
            "Army",
            "AWOL",
            "Army",
            "FBI",
            "McGann",
            "McGurn",
            "Lily",
            "Einsatzkommandos",
            "Einsatzkommandos",
            "AWL",
            "SD Colonel Hans Landa",
            "SD Colonel Hans Landa",
            "LaPadite",
            "LaPadite",
            "Nazi",
            "Nazi",
            "Nazi",
            "Nazi",
            "Nazi",
            "Nazi",
            "Lieutenant Archie Hicox",
            "Lieutenant Archie Hicox",
            "General Ed Fenech",
            "General Ed Fenech",
            "Hammersmark",
            "Hammersmark",
            "Hammersmark",
            "Hammersmark",
            "Hammersmark",
            "Hammersmark",
            "Nazi",
            "Nazi",
            "Good",
            "RAF Flight Lieutenant Peter Gregory",
            "SOE",
            "FANY",
            "Nazis",
            "SOE",
            "SOE",
            "Lieutenant",
            "Rutgers",
            "IBM",
            "Navy",
            "Harkness",
            "Harkness",
            "Harkness",
            "Commander Reynolds",
            "USS",
            "Admiral Tennant",
            "Harkness",
            "US Army",
            "Army",
            "Whitehorse",
            "Whitehorse",
            "Whitehorse",
            "Enders",
            "Enders",
            "General",
            "Nazis",
            "General Dwight Eisenhower",
            "American",
            "UNRRA",
            "Nazis",
            "UNRRA",
            "UNRRA",
            "Lipizzaner",
            "Lipizzaner",
            "Lipizzaner",
            "Army",
            "Lieutenant Constantin",
            "Lieutenant Terrien",
            "Army",
            "Sergeant Dougnac",
            "Fellaghist",
            "General",
            "Colonel Claus",
            "Parliament",
            "Colonel Tomura",
            "Colonel",
            "Van Daans",
            "Dussell",
            "Dussell",
            "Van Daans",
            "Dussell",
            "Dussell",
            "General Dietrich",
            "General Dietrich",
            "General Charles",
            "General Charles",
            "Liberation",
            "Liberation",
            "CIA",
            "NATO",
            "American",
            "Secret Service",
            "Command Post",
            "Ryan",
            "USS",
            "SNAPCOUNT",
            "Army Radiation Assessment Team"
           ],
           "y": [
            "United States of America",
            "United States of America",
            "United States of America",
            "United States of America",
            "United States of America",
            "United States of America",
            "United States of America",
            "United States of America",
            "United States of America",
            "United States of America",
            "United States of America",
            "United States of America",
            "United States of America",
            "United States of America",
            "United States of America",
            "United States of America",
            "United States of America",
            "United States of America",
            "United States of America",
            "United States of America",
            "United States of America",
            "United States of America",
            "United States of America",
            "United States of America",
            "United States of America",
            "United States of America",
            "United States of America",
            "United States of America",
            "United States of America",
            "United States of America",
            "United States of America",
            "United States of America",
            "United States of America",
            "United States of America",
            "United States of America",
            "United States of America",
            "United States of America",
            "United States of America",
            "United States of America",
            "United States of America",
            "United States of America",
            "United States of America",
            "United States of America",
            "United States of America",
            "United States of America",
            "United States of America",
            "United Kingdom",
            "United Kingdom",
            "United States of America",
            "France",
            "United States of America",
            "France",
            "United States of America",
            "France",
            "United States of America",
            "France",
            "United States of America",
            "France",
            "United States of America",
            "France",
            "United States of America",
            "France",
            "United States of America",
            "France",
            "United States of America",
            "France",
            "United States of America",
            "France",
            "United States of America",
            "France",
            "United States of America",
            "United Kingdom",
            "United Kingdom",
            "United Kingdom",
            "United Kingdom",
            "United Kingdom",
            "United Kingdom",
            "United States of America",
            "United States of America",
            "United States of America",
            "United States of America",
            "United States of America",
            "United States of America",
            "United States of America",
            "United States of America",
            "United States of America",
            "United States of America",
            "United States of America",
            "United States of America",
            "United States of America",
            "United States of America",
            "United States of America",
            "United States of America",
            "United States of America",
            "United States of America",
            "United States of America",
            "United States of America",
            "United States of America",
            "United States of America",
            "United States of America",
            "United States of America",
            "United States of America",
            "United States of America",
            "United States of America",
            "United States of America",
            "United States of America",
            "France",
            "France",
            "France",
            "France",
            "France",
            "France",
            "United States of America",
            "United States of America",
            "United States of America",
            "United States of America",
            "United States of America",
            "United States of America",
            "United States of America",
            "United States of America",
            "United States of America",
            "United States of America",
            "United States of America",
            "France",
            "United States of America",
            "France",
            "United States of America",
            "France",
            "United States of America",
            "United States of America",
            "United States of America",
            "United States of America",
            "United States of America",
            "United States of America",
            "United States of America",
            "United States of America",
            "United States of America",
            "United States of America"
           ],
           "z": [
            -0.8934,
            -0.4032,
            -0.4032,
            -0.4032,
            -0.4032,
            -0.8294,
            -0.8294,
            -0.4032,
            0.5719,
            -0.8934,
            -0.8934,
            -0.4032,
            -0.4032,
            -0.4032,
            -0.4032,
            -0.8957,
            -0.8957,
            0.4215,
            -0.3818,
            -0.5859,
            -0.5106,
            -0.5991500000000001,
            -0.9215,
            -0.743,
            -0.32525000000000004,
            -0.32525000000000004,
            -0.32525000000000004,
            0.0772,
            -0.2263,
            -0.5991500000000001,
            -0.32525000000000004,
            -0.6626000000000001,
            -0.6626000000000001,
            -0.6626000000000001,
            -0.07165600000000001,
            0.6808,
            -0.34613333333333335,
            -0.08895,
            0.7618,
            -0.4648,
            0.7618,
            -0.1779,
            -0.08895,
            -0.34613333333333335,
            0.012499999999999992,
            -0.24513333333333334,
            -0.24513333333333334,
            -0.4019,
            0,
            0,
            0.125,
            0.125,
            0.029425000000000003,
            0.029425000000000003,
            0.029425000000000003,
            0.029425000000000003,
            0.029425000000000003,
            0.029425000000000003,
            -0.2732,
            -0.2732,
            -0.2732,
            -0.2732,
            -0.08112857142857142,
            -0.08112857142857142,
            -0.08112857142857142,
            -0.08112857142857142,
            -0.08112857142857142,
            -0.08112857142857142,
            0.029425000000000003,
            0.029425000000000003,
            0.7003,
            -0.4215,
            -0.25723333333333337,
            0,
            -0.37790000000000007,
            -0.25723333333333337,
            -0.25723333333333337,
            -0.6808,
            -0.6808,
            -0.6808,
            0.0086,
            -0.25598,
            -0.25598,
            -0.25598,
            -0.6249,
            -0.34,
            -0.29955,
            -0.25598,
            0,
            -0.4939,
            -0.3058111111111111,
            -0.3058111111111111,
            -0.3058111111111111,
            -0.3939333333333334,
            -0.3939333333333334,
            -0.75,
            -0.75,
            -0.75,
            0,
            0.14922,
            -0.2427,
            0.14922,
            0.14922,
            0.7207,
            0.7207,
            0.7207,
            0.22724999999999998,
            -0.6705,
            0.04069999999999996,
            0.22724999999999998,
            -0.9732,
            -0.6705,
            -0.7142,
            -0.4939,
            -0.6908,
            0.0516,
            0.3815,
            0.0767,
            -0.15565,
            -0.15565,
            0.0767,
            -0.15565,
            -0.15565,
            -0.3071,
            -0.3071,
            0.4767,
            0.4767,
            0,
            0,
            -0.23835,
            -0.0258,
            -0.6482333333333333,
            0,
            0.765,
            0.08552499999999999,
            -0.802,
            0.4019,
            0.6124
           ]
          }
         ],
         "name": "5"
        },
        {
         "data": [
          {
           "colorscale": [
            [
             0,
             "rgb(103,0,31)"
            ],
            [
             0.1,
             "rgb(178,24,43)"
            ],
            [
             0.2,
             "rgb(214,96,77)"
            ],
            [
             0.3,
             "rgb(244,165,130)"
            ],
            [
             0.4,
             "rgb(253,219,199)"
            ],
            [
             0.5,
             "rgb(247,247,247)"
            ],
            [
             0.6,
             "rgb(209,229,240)"
            ],
            [
             0.7,
             "rgb(146,197,222)"
            ],
            [
             0.8,
             "rgb(67,147,195)"
            ],
            [
             0.9,
             "rgb(33,102,172)"
            ],
            [
             1,
             "rgb(5,48,97)"
            ]
           ],
           "type": "heatmap",
           "x": [
            "CIA",
            "Maryland",
            "General Dubinin",
            "CIA",
            "NATO",
            "American",
            "Secret Service",
            "Command Post",
            "Ryan",
            "USS",
            "SNAPCOUNT",
            "Army Radiation Assessment Team",
            "CIA",
            "Maryland",
            "General Dubinin",
            "Lieutenant",
            "SS",
            "Nazi",
            "Particular",
            "Fran Seelers",
            "Fran Seelers",
            "Nazi",
            "US Army",
            "Nazi",
            "Nazi",
            "Nazis",
            "Nazis",
            "Nazi",
            "Nazi",
            "Nazis",
            "Nazis",
            "High Pockets",
            "UDT",
            "Kate",
            "Kate",
            "Kate",
            "Kate",
            "XXX Corps",
            "XXX Corps",
            "General Sosabowski",
            "General Sosabowski",
            "XXX Corps",
            "XXX Corps",
            "Arnhem",
            "Arnhem",
            "General Sosabowski",
            "General Sosabowski",
            "General Gavin",
            "General Gavin",
            "RAF",
            "RAF",
            "General Urquhart",
            "General Urquhart",
            "General Browning",
            "General Browning",
            "XXX Corps",
            "XXX Corps",
            "Arnhem",
            "Arnhem",
            "XXX Corps",
            "XXX Corps",
            "XXX Corps",
            "XXX Corps",
            "Airborne Division",
            "Airborne Division",
            "XXX Corps",
            "XXX Corps",
            "Arnhem",
            "Arnhem",
            "Sergeant Stanley Halliwell",
            "Sergeant Stanley Halliwell",
            "Halliwell",
            "Halliwell",
            "Cornwall",
            "Jess",
            "African Campaign",
            "Nazi Germany",
            "Malaya",
            "Communist",
            "Nazi",
            "Nazi",
            "SS",
            "SS",
            "Interior Ministry",
            "Interior Ministry",
            "Nazi Party",
            "Nazi Party",
            "Foreign Ministry",
            "Foreign Ministry",
            "SS",
            "SS",
            "General",
            "General",
            "General",
            "General",
            "POW",
            "Commandant",
            "Commandant",
            "Monk",
            "USO",
            "Army",
            "Nazi",
            "Resistance",
            "Resistance",
            "Nazi Paris",
            "Corporal Rains",
            "Commando",
            "Belgium",
            "Colonel Hohensee",
            "USA",
            "NATO",
            "Airborne Troops",
            "Colonel Bella",
            "KGB",
            "ATF",
            "Army",
            "US",
            "KGB",
            "Wolverines",
            "Colonel Bella",
            "Partisan Rock",
            "Army",
            "Army",
            "Benghazi",
            "Benghazi",
            "Count",
            "Count",
            "Red Army",
            "Red Army",
            "Red Army",
            "Red Army",
            "Lecters",
            "Lecters",
            "Nazi",
            "Nazi",
            "Grutas",
            "Grutas",
            "Army",
            "Lieutenant Manning",
            "Sergeant Dan",
            "Army"
           ],
           "y": [
            "United States of America",
            "United States of America",
            "United States of America",
            "United States of America",
            "United States of America",
            "United States of America",
            "United States of America",
            "United States of America",
            "United States of America",
            "United States of America",
            "United States of America",
            "United States of America",
            "United States of America",
            "United States of America",
            "United States of America",
            "United Kingdom",
            "United Kingdom",
            "United Kingdom",
            "United States of America",
            "United States of America",
            "United States of America",
            "United States of America",
            "United States of America",
            "United States of America",
            "United Kingdom",
            "United States of America",
            "United Kingdom",
            "United States of America",
            "United Kingdom",
            "United States of America",
            "United Kingdom",
            "United States of America",
            "United States of America",
            "United States of America",
            "United Kingdom",
            "United States of America",
            "United Kingdom",
            "United States of America",
            "United Kingdom",
            "United States of America",
            "United Kingdom",
            "United States of America",
            "United Kingdom",
            "United States of America",
            "United Kingdom",
            "United States of America",
            "United Kingdom",
            "United States of America",
            "United Kingdom",
            "United States of America",
            "United Kingdom",
            "United States of America",
            "United Kingdom",
            "United States of America",
            "United Kingdom",
            "United States of America",
            "United Kingdom",
            "United States of America",
            "United Kingdom",
            "United States of America",
            "United Kingdom",
            "United States of America",
            "United Kingdom",
            "United States of America",
            "United Kingdom",
            "United States of America",
            "United Kingdom",
            "United States of America",
            "United Kingdom",
            "United States of America",
            "United Kingdom",
            "United States of America",
            "United Kingdom",
            "United Kingdom",
            "United Kingdom",
            "United States of America",
            "United States of America",
            "United Kingdom",
            "United Kingdom",
            "United States of America",
            "United Kingdom",
            "United States of America",
            "United Kingdom",
            "United States of America",
            "United Kingdom",
            "United States of America",
            "United Kingdom",
            "United States of America",
            "United Kingdom",
            "United States of America",
            "United Kingdom",
            "United States of America",
            "United Kingdom",
            "United States of America",
            "United Kingdom",
            "United Kingdom",
            "United Kingdom",
            "United Kingdom",
            "United Kingdom",
            "United Kingdom",
            "United Kingdom",
            "United Kingdom",
            "United Kingdom",
            "United Kingdom",
            "United Kingdom",
            "United Kingdom",
            "United Kingdom",
            "United Kingdom",
            "United Kingdom",
            "United States of America",
            "United States of America",
            "United States of America",
            "United States of America",
            "United States of America",
            "United States of America",
            "United States of America",
            "United States of America",
            "United States of America",
            "United States of America",
            "United States of America",
            "United States of America",
            "United States of America",
            "United Kingdom",
            "United States of America",
            "United Kingdom",
            "United States of America",
            "United Kingdom",
            "France",
            "United Kingdom",
            "France",
            "United Kingdom",
            "France",
            "United Kingdom",
            "France",
            "United Kingdom",
            "France",
            "United Kingdom",
            "United States of America",
            "United States of America",
            "United States of America",
            "United States of America"
           ],
           "z": [
            -0.23835,
            -0.34364999999999996,
            -0.9382,
            -0.23835,
            -0.0258,
            -0.6482333333333333,
            0,
            0.765,
            0.08552499999999999,
            -0.802,
            0.4019,
            0.6124,
            -0.23835,
            -0.34364999999999996,
            -0.9382,
            -0.4404,
            0.017500000000000005,
            -0.3953,
            -0.9313,
            0.296,
            0.296,
            0.9042,
            -0.872,
            0.045325,
            0.045325,
            0.06043333333333333,
            0.06043333333333333,
            0.045325,
            0.045325,
            0.06043333333333333,
            0.06043333333333333,
            -0.42260000000000003,
            -0.34,
            0,
            0,
            0,
            0,
            0.06478571428571427,
            0.06478571428571427,
            -0.1351,
            -0.1351,
            0.06478571428571427,
            0.06478571428571427,
            -0.20413076923076925,
            -0.20413076923076925,
            -0.1351,
            -0.1351,
            -0.4215,
            -0.4215,
            0.4497,
            0.4497,
            0.18576666666666666,
            0.18576666666666666,
            0.6757,
            0.6757,
            0.06478571428571427,
            0.06478571428571427,
            -0.20413076923076925,
            -0.20413076923076925,
            0.06478571428571427,
            0.06478571428571427,
            0.06478571428571427,
            0.06478571428571427,
            -0.7845,
            -0.7845,
            0.06478571428571427,
            0.06478571428571427,
            -0.20413076923076925,
            -0.20413076923076925,
            -0.5423,
            -0.5423,
            -0.18076666666666666,
            -0.18076666666666666,
            0.8625,
            0.4939,
            -0.5994,
            0.6433,
            -0.7906,
            -0.7906,
            0.68305,
            0.68305,
            0.12756666666666666,
            0.12756666666666666,
            0.4213,
            0.4213,
            0.8555,
            0.8555,
            0.8555,
            0.8555,
            0.12756666666666666,
            0.12756666666666666,
            -0.5994,
            -0.5994,
            -0.5994,
            -0.5994,
            -0.7845,
            -0.2997,
            -0.2997,
            -0.0516,
            -0.5106,
            0.4019,
            0.015849999999999975,
            -0.32453333333333334,
            -0.32453333333333334,
            -0.5106,
            -0.4588,
            -0.4588,
            -0.5994,
            0.4215,
            0.128,
            0.128,
            -0.5106,
            -0.5154,
            -0.5558500000000001,
            -0.34,
            -0.296,
            -0.26155999999999996,
            -0.5558500000000001,
            -0.5776166666666667,
            -0.5154,
            -0.6486,
            0.10420000000000001,
            0.10420000000000001,
            0.128,
            0.128,
            -0.04236111111111112,
            -0.04236111111111112,
            -0.1468,
            -0.1468,
            -0.1468,
            -0.1468,
            -0.44655,
            -0.44655,
            0.11626666666666664,
            0.11626666666666664,
            -0.37081538461538466,
            -0.37081538461538466,
            -0.1338,
            0,
            0,
            -0.8834
           ]
          }
         ],
         "name": "6"
        }
       ],
       "layout": {
        "height": 800,
        "sliders": [
         {
          "pad": {
           "b": 20,
           "t": 50
          },
          "steps": [
           {
            "args": [
             [
              "1"
             ]
            ],
            "label": "1",
            "method": "animate"
           },
           {
            "args": [
             [
              "2"
             ]
            ],
            "label": "2",
            "method": "animate"
           },
           {
            "args": [
             [
              "3"
             ]
            ],
            "label": "3",
            "method": "animate"
           },
           {
            "args": [
             [
              "4"
             ]
            ],
            "label": "4",
            "method": "animate"
           },
           {
            "args": [
             [
              "5"
             ]
            ],
            "label": "5",
            "method": "animate"
           },
           {
            "args": [
             [
              "6"
             ]
            ],
            "label": "6",
            "method": "animate"
           }
          ],
          "transition": {
           "duration": 500
          }
         }
        ],
        "template": {
         "data": {
          "bar": [
           {
            "error_x": {
             "color": "#2a3f5f"
            },
            "error_y": {
             "color": "#2a3f5f"
            },
            "marker": {
             "line": {
              "color": "#E5ECF6",
              "width": 0.5
             },
             "pattern": {
              "fillmode": "overlay",
              "size": 10,
              "solidity": 0.2
             }
            },
            "type": "bar"
           }
          ],
          "barpolar": [
           {
            "marker": {
             "line": {
              "color": "#E5ECF6",
              "width": 0.5
             },
             "pattern": {
              "fillmode": "overlay",
              "size": 10,
              "solidity": 0.2
             }
            },
            "type": "barpolar"
           }
          ],
          "carpet": [
           {
            "aaxis": {
             "endlinecolor": "#2a3f5f",
             "gridcolor": "white",
             "linecolor": "white",
             "minorgridcolor": "white",
             "startlinecolor": "#2a3f5f"
            },
            "baxis": {
             "endlinecolor": "#2a3f5f",
             "gridcolor": "white",
             "linecolor": "white",
             "minorgridcolor": "white",
             "startlinecolor": "#2a3f5f"
            },
            "type": "carpet"
           }
          ],
          "choropleth": [
           {
            "colorbar": {
             "outlinewidth": 0,
             "ticks": ""
            },
            "type": "choropleth"
           }
          ],
          "contour": [
           {
            "colorbar": {
             "outlinewidth": 0,
             "ticks": ""
            },
            "colorscale": [
             [
              0,
              "#0d0887"
             ],
             [
              0.1111111111111111,
              "#46039f"
             ],
             [
              0.2222222222222222,
              "#7201a8"
             ],
             [
              0.3333333333333333,
              "#9c179e"
             ],
             [
              0.4444444444444444,
              "#bd3786"
             ],
             [
              0.5555555555555556,
              "#d8576b"
             ],
             [
              0.6666666666666666,
              "#ed7953"
             ],
             [
              0.7777777777777778,
              "#fb9f3a"
             ],
             [
              0.8888888888888888,
              "#fdca26"
             ],
             [
              1,
              "#f0f921"
             ]
            ],
            "type": "contour"
           }
          ],
          "contourcarpet": [
           {
            "colorbar": {
             "outlinewidth": 0,
             "ticks": ""
            },
            "type": "contourcarpet"
           }
          ],
          "heatmap": [
           {
            "colorbar": {
             "outlinewidth": 0,
             "ticks": ""
            },
            "colorscale": [
             [
              0,
              "#0d0887"
             ],
             [
              0.1111111111111111,
              "#46039f"
             ],
             [
              0.2222222222222222,
              "#7201a8"
             ],
             [
              0.3333333333333333,
              "#9c179e"
             ],
             [
              0.4444444444444444,
              "#bd3786"
             ],
             [
              0.5555555555555556,
              "#d8576b"
             ],
             [
              0.6666666666666666,
              "#ed7953"
             ],
             [
              0.7777777777777778,
              "#fb9f3a"
             ],
             [
              0.8888888888888888,
              "#fdca26"
             ],
             [
              1,
              "#f0f921"
             ]
            ],
            "type": "heatmap"
           }
          ],
          "heatmapgl": [
           {
            "colorbar": {
             "outlinewidth": 0,
             "ticks": ""
            },
            "colorscale": [
             [
              0,
              "#0d0887"
             ],
             [
              0.1111111111111111,
              "#46039f"
             ],
             [
              0.2222222222222222,
              "#7201a8"
             ],
             [
              0.3333333333333333,
              "#9c179e"
             ],
             [
              0.4444444444444444,
              "#bd3786"
             ],
             [
              0.5555555555555556,
              "#d8576b"
             ],
             [
              0.6666666666666666,
              "#ed7953"
             ],
             [
              0.7777777777777778,
              "#fb9f3a"
             ],
             [
              0.8888888888888888,
              "#fdca26"
             ],
             [
              1,
              "#f0f921"
             ]
            ],
            "type": "heatmapgl"
           }
          ],
          "histogram": [
           {
            "marker": {
             "pattern": {
              "fillmode": "overlay",
              "size": 10,
              "solidity": 0.2
             }
            },
            "type": "histogram"
           }
          ],
          "histogram2d": [
           {
            "colorbar": {
             "outlinewidth": 0,
             "ticks": ""
            },
            "colorscale": [
             [
              0,
              "#0d0887"
             ],
             [
              0.1111111111111111,
              "#46039f"
             ],
             [
              0.2222222222222222,
              "#7201a8"
             ],
             [
              0.3333333333333333,
              "#9c179e"
             ],
             [
              0.4444444444444444,
              "#bd3786"
             ],
             [
              0.5555555555555556,
              "#d8576b"
             ],
             [
              0.6666666666666666,
              "#ed7953"
             ],
             [
              0.7777777777777778,
              "#fb9f3a"
             ],
             [
              0.8888888888888888,
              "#fdca26"
             ],
             [
              1,
              "#f0f921"
             ]
            ],
            "type": "histogram2d"
           }
          ],
          "histogram2dcontour": [
           {
            "colorbar": {
             "outlinewidth": 0,
             "ticks": ""
            },
            "colorscale": [
             [
              0,
              "#0d0887"
             ],
             [
              0.1111111111111111,
              "#46039f"
             ],
             [
              0.2222222222222222,
              "#7201a8"
             ],
             [
              0.3333333333333333,
              "#9c179e"
             ],
             [
              0.4444444444444444,
              "#bd3786"
             ],
             [
              0.5555555555555556,
              "#d8576b"
             ],
             [
              0.6666666666666666,
              "#ed7953"
             ],
             [
              0.7777777777777778,
              "#fb9f3a"
             ],
             [
              0.8888888888888888,
              "#fdca26"
             ],
             [
              1,
              "#f0f921"
             ]
            ],
            "type": "histogram2dcontour"
           }
          ],
          "mesh3d": [
           {
            "colorbar": {
             "outlinewidth": 0,
             "ticks": ""
            },
            "type": "mesh3d"
           }
          ],
          "parcoords": [
           {
            "line": {
             "colorbar": {
              "outlinewidth": 0,
              "ticks": ""
             }
            },
            "type": "parcoords"
           }
          ],
          "pie": [
           {
            "automargin": true,
            "type": "pie"
           }
          ],
          "scatter": [
           {
            "fillpattern": {
             "fillmode": "overlay",
             "size": 10,
             "solidity": 0.2
            },
            "type": "scatter"
           }
          ],
          "scatter3d": [
           {
            "line": {
             "colorbar": {
              "outlinewidth": 0,
              "ticks": ""
             }
            },
            "marker": {
             "colorbar": {
              "outlinewidth": 0,
              "ticks": ""
             }
            },
            "type": "scatter3d"
           }
          ],
          "scattercarpet": [
           {
            "marker": {
             "colorbar": {
              "outlinewidth": 0,
              "ticks": ""
             }
            },
            "type": "scattercarpet"
           }
          ],
          "scattergeo": [
           {
            "marker": {
             "colorbar": {
              "outlinewidth": 0,
              "ticks": ""
             }
            },
            "type": "scattergeo"
           }
          ],
          "scattergl": [
           {
            "marker": {
             "colorbar": {
              "outlinewidth": 0,
              "ticks": ""
             }
            },
            "type": "scattergl"
           }
          ],
          "scattermapbox": [
           {
            "marker": {
             "colorbar": {
              "outlinewidth": 0,
              "ticks": ""
             }
            },
            "type": "scattermapbox"
           }
          ],
          "scatterpolar": [
           {
            "marker": {
             "colorbar": {
              "outlinewidth": 0,
              "ticks": ""
             }
            },
            "type": "scatterpolar"
           }
          ],
          "scatterpolargl": [
           {
            "marker": {
             "colorbar": {
              "outlinewidth": 0,
              "ticks": ""
             }
            },
            "type": "scatterpolargl"
           }
          ],
          "scatterternary": [
           {
            "marker": {
             "colorbar": {
              "outlinewidth": 0,
              "ticks": ""
             }
            },
            "type": "scatterternary"
           }
          ],
          "surface": [
           {
            "colorbar": {
             "outlinewidth": 0,
             "ticks": ""
            },
            "colorscale": [
             [
              0,
              "#0d0887"
             ],
             [
              0.1111111111111111,
              "#46039f"
             ],
             [
              0.2222222222222222,
              "#7201a8"
             ],
             [
              0.3333333333333333,
              "#9c179e"
             ],
             [
              0.4444444444444444,
              "#bd3786"
             ],
             [
              0.5555555555555556,
              "#d8576b"
             ],
             [
              0.6666666666666666,
              "#ed7953"
             ],
             [
              0.7777777777777778,
              "#fb9f3a"
             ],
             [
              0.8888888888888888,
              "#fdca26"
             ],
             [
              1,
              "#f0f921"
             ]
            ],
            "type": "surface"
           }
          ],
          "table": [
           {
            "cells": {
             "fill": {
              "color": "#EBF0F8"
             },
             "line": {
              "color": "white"
             }
            },
            "header": {
             "fill": {
              "color": "#C8D4E3"
             },
             "line": {
              "color": "white"
             }
            },
            "type": "table"
           }
          ]
         },
         "layout": {
          "annotationdefaults": {
           "arrowcolor": "#2a3f5f",
           "arrowhead": 0,
           "arrowwidth": 1
          },
          "autotypenumbers": "strict",
          "coloraxis": {
           "colorbar": {
            "outlinewidth": 0,
            "ticks": ""
           }
          },
          "colorscale": {
           "diverging": [
            [
             0,
             "#8e0152"
            ],
            [
             0.1,
             "#c51b7d"
            ],
            [
             0.2,
             "#de77ae"
            ],
            [
             0.3,
             "#f1b6da"
            ],
            [
             0.4,
             "#fde0ef"
            ],
            [
             0.5,
             "#f7f7f7"
            ],
            [
             0.6,
             "#e6f5d0"
            ],
            [
             0.7,
             "#b8e186"
            ],
            [
             0.8,
             "#7fbc41"
            ],
            [
             0.9,
             "#4d9221"
            ],
            [
             1,
             "#276419"
            ]
           ],
           "sequential": [
            [
             0,
             "#0d0887"
            ],
            [
             0.1111111111111111,
             "#46039f"
            ],
            [
             0.2222222222222222,
             "#7201a8"
            ],
            [
             0.3333333333333333,
             "#9c179e"
            ],
            [
             0.4444444444444444,
             "#bd3786"
            ],
            [
             0.5555555555555556,
             "#d8576b"
            ],
            [
             0.6666666666666666,
             "#ed7953"
            ],
            [
             0.7777777777777778,
             "#fb9f3a"
            ],
            [
             0.8888888888888888,
             "#fdca26"
            ],
            [
             1,
             "#f0f921"
            ]
           ],
           "sequentialminus": [
            [
             0,
             "#0d0887"
            ],
            [
             0.1111111111111111,
             "#46039f"
            ],
            [
             0.2222222222222222,
             "#7201a8"
            ],
            [
             0.3333333333333333,
             "#9c179e"
            ],
            [
             0.4444444444444444,
             "#bd3786"
            ],
            [
             0.5555555555555556,
             "#d8576b"
            ],
            [
             0.6666666666666666,
             "#ed7953"
            ],
            [
             0.7777777777777778,
             "#fb9f3a"
            ],
            [
             0.8888888888888888,
             "#fdca26"
            ],
            [
             1,
             "#f0f921"
            ]
           ]
          },
          "colorway": [
           "#636efa",
           "#EF553B",
           "#00cc96",
           "#ab63fa",
           "#FFA15A",
           "#19d3f3",
           "#FF6692",
           "#B6E880",
           "#FF97FF",
           "#FECB52"
          ],
          "font": {
           "color": "#2a3f5f"
          },
          "geo": {
           "bgcolor": "white",
           "lakecolor": "white",
           "landcolor": "#E5ECF6",
           "showlakes": true,
           "showland": true,
           "subunitcolor": "white"
          },
          "hoverlabel": {
           "align": "left"
          },
          "hovermode": "closest",
          "mapbox": {
           "style": "light"
          },
          "paper_bgcolor": "white",
          "plot_bgcolor": "#E5ECF6",
          "polar": {
           "angularaxis": {
            "gridcolor": "white",
            "linecolor": "white",
            "ticks": ""
           },
           "bgcolor": "#E5ECF6",
           "radialaxis": {
            "gridcolor": "white",
            "linecolor": "white",
            "ticks": ""
           }
          },
          "scene": {
           "xaxis": {
            "backgroundcolor": "#E5ECF6",
            "gridcolor": "white",
            "gridwidth": 2,
            "linecolor": "white",
            "showbackground": true,
            "ticks": "",
            "zerolinecolor": "white"
           },
           "yaxis": {
            "backgroundcolor": "#E5ECF6",
            "gridcolor": "white",
            "gridwidth": 2,
            "linecolor": "white",
            "showbackground": true,
            "ticks": "",
            "zerolinecolor": "white"
           },
           "zaxis": {
            "backgroundcolor": "#E5ECF6",
            "gridcolor": "white",
            "gridwidth": 2,
            "linecolor": "white",
            "showbackground": true,
            "ticks": "",
            "zerolinecolor": "white"
           }
          },
          "shapedefaults": {
           "line": {
            "color": "#2a3f5f"
           }
          },
          "ternary": {
           "aaxis": {
            "gridcolor": "white",
            "linecolor": "white",
            "ticks": ""
           },
           "baxis": {
            "gridcolor": "white",
            "linecolor": "white",
            "ticks": ""
           },
           "bgcolor": "#E5ECF6",
           "caxis": {
            "gridcolor": "white",
            "linecolor": "white",
            "ticks": ""
           }
          },
          "title": {
           "x": 0.05
          },
          "xaxis": {
           "automargin": true,
           "gridcolor": "white",
           "linecolor": "white",
           "ticks": "",
           "title": {
            "standoff": 15
           },
           "zerolinecolor": "white",
           "zerolinewidth": 2
          },
          "yaxis": {
           "automargin": true,
           "gridcolor": "white",
           "linecolor": "white",
           "ticks": "",
           "title": {
            "standoff": 15
           },
           "zerolinecolor": "white",
           "zerolinewidth": 2
          }
         }
        },
        "title": {
         "text": "Cmpound Score by Country and Entity, for World War II Allied Side After"
        },
        "width": 800,
        "xaxis": {
         "title": {
          "text": "Entities"
         }
        },
        "yaxis": {
         "automargin": true,
         "title": {
          "text": "Country"
         }
        }
       }
      }
     },
     "metadata": {},
     "output_type": "display_data"
    },
    {
     "data": {
      "application/vnd.plotly.v1+json": {
       "config": {
        "plotlyServerURL": "https://plot.ly"
       },
       "data": [
        {
         "colorbar": {
          "title": {
           "text": "Sentiment Score"
          }
         },
         "colorscale": [
          [
           0,
           "rgb(103,0,31)"
          ],
          [
           0.1,
           "rgb(178,24,43)"
          ],
          [
           0.2,
           "rgb(214,96,77)"
          ],
          [
           0.3,
           "rgb(244,165,130)"
          ],
          [
           0.4,
           "rgb(253,219,199)"
          ],
          [
           0.5,
           "rgb(247,247,247)"
          ],
          [
           0.6,
           "rgb(209,229,240)"
          ],
          [
           0.7,
           "rgb(146,197,222)"
          ],
          [
           0.8,
           "rgb(67,147,195)"
          ],
          [
           0.9,
           "rgb(33,102,172)"
          ],
          [
           1,
           "rgb(5,48,97)"
          ]
         ],
         "type": "heatmap",
         "x": [
          "Isle",
          "American",
          "Widowmaker",
          "US",
          "US",
          "NATO",
          "USSR",
          "US Navy",
          "NATO",
          "NATO",
          "US",
          "Arnold",
          "Arnold",
          "Arnold",
          "Nazi",
          "Arnold",
          "Arnold",
          "Arnold",
          "Nazi",
          "US",
          "Arnold",
          "Arnold",
          "Arnold",
          "Nazi",
          "Arnold",
          "Arnold",
          "Arnold",
          "Nazi",
          "American",
          "Gen",
          "Gen",
          "Gen",
          "Gen",
          "Gen",
          "Gen",
          "Gen",
          "Gen",
          "Gen",
          "Gen",
          "Gen",
          "Gen",
          "Gen",
          "Gen",
          "Gen",
          "Gen",
          "Gen",
          "Gen",
          "Gen",
          "Gen",
          "Gen",
          "Nazi Germany",
          "Nazi Germany",
          "Nazi",
          "POW",
          "Communist",
          "Communist",
          "Nazi",
          "RAF",
          "Nazi Germany",
          "General Olbricht",
          "General Ludwig Beck",
          "Nazi",
          "General Friedrich Fromm"
         ],
         "y": [
          "Italy",
          "Germany",
          "Germany",
          "Germany",
          "Germany",
          "Germany",
          "Germany",
          "Germany",
          "Germany",
          "Germany",
          "Germany",
          "Germany",
          "Germany",
          "Germany",
          "Germany",
          "Germany",
          "Germany",
          "Germany",
          "Germany",
          "Germany",
          "Germany",
          "Germany",
          "Germany",
          "Germany",
          "Germany",
          "Germany",
          "Germany",
          "Germany",
          "Japan",
          "Japan",
          "Japan",
          "Japan",
          "Japan",
          "Japan",
          "Japan",
          "Japan",
          "Japan",
          "Japan",
          "Japan",
          "Japan",
          "Japan",
          "Japan",
          "Japan",
          "Japan",
          "Japan",
          "Japan",
          "Japan",
          "Japan",
          "Japan",
          "Japan",
          "Germany",
          "Germany",
          "Germany",
          "Germany",
          "Germany",
          "Germany",
          "Germany",
          "Germany",
          "Germany",
          "Germany",
          "Germany",
          "Germany",
          "Germany"
         ],
         "z": [
          [
           0.8126,
           -0.25,
           0,
           0.09344000000000001,
           0.09344000000000001,
           -0.10900000000000003,
           0.7717,
           0.0516,
           -0.10900000000000003,
           -0.10900000000000003,
           -0.4215,
           -0.0991625,
           -0.0991625,
           -0.0991625,
           -0.04557499999999999,
           -0.0991625,
           -0.0991625,
           -0.0991625,
           -0.04557499999999999,
           -0.4215,
           -0.0991625,
           -0.0991625,
           -0.0991625,
           -0.04557499999999999,
           -0.0991625,
           -0.0991625,
           -0.0991625,
           -0.04557499999999999,
           -0.26455000000000006,
           -0.02071499999999999,
           -0.02071499999999999,
           -0.02071499999999999,
           -0.02071499999999999,
           -0.02071499999999999,
           -0.02071499999999999,
           -0.02071499999999999,
           -0.02071499999999999,
           -0.02071499999999999,
           -0.02071499999999999,
           -0.02071499999999999,
           -0.02071499999999999,
           -0.02071499999999999,
           -0.02071499999999999,
           -0.02071499999999999,
           -0.02071499999999999,
           -0.02071499999999999,
           -0.02071499999999999,
           -0.02071499999999999,
           -0.02071499999999999,
           -0.02071499999999999,
           -0.5994,
           -0.5994,
           -0.61815,
           0,
           0.7506,
           0.7506,
           -0.3818,
           -0.743,
           -0.2643,
           -0.4767,
           0,
           0.03542500000000001,
           0.2144
          ]
         ]
        }
       ],
       "frames": [
        {
         "data": [
          {
           "colorscale": [
            [
             0,
             "rgb(103,0,31)"
            ],
            [
             0.1,
             "rgb(178,24,43)"
            ],
            [
             0.2,
             "rgb(214,96,77)"
            ],
            [
             0.3,
             "rgb(244,165,130)"
            ],
            [
             0.4,
             "rgb(253,219,199)"
            ],
            [
             0.5,
             "rgb(247,247,247)"
            ],
            [
             0.6,
             "rgb(209,229,240)"
            ],
            [
             0.7,
             "rgb(146,197,222)"
            ],
            [
             0.8,
             "rgb(67,147,195)"
            ],
            [
             0.9,
             "rgb(33,102,172)"
            ],
            [
             1,
             "rgb(5,48,97)"
            ]
           ],
           "type": "heatmap",
           "x": [
            "Isle",
            "American",
            "Widowmaker",
            "US",
            "US",
            "NATO",
            "USSR",
            "US Navy",
            "NATO",
            "NATO",
            "US",
            "Arnold",
            "Arnold",
            "Arnold",
            "Nazi",
            "Arnold",
            "Arnold",
            "Arnold",
            "Nazi",
            "US",
            "Arnold",
            "Arnold",
            "Arnold",
            "Nazi",
            "Arnold",
            "Arnold",
            "Arnold",
            "Nazi",
            "American",
            "Gen",
            "Gen",
            "Gen",
            "Gen",
            "Gen",
            "Gen",
            "Gen",
            "Gen",
            "Gen",
            "Gen",
            "Gen",
            "Gen",
            "Gen",
            "Gen",
            "Gen",
            "Gen",
            "Gen",
            "Gen",
            "Gen",
            "Gen",
            "Gen",
            "Nazi Germany",
            "Nazi Germany",
            "Nazi",
            "POW",
            "Communist",
            "Communist",
            "Nazi",
            "RAF",
            "Nazi Germany",
            "General Olbricht",
            "General Ludwig Beck",
            "Nazi",
            "General Friedrich Fromm"
           ],
           "y": [
            "Italy",
            "Germany",
            "Germany",
            "Germany",
            "Germany",
            "Germany",
            "Germany",
            "Germany",
            "Germany",
            "Germany",
            "Germany",
            "Germany",
            "Germany",
            "Germany",
            "Germany",
            "Germany",
            "Germany",
            "Germany",
            "Germany",
            "Germany",
            "Germany",
            "Germany",
            "Germany",
            "Germany",
            "Germany",
            "Germany",
            "Germany",
            "Germany",
            "Japan",
            "Japan",
            "Japan",
            "Japan",
            "Japan",
            "Japan",
            "Japan",
            "Japan",
            "Japan",
            "Japan",
            "Japan",
            "Japan",
            "Japan",
            "Japan",
            "Japan",
            "Japan",
            "Japan",
            "Japan",
            "Japan",
            "Japan",
            "Japan",
            "Japan",
            "Germany",
            "Germany",
            "Germany",
            "Germany",
            "Germany",
            "Germany",
            "Germany",
            "Germany",
            "Germany",
            "Germany",
            "Germany",
            "Germany",
            "Germany"
           ],
           "z": [
            0.8126,
            -0.25,
            0,
            0.09344000000000001,
            0.09344000000000001,
            -0.10900000000000003,
            0.7717,
            0.0516,
            -0.10900000000000003,
            -0.10900000000000003,
            -0.4215,
            -0.0991625,
            -0.0991625,
            -0.0991625,
            -0.04557499999999999,
            -0.0991625,
            -0.0991625,
            -0.0991625,
            -0.04557499999999999,
            -0.4215,
            -0.0991625,
            -0.0991625,
            -0.0991625,
            -0.04557499999999999,
            -0.0991625,
            -0.0991625,
            -0.0991625,
            -0.04557499999999999,
            -0.26455000000000006,
            -0.02071499999999999,
            -0.02071499999999999,
            -0.02071499999999999,
            -0.02071499999999999,
            -0.02071499999999999,
            -0.02071499999999999,
            -0.02071499999999999,
            -0.02071499999999999,
            -0.02071499999999999,
            -0.02071499999999999,
            -0.02071499999999999,
            -0.02071499999999999,
            -0.02071499999999999,
            -0.02071499999999999,
            -0.02071499999999999,
            -0.02071499999999999,
            -0.02071499999999999,
            -0.02071499999999999,
            -0.02071499999999999,
            -0.02071499999999999,
            -0.02071499999999999,
            -0.5994,
            -0.5994,
            -0.61815,
            0,
            0.7506,
            0.7506,
            -0.3818,
            -0.743,
            -0.2643,
            -0.4767,
            0,
            0.03542500000000001,
            0.2144
           ]
          }
         ],
         "name": "1"
        },
        {
         "data": [
          {
           "colorscale": [
            [
             0,
             "rgb(103,0,31)"
            ],
            [
             0.1,
             "rgb(178,24,43)"
            ],
            [
             0.2,
             "rgb(214,96,77)"
            ],
            [
             0.3,
             "rgb(244,165,130)"
            ],
            [
             0.4,
             "rgb(253,219,199)"
            ],
            [
             0.5,
             "rgb(247,247,247)"
            ],
            [
             0.6,
             "rgb(209,229,240)"
            ],
            [
             0.7,
             "rgb(146,197,222)"
            ],
            [
             0.8,
             "rgb(67,147,195)"
            ],
            [
             0.9,
             "rgb(33,102,172)"
            ],
            [
             1,
             "rgb(5,48,97)"
            ]
           ],
           "type": "heatmap",
           "x": [
            "Goerdeler",
            "Colonel Mertz",
            "General Fellgiebel",
            "Lieutenant Haeften",
            "Nazi",
            "General",
            "General Fromm",
            "Colonel Stauffenberg",
            "Colonel Stauffenberg",
            "Countess Nina",
            "Nazi",
            "MI5",
            "Nazis",
            "Nazi",
            "Nazi",
            "RAF Control Centre",
            "Nazi",
            "Nazi",
            "SS",
            "American",
            "Colonel Craig Harriman",
            "Nazi",
            "Army",
            "McVey",
            "American",
            "Nazi",
            "Corporal Steiner",
            "Colonel Brandt",
            "Corporal Steiner",
            "Private Reisenauer",
            "Senior Sergeant",
            "Lieutenant Triebig",
            "Lieutenant Meyer",
            "Nazi Party",
            "MP40",
            "Bent",
            "Bent",
            "Infantry Division",
            "Sergeant Bishop Cummings",
            "Corporal Hector Negrón",
            "Corporal Hector Negrón",
            "NSDAP Ortsgruppenleiter",
            "Volkssturm",
            "Nazi",
            "Nazi",
            "Nazi Germany",
            "Komsomol",
            "Communist",
            "Dem Morgenrot Entgegen",
            "Soviets",
            "Nazi",
            "Nazi",
            "Nazi",
            "Nazi",
            "Gestapo",
            "Communist",
            "Communist",
            "Nazi",
            "Nazi",
            "Nazi Party",
            "Army",
            "Partisan",
            "JNA"
           ],
           "y": [
            "Germany",
            "Germany",
            "Germany",
            "Germany",
            "Germany",
            "Germany",
            "Germany",
            "Germany",
            "Germany",
            "Germany",
            "Germany",
            "Germany",
            "Germany",
            "Italy",
            "Italy",
            "Italy",
            "Germany",
            "Germany",
            "Germany",
            "Japan",
            "Japan",
            "Japan",
            "Japan",
            "Japan",
            "Japan",
            "Japan",
            "Germany",
            "Germany",
            "Germany",
            "Germany",
            "Germany",
            "Germany",
            "Germany",
            "Germany",
            "Germany",
            "Germany",
            "Germany",
            "Italy",
            "Italy",
            "Italy",
            "Italy",
            "Germany",
            "Germany",
            "Germany",
            "Germany",
            "Germany",
            "Germany",
            "Germany",
            "Germany",
            "Germany",
            "Germany",
            "Germany",
            "Germany",
            "Germany",
            "Germany",
            "Germany",
            "Germany",
            "Germany",
            "Germany",
            "Germany",
            "Germany",
            "Germany",
            "Germany"
           ],
           "z": [
            -0.14339999999999997,
            0,
            0.4404,
            0,
            0.03542500000000001,
            -0.06269999999999999,
            -0.1779,
            -0.5255,
            -0.5255,
            -0.7269,
            -0.25655000000000006,
            0.25,
            -0.8949,
            -0.37895,
            -0.37895,
            -0.3818,
            -0.36965000000000003,
            -0.36965000000000003,
            -0.8074,
            0,
            -0.296,
            -0.1618,
            0,
            0,
            0.21806666666666666,
            -0.1618,
            -0.2997,
            0.8126,
            -0.2997,
            -0.1779,
            0.2732,
            0,
            0.34,
            0.5719,
            0,
            -0.8716,
            -0.8716,
            -0.5994,
            -0.8442,
            -0.8442,
            -0.8442,
            -0.8221,
            -0.8221,
            -0.5600333333333333,
            -0.5600333333333333,
            0,
            0,
            -0.18076666666666666,
            0,
            -0.7579,
            -0.31895,
            -0.31895,
            -0.31895,
            -0.31895,
            -0.14613333333333334,
            -0.18076666666666666,
            -0.18076666666666666,
            -0.38205,
            -0.38205,
            0.7351,
            0.4576,
            -0.5499,
            -0.19244999999999995
           ]
          }
         ],
         "name": "2"
        },
        {
         "data": [
          {
           "colorscale": [
            [
             0,
             "rgb(103,0,31)"
            ],
            [
             0.1,
             "rgb(178,24,43)"
            ],
            [
             0.2,
             "rgb(214,96,77)"
            ],
            [
             0.3,
             "rgb(244,165,130)"
            ],
            [
             0.4,
             "rgb(253,219,199)"
            ],
            [
             0.5,
             "rgb(247,247,247)"
            ],
            [
             0.6,
             "rgb(209,229,240)"
            ],
            [
             0.7,
             "rgb(146,197,222)"
            ],
            [
             0.8,
             "rgb(67,147,195)"
            ],
            [
             0.9,
             "rgb(33,102,172)"
            ],
            [
             1,
             "rgb(5,48,97)"
            ]
           ],
           "type": "heatmap",
           "x": [
            "JNA",
            "Dijabola",
            "Nazi Party",
            "Blue Angel",
            "Blue Angel",
            "SA",
            "SS",
            "Nazi",
            "SD Colonel Hans Landa",
            "LaPadite",
            "Nazi",
            "Nazi",
            "Nazi",
            "Lieutenant Archie Hicox",
            "General Ed Fenech",
            "Hammersmark",
            "Hammersmark",
            "Hammersmark",
            "Nazi",
            "RAF Flight Lieutenant Peter Gregory",
            "SOE",
            "FANY",
            "Nazis",
            "SOE",
            "SOE",
            "SS Weser",
            "Gibraltar",
            "CIA",
            "NATO",
            "American",
            "Secret Service",
            "Command Post",
            "Ryan",
            "USS",
            "SNAPCOUNT",
            "Army Radiation Assessment Team",
            "CIA",
            "Maryland",
            "General Dubinin",
            "CIA",
            "NATO",
            "American",
            "Secret Service",
            "Command Post",
            "Ryan",
            "USS",
            "SNAPCOUNT",
            "Army Radiation Assessment Team",
            "CIA",
            "Maryland",
            "General Dubinin",
            "Nazi",
            "Nazis",
            "Nazi",
            "Nazis",
            "Cornwall",
            "Jess",
            "Shigematsu",
            "Shigematsu",
            "Red Army",
            "Red Army",
            "Lecters",
            "Nazi",
            "Grutas"
           ],
           "y": [
            "Germany",
            "Germany",
            "Italy",
            "Italy",
            "Italy",
            "Italy",
            "Italy",
            "Italy",
            "Germany",
            "Germany",
            "Germany",
            "Germany",
            "Germany",
            "Germany",
            "Germany",
            "Germany",
            "Germany",
            "Germany",
            "Germany",
            "Germany",
            "Germany",
            "Germany",
            "Germany",
            "Germany",
            "Germany",
            "Germany",
            "Germany",
            "Germany",
            "Germany",
            "Germany",
            "Germany",
            "Germany",
            "Germany",
            "Germany",
            "Germany",
            "Germany",
            "Germany",
            "Germany",
            "Germany",
            "Germany",
            "Germany",
            "Germany",
            "Germany",
            "Germany",
            "Germany",
            "Germany",
            "Germany",
            "Germany",
            "Germany",
            "Germany",
            "Germany",
            "Germany",
            "Germany",
            "Germany",
            "Germany",
            "Germany",
            "Germany",
            "Japan",
            "Japan",
            "Italy",
            "Italy",
            "Italy",
            "Italy",
            "Italy"
           ],
           "z": [
            -0.19244999999999995,
            0.12820000000000004,
            0.6369,
            -0.5859,
            -0.5859,
            -0.4040333333333333,
            -0.27785000000000004,
            -0.19033333333333333,
            0,
            0.125,
            0.029425000000000003,
            0.029425000000000003,
            0.029425000000000003,
            -0.2732,
            -0.2732,
            -0.08112857142857142,
            -0.08112857142857142,
            -0.08112857142857142,
            0.029425000000000003,
            -0.4215,
            -0.25723333333333337,
            0,
            -0.37790000000000007,
            -0.25723333333333337,
            -0.25723333333333337,
            0,
            -0.11315,
            -0.23835,
            -0.0258,
            -0.6482333333333333,
            0,
            0.765,
            0.08552499999999999,
            -0.802,
            0.4019,
            0.6124,
            -0.23835,
            -0.34364999999999996,
            -0.9382,
            -0.23835,
            -0.0258,
            -0.6482333333333333,
            0,
            0.765,
            0.08552499999999999,
            -0.802,
            0.4019,
            0.6124,
            -0.23835,
            -0.34364999999999996,
            -0.9382,
            0.045325,
            0.06043333333333333,
            0.045325,
            0.06043333333333333,
            0.8625,
            0.4939,
            -0.7321500000000001,
            -0.7321500000000001,
            -0.1468,
            -0.1468,
            -0.44655,
            0.11626666666666664,
            -0.37081538461538466
           ]
          }
         ],
         "name": "3"
        }
       ],
       "layout": {
        "height": 800,
        "sliders": [
         {
          "pad": {
           "b": 20,
           "t": 50
          },
          "steps": [
           {
            "args": [
             [
              "1"
             ]
            ],
            "label": "1",
            "method": "animate"
           },
           {
            "args": [
             [
              "2"
             ]
            ],
            "label": "2",
            "method": "animate"
           },
           {
            "args": [
             [
              "3"
             ]
            ],
            "label": "3",
            "method": "animate"
           }
          ],
          "transition": {
           "duration": 500
          }
         }
        ],
        "template": {
         "data": {
          "bar": [
           {
            "error_x": {
             "color": "#2a3f5f"
            },
            "error_y": {
             "color": "#2a3f5f"
            },
            "marker": {
             "line": {
              "color": "#E5ECF6",
              "width": 0.5
             },
             "pattern": {
              "fillmode": "overlay",
              "size": 10,
              "solidity": 0.2
             }
            },
            "type": "bar"
           }
          ],
          "barpolar": [
           {
            "marker": {
             "line": {
              "color": "#E5ECF6",
              "width": 0.5
             },
             "pattern": {
              "fillmode": "overlay",
              "size": 10,
              "solidity": 0.2
             }
            },
            "type": "barpolar"
           }
          ],
          "carpet": [
           {
            "aaxis": {
             "endlinecolor": "#2a3f5f",
             "gridcolor": "white",
             "linecolor": "white",
             "minorgridcolor": "white",
             "startlinecolor": "#2a3f5f"
            },
            "baxis": {
             "endlinecolor": "#2a3f5f",
             "gridcolor": "white",
             "linecolor": "white",
             "minorgridcolor": "white",
             "startlinecolor": "#2a3f5f"
            },
            "type": "carpet"
           }
          ],
          "choropleth": [
           {
            "colorbar": {
             "outlinewidth": 0,
             "ticks": ""
            },
            "type": "choropleth"
           }
          ],
          "contour": [
           {
            "colorbar": {
             "outlinewidth": 0,
             "ticks": ""
            },
            "colorscale": [
             [
              0,
              "#0d0887"
             ],
             [
              0.1111111111111111,
              "#46039f"
             ],
             [
              0.2222222222222222,
              "#7201a8"
             ],
             [
              0.3333333333333333,
              "#9c179e"
             ],
             [
              0.4444444444444444,
              "#bd3786"
             ],
             [
              0.5555555555555556,
              "#d8576b"
             ],
             [
              0.6666666666666666,
              "#ed7953"
             ],
             [
              0.7777777777777778,
              "#fb9f3a"
             ],
             [
              0.8888888888888888,
              "#fdca26"
             ],
             [
              1,
              "#f0f921"
             ]
            ],
            "type": "contour"
           }
          ],
          "contourcarpet": [
           {
            "colorbar": {
             "outlinewidth": 0,
             "ticks": ""
            },
            "type": "contourcarpet"
           }
          ],
          "heatmap": [
           {
            "colorbar": {
             "outlinewidth": 0,
             "ticks": ""
            },
            "colorscale": [
             [
              0,
              "#0d0887"
             ],
             [
              0.1111111111111111,
              "#46039f"
             ],
             [
              0.2222222222222222,
              "#7201a8"
             ],
             [
              0.3333333333333333,
              "#9c179e"
             ],
             [
              0.4444444444444444,
              "#bd3786"
             ],
             [
              0.5555555555555556,
              "#d8576b"
             ],
             [
              0.6666666666666666,
              "#ed7953"
             ],
             [
              0.7777777777777778,
              "#fb9f3a"
             ],
             [
              0.8888888888888888,
              "#fdca26"
             ],
             [
              1,
              "#f0f921"
             ]
            ],
            "type": "heatmap"
           }
          ],
          "heatmapgl": [
           {
            "colorbar": {
             "outlinewidth": 0,
             "ticks": ""
            },
            "colorscale": [
             [
              0,
              "#0d0887"
             ],
             [
              0.1111111111111111,
              "#46039f"
             ],
             [
              0.2222222222222222,
              "#7201a8"
             ],
             [
              0.3333333333333333,
              "#9c179e"
             ],
             [
              0.4444444444444444,
              "#bd3786"
             ],
             [
              0.5555555555555556,
              "#d8576b"
             ],
             [
              0.6666666666666666,
              "#ed7953"
             ],
             [
              0.7777777777777778,
              "#fb9f3a"
             ],
             [
              0.8888888888888888,
              "#fdca26"
             ],
             [
              1,
              "#f0f921"
             ]
            ],
            "type": "heatmapgl"
           }
          ],
          "histogram": [
           {
            "marker": {
             "pattern": {
              "fillmode": "overlay",
              "size": 10,
              "solidity": 0.2
             }
            },
            "type": "histogram"
           }
          ],
          "histogram2d": [
           {
            "colorbar": {
             "outlinewidth": 0,
             "ticks": ""
            },
            "colorscale": [
             [
              0,
              "#0d0887"
             ],
             [
              0.1111111111111111,
              "#46039f"
             ],
             [
              0.2222222222222222,
              "#7201a8"
             ],
             [
              0.3333333333333333,
              "#9c179e"
             ],
             [
              0.4444444444444444,
              "#bd3786"
             ],
             [
              0.5555555555555556,
              "#d8576b"
             ],
             [
              0.6666666666666666,
              "#ed7953"
             ],
             [
              0.7777777777777778,
              "#fb9f3a"
             ],
             [
              0.8888888888888888,
              "#fdca26"
             ],
             [
              1,
              "#f0f921"
             ]
            ],
            "type": "histogram2d"
           }
          ],
          "histogram2dcontour": [
           {
            "colorbar": {
             "outlinewidth": 0,
             "ticks": ""
            },
            "colorscale": [
             [
              0,
              "#0d0887"
             ],
             [
              0.1111111111111111,
              "#46039f"
             ],
             [
              0.2222222222222222,
              "#7201a8"
             ],
             [
              0.3333333333333333,
              "#9c179e"
             ],
             [
              0.4444444444444444,
              "#bd3786"
             ],
             [
              0.5555555555555556,
              "#d8576b"
             ],
             [
              0.6666666666666666,
              "#ed7953"
             ],
             [
              0.7777777777777778,
              "#fb9f3a"
             ],
             [
              0.8888888888888888,
              "#fdca26"
             ],
             [
              1,
              "#f0f921"
             ]
            ],
            "type": "histogram2dcontour"
           }
          ],
          "mesh3d": [
           {
            "colorbar": {
             "outlinewidth": 0,
             "ticks": ""
            },
            "type": "mesh3d"
           }
          ],
          "parcoords": [
           {
            "line": {
             "colorbar": {
              "outlinewidth": 0,
              "ticks": ""
             }
            },
            "type": "parcoords"
           }
          ],
          "pie": [
           {
            "automargin": true,
            "type": "pie"
           }
          ],
          "scatter": [
           {
            "fillpattern": {
             "fillmode": "overlay",
             "size": 10,
             "solidity": 0.2
            },
            "type": "scatter"
           }
          ],
          "scatter3d": [
           {
            "line": {
             "colorbar": {
              "outlinewidth": 0,
              "ticks": ""
             }
            },
            "marker": {
             "colorbar": {
              "outlinewidth": 0,
              "ticks": ""
             }
            },
            "type": "scatter3d"
           }
          ],
          "scattercarpet": [
           {
            "marker": {
             "colorbar": {
              "outlinewidth": 0,
              "ticks": ""
             }
            },
            "type": "scattercarpet"
           }
          ],
          "scattergeo": [
           {
            "marker": {
             "colorbar": {
              "outlinewidth": 0,
              "ticks": ""
             }
            },
            "type": "scattergeo"
           }
          ],
          "scattergl": [
           {
            "marker": {
             "colorbar": {
              "outlinewidth": 0,
              "ticks": ""
             }
            },
            "type": "scattergl"
           }
          ],
          "scattermapbox": [
           {
            "marker": {
             "colorbar": {
              "outlinewidth": 0,
              "ticks": ""
             }
            },
            "type": "scattermapbox"
           }
          ],
          "scatterpolar": [
           {
            "marker": {
             "colorbar": {
              "outlinewidth": 0,
              "ticks": ""
             }
            },
            "type": "scatterpolar"
           }
          ],
          "scatterpolargl": [
           {
            "marker": {
             "colorbar": {
              "outlinewidth": 0,
              "ticks": ""
             }
            },
            "type": "scatterpolargl"
           }
          ],
          "scatterternary": [
           {
            "marker": {
             "colorbar": {
              "outlinewidth": 0,
              "ticks": ""
             }
            },
            "type": "scatterternary"
           }
          ],
          "surface": [
           {
            "colorbar": {
             "outlinewidth": 0,
             "ticks": ""
            },
            "colorscale": [
             [
              0,
              "#0d0887"
             ],
             [
              0.1111111111111111,
              "#46039f"
             ],
             [
              0.2222222222222222,
              "#7201a8"
             ],
             [
              0.3333333333333333,
              "#9c179e"
             ],
             [
              0.4444444444444444,
              "#bd3786"
             ],
             [
              0.5555555555555556,
              "#d8576b"
             ],
             [
              0.6666666666666666,
              "#ed7953"
             ],
             [
              0.7777777777777778,
              "#fb9f3a"
             ],
             [
              0.8888888888888888,
              "#fdca26"
             ],
             [
              1,
              "#f0f921"
             ]
            ],
            "type": "surface"
           }
          ],
          "table": [
           {
            "cells": {
             "fill": {
              "color": "#EBF0F8"
             },
             "line": {
              "color": "white"
             }
            },
            "header": {
             "fill": {
              "color": "#C8D4E3"
             },
             "line": {
              "color": "white"
             }
            },
            "type": "table"
           }
          ]
         },
         "layout": {
          "annotationdefaults": {
           "arrowcolor": "#2a3f5f",
           "arrowhead": 0,
           "arrowwidth": 1
          },
          "autotypenumbers": "strict",
          "coloraxis": {
           "colorbar": {
            "outlinewidth": 0,
            "ticks": ""
           }
          },
          "colorscale": {
           "diverging": [
            [
             0,
             "#8e0152"
            ],
            [
             0.1,
             "#c51b7d"
            ],
            [
             0.2,
             "#de77ae"
            ],
            [
             0.3,
             "#f1b6da"
            ],
            [
             0.4,
             "#fde0ef"
            ],
            [
             0.5,
             "#f7f7f7"
            ],
            [
             0.6,
             "#e6f5d0"
            ],
            [
             0.7,
             "#b8e186"
            ],
            [
             0.8,
             "#7fbc41"
            ],
            [
             0.9,
             "#4d9221"
            ],
            [
             1,
             "#276419"
            ]
           ],
           "sequential": [
            [
             0,
             "#0d0887"
            ],
            [
             0.1111111111111111,
             "#46039f"
            ],
            [
             0.2222222222222222,
             "#7201a8"
            ],
            [
             0.3333333333333333,
             "#9c179e"
            ],
            [
             0.4444444444444444,
             "#bd3786"
            ],
            [
             0.5555555555555556,
             "#d8576b"
            ],
            [
             0.6666666666666666,
             "#ed7953"
            ],
            [
             0.7777777777777778,
             "#fb9f3a"
            ],
            [
             0.8888888888888888,
             "#fdca26"
            ],
            [
             1,
             "#f0f921"
            ]
           ],
           "sequentialminus": [
            [
             0,
             "#0d0887"
            ],
            [
             0.1111111111111111,
             "#46039f"
            ],
            [
             0.2222222222222222,
             "#7201a8"
            ],
            [
             0.3333333333333333,
             "#9c179e"
            ],
            [
             0.4444444444444444,
             "#bd3786"
            ],
            [
             0.5555555555555556,
             "#d8576b"
            ],
            [
             0.6666666666666666,
             "#ed7953"
            ],
            [
             0.7777777777777778,
             "#fb9f3a"
            ],
            [
             0.8888888888888888,
             "#fdca26"
            ],
            [
             1,
             "#f0f921"
            ]
           ]
          },
          "colorway": [
           "#636efa",
           "#EF553B",
           "#00cc96",
           "#ab63fa",
           "#FFA15A",
           "#19d3f3",
           "#FF6692",
           "#B6E880",
           "#FF97FF",
           "#FECB52"
          ],
          "font": {
           "color": "#2a3f5f"
          },
          "geo": {
           "bgcolor": "white",
           "lakecolor": "white",
           "landcolor": "#E5ECF6",
           "showlakes": true,
           "showland": true,
           "subunitcolor": "white"
          },
          "hoverlabel": {
           "align": "left"
          },
          "hovermode": "closest",
          "mapbox": {
           "style": "light"
          },
          "paper_bgcolor": "white",
          "plot_bgcolor": "#E5ECF6",
          "polar": {
           "angularaxis": {
            "gridcolor": "white",
            "linecolor": "white",
            "ticks": ""
           },
           "bgcolor": "#E5ECF6",
           "radialaxis": {
            "gridcolor": "white",
            "linecolor": "white",
            "ticks": ""
           }
          },
          "scene": {
           "xaxis": {
            "backgroundcolor": "#E5ECF6",
            "gridcolor": "white",
            "gridwidth": 2,
            "linecolor": "white",
            "showbackground": true,
            "ticks": "",
            "zerolinecolor": "white"
           },
           "yaxis": {
            "backgroundcolor": "#E5ECF6",
            "gridcolor": "white",
            "gridwidth": 2,
            "linecolor": "white",
            "showbackground": true,
            "ticks": "",
            "zerolinecolor": "white"
           },
           "zaxis": {
            "backgroundcolor": "#E5ECF6",
            "gridcolor": "white",
            "gridwidth": 2,
            "linecolor": "white",
            "showbackground": true,
            "ticks": "",
            "zerolinecolor": "white"
           }
          },
          "shapedefaults": {
           "line": {
            "color": "#2a3f5f"
           }
          },
          "ternary": {
           "aaxis": {
            "gridcolor": "white",
            "linecolor": "white",
            "ticks": ""
           },
           "baxis": {
            "gridcolor": "white",
            "linecolor": "white",
            "ticks": ""
           },
           "bgcolor": "#E5ECF6",
           "caxis": {
            "gridcolor": "white",
            "linecolor": "white",
            "ticks": ""
           }
          },
          "title": {
           "x": 0.05
          },
          "xaxis": {
           "automargin": true,
           "gridcolor": "white",
           "linecolor": "white",
           "ticks": "",
           "title": {
            "standoff": 15
           },
           "zerolinecolor": "white",
           "zerolinewidth": 2
          },
          "yaxis": {
           "automargin": true,
           "gridcolor": "white",
           "linecolor": "white",
           "ticks": "",
           "title": {
            "standoff": 15
           },
           "zerolinecolor": "white",
           "zerolinewidth": 2
          }
         }
        },
        "title": {
         "text": "Cmpound Score by Country and Entity, for World War II Axis Side"
        },
        "width": 800,
        "xaxis": {
         "title": {
          "text": "Entities"
         }
        },
        "yaxis": {
         "automargin": true,
         "title": {
          "text": "Country"
         }
        }
       }
      }
     },
     "metadata": {},
     "output_type": "display_data"
    },
    {
     "data": {
      "application/vnd.plotly.v1+json": {
       "config": {
        "plotlyServerURL": "https://plot.ly"
       },
       "data": [
        {
         "colorbar": {
          "title": {
           "text": "Sentiment Score"
          }
         },
         "colorscale": [
          [
           0,
           "rgb(103,0,31)"
          ],
          [
           0.1,
           "rgb(178,24,43)"
          ],
          [
           0.2,
           "rgb(214,96,77)"
          ],
          [
           0.3,
           "rgb(244,165,130)"
          ],
          [
           0.4,
           "rgb(253,219,199)"
          ],
          [
           0.5,
           "rgb(247,247,247)"
          ],
          [
           0.6,
           "rgb(209,229,240)"
          ],
          [
           0.7,
           "rgb(146,197,222)"
          ],
          [
           0.8,
           "rgb(67,147,195)"
          ],
          [
           0.9,
           "rgb(33,102,172)"
          ],
          [
           1,
           "rgb(5,48,97)"
          ]
         ],
         "type": "heatmap",
         "x": [
          "Soviets",
          "Soviets",
          "Soviets",
          "Nazi",
          "Communist",
          "nameNewsArticle",
          "Soviets",
          "American",
          "Emergency Powers Act",
          "Sheffield",
          "NATO",
          "RAF Finningley",
          "Becketts",
          "Sheffield",
          "Sheffield",
          "Sheffield",
          "Becketts",
          "National Health Service",
          "Sheffield",
          "KGB Lieutenant",
          "Cossacks",
          "Social Democratic Labour Party",
          "Social Democratic Labour Party"
         ],
         "y": [
          "United States of America",
          "United States of America",
          "United States of America",
          "United States of America",
          "United States of America",
          "United States of America",
          "United States of America",
          "United States of America",
          "United States of America",
          "United States of America",
          "United States of America",
          "United States of America",
          "United States of America",
          "United States of America",
          "United States of America",
          "United States of America",
          "United States of America",
          "United States of America",
          "United States of America",
          "United States of America",
          "United States of America",
          "United States of America",
          "United States of America"
         ],
         "z": [
          [
           -0.75895,
           -0.75895,
           -0.75895,
           0,
           0.9287,
           0.128,
           -0.891,
           -0.73845,
           -0.6908,
           -0.24427,
           -0.6597,
           -0.6597,
           0.02930000000000002,
           -0.24427,
           -0.24427,
           -0.24427,
           0.02930000000000002,
           0.5106,
           -0.24427,
           0,
           0.296,
           -0.296,
           -0.296
          ]
         ]
        }
       ],
       "frames": [
        {
         "data": [
          {
           "colorscale": [
            [
             0,
             "rgb(103,0,31)"
            ],
            [
             0.1,
             "rgb(178,24,43)"
            ],
            [
             0.2,
             "rgb(214,96,77)"
            ],
            [
             0.3,
             "rgb(244,165,130)"
            ],
            [
             0.4,
             "rgb(253,219,199)"
            ],
            [
             0.5,
             "rgb(247,247,247)"
            ],
            [
             0.6,
             "rgb(209,229,240)"
            ],
            [
             0.7,
             "rgb(146,197,222)"
            ],
            [
             0.8,
             "rgb(67,147,195)"
            ],
            [
             0.9,
             "rgb(33,102,172)"
            ],
            [
             1,
             "rgb(5,48,97)"
            ]
           ],
           "type": "heatmap",
           "x": [
            "Soviets",
            "Soviets",
            "Soviets",
            "Nazi",
            "Communist",
            "nameNewsArticle",
            "Soviets",
            "American",
            "Emergency Powers Act",
            "Sheffield",
            "NATO",
            "RAF Finningley",
            "Becketts",
            "Sheffield",
            "Sheffield",
            "Sheffield",
            "Becketts",
            "National Health Service",
            "Sheffield",
            "KGB Lieutenant",
            "Cossacks",
            "Social Democratic Labour Party",
            "Social Democratic Labour Party"
           ],
           "y": [
            "United States of America",
            "United States of America",
            "United States of America",
            "United States of America",
            "United States of America",
            "United States of America",
            "United States of America",
            "United States of America",
            "United States of America",
            "United States of America",
            "United States of America",
            "United States of America",
            "United States of America",
            "United States of America",
            "United States of America",
            "United States of America",
            "United States of America",
            "United States of America",
            "United States of America",
            "United States of America",
            "United States of America",
            "United States of America",
            "United States of America"
           ],
           "z": [
            -0.75895,
            -0.75895,
            -0.75895,
            0,
            0.9287,
            0.128,
            -0.891,
            -0.73845,
            -0.6908,
            -0.24427,
            -0.6597,
            -0.6597,
            0.02930000000000002,
            -0.24427,
            -0.24427,
            -0.24427,
            0.02930000000000002,
            0.5106,
            -0.24427,
            0,
            0.296,
            -0.296,
            -0.296
           ]
          }
         ],
         "name": "1"
        },
        {
         "data": [
          {
           "colorscale": [
            [
             0,
             "rgb(103,0,31)"
            ],
            [
             0.1,
             "rgb(178,24,43)"
            ],
            [
             0.2,
             "rgb(214,96,77)"
            ],
            [
             0.3,
             "rgb(244,165,130)"
            ],
            [
             0.4,
             "rgb(253,219,199)"
            ],
            [
             0.5,
             "rgb(247,247,247)"
            ],
            [
             0.6,
             "rgb(209,229,240)"
            ],
            [
             0.7,
             "rgb(146,197,222)"
            ],
            [
             0.8,
             "rgb(67,147,195)"
            ],
            [
             0.9,
             "rgb(33,102,172)"
            ],
            [
             1,
             "rgb(5,48,97)"
            ]
           ],
           "type": "heatmap",
           "x": [
            "CHEKA",
            "Ural Mountains",
            "Communist",
            "CHEKA",
            "CHEKA",
            "CHEKA",
            "No",
            "Warner Brothers",
            "Imperial Court",
            "Tsarina Alexandra",
            "Naval Sailor Nagorny",
            "Rasputin",
            "Tsaritsa",
            "Bolsheviks",
            "Bolsheviks",
            "Commander Casey Abbott",
            "USS Starfish",
            "KGB",
            "KGB",
            "KGB",
            "KGB",
            "KGB",
            "Telefon"
           ],
           "y": [
            "United States of America",
            "United States of America",
            "United States of America",
            "United States of America",
            "United States of America",
            "United States of America",
            "United States of America",
            "United States of America",
            "United States of America",
            "United States of America",
            "United States of America",
            "United States of America",
            "United States of America",
            "United States of America",
            "United States of America",
            "United States of America",
            "United States of America",
            "United States of America",
            "United States of America",
            "United States of America",
            "United States of America",
            "United States of America",
            "United States of America"
           ],
           "z": [
            -0.26803333333333335,
            0.5106,
            -0.4253,
            -0.26803333333333335,
            -0.26803333333333335,
            -0.26803333333333335,
            -0.6077,
            -0.6077,
            0,
            -0.4404,
            0,
            -0.04421000000000001,
            0.7003,
            -0.17,
            -0.17,
            -0.4939,
            -0.4939,
            -0.16802,
            -0.16802,
            -0.16802,
            -0.16802,
            -0.16802,
            -0.623
           ]
          }
         ],
         "name": "2"
        },
        {
         "data": [
          {
           "colorscale": [
            [
             0,
             "rgb(103,0,31)"
            ],
            [
             0.1,
             "rgb(178,24,43)"
            ],
            [
             0.2,
             "rgb(214,96,77)"
            ],
            [
             0.3,
             "rgb(244,165,130)"
            ],
            [
             0.4,
             "rgb(253,219,199)"
            ],
            [
             0.5,
             "rgb(247,247,247)"
            ],
            [
             0.6,
             "rgb(209,229,240)"
            ],
            [
             0.7,
             "rgb(146,197,222)"
            ],
            [
             0.8,
             "rgb(67,147,195)"
            ],
            [
             0.9,
             "rgb(33,102,172)"
            ],
            [
             1,
             "rgb(5,48,97)"
            ]
           ],
           "type": "heatmap",
           "x": [
            "Foreign Legion",
            "KGB",
            "Gant",
            "Gant",
            "KGB",
            "Gant",
            "Gant",
            "Gant",
            "Gant",
            "Communists",
            "Communists",
            "ChiComs",
            "Lieutenant Anna Marladovna",
            "USSR",
            "American Communist Labor Party",
            "Democratic Convention",
            "Czarist",
            "Czarist",
            "Czarist",
            "Czarist",
            "Soviets",
            "Colonel Semenov",
            "Soviets"
           ],
           "y": [
            "United States of America",
            "United States of America",
            "United States of America",
            "United States of America",
            "United States of America",
            "United States of America",
            "United States of America",
            "United States of America",
            "United States of America",
            "United States of America",
            "United States of America",
            "United States of America",
            "United States of America",
            "United States of America",
            "United States of America",
            "United States of America",
            "United States of America",
            "United States of America",
            "United States of America",
            "United States of America",
            "United States of America",
            "United States of America",
            "United States of America"
           ],
           "z": [
            -0.8316,
            0.0258,
            0.034349999999999985,
            0.034349999999999985,
            0.0258,
            0.034349999999999985,
            0.034349999999999985,
            0.034349999999999985,
            0.034349999999999985,
            0.2294,
            0.2294,
            0.3182,
            0.5859,
            0,
            0.0516,
            -0.4215,
            0.4588,
            0.4588,
            0.4588,
            0.4588,
            -0.1366,
            -0.34145,
            -0.1366
           ]
          }
         ],
         "name": "3"
        }
       ],
       "layout": {
        "height": 800,
        "sliders": [
         {
          "pad": {
           "b": 20,
           "t": 50
          },
          "steps": [
           {
            "args": [
             [
              "1"
             ]
            ],
            "label": "1",
            "method": "animate"
           },
           {
            "args": [
             [
              "2"
             ]
            ],
            "label": "2",
            "method": "animate"
           },
           {
            "args": [
             [
              "3"
             ]
            ],
            "label": "3",
            "method": "animate"
           }
          ],
          "transition": {
           "duration": 500
          }
         }
        ],
        "template": {
         "data": {
          "bar": [
           {
            "error_x": {
             "color": "#2a3f5f"
            },
            "error_y": {
             "color": "#2a3f5f"
            },
            "marker": {
             "line": {
              "color": "#E5ECF6",
              "width": 0.5
             },
             "pattern": {
              "fillmode": "overlay",
              "size": 10,
              "solidity": 0.2
             }
            },
            "type": "bar"
           }
          ],
          "barpolar": [
           {
            "marker": {
             "line": {
              "color": "#E5ECF6",
              "width": 0.5
             },
             "pattern": {
              "fillmode": "overlay",
              "size": 10,
              "solidity": 0.2
             }
            },
            "type": "barpolar"
           }
          ],
          "carpet": [
           {
            "aaxis": {
             "endlinecolor": "#2a3f5f",
             "gridcolor": "white",
             "linecolor": "white",
             "minorgridcolor": "white",
             "startlinecolor": "#2a3f5f"
            },
            "baxis": {
             "endlinecolor": "#2a3f5f",
             "gridcolor": "white",
             "linecolor": "white",
             "minorgridcolor": "white",
             "startlinecolor": "#2a3f5f"
            },
            "type": "carpet"
           }
          ],
          "choropleth": [
           {
            "colorbar": {
             "outlinewidth": 0,
             "ticks": ""
            },
            "type": "choropleth"
           }
          ],
          "contour": [
           {
            "colorbar": {
             "outlinewidth": 0,
             "ticks": ""
            },
            "colorscale": [
             [
              0,
              "#0d0887"
             ],
             [
              0.1111111111111111,
              "#46039f"
             ],
             [
              0.2222222222222222,
              "#7201a8"
             ],
             [
              0.3333333333333333,
              "#9c179e"
             ],
             [
              0.4444444444444444,
              "#bd3786"
             ],
             [
              0.5555555555555556,
              "#d8576b"
             ],
             [
              0.6666666666666666,
              "#ed7953"
             ],
             [
              0.7777777777777778,
              "#fb9f3a"
             ],
             [
              0.8888888888888888,
              "#fdca26"
             ],
             [
              1,
              "#f0f921"
             ]
            ],
            "type": "contour"
           }
          ],
          "contourcarpet": [
           {
            "colorbar": {
             "outlinewidth": 0,
             "ticks": ""
            },
            "type": "contourcarpet"
           }
          ],
          "heatmap": [
           {
            "colorbar": {
             "outlinewidth": 0,
             "ticks": ""
            },
            "colorscale": [
             [
              0,
              "#0d0887"
             ],
             [
              0.1111111111111111,
              "#46039f"
             ],
             [
              0.2222222222222222,
              "#7201a8"
             ],
             [
              0.3333333333333333,
              "#9c179e"
             ],
             [
              0.4444444444444444,
              "#bd3786"
             ],
             [
              0.5555555555555556,
              "#d8576b"
             ],
             [
              0.6666666666666666,
              "#ed7953"
             ],
             [
              0.7777777777777778,
              "#fb9f3a"
             ],
             [
              0.8888888888888888,
              "#fdca26"
             ],
             [
              1,
              "#f0f921"
             ]
            ],
            "type": "heatmap"
           }
          ],
          "heatmapgl": [
           {
            "colorbar": {
             "outlinewidth": 0,
             "ticks": ""
            },
            "colorscale": [
             [
              0,
              "#0d0887"
             ],
             [
              0.1111111111111111,
              "#46039f"
             ],
             [
              0.2222222222222222,
              "#7201a8"
             ],
             [
              0.3333333333333333,
              "#9c179e"
             ],
             [
              0.4444444444444444,
              "#bd3786"
             ],
             [
              0.5555555555555556,
              "#d8576b"
             ],
             [
              0.6666666666666666,
              "#ed7953"
             ],
             [
              0.7777777777777778,
              "#fb9f3a"
             ],
             [
              0.8888888888888888,
              "#fdca26"
             ],
             [
              1,
              "#f0f921"
             ]
            ],
            "type": "heatmapgl"
           }
          ],
          "histogram": [
           {
            "marker": {
             "pattern": {
              "fillmode": "overlay",
              "size": 10,
              "solidity": 0.2
             }
            },
            "type": "histogram"
           }
          ],
          "histogram2d": [
           {
            "colorbar": {
             "outlinewidth": 0,
             "ticks": ""
            },
            "colorscale": [
             [
              0,
              "#0d0887"
             ],
             [
              0.1111111111111111,
              "#46039f"
             ],
             [
              0.2222222222222222,
              "#7201a8"
             ],
             [
              0.3333333333333333,
              "#9c179e"
             ],
             [
              0.4444444444444444,
              "#bd3786"
             ],
             [
              0.5555555555555556,
              "#d8576b"
             ],
             [
              0.6666666666666666,
              "#ed7953"
             ],
             [
              0.7777777777777778,
              "#fb9f3a"
             ],
             [
              0.8888888888888888,
              "#fdca26"
             ],
             [
              1,
              "#f0f921"
             ]
            ],
            "type": "histogram2d"
           }
          ],
          "histogram2dcontour": [
           {
            "colorbar": {
             "outlinewidth": 0,
             "ticks": ""
            },
            "colorscale": [
             [
              0,
              "#0d0887"
             ],
             [
              0.1111111111111111,
              "#46039f"
             ],
             [
              0.2222222222222222,
              "#7201a8"
             ],
             [
              0.3333333333333333,
              "#9c179e"
             ],
             [
              0.4444444444444444,
              "#bd3786"
             ],
             [
              0.5555555555555556,
              "#d8576b"
             ],
             [
              0.6666666666666666,
              "#ed7953"
             ],
             [
              0.7777777777777778,
              "#fb9f3a"
             ],
             [
              0.8888888888888888,
              "#fdca26"
             ],
             [
              1,
              "#f0f921"
             ]
            ],
            "type": "histogram2dcontour"
           }
          ],
          "mesh3d": [
           {
            "colorbar": {
             "outlinewidth": 0,
             "ticks": ""
            },
            "type": "mesh3d"
           }
          ],
          "parcoords": [
           {
            "line": {
             "colorbar": {
              "outlinewidth": 0,
              "ticks": ""
             }
            },
            "type": "parcoords"
           }
          ],
          "pie": [
           {
            "automargin": true,
            "type": "pie"
           }
          ],
          "scatter": [
           {
            "fillpattern": {
             "fillmode": "overlay",
             "size": 10,
             "solidity": 0.2
            },
            "type": "scatter"
           }
          ],
          "scatter3d": [
           {
            "line": {
             "colorbar": {
              "outlinewidth": 0,
              "ticks": ""
             }
            },
            "marker": {
             "colorbar": {
              "outlinewidth": 0,
              "ticks": ""
             }
            },
            "type": "scatter3d"
           }
          ],
          "scattercarpet": [
           {
            "marker": {
             "colorbar": {
              "outlinewidth": 0,
              "ticks": ""
             }
            },
            "type": "scattercarpet"
           }
          ],
          "scattergeo": [
           {
            "marker": {
             "colorbar": {
              "outlinewidth": 0,
              "ticks": ""
             }
            },
            "type": "scattergeo"
           }
          ],
          "scattergl": [
           {
            "marker": {
             "colorbar": {
              "outlinewidth": 0,
              "ticks": ""
             }
            },
            "type": "scattergl"
           }
          ],
          "scattermapbox": [
           {
            "marker": {
             "colorbar": {
              "outlinewidth": 0,
              "ticks": ""
             }
            },
            "type": "scattermapbox"
           }
          ],
          "scatterpolar": [
           {
            "marker": {
             "colorbar": {
              "outlinewidth": 0,
              "ticks": ""
             }
            },
            "type": "scatterpolar"
           }
          ],
          "scatterpolargl": [
           {
            "marker": {
             "colorbar": {
              "outlinewidth": 0,
              "ticks": ""
             }
            },
            "type": "scatterpolargl"
           }
          ],
          "scatterternary": [
           {
            "marker": {
             "colorbar": {
              "outlinewidth": 0,
              "ticks": ""
             }
            },
            "type": "scatterternary"
           }
          ],
          "surface": [
           {
            "colorbar": {
             "outlinewidth": 0,
             "ticks": ""
            },
            "colorscale": [
             [
              0,
              "#0d0887"
             ],
             [
              0.1111111111111111,
              "#46039f"
             ],
             [
              0.2222222222222222,
              "#7201a8"
             ],
             [
              0.3333333333333333,
              "#9c179e"
             ],
             [
              0.4444444444444444,
              "#bd3786"
             ],
             [
              0.5555555555555556,
              "#d8576b"
             ],
             [
              0.6666666666666666,
              "#ed7953"
             ],
             [
              0.7777777777777778,
              "#fb9f3a"
             ],
             [
              0.8888888888888888,
              "#fdca26"
             ],
             [
              1,
              "#f0f921"
             ]
            ],
            "type": "surface"
           }
          ],
          "table": [
           {
            "cells": {
             "fill": {
              "color": "#EBF0F8"
             },
             "line": {
              "color": "white"
             }
            },
            "header": {
             "fill": {
              "color": "#C8D4E3"
             },
             "line": {
              "color": "white"
             }
            },
            "type": "table"
           }
          ]
         },
         "layout": {
          "annotationdefaults": {
           "arrowcolor": "#2a3f5f",
           "arrowhead": 0,
           "arrowwidth": 1
          },
          "autotypenumbers": "strict",
          "coloraxis": {
           "colorbar": {
            "outlinewidth": 0,
            "ticks": ""
           }
          },
          "colorscale": {
           "diverging": [
            [
             0,
             "#8e0152"
            ],
            [
             0.1,
             "#c51b7d"
            ],
            [
             0.2,
             "#de77ae"
            ],
            [
             0.3,
             "#f1b6da"
            ],
            [
             0.4,
             "#fde0ef"
            ],
            [
             0.5,
             "#f7f7f7"
            ],
            [
             0.6,
             "#e6f5d0"
            ],
            [
             0.7,
             "#b8e186"
            ],
            [
             0.8,
             "#7fbc41"
            ],
            [
             0.9,
             "#4d9221"
            ],
            [
             1,
             "#276419"
            ]
           ],
           "sequential": [
            [
             0,
             "#0d0887"
            ],
            [
             0.1111111111111111,
             "#46039f"
            ],
            [
             0.2222222222222222,
             "#7201a8"
            ],
            [
             0.3333333333333333,
             "#9c179e"
            ],
            [
             0.4444444444444444,
             "#bd3786"
            ],
            [
             0.5555555555555556,
             "#d8576b"
            ],
            [
             0.6666666666666666,
             "#ed7953"
            ],
            [
             0.7777777777777778,
             "#fb9f3a"
            ],
            [
             0.8888888888888888,
             "#fdca26"
            ],
            [
             1,
             "#f0f921"
            ]
           ],
           "sequentialminus": [
            [
             0,
             "#0d0887"
            ],
            [
             0.1111111111111111,
             "#46039f"
            ],
            [
             0.2222222222222222,
             "#7201a8"
            ],
            [
             0.3333333333333333,
             "#9c179e"
            ],
            [
             0.4444444444444444,
             "#bd3786"
            ],
            [
             0.5555555555555556,
             "#d8576b"
            ],
            [
             0.6666666666666666,
             "#ed7953"
            ],
            [
             0.7777777777777778,
             "#fb9f3a"
            ],
            [
             0.8888888888888888,
             "#fdca26"
            ],
            [
             1,
             "#f0f921"
            ]
           ]
          },
          "colorway": [
           "#636efa",
           "#EF553B",
           "#00cc96",
           "#ab63fa",
           "#FFA15A",
           "#19d3f3",
           "#FF6692",
           "#B6E880",
           "#FF97FF",
           "#FECB52"
          ],
          "font": {
           "color": "#2a3f5f"
          },
          "geo": {
           "bgcolor": "white",
           "lakecolor": "white",
           "landcolor": "#E5ECF6",
           "showlakes": true,
           "showland": true,
           "subunitcolor": "white"
          },
          "hoverlabel": {
           "align": "left"
          },
          "hovermode": "closest",
          "mapbox": {
           "style": "light"
          },
          "paper_bgcolor": "white",
          "plot_bgcolor": "#E5ECF6",
          "polar": {
           "angularaxis": {
            "gridcolor": "white",
            "linecolor": "white",
            "ticks": ""
           },
           "bgcolor": "#E5ECF6",
           "radialaxis": {
            "gridcolor": "white",
            "linecolor": "white",
            "ticks": ""
           }
          },
          "scene": {
           "xaxis": {
            "backgroundcolor": "#E5ECF6",
            "gridcolor": "white",
            "gridwidth": 2,
            "linecolor": "white",
            "showbackground": true,
            "ticks": "",
            "zerolinecolor": "white"
           },
           "yaxis": {
            "backgroundcolor": "#E5ECF6",
            "gridcolor": "white",
            "gridwidth": 2,
            "linecolor": "white",
            "showbackground": true,
            "ticks": "",
            "zerolinecolor": "white"
           },
           "zaxis": {
            "backgroundcolor": "#E5ECF6",
            "gridcolor": "white",
            "gridwidth": 2,
            "linecolor": "white",
            "showbackground": true,
            "ticks": "",
            "zerolinecolor": "white"
           }
          },
          "shapedefaults": {
           "line": {
            "color": "#2a3f5f"
           }
          },
          "ternary": {
           "aaxis": {
            "gridcolor": "white",
            "linecolor": "white",
            "ticks": ""
           },
           "baxis": {
            "gridcolor": "white",
            "linecolor": "white",
            "ticks": ""
           },
           "bgcolor": "#E5ECF6",
           "caxis": {
            "gridcolor": "white",
            "linecolor": "white",
            "ticks": ""
           }
          },
          "title": {
           "x": 0.05
          },
          "xaxis": {
           "automargin": true,
           "gridcolor": "white",
           "linecolor": "white",
           "ticks": "",
           "title": {
            "standoff": 15
           },
           "zerolinecolor": "white",
           "zerolinewidth": 2
          },
          "yaxis": {
           "automargin": true,
           "gridcolor": "white",
           "linecolor": "white",
           "ticks": "",
           "title": {
            "standoff": 15
           },
           "zerolinecolor": "white",
           "zerolinewidth": 2
          }
         }
        },
        "title": {
         "text": "Cmpound Score by Country and Entity, for Cold War Western Side Before"
        },
        "width": 800,
        "xaxis": {
         "title": {
          "text": "Entities"
         }
        },
        "yaxis": {
         "automargin": true,
         "title": {
          "text": "Country"
         }
        }
       }
      }
     },
     "metadata": {},
     "output_type": "display_data"
    },
    {
     "data": {
      "application/vnd.plotly.v1+json": {
       "config": {
        "plotlyServerURL": "https://plot.ly"
       },
       "data": [
        {
         "colorbar": {
          "title": {
           "text": "Sentiment Score"
          }
         },
         "colorscale": [
          [
           0,
           "rgb(103,0,31)"
          ],
          [
           0.1,
           "rgb(178,24,43)"
          ],
          [
           0.2,
           "rgb(214,96,77)"
          ],
          [
           0.3,
           "rgb(244,165,130)"
          ],
          [
           0.4,
           "rgb(253,219,199)"
          ],
          [
           0.5,
           "rgb(247,247,247)"
          ],
          [
           0.6,
           "rgb(209,229,240)"
          ],
          [
           0.7,
           "rgb(146,197,222)"
          ],
          [
           0.8,
           "rgb(67,147,195)"
          ],
          [
           0.9,
           "rgb(33,102,172)"
          ],
          [
           1,
           "rgb(5,48,97)"
          ]
         ],
         "type": "heatmap",
         "x": [
          "Soviets",
          "SAVAK",
          "SAVAK",
          "Communists",
          "Communists",
          "Communist",
          "Communist",
          "Islamic",
          "Islamic",
          "Islamic",
          "Islamic",
          "Catholic",
          "Catholic",
          "Joint Chiefs",
          "Soviets",
          "Guns",
          "ABC News"
         ],
         "y": [
          "United States of America",
          "France",
          "United States of America",
          "France",
          "United States of America",
          "France",
          "United States of America",
          "France",
          "United States of America",
          "France",
          "United States of America",
          "France",
          "United States of America",
          "United States of America",
          "United States of America",
          "United States of America",
          "United States of America"
         ],
         "z": [
          [
           -0.1366,
           -0.4497,
           -0.4497,
           -0.4497,
           -0.4497,
           -0.5373,
           -0.5373,
           -0.4599,
           -0.4599,
           -0.4599,
           -0.4599,
           0,
           0,
           -0.3612,
           -0.15366666666666665,
           -0.9169,
           0.34
          ]
         ]
        }
       ],
       "frames": [
        {
         "data": [
          {
           "colorscale": [
            [
             0,
             "rgb(103,0,31)"
            ],
            [
             0.1,
             "rgb(178,24,43)"
            ],
            [
             0.2,
             "rgb(214,96,77)"
            ],
            [
             0.3,
             "rgb(244,165,130)"
            ],
            [
             0.4,
             "rgb(253,219,199)"
            ],
            [
             0.5,
             "rgb(247,247,247)"
            ],
            [
             0.6,
             "rgb(209,229,240)"
            ],
            [
             0.7,
             "rgb(146,197,222)"
            ],
            [
             0.8,
             "rgb(67,147,195)"
            ],
            [
             0.9,
             "rgb(33,102,172)"
            ],
            [
             1,
             "rgb(5,48,97)"
            ]
           ],
           "type": "heatmap",
           "x": [
            "Soviets",
            "SAVAK",
            "SAVAK",
            "Communists",
            "Communists",
            "Communist",
            "Communist",
            "Islamic",
            "Islamic",
            "Islamic",
            "Islamic",
            "Catholic",
            "Catholic",
            "Joint Chiefs",
            "Soviets",
            "Guns",
            "ABC News"
           ],
           "y": [
            "United States of America",
            "France",
            "United States of America",
            "France",
            "United States of America",
            "France",
            "United States of America",
            "France",
            "United States of America",
            "France",
            "United States of America",
            "France",
            "United States of America",
            "United States of America",
            "United States of America",
            "United States of America",
            "United States of America"
           ],
           "z": [
            -0.1366,
            -0.4497,
            -0.4497,
            -0.4497,
            -0.4497,
            -0.5373,
            -0.5373,
            -0.4599,
            -0.4599,
            -0.4599,
            -0.4599,
            0,
            0,
            -0.3612,
            -0.15366666666666665,
            -0.9169,
            0.34
           ]
          }
         ],
         "name": "1"
        },
        {
         "data": [
          {
           "colorscale": [
            [
             0,
             "rgb(103,0,31)"
            ],
            [
             0.1,
             "rgb(178,24,43)"
            ],
            [
             0.2,
             "rgb(214,96,77)"
            ],
            [
             0.3,
             "rgb(244,165,130)"
            ],
            [
             0.4,
             "rgb(253,219,199)"
            ],
            [
             0.5,
             "rgb(247,247,247)"
            ],
            [
             0.6,
             "rgb(209,229,240)"
            ],
            [
             0.7,
             "rgb(146,197,222)"
            ],
            [
             0.8,
             "rgb(67,147,195)"
            ],
            [
             0.9,
             "rgb(33,102,172)"
            ],
            [
             1,
             "rgb(5,48,97)"
            ]
           ],
           "type": "heatmap",
           "x": [
            "DEFCON",
            "Security Council",
            "USS Alabama",
            "Lieutenant",
            "Alabama",
            "Ural",
            "Senior Lieutenant",
            "Private",
            "Commander Block",
            "Wash Out",
            "NASA",
            "Revolution",
            "Revolution",
            "McKay",
            "Revolution",
            "Coup Attempt",
            "ISSN"
           ],
           "y": [
            "United States of America",
            "United States of America",
            "United States of America",
            "United States of America",
            "United States of America",
            "United States of America",
            "United States of America",
            "United States of America",
            "United States of America",
            "United States of America",
            "United States of America",
            "United States of America",
            "United States of America",
            "United States of America",
            "United States of America",
            "United States of America",
            "United States of America"
           ],
           "z": [
            -0.7783,
            0.4939,
            -0.128,
            -0.7096,
            -0.26702000000000004,
            -0.3818,
            0.0516,
            0.6705,
            0.5106,
            -0.9638,
            0.25,
            -0.1366,
            -0.1366,
            0,
            -0.1366,
            0,
            0
           ]
          }
         ],
         "name": "2"
        },
        {
         "data": [
          {
           "colorscale": [
            [
             0,
             "rgb(103,0,31)"
            ],
            [
             0.1,
             "rgb(178,24,43)"
            ],
            [
             0.2,
             "rgb(214,96,77)"
            ],
            [
             0.3,
             "rgb(244,165,130)"
            ],
            [
             0.4,
             "rgb(253,219,199)"
            ],
            [
             0.5,
             "rgb(247,247,247)"
            ],
            [
             0.6,
             "rgb(209,229,240)"
            ],
            [
             0.7,
             "rgb(146,197,222)"
            ],
            [
             0.8,
             "rgb(67,147,195)"
            ],
            [
             0.9,
             "rgb(33,102,172)"
            ],
            [
             1,
             "rgb(5,48,97)"
            ]
           ],
           "type": "heatmap",
           "x": [
            "Met",
            "PDVSA",
            "Federation",
            "Mobile Infantry",
            "Infantry",
            "KIA",
            "Lieutenant Jean Rasczak",
            "Roughnecks",
            "Roughnecks",
            "Sergeant Zim",
            "General Ashdown",
            "Kate",
            "Common",
            "General Ashdown",
            "Kate",
            "Common",
            "General Ashdown",
            "Kate",
            "Common"
           ],
           "y": [
            "United States of America",
            "United States of America",
            "United States of America",
            "United States of America",
            "United States of America",
            "United States of America",
            "United States of America",
            "United States of America",
            "United States of America",
            "United States of America",
            "United States of America",
            "United States of America",
            "United States of America",
            "United States of America",
            "United States of America",
            "United States of America",
            "United States of America",
            "United States of America",
            "United States of America"
           ],
           "z": [
            -0.0258,
            -0.17470000000000002,
            0.053266666666666664,
            0.1909,
            0.028599999999999997,
            -0.9087,
            -0.2263,
            -0.232725,
            -0.232725,
            0.1909,
            0.0258,
            -0.05790000000000001,
            0.296,
            0.0258,
            -0.05790000000000001,
            0.296,
            0.0258,
            -0.05790000000000001,
            0.296
           ]
          }
         ],
         "name": "3"
        }
       ],
       "layout": {
        "height": 800,
        "sliders": [
         {
          "pad": {
           "b": 20,
           "t": 50
          },
          "steps": [
           {
            "args": [
             [
              "1"
             ]
            ],
            "label": "1",
            "method": "animate"
           },
           {
            "args": [
             [
              "2"
             ]
            ],
            "label": "2",
            "method": "animate"
           },
           {
            "args": [
             [
              "3"
             ]
            ],
            "label": "3",
            "method": "animate"
           }
          ],
          "transition": {
           "duration": 500
          }
         }
        ],
        "template": {
         "data": {
          "bar": [
           {
            "error_x": {
             "color": "#2a3f5f"
            },
            "error_y": {
             "color": "#2a3f5f"
            },
            "marker": {
             "line": {
              "color": "#E5ECF6",
              "width": 0.5
             },
             "pattern": {
              "fillmode": "overlay",
              "size": 10,
              "solidity": 0.2
             }
            },
            "type": "bar"
           }
          ],
          "barpolar": [
           {
            "marker": {
             "line": {
              "color": "#E5ECF6",
              "width": 0.5
             },
             "pattern": {
              "fillmode": "overlay",
              "size": 10,
              "solidity": 0.2
             }
            },
            "type": "barpolar"
           }
          ],
          "carpet": [
           {
            "aaxis": {
             "endlinecolor": "#2a3f5f",
             "gridcolor": "white",
             "linecolor": "white",
             "minorgridcolor": "white",
             "startlinecolor": "#2a3f5f"
            },
            "baxis": {
             "endlinecolor": "#2a3f5f",
             "gridcolor": "white",
             "linecolor": "white",
             "minorgridcolor": "white",
             "startlinecolor": "#2a3f5f"
            },
            "type": "carpet"
           }
          ],
          "choropleth": [
           {
            "colorbar": {
             "outlinewidth": 0,
             "ticks": ""
            },
            "type": "choropleth"
           }
          ],
          "contour": [
           {
            "colorbar": {
             "outlinewidth": 0,
             "ticks": ""
            },
            "colorscale": [
             [
              0,
              "#0d0887"
             ],
             [
              0.1111111111111111,
              "#46039f"
             ],
             [
              0.2222222222222222,
              "#7201a8"
             ],
             [
              0.3333333333333333,
              "#9c179e"
             ],
             [
              0.4444444444444444,
              "#bd3786"
             ],
             [
              0.5555555555555556,
              "#d8576b"
             ],
             [
              0.6666666666666666,
              "#ed7953"
             ],
             [
              0.7777777777777778,
              "#fb9f3a"
             ],
             [
              0.8888888888888888,
              "#fdca26"
             ],
             [
              1,
              "#f0f921"
             ]
            ],
            "type": "contour"
           }
          ],
          "contourcarpet": [
           {
            "colorbar": {
             "outlinewidth": 0,
             "ticks": ""
            },
            "type": "contourcarpet"
           }
          ],
          "heatmap": [
           {
            "colorbar": {
             "outlinewidth": 0,
             "ticks": ""
            },
            "colorscale": [
             [
              0,
              "#0d0887"
             ],
             [
              0.1111111111111111,
              "#46039f"
             ],
             [
              0.2222222222222222,
              "#7201a8"
             ],
             [
              0.3333333333333333,
              "#9c179e"
             ],
             [
              0.4444444444444444,
              "#bd3786"
             ],
             [
              0.5555555555555556,
              "#d8576b"
             ],
             [
              0.6666666666666666,
              "#ed7953"
             ],
             [
              0.7777777777777778,
              "#fb9f3a"
             ],
             [
              0.8888888888888888,
              "#fdca26"
             ],
             [
              1,
              "#f0f921"
             ]
            ],
            "type": "heatmap"
           }
          ],
          "heatmapgl": [
           {
            "colorbar": {
             "outlinewidth": 0,
             "ticks": ""
            },
            "colorscale": [
             [
              0,
              "#0d0887"
             ],
             [
              0.1111111111111111,
              "#46039f"
             ],
             [
              0.2222222222222222,
              "#7201a8"
             ],
             [
              0.3333333333333333,
              "#9c179e"
             ],
             [
              0.4444444444444444,
              "#bd3786"
             ],
             [
              0.5555555555555556,
              "#d8576b"
             ],
             [
              0.6666666666666666,
              "#ed7953"
             ],
             [
              0.7777777777777778,
              "#fb9f3a"
             ],
             [
              0.8888888888888888,
              "#fdca26"
             ],
             [
              1,
              "#f0f921"
             ]
            ],
            "type": "heatmapgl"
           }
          ],
          "histogram": [
           {
            "marker": {
             "pattern": {
              "fillmode": "overlay",
              "size": 10,
              "solidity": 0.2
             }
            },
            "type": "histogram"
           }
          ],
          "histogram2d": [
           {
            "colorbar": {
             "outlinewidth": 0,
             "ticks": ""
            },
            "colorscale": [
             [
              0,
              "#0d0887"
             ],
             [
              0.1111111111111111,
              "#46039f"
             ],
             [
              0.2222222222222222,
              "#7201a8"
             ],
             [
              0.3333333333333333,
              "#9c179e"
             ],
             [
              0.4444444444444444,
              "#bd3786"
             ],
             [
              0.5555555555555556,
              "#d8576b"
             ],
             [
              0.6666666666666666,
              "#ed7953"
             ],
             [
              0.7777777777777778,
              "#fb9f3a"
             ],
             [
              0.8888888888888888,
              "#fdca26"
             ],
             [
              1,
              "#f0f921"
             ]
            ],
            "type": "histogram2d"
           }
          ],
          "histogram2dcontour": [
           {
            "colorbar": {
             "outlinewidth": 0,
             "ticks": ""
            },
            "colorscale": [
             [
              0,
              "#0d0887"
             ],
             [
              0.1111111111111111,
              "#46039f"
             ],
             [
              0.2222222222222222,
              "#7201a8"
             ],
             [
              0.3333333333333333,
              "#9c179e"
             ],
             [
              0.4444444444444444,
              "#bd3786"
             ],
             [
              0.5555555555555556,
              "#d8576b"
             ],
             [
              0.6666666666666666,
              "#ed7953"
             ],
             [
              0.7777777777777778,
              "#fb9f3a"
             ],
             [
              0.8888888888888888,
              "#fdca26"
             ],
             [
              1,
              "#f0f921"
             ]
            ],
            "type": "histogram2dcontour"
           }
          ],
          "mesh3d": [
           {
            "colorbar": {
             "outlinewidth": 0,
             "ticks": ""
            },
            "type": "mesh3d"
           }
          ],
          "parcoords": [
           {
            "line": {
             "colorbar": {
              "outlinewidth": 0,
              "ticks": ""
             }
            },
            "type": "parcoords"
           }
          ],
          "pie": [
           {
            "automargin": true,
            "type": "pie"
           }
          ],
          "scatter": [
           {
            "fillpattern": {
             "fillmode": "overlay",
             "size": 10,
             "solidity": 0.2
            },
            "type": "scatter"
           }
          ],
          "scatter3d": [
           {
            "line": {
             "colorbar": {
              "outlinewidth": 0,
              "ticks": ""
             }
            },
            "marker": {
             "colorbar": {
              "outlinewidth": 0,
              "ticks": ""
             }
            },
            "type": "scatter3d"
           }
          ],
          "scattercarpet": [
           {
            "marker": {
             "colorbar": {
              "outlinewidth": 0,
              "ticks": ""
             }
            },
            "type": "scattercarpet"
           }
          ],
          "scattergeo": [
           {
            "marker": {
             "colorbar": {
              "outlinewidth": 0,
              "ticks": ""
             }
            },
            "type": "scattergeo"
           }
          ],
          "scattergl": [
           {
            "marker": {
             "colorbar": {
              "outlinewidth": 0,
              "ticks": ""
             }
            },
            "type": "scattergl"
           }
          ],
          "scattermapbox": [
           {
            "marker": {
             "colorbar": {
              "outlinewidth": 0,
              "ticks": ""
             }
            },
            "type": "scattermapbox"
           }
          ],
          "scatterpolar": [
           {
            "marker": {
             "colorbar": {
              "outlinewidth": 0,
              "ticks": ""
             }
            },
            "type": "scatterpolar"
           }
          ],
          "scatterpolargl": [
           {
            "marker": {
             "colorbar": {
              "outlinewidth": 0,
              "ticks": ""
             }
            },
            "type": "scatterpolargl"
           }
          ],
          "scatterternary": [
           {
            "marker": {
             "colorbar": {
              "outlinewidth": 0,
              "ticks": ""
             }
            },
            "type": "scatterternary"
           }
          ],
          "surface": [
           {
            "colorbar": {
             "outlinewidth": 0,
             "ticks": ""
            },
            "colorscale": [
             [
              0,
              "#0d0887"
             ],
             [
              0.1111111111111111,
              "#46039f"
             ],
             [
              0.2222222222222222,
              "#7201a8"
             ],
             [
              0.3333333333333333,
              "#9c179e"
             ],
             [
              0.4444444444444444,
              "#bd3786"
             ],
             [
              0.5555555555555556,
              "#d8576b"
             ],
             [
              0.6666666666666666,
              "#ed7953"
             ],
             [
              0.7777777777777778,
              "#fb9f3a"
             ],
             [
              0.8888888888888888,
              "#fdca26"
             ],
             [
              1,
              "#f0f921"
             ]
            ],
            "type": "surface"
           }
          ],
          "table": [
           {
            "cells": {
             "fill": {
              "color": "#EBF0F8"
             },
             "line": {
              "color": "white"
             }
            },
            "header": {
             "fill": {
              "color": "#C8D4E3"
             },
             "line": {
              "color": "white"
             }
            },
            "type": "table"
           }
          ]
         },
         "layout": {
          "annotationdefaults": {
           "arrowcolor": "#2a3f5f",
           "arrowhead": 0,
           "arrowwidth": 1
          },
          "autotypenumbers": "strict",
          "coloraxis": {
           "colorbar": {
            "outlinewidth": 0,
            "ticks": ""
           }
          },
          "colorscale": {
           "diverging": [
            [
             0,
             "#8e0152"
            ],
            [
             0.1,
             "#c51b7d"
            ],
            [
             0.2,
             "#de77ae"
            ],
            [
             0.3,
             "#f1b6da"
            ],
            [
             0.4,
             "#fde0ef"
            ],
            [
             0.5,
             "#f7f7f7"
            ],
            [
             0.6,
             "#e6f5d0"
            ],
            [
             0.7,
             "#b8e186"
            ],
            [
             0.8,
             "#7fbc41"
            ],
            [
             0.9,
             "#4d9221"
            ],
            [
             1,
             "#276419"
            ]
           ],
           "sequential": [
            [
             0,
             "#0d0887"
            ],
            [
             0.1111111111111111,
             "#46039f"
            ],
            [
             0.2222222222222222,
             "#7201a8"
            ],
            [
             0.3333333333333333,
             "#9c179e"
            ],
            [
             0.4444444444444444,
             "#bd3786"
            ],
            [
             0.5555555555555556,
             "#d8576b"
            ],
            [
             0.6666666666666666,
             "#ed7953"
            ],
            [
             0.7777777777777778,
             "#fb9f3a"
            ],
            [
             0.8888888888888888,
             "#fdca26"
            ],
            [
             1,
             "#f0f921"
            ]
           ],
           "sequentialminus": [
            [
             0,
             "#0d0887"
            ],
            [
             0.1111111111111111,
             "#46039f"
            ],
            [
             0.2222222222222222,
             "#7201a8"
            ],
            [
             0.3333333333333333,
             "#9c179e"
            ],
            [
             0.4444444444444444,
             "#bd3786"
            ],
            [
             0.5555555555555556,
             "#d8576b"
            ],
            [
             0.6666666666666666,
             "#ed7953"
            ],
            [
             0.7777777777777778,
             "#fb9f3a"
            ],
            [
             0.8888888888888888,
             "#fdca26"
            ],
            [
             1,
             "#f0f921"
            ]
           ]
          },
          "colorway": [
           "#636efa",
           "#EF553B",
           "#00cc96",
           "#ab63fa",
           "#FFA15A",
           "#19d3f3",
           "#FF6692",
           "#B6E880",
           "#FF97FF",
           "#FECB52"
          ],
          "font": {
           "color": "#2a3f5f"
          },
          "geo": {
           "bgcolor": "white",
           "lakecolor": "white",
           "landcolor": "#E5ECF6",
           "showlakes": true,
           "showland": true,
           "subunitcolor": "white"
          },
          "hoverlabel": {
           "align": "left"
          },
          "hovermode": "closest",
          "mapbox": {
           "style": "light"
          },
          "paper_bgcolor": "white",
          "plot_bgcolor": "#E5ECF6",
          "polar": {
           "angularaxis": {
            "gridcolor": "white",
            "linecolor": "white",
            "ticks": ""
           },
           "bgcolor": "#E5ECF6",
           "radialaxis": {
            "gridcolor": "white",
            "linecolor": "white",
            "ticks": ""
           }
          },
          "scene": {
           "xaxis": {
            "backgroundcolor": "#E5ECF6",
            "gridcolor": "white",
            "gridwidth": 2,
            "linecolor": "white",
            "showbackground": true,
            "ticks": "",
            "zerolinecolor": "white"
           },
           "yaxis": {
            "backgroundcolor": "#E5ECF6",
            "gridcolor": "white",
            "gridwidth": 2,
            "linecolor": "white",
            "showbackground": true,
            "ticks": "",
            "zerolinecolor": "white"
           },
           "zaxis": {
            "backgroundcolor": "#E5ECF6",
            "gridcolor": "white",
            "gridwidth": 2,
            "linecolor": "white",
            "showbackground": true,
            "ticks": "",
            "zerolinecolor": "white"
           }
          },
          "shapedefaults": {
           "line": {
            "color": "#2a3f5f"
           }
          },
          "ternary": {
           "aaxis": {
            "gridcolor": "white",
            "linecolor": "white",
            "ticks": ""
           },
           "baxis": {
            "gridcolor": "white",
            "linecolor": "white",
            "ticks": ""
           },
           "bgcolor": "#E5ECF6",
           "caxis": {
            "gridcolor": "white",
            "linecolor": "white",
            "ticks": ""
           }
          },
          "title": {
           "x": 0.05
          },
          "xaxis": {
           "automargin": true,
           "gridcolor": "white",
           "linecolor": "white",
           "ticks": "",
           "title": {
            "standoff": 15
           },
           "zerolinecolor": "white",
           "zerolinewidth": 2
          },
          "yaxis": {
           "automargin": true,
           "gridcolor": "white",
           "linecolor": "white",
           "ticks": "",
           "title": {
            "standoff": 15
           },
           "zerolinecolor": "white",
           "zerolinewidth": 2
          }
         }
        },
        "title": {
         "text": "Cmpound Score by Country and Entity, for Cold War Western Side After"
        },
        "width": 800,
        "xaxis": {
         "title": {
          "text": "Entities"
         }
        },
        "yaxis": {
         "automargin": true,
         "title": {
          "text": "Country"
         }
        }
       }
      }
     },
     "metadata": {},
     "output_type": "display_data"
    },
    {
     "data": {
      "application/vnd.plotly.v1+json": {
       "config": {
        "plotlyServerURL": "https://plot.ly"
       },
       "data": [
        {
         "colorbar": {
          "title": {
           "text": "Sentiment Score"
          }
         },
         "colorscale": [
          [
           0,
           "rgb(103,0,31)"
          ],
          [
           0.1,
           "rgb(178,24,43)"
          ],
          [
           0.2,
           "rgb(214,96,77)"
          ],
          [
           0.3,
           "rgb(244,165,130)"
          ],
          [
           0.4,
           "rgb(253,219,199)"
          ],
          [
           0.5,
           "rgb(247,247,247)"
          ],
          [
           0.6,
           "rgb(209,229,240)"
          ],
          [
           0.7,
           "rgb(146,197,222)"
          ],
          [
           0.8,
           "rgb(67,147,195)"
          ],
          [
           0.9,
           "rgb(33,102,172)"
          ],
          [
           1,
           "rgb(5,48,97)"
          ]
         ],
         "type": "heatmap",
         "x": [
          "Giorgio",
          "Nazi",
          "Bolshevik Party",
          "Bolsheviks"
         ],
         "y": [
          "Germany",
          "Germany",
          "Soviet Union",
          "Soviet Union"
         ],
         "z": [
          [
           0.08406666666666668,
           -0.0644,
           0.8074,
           0.296
          ]
         ]
        }
       ],
       "frames": [
        {
         "data": [
          {
           "colorscale": [
            [
             0,
             "rgb(103,0,31)"
            ],
            [
             0.1,
             "rgb(178,24,43)"
            ],
            [
             0.2,
             "rgb(214,96,77)"
            ],
            [
             0.3,
             "rgb(244,165,130)"
            ],
            [
             0.4,
             "rgb(253,219,199)"
            ],
            [
             0.5,
             "rgb(247,247,247)"
            ],
            [
             0.6,
             "rgb(209,229,240)"
            ],
            [
             0.7,
             "rgb(146,197,222)"
            ],
            [
             0.8,
             "rgb(67,147,195)"
            ],
            [
             0.9,
             "rgb(33,102,172)"
            ],
            [
             1,
             "rgb(5,48,97)"
            ]
           ],
           "type": "heatmap",
           "x": [
            "Giorgio",
            "Nazi",
            "Bolshevik Party",
            "Bolsheviks"
           ],
           "y": [
            "Germany",
            "Germany",
            "Soviet Union",
            "Soviet Union"
           ],
           "z": [
            0.08406666666666668,
            -0.0644,
            0.8074,
            0.296
           ]
          }
         ],
         "name": "1"
        }
       ],
       "layout": {
        "height": 800,
        "sliders": [
         {
          "pad": {
           "b": 20,
           "t": 50
          },
          "steps": [
           {
            "args": [
             [
              "1"
             ]
            ],
            "label": "1",
            "method": "animate"
           }
          ],
          "transition": {
           "duration": 500
          }
         }
        ],
        "template": {
         "data": {
          "bar": [
           {
            "error_x": {
             "color": "#2a3f5f"
            },
            "error_y": {
             "color": "#2a3f5f"
            },
            "marker": {
             "line": {
              "color": "#E5ECF6",
              "width": 0.5
             },
             "pattern": {
              "fillmode": "overlay",
              "size": 10,
              "solidity": 0.2
             }
            },
            "type": "bar"
           }
          ],
          "barpolar": [
           {
            "marker": {
             "line": {
              "color": "#E5ECF6",
              "width": 0.5
             },
             "pattern": {
              "fillmode": "overlay",
              "size": 10,
              "solidity": 0.2
             }
            },
            "type": "barpolar"
           }
          ],
          "carpet": [
           {
            "aaxis": {
             "endlinecolor": "#2a3f5f",
             "gridcolor": "white",
             "linecolor": "white",
             "minorgridcolor": "white",
             "startlinecolor": "#2a3f5f"
            },
            "baxis": {
             "endlinecolor": "#2a3f5f",
             "gridcolor": "white",
             "linecolor": "white",
             "minorgridcolor": "white",
             "startlinecolor": "#2a3f5f"
            },
            "type": "carpet"
           }
          ],
          "choropleth": [
           {
            "colorbar": {
             "outlinewidth": 0,
             "ticks": ""
            },
            "type": "choropleth"
           }
          ],
          "contour": [
           {
            "colorbar": {
             "outlinewidth": 0,
             "ticks": ""
            },
            "colorscale": [
             [
              0,
              "#0d0887"
             ],
             [
              0.1111111111111111,
              "#46039f"
             ],
             [
              0.2222222222222222,
              "#7201a8"
             ],
             [
              0.3333333333333333,
              "#9c179e"
             ],
             [
              0.4444444444444444,
              "#bd3786"
             ],
             [
              0.5555555555555556,
              "#d8576b"
             ],
             [
              0.6666666666666666,
              "#ed7953"
             ],
             [
              0.7777777777777778,
              "#fb9f3a"
             ],
             [
              0.8888888888888888,
              "#fdca26"
             ],
             [
              1,
              "#f0f921"
             ]
            ],
            "type": "contour"
           }
          ],
          "contourcarpet": [
           {
            "colorbar": {
             "outlinewidth": 0,
             "ticks": ""
            },
            "type": "contourcarpet"
           }
          ],
          "heatmap": [
           {
            "colorbar": {
             "outlinewidth": 0,
             "ticks": ""
            },
            "colorscale": [
             [
              0,
              "#0d0887"
             ],
             [
              0.1111111111111111,
              "#46039f"
             ],
             [
              0.2222222222222222,
              "#7201a8"
             ],
             [
              0.3333333333333333,
              "#9c179e"
             ],
             [
              0.4444444444444444,
              "#bd3786"
             ],
             [
              0.5555555555555556,
              "#d8576b"
             ],
             [
              0.6666666666666666,
              "#ed7953"
             ],
             [
              0.7777777777777778,
              "#fb9f3a"
             ],
             [
              0.8888888888888888,
              "#fdca26"
             ],
             [
              1,
              "#f0f921"
             ]
            ],
            "type": "heatmap"
           }
          ],
          "heatmapgl": [
           {
            "colorbar": {
             "outlinewidth": 0,
             "ticks": ""
            },
            "colorscale": [
             [
              0,
              "#0d0887"
             ],
             [
              0.1111111111111111,
              "#46039f"
             ],
             [
              0.2222222222222222,
              "#7201a8"
             ],
             [
              0.3333333333333333,
              "#9c179e"
             ],
             [
              0.4444444444444444,
              "#bd3786"
             ],
             [
              0.5555555555555556,
              "#d8576b"
             ],
             [
              0.6666666666666666,
              "#ed7953"
             ],
             [
              0.7777777777777778,
              "#fb9f3a"
             ],
             [
              0.8888888888888888,
              "#fdca26"
             ],
             [
              1,
              "#f0f921"
             ]
            ],
            "type": "heatmapgl"
           }
          ],
          "histogram": [
           {
            "marker": {
             "pattern": {
              "fillmode": "overlay",
              "size": 10,
              "solidity": 0.2
             }
            },
            "type": "histogram"
           }
          ],
          "histogram2d": [
           {
            "colorbar": {
             "outlinewidth": 0,
             "ticks": ""
            },
            "colorscale": [
             [
              0,
              "#0d0887"
             ],
             [
              0.1111111111111111,
              "#46039f"
             ],
             [
              0.2222222222222222,
              "#7201a8"
             ],
             [
              0.3333333333333333,
              "#9c179e"
             ],
             [
              0.4444444444444444,
              "#bd3786"
             ],
             [
              0.5555555555555556,
              "#d8576b"
             ],
             [
              0.6666666666666666,
              "#ed7953"
             ],
             [
              0.7777777777777778,
              "#fb9f3a"
             ],
             [
              0.8888888888888888,
              "#fdca26"
             ],
             [
              1,
              "#f0f921"
             ]
            ],
            "type": "histogram2d"
           }
          ],
          "histogram2dcontour": [
           {
            "colorbar": {
             "outlinewidth": 0,
             "ticks": ""
            },
            "colorscale": [
             [
              0,
              "#0d0887"
             ],
             [
              0.1111111111111111,
              "#46039f"
             ],
             [
              0.2222222222222222,
              "#7201a8"
             ],
             [
              0.3333333333333333,
              "#9c179e"
             ],
             [
              0.4444444444444444,
              "#bd3786"
             ],
             [
              0.5555555555555556,
              "#d8576b"
             ],
             [
              0.6666666666666666,
              "#ed7953"
             ],
             [
              0.7777777777777778,
              "#fb9f3a"
             ],
             [
              0.8888888888888888,
              "#fdca26"
             ],
             [
              1,
              "#f0f921"
             ]
            ],
            "type": "histogram2dcontour"
           }
          ],
          "mesh3d": [
           {
            "colorbar": {
             "outlinewidth": 0,
             "ticks": ""
            },
            "type": "mesh3d"
           }
          ],
          "parcoords": [
           {
            "line": {
             "colorbar": {
              "outlinewidth": 0,
              "ticks": ""
             }
            },
            "type": "parcoords"
           }
          ],
          "pie": [
           {
            "automargin": true,
            "type": "pie"
           }
          ],
          "scatter": [
           {
            "fillpattern": {
             "fillmode": "overlay",
             "size": 10,
             "solidity": 0.2
            },
            "type": "scatter"
           }
          ],
          "scatter3d": [
           {
            "line": {
             "colorbar": {
              "outlinewidth": 0,
              "ticks": ""
             }
            },
            "marker": {
             "colorbar": {
              "outlinewidth": 0,
              "ticks": ""
             }
            },
            "type": "scatter3d"
           }
          ],
          "scattercarpet": [
           {
            "marker": {
             "colorbar": {
              "outlinewidth": 0,
              "ticks": ""
             }
            },
            "type": "scattercarpet"
           }
          ],
          "scattergeo": [
           {
            "marker": {
             "colorbar": {
              "outlinewidth": 0,
              "ticks": ""
             }
            },
            "type": "scattergeo"
           }
          ],
          "scattergl": [
           {
            "marker": {
             "colorbar": {
              "outlinewidth": 0,
              "ticks": ""
             }
            },
            "type": "scattergl"
           }
          ],
          "scattermapbox": [
           {
            "marker": {
             "colorbar": {
              "outlinewidth": 0,
              "ticks": ""
             }
            },
            "type": "scattermapbox"
           }
          ],
          "scatterpolar": [
           {
            "marker": {
             "colorbar": {
              "outlinewidth": 0,
              "ticks": ""
             }
            },
            "type": "scatterpolar"
           }
          ],
          "scatterpolargl": [
           {
            "marker": {
             "colorbar": {
              "outlinewidth": 0,
              "ticks": ""
             }
            },
            "type": "scatterpolargl"
           }
          ],
          "scatterternary": [
           {
            "marker": {
             "colorbar": {
              "outlinewidth": 0,
              "ticks": ""
             }
            },
            "type": "scatterternary"
           }
          ],
          "surface": [
           {
            "colorbar": {
             "outlinewidth": 0,
             "ticks": ""
            },
            "colorscale": [
             [
              0,
              "#0d0887"
             ],
             [
              0.1111111111111111,
              "#46039f"
             ],
             [
              0.2222222222222222,
              "#7201a8"
             ],
             [
              0.3333333333333333,
              "#9c179e"
             ],
             [
              0.4444444444444444,
              "#bd3786"
             ],
             [
              0.5555555555555556,
              "#d8576b"
             ],
             [
              0.6666666666666666,
              "#ed7953"
             ],
             [
              0.7777777777777778,
              "#fb9f3a"
             ],
             [
              0.8888888888888888,
              "#fdca26"
             ],
             [
              1,
              "#f0f921"
             ]
            ],
            "type": "surface"
           }
          ],
          "table": [
           {
            "cells": {
             "fill": {
              "color": "#EBF0F8"
             },
             "line": {
              "color": "white"
             }
            },
            "header": {
             "fill": {
              "color": "#C8D4E3"
             },
             "line": {
              "color": "white"
             }
            },
            "type": "table"
           }
          ]
         },
         "layout": {
          "annotationdefaults": {
           "arrowcolor": "#2a3f5f",
           "arrowhead": 0,
           "arrowwidth": 1
          },
          "autotypenumbers": "strict",
          "coloraxis": {
           "colorbar": {
            "outlinewidth": 0,
            "ticks": ""
           }
          },
          "colorscale": {
           "diverging": [
            [
             0,
             "#8e0152"
            ],
            [
             0.1,
             "#c51b7d"
            ],
            [
             0.2,
             "#de77ae"
            ],
            [
             0.3,
             "#f1b6da"
            ],
            [
             0.4,
             "#fde0ef"
            ],
            [
             0.5,
             "#f7f7f7"
            ],
            [
             0.6,
             "#e6f5d0"
            ],
            [
             0.7,
             "#b8e186"
            ],
            [
             0.8,
             "#7fbc41"
            ],
            [
             0.9,
             "#4d9221"
            ],
            [
             1,
             "#276419"
            ]
           ],
           "sequential": [
            [
             0,
             "#0d0887"
            ],
            [
             0.1111111111111111,
             "#46039f"
            ],
            [
             0.2222222222222222,
             "#7201a8"
            ],
            [
             0.3333333333333333,
             "#9c179e"
            ],
            [
             0.4444444444444444,
             "#bd3786"
            ],
            [
             0.5555555555555556,
             "#d8576b"
            ],
            [
             0.6666666666666666,
             "#ed7953"
            ],
            [
             0.7777777777777778,
             "#fb9f3a"
            ],
            [
             0.8888888888888888,
             "#fdca26"
            ],
            [
             1,
             "#f0f921"
            ]
           ],
           "sequentialminus": [
            [
             0,
             "#0d0887"
            ],
            [
             0.1111111111111111,
             "#46039f"
            ],
            [
             0.2222222222222222,
             "#7201a8"
            ],
            [
             0.3333333333333333,
             "#9c179e"
            ],
            [
             0.4444444444444444,
             "#bd3786"
            ],
            [
             0.5555555555555556,
             "#d8576b"
            ],
            [
             0.6666666666666666,
             "#ed7953"
            ],
            [
             0.7777777777777778,
             "#fb9f3a"
            ],
            [
             0.8888888888888888,
             "#fdca26"
            ],
            [
             1,
             "#f0f921"
            ]
           ]
          },
          "colorway": [
           "#636efa",
           "#EF553B",
           "#00cc96",
           "#ab63fa",
           "#FFA15A",
           "#19d3f3",
           "#FF6692",
           "#B6E880",
           "#FF97FF",
           "#FECB52"
          ],
          "font": {
           "color": "#2a3f5f"
          },
          "geo": {
           "bgcolor": "white",
           "lakecolor": "white",
           "landcolor": "#E5ECF6",
           "showlakes": true,
           "showland": true,
           "subunitcolor": "white"
          },
          "hoverlabel": {
           "align": "left"
          },
          "hovermode": "closest",
          "mapbox": {
           "style": "light"
          },
          "paper_bgcolor": "white",
          "plot_bgcolor": "#E5ECF6",
          "polar": {
           "angularaxis": {
            "gridcolor": "white",
            "linecolor": "white",
            "ticks": ""
           },
           "bgcolor": "#E5ECF6",
           "radialaxis": {
            "gridcolor": "white",
            "linecolor": "white",
            "ticks": ""
           }
          },
          "scene": {
           "xaxis": {
            "backgroundcolor": "#E5ECF6",
            "gridcolor": "white",
            "gridwidth": 2,
            "linecolor": "white",
            "showbackground": true,
            "ticks": "",
            "zerolinecolor": "white"
           },
           "yaxis": {
            "backgroundcolor": "#E5ECF6",
            "gridcolor": "white",
            "gridwidth": 2,
            "linecolor": "white",
            "showbackground": true,
            "ticks": "",
            "zerolinecolor": "white"
           },
           "zaxis": {
            "backgroundcolor": "#E5ECF6",
            "gridcolor": "white",
            "gridwidth": 2,
            "linecolor": "white",
            "showbackground": true,
            "ticks": "",
            "zerolinecolor": "white"
           }
          },
          "shapedefaults": {
           "line": {
            "color": "#2a3f5f"
           }
          },
          "ternary": {
           "aaxis": {
            "gridcolor": "white",
            "linecolor": "white",
            "ticks": ""
           },
           "baxis": {
            "gridcolor": "white",
            "linecolor": "white",
            "ticks": ""
           },
           "bgcolor": "#E5ECF6",
           "caxis": {
            "gridcolor": "white",
            "linecolor": "white",
            "ticks": ""
           }
          },
          "title": {
           "x": 0.05
          },
          "xaxis": {
           "automargin": true,
           "gridcolor": "white",
           "linecolor": "white",
           "ticks": "",
           "title": {
            "standoff": 15
           },
           "zerolinecolor": "white",
           "zerolinewidth": 2
          },
          "yaxis": {
           "automargin": true,
           "gridcolor": "white",
           "linecolor": "white",
           "ticks": "",
           "title": {
            "standoff": 15
           },
           "zerolinecolor": "white",
           "zerolinewidth": 2
          }
         }
        },
        "title": {
         "text": "Cmpound Score by Country and Entity, for Cold War Sovietic Side Before"
        },
        "width": 800,
        "xaxis": {
         "title": {
          "text": "Entities"
         }
        },
        "yaxis": {
         "automargin": true,
         "title": {
          "text": "Country"
         }
        }
       }
      }
     },
     "metadata": {},
     "output_type": "display_data"
    },
    {
     "data": {
      "application/vnd.plotly.v1+json": {
       "config": {
        "plotlyServerURL": "https://plot.ly"
       },
       "data": [
        {
         "colorbar": {
          "title": {
           "text": "Sentiment Score"
          }
         },
         "colorscale": [
          [
           0,
           "rgb(103,0,31)"
          ],
          [
           0.1,
           "rgb(178,24,43)"
          ],
          [
           0.2,
           "rgb(214,96,77)"
          ],
          [
           0.3,
           "rgb(244,165,130)"
          ],
          [
           0.4,
           "rgb(253,219,199)"
          ],
          [
           0.5,
           "rgb(247,247,247)"
          ],
          [
           0.6,
           "rgb(209,229,240)"
          ],
          [
           0.7,
           "rgb(146,197,222)"
          ],
          [
           0.8,
           "rgb(67,147,195)"
          ],
          [
           0.9,
           "rgb(33,102,172)"
          ],
          [
           1,
           "rgb(5,48,97)"
          ]
         ],
         "type": "heatmap",
         "x": [
          "Leutnant Hans",
          "GeGe Müller",
          "GeGe Müller",
          "Colonel Valery Vostrotin",
          "Colonel Valery Vostrotin",
          "Colonel Valery Vostrotin",
          "Colonel Valery Vostrotin",
          "Ural",
          "Senior Lieutenant",
          "Private",
          "Nazi Germany",
          "Nazi Germany",
          "Joy Division",
          "Joy Division",
          "Joy Division",
          "Joy Division",
          "Soviets",
          "Lieutenant Kamenev",
          "Forell",
          "Forell"
         ],
         "y": [
          "Germany",
          "Germany",
          "Germany",
          "Ukraine",
          "Russia",
          "Ukraine",
          "Russia",
          "Germany",
          "Germany",
          "Germany",
          "Hungary",
          "Germany",
          "Hungary",
          "Germany",
          "Hungary",
          "Germany",
          "Germany",
          "Germany",
          "Germany",
          "Germany"
         ],
         "z": [
          [
           0.4588,
           0,
           0,
           0,
           0,
           0,
           0,
           -0.3818,
           0.0516,
           0.6705,
           -0.1531,
           -0.1531,
           -0.1531,
           -0.1531,
           -0.1531,
           -0.1531,
           -0.00883333333333336,
           -0.5859,
           -0.1546315789473684,
           -0.1546315789473684
          ]
         ]
        }
       ],
       "frames": [
        {
         "data": [
          {
           "colorscale": [
            [
             0,
             "rgb(103,0,31)"
            ],
            [
             0.1,
             "rgb(178,24,43)"
            ],
            [
             0.2,
             "rgb(214,96,77)"
            ],
            [
             0.3,
             "rgb(244,165,130)"
            ],
            [
             0.4,
             "rgb(253,219,199)"
            ],
            [
             0.5,
             "rgb(247,247,247)"
            ],
            [
             0.6,
             "rgb(209,229,240)"
            ],
            [
             0.7,
             "rgb(146,197,222)"
            ],
            [
             0.8,
             "rgb(67,147,195)"
            ],
            [
             0.9,
             "rgb(33,102,172)"
            ],
            [
             1,
             "rgb(5,48,97)"
            ]
           ],
           "type": "heatmap",
           "x": [
            "Leutnant Hans",
            "GeGe Müller",
            "GeGe Müller",
            "Colonel Valery Vostrotin",
            "Colonel Valery Vostrotin",
            "Colonel Valery Vostrotin",
            "Colonel Valery Vostrotin",
            "Ural",
            "Senior Lieutenant",
            "Private",
            "Nazi Germany",
            "Nazi Germany",
            "Joy Division",
            "Joy Division",
            "Joy Division",
            "Joy Division",
            "Soviets",
            "Lieutenant Kamenev",
            "Forell",
            "Forell"
           ],
           "y": [
            "Germany",
            "Germany",
            "Germany",
            "Ukraine",
            "Russia",
            "Ukraine",
            "Russia",
            "Germany",
            "Germany",
            "Germany",
            "Hungary",
            "Germany",
            "Hungary",
            "Germany",
            "Hungary",
            "Germany",
            "Germany",
            "Germany",
            "Germany",
            "Germany"
           ],
           "z": [
            0.4588,
            0,
            0,
            0,
            0,
            0,
            0,
            -0.3818,
            0.0516,
            0.6705,
            -0.1531,
            -0.1531,
            -0.1531,
            -0.1531,
            -0.1531,
            -0.1531,
            -0.00883333333333336,
            -0.5859,
            -0.1546315789473684,
            -0.1546315789473684
           ]
          }
         ],
         "name": "1"
        },
        {
         "data": [
          {
           "colorscale": [
            [
             0,
             "rgb(103,0,31)"
            ],
            [
             0.1,
             "rgb(178,24,43)"
            ],
            [
             0.2,
             "rgb(214,96,77)"
            ],
            [
             0.3,
             "rgb(244,165,130)"
            ],
            [
             0.4,
             "rgb(253,219,199)"
            ],
            [
             0.5,
             "rgb(247,247,247)"
            ],
            [
             0.6,
             "rgb(209,229,240)"
            ],
            [
             0.7,
             "rgb(146,197,222)"
            ],
            [
             0.8,
             "rgb(67,147,195)"
            ],
            [
             0.9,
             "rgb(33,102,172)"
            ],
            [
             1,
             "rgb(5,48,97)"
            ]
           ],
           "type": "heatmap",
           "x": [
            "Forell",
            "Forell",
            "Soviets",
            "Forell",
            "Forell",
            "Forell",
            "Soviets",
            "Forell",
            "Forell",
            "Central Asia",
            "Central Asia",
            "Forell",
            "Forell",
            "Forell",
            "Forell",
            "Forell",
            "Forell",
            "Revolution",
            "Revolution",
            "McKay"
           ],
           "y": [
            "Germany",
            "Germany",
            "Germany",
            "Germany",
            "Germany",
            "Germany",
            "Germany",
            "Germany",
            "Germany",
            "Germany",
            "Germany",
            "Germany",
            "Germany",
            "Germany",
            "Germany",
            "Germany",
            "Germany",
            "Germany",
            "Germany",
            "Germany"
           ],
           "z": [
            -0.1546315789473684,
            -0.1546315789473684,
            -0.00883333333333336,
            -0.1546315789473684,
            -0.1546315789473684,
            -0.1546315789473684,
            -0.00883333333333336,
            -0.1546315789473684,
            -0.1546315789473684,
            0,
            0,
            -0.1546315789473684,
            -0.1546315789473684,
            -0.1546315789473684,
            -0.1546315789473684,
            -0.1546315789473684,
            -0.1546315789473684,
            -0.1366,
            -0.1366,
            0
           ]
          }
         ],
         "name": "2"
        },
        {
         "data": [
          {
           "colorscale": [
            [
             0,
             "rgb(103,0,31)"
            ],
            [
             0.1,
             "rgb(178,24,43)"
            ],
            [
             0.2,
             "rgb(214,96,77)"
            ],
            [
             0.3,
             "rgb(244,165,130)"
            ],
            [
             0.4,
             "rgb(253,219,199)"
            ],
            [
             0.5,
             "rgb(247,247,247)"
            ],
            [
             0.6,
             "rgb(209,229,240)"
            ],
            [
             0.7,
             "rgb(146,197,222)"
            ],
            [
             0.8,
             "rgb(67,147,195)"
            ],
            [
             0.9,
             "rgb(33,102,172)"
            ],
            [
             1,
             "rgb(5,48,97)"
            ]
           ],
           "type": "heatmap",
           "x": [
            "Revolution",
            "Coup Attempt",
            "ISSN",
            "Met",
            "PDVSA",
            "General Ashdown",
            "Kate",
            "Common",
            "General Ashdown",
            "Kate",
            "Common",
            "General Ashdown",
            "Kate",
            "Common",
            "Communist Party",
            "International Brigades",
            "POUM",
            "POUM",
            "POUM",
            "International Brigades",
            "POUM"
           ],
           "y": [
            "Germany",
            "Germany",
            "Germany",
            "Germany",
            "Germany",
            "Germany",
            "Germany",
            "Germany",
            "Germany",
            "Germany",
            "Germany",
            "Germany",
            "Germany",
            "Germany",
            "Germany",
            "Germany",
            "Germany",
            "Germany",
            "Germany",
            "Germany",
            "Germany"
           ],
           "z": [
            -0.1366,
            0,
            0,
            -0.0258,
            -0.17470000000000002,
            0.0258,
            -0.05790000000000001,
            0.296,
            0.0258,
            -0.05790000000000001,
            0.296,
            0.0258,
            -0.05790000000000001,
            0.296,
            0.5994,
            -0.08944999999999997,
            0.06092500000000001,
            0.06092500000000001,
            0.06092500000000001,
            -0.08944999999999997,
            0.06092500000000001
           ]
          }
         ],
         "name": "3"
        }
       ],
       "layout": {
        "height": 800,
        "sliders": [
         {
          "pad": {
           "b": 20,
           "t": 50
          },
          "steps": [
           {
            "args": [
             [
              "1"
             ]
            ],
            "label": "1",
            "method": "animate"
           },
           {
            "args": [
             [
              "2"
             ]
            ],
            "label": "2",
            "method": "animate"
           },
           {
            "args": [
             [
              "3"
             ]
            ],
            "label": "3",
            "method": "animate"
           }
          ],
          "transition": {
           "duration": 500
          }
         }
        ],
        "template": {
         "data": {
          "bar": [
           {
            "error_x": {
             "color": "#2a3f5f"
            },
            "error_y": {
             "color": "#2a3f5f"
            },
            "marker": {
             "line": {
              "color": "#E5ECF6",
              "width": 0.5
             },
             "pattern": {
              "fillmode": "overlay",
              "size": 10,
              "solidity": 0.2
             }
            },
            "type": "bar"
           }
          ],
          "barpolar": [
           {
            "marker": {
             "line": {
              "color": "#E5ECF6",
              "width": 0.5
             },
             "pattern": {
              "fillmode": "overlay",
              "size": 10,
              "solidity": 0.2
             }
            },
            "type": "barpolar"
           }
          ],
          "carpet": [
           {
            "aaxis": {
             "endlinecolor": "#2a3f5f",
             "gridcolor": "white",
             "linecolor": "white",
             "minorgridcolor": "white",
             "startlinecolor": "#2a3f5f"
            },
            "baxis": {
             "endlinecolor": "#2a3f5f",
             "gridcolor": "white",
             "linecolor": "white",
             "minorgridcolor": "white",
             "startlinecolor": "#2a3f5f"
            },
            "type": "carpet"
           }
          ],
          "choropleth": [
           {
            "colorbar": {
             "outlinewidth": 0,
             "ticks": ""
            },
            "type": "choropleth"
           }
          ],
          "contour": [
           {
            "colorbar": {
             "outlinewidth": 0,
             "ticks": ""
            },
            "colorscale": [
             [
              0,
              "#0d0887"
             ],
             [
              0.1111111111111111,
              "#46039f"
             ],
             [
              0.2222222222222222,
              "#7201a8"
             ],
             [
              0.3333333333333333,
              "#9c179e"
             ],
             [
              0.4444444444444444,
              "#bd3786"
             ],
             [
              0.5555555555555556,
              "#d8576b"
             ],
             [
              0.6666666666666666,
              "#ed7953"
             ],
             [
              0.7777777777777778,
              "#fb9f3a"
             ],
             [
              0.8888888888888888,
              "#fdca26"
             ],
             [
              1,
              "#f0f921"
             ]
            ],
            "type": "contour"
           }
          ],
          "contourcarpet": [
           {
            "colorbar": {
             "outlinewidth": 0,
             "ticks": ""
            },
            "type": "contourcarpet"
           }
          ],
          "heatmap": [
           {
            "colorbar": {
             "outlinewidth": 0,
             "ticks": ""
            },
            "colorscale": [
             [
              0,
              "#0d0887"
             ],
             [
              0.1111111111111111,
              "#46039f"
             ],
             [
              0.2222222222222222,
              "#7201a8"
             ],
             [
              0.3333333333333333,
              "#9c179e"
             ],
             [
              0.4444444444444444,
              "#bd3786"
             ],
             [
              0.5555555555555556,
              "#d8576b"
             ],
             [
              0.6666666666666666,
              "#ed7953"
             ],
             [
              0.7777777777777778,
              "#fb9f3a"
             ],
             [
              0.8888888888888888,
              "#fdca26"
             ],
             [
              1,
              "#f0f921"
             ]
            ],
            "type": "heatmap"
           }
          ],
          "heatmapgl": [
           {
            "colorbar": {
             "outlinewidth": 0,
             "ticks": ""
            },
            "colorscale": [
             [
              0,
              "#0d0887"
             ],
             [
              0.1111111111111111,
              "#46039f"
             ],
             [
              0.2222222222222222,
              "#7201a8"
             ],
             [
              0.3333333333333333,
              "#9c179e"
             ],
             [
              0.4444444444444444,
              "#bd3786"
             ],
             [
              0.5555555555555556,
              "#d8576b"
             ],
             [
              0.6666666666666666,
              "#ed7953"
             ],
             [
              0.7777777777777778,
              "#fb9f3a"
             ],
             [
              0.8888888888888888,
              "#fdca26"
             ],
             [
              1,
              "#f0f921"
             ]
            ],
            "type": "heatmapgl"
           }
          ],
          "histogram": [
           {
            "marker": {
             "pattern": {
              "fillmode": "overlay",
              "size": 10,
              "solidity": 0.2
             }
            },
            "type": "histogram"
           }
          ],
          "histogram2d": [
           {
            "colorbar": {
             "outlinewidth": 0,
             "ticks": ""
            },
            "colorscale": [
             [
              0,
              "#0d0887"
             ],
             [
              0.1111111111111111,
              "#46039f"
             ],
             [
              0.2222222222222222,
              "#7201a8"
             ],
             [
              0.3333333333333333,
              "#9c179e"
             ],
             [
              0.4444444444444444,
              "#bd3786"
             ],
             [
              0.5555555555555556,
              "#d8576b"
             ],
             [
              0.6666666666666666,
              "#ed7953"
             ],
             [
              0.7777777777777778,
              "#fb9f3a"
             ],
             [
              0.8888888888888888,
              "#fdca26"
             ],
             [
              1,
              "#f0f921"
             ]
            ],
            "type": "histogram2d"
           }
          ],
          "histogram2dcontour": [
           {
            "colorbar": {
             "outlinewidth": 0,
             "ticks": ""
            },
            "colorscale": [
             [
              0,
              "#0d0887"
             ],
             [
              0.1111111111111111,
              "#46039f"
             ],
             [
              0.2222222222222222,
              "#7201a8"
             ],
             [
              0.3333333333333333,
              "#9c179e"
             ],
             [
              0.4444444444444444,
              "#bd3786"
             ],
             [
              0.5555555555555556,
              "#d8576b"
             ],
             [
              0.6666666666666666,
              "#ed7953"
             ],
             [
              0.7777777777777778,
              "#fb9f3a"
             ],
             [
              0.8888888888888888,
              "#fdca26"
             ],
             [
              1,
              "#f0f921"
             ]
            ],
            "type": "histogram2dcontour"
           }
          ],
          "mesh3d": [
           {
            "colorbar": {
             "outlinewidth": 0,
             "ticks": ""
            },
            "type": "mesh3d"
           }
          ],
          "parcoords": [
           {
            "line": {
             "colorbar": {
              "outlinewidth": 0,
              "ticks": ""
             }
            },
            "type": "parcoords"
           }
          ],
          "pie": [
           {
            "automargin": true,
            "type": "pie"
           }
          ],
          "scatter": [
           {
            "fillpattern": {
             "fillmode": "overlay",
             "size": 10,
             "solidity": 0.2
            },
            "type": "scatter"
           }
          ],
          "scatter3d": [
           {
            "line": {
             "colorbar": {
              "outlinewidth": 0,
              "ticks": ""
             }
            },
            "marker": {
             "colorbar": {
              "outlinewidth": 0,
              "ticks": ""
             }
            },
            "type": "scatter3d"
           }
          ],
          "scattercarpet": [
           {
            "marker": {
             "colorbar": {
              "outlinewidth": 0,
              "ticks": ""
             }
            },
            "type": "scattercarpet"
           }
          ],
          "scattergeo": [
           {
            "marker": {
             "colorbar": {
              "outlinewidth": 0,
              "ticks": ""
             }
            },
            "type": "scattergeo"
           }
          ],
          "scattergl": [
           {
            "marker": {
             "colorbar": {
              "outlinewidth": 0,
              "ticks": ""
             }
            },
            "type": "scattergl"
           }
          ],
          "scattermapbox": [
           {
            "marker": {
             "colorbar": {
              "outlinewidth": 0,
              "ticks": ""
             }
            },
            "type": "scattermapbox"
           }
          ],
          "scatterpolar": [
           {
            "marker": {
             "colorbar": {
              "outlinewidth": 0,
              "ticks": ""
             }
            },
            "type": "scatterpolar"
           }
          ],
          "scatterpolargl": [
           {
            "marker": {
             "colorbar": {
              "outlinewidth": 0,
              "ticks": ""
             }
            },
            "type": "scatterpolargl"
           }
          ],
          "scatterternary": [
           {
            "marker": {
             "colorbar": {
              "outlinewidth": 0,
              "ticks": ""
             }
            },
            "type": "scatterternary"
           }
          ],
          "surface": [
           {
            "colorbar": {
             "outlinewidth": 0,
             "ticks": ""
            },
            "colorscale": [
             [
              0,
              "#0d0887"
             ],
             [
              0.1111111111111111,
              "#46039f"
             ],
             [
              0.2222222222222222,
              "#7201a8"
             ],
             [
              0.3333333333333333,
              "#9c179e"
             ],
             [
              0.4444444444444444,
              "#bd3786"
             ],
             [
              0.5555555555555556,
              "#d8576b"
             ],
             [
              0.6666666666666666,
              "#ed7953"
             ],
             [
              0.7777777777777778,
              "#fb9f3a"
             ],
             [
              0.8888888888888888,
              "#fdca26"
             ],
             [
              1,
              "#f0f921"
             ]
            ],
            "type": "surface"
           }
          ],
          "table": [
           {
            "cells": {
             "fill": {
              "color": "#EBF0F8"
             },
             "line": {
              "color": "white"
             }
            },
            "header": {
             "fill": {
              "color": "#C8D4E3"
             },
             "line": {
              "color": "white"
             }
            },
            "type": "table"
           }
          ]
         },
         "layout": {
          "annotationdefaults": {
           "arrowcolor": "#2a3f5f",
           "arrowhead": 0,
           "arrowwidth": 1
          },
          "autotypenumbers": "strict",
          "coloraxis": {
           "colorbar": {
            "outlinewidth": 0,
            "ticks": ""
           }
          },
          "colorscale": {
           "diverging": [
            [
             0,
             "#8e0152"
            ],
            [
             0.1,
             "#c51b7d"
            ],
            [
             0.2,
             "#de77ae"
            ],
            [
             0.3,
             "#f1b6da"
            ],
            [
             0.4,
             "#fde0ef"
            ],
            [
             0.5,
             "#f7f7f7"
            ],
            [
             0.6,
             "#e6f5d0"
            ],
            [
             0.7,
             "#b8e186"
            ],
            [
             0.8,
             "#7fbc41"
            ],
            [
             0.9,
             "#4d9221"
            ],
            [
             1,
             "#276419"
            ]
           ],
           "sequential": [
            [
             0,
             "#0d0887"
            ],
            [
             0.1111111111111111,
             "#46039f"
            ],
            [
             0.2222222222222222,
             "#7201a8"
            ],
            [
             0.3333333333333333,
             "#9c179e"
            ],
            [
             0.4444444444444444,
             "#bd3786"
            ],
            [
             0.5555555555555556,
             "#d8576b"
            ],
            [
             0.6666666666666666,
             "#ed7953"
            ],
            [
             0.7777777777777778,
             "#fb9f3a"
            ],
            [
             0.8888888888888888,
             "#fdca26"
            ],
            [
             1,
             "#f0f921"
            ]
           ],
           "sequentialminus": [
            [
             0,
             "#0d0887"
            ],
            [
             0.1111111111111111,
             "#46039f"
            ],
            [
             0.2222222222222222,
             "#7201a8"
            ],
            [
             0.3333333333333333,
             "#9c179e"
            ],
            [
             0.4444444444444444,
             "#bd3786"
            ],
            [
             0.5555555555555556,
             "#d8576b"
            ],
            [
             0.6666666666666666,
             "#ed7953"
            ],
            [
             0.7777777777777778,
             "#fb9f3a"
            ],
            [
             0.8888888888888888,
             "#fdca26"
            ],
            [
             1,
             "#f0f921"
            ]
           ]
          },
          "colorway": [
           "#636efa",
           "#EF553B",
           "#00cc96",
           "#ab63fa",
           "#FFA15A",
           "#19d3f3",
           "#FF6692",
           "#B6E880",
           "#FF97FF",
           "#FECB52"
          ],
          "font": {
           "color": "#2a3f5f"
          },
          "geo": {
           "bgcolor": "white",
           "lakecolor": "white",
           "landcolor": "#E5ECF6",
           "showlakes": true,
           "showland": true,
           "subunitcolor": "white"
          },
          "hoverlabel": {
           "align": "left"
          },
          "hovermode": "closest",
          "mapbox": {
           "style": "light"
          },
          "paper_bgcolor": "white",
          "plot_bgcolor": "#E5ECF6",
          "polar": {
           "angularaxis": {
            "gridcolor": "white",
            "linecolor": "white",
            "ticks": ""
           },
           "bgcolor": "#E5ECF6",
           "radialaxis": {
            "gridcolor": "white",
            "linecolor": "white",
            "ticks": ""
           }
          },
          "scene": {
           "xaxis": {
            "backgroundcolor": "#E5ECF6",
            "gridcolor": "white",
            "gridwidth": 2,
            "linecolor": "white",
            "showbackground": true,
            "ticks": "",
            "zerolinecolor": "white"
           },
           "yaxis": {
            "backgroundcolor": "#E5ECF6",
            "gridcolor": "white",
            "gridwidth": 2,
            "linecolor": "white",
            "showbackground": true,
            "ticks": "",
            "zerolinecolor": "white"
           },
           "zaxis": {
            "backgroundcolor": "#E5ECF6",
            "gridcolor": "white",
            "gridwidth": 2,
            "linecolor": "white",
            "showbackground": true,
            "ticks": "",
            "zerolinecolor": "white"
           }
          },
          "shapedefaults": {
           "line": {
            "color": "#2a3f5f"
           }
          },
          "ternary": {
           "aaxis": {
            "gridcolor": "white",
            "linecolor": "white",
            "ticks": ""
           },
           "baxis": {
            "gridcolor": "white",
            "linecolor": "white",
            "ticks": ""
           },
           "bgcolor": "#E5ECF6",
           "caxis": {
            "gridcolor": "white",
            "linecolor": "white",
            "ticks": ""
           }
          },
          "title": {
           "x": 0.05
          },
          "xaxis": {
           "automargin": true,
           "gridcolor": "white",
           "linecolor": "white",
           "ticks": "",
           "title": {
            "standoff": 15
           },
           "zerolinecolor": "white",
           "zerolinewidth": 2
          },
          "yaxis": {
           "automargin": true,
           "gridcolor": "white",
           "linecolor": "white",
           "ticks": "",
           "title": {
            "standoff": 15
           },
           "zerolinecolor": "white",
           "zerolinewidth": 2
          }
         }
        },
        "title": {
         "text": "Cmpound Score by Country and Entity, for Cold War Sovietic Side After"
        },
        "width": 800,
        "xaxis": {
         "title": {
          "text": "Entities"
         }
        },
        "yaxis": {
         "automargin": true,
         "title": {
          "text": "Country"
         }
        }
       }
      }
     },
     "metadata": {},
     "output_type": "display_data"
    }
   ],
   "source": [
    "# Perform entity-level sentiment analysis on every conflict's subset of movies\n",
    "for i, test_sample in enumerate(wars_iterator):\n",
    "    # Create a new dataframe for analysis\n",
    "    summaries = test_sample[['summary', 'Entities', 'Countries']]\n",
    "\n",
    "    # Perform the entity-level analysis on each row of the dataset and appending it in the results table\n",
    "    results = []\n",
    "    for _, row in summaries.iterrows():\n",
    "        sentiments = entity_sentiment_analysis(row[\"summary\"], row[\"Entities\"], row['Countries'])\n",
    "        results.extend(sentiments)\n",
    "\n",
    "    # Convert results to a DataFrame\n",
    "    entity_sentiments_df = pd.DataFrame(results)\n",
    "\n",
    "    sentiment = []\n",
    "    for j in range(len(entity_sentiments_df)):\n",
    "        if entity_sentiments_df.iloc[j, 2] >= 0.05:\n",
    "            sentiment.append('Protagonist')\n",
    "        elif entity_sentiments_df.iloc[j, 2] <= -0.05:\n",
    "            sentiment.append('Antagonist')\n",
    "        else:\n",
    "            sentiment.append('Protagonist')\n",
    "\n",
    "    # Create a new column for the role of the entity (Protagonist or Antagonist) and drop the duplicates \n",
    "    entity_sentiments_df['Role'] = sentiment\n",
    "    #entity_sentiments_df.drop_duplicates(inplace=True)\n",
    "    entity_sentiments_df['Country'] = entity_sentiments_df['Country'].apply(literal_eval)\n",
    "\n",
    "    # Explode the dataframe on the country column in order to analyse country-wise\n",
    "    entity_sentiments_df_exploded = entity_sentiments_df.explode(\"Country\").reset_index(drop=True)\n",
    "\n",
    "    # Remove irrelevant countries that might have appeared after exploding\n",
    "    entity_sentiments_df_exploded = entity_sentiments_df_exploded[entity_sentiments_df_exploded['Country'].isin(side_iterator[i])]\n",
    "\n",
    "    # Aggregate by contry and sentiment range \n",
    "    aggregated_data = entity_sentiments_df_exploded.groupby([\"Entity\", \"Country\"]).agg({\n",
    "    \"Compound\": \"mean\"}).reset_index()\n",
    "    # Pivot aggregated data\n",
    "    heatmap_data = aggregated_data.pivot(index=\"Country\", columns=\"Entity\", values=\"Compound\")\n",
    "\n",
    "\n",
    "    # Create multiple frames for better visibility\n",
    "    frames = []\n",
    "    if war_names[i] == 'World War II Allied Side After':\n",
    "        sixth= int(len(entity_sentiments_df_exploded)/6)\n",
    "        # Create the initial heatmap (first frame)\n",
    "        first_slide_data = entity_sentiments_df_exploded.iloc[:sixth]\n",
    "        frames.append(go.Frame(\n",
    "                data=[go.Heatmap(\n",
    "                    z=first_slide_data[\"Compound\"],\n",
    "                    x=first_slide_data[\"Entity\"],\n",
    "                    y=first_slide_data[\"Country\"],\n",
    "                    colorscale=\"RdBu\"\n",
    "                )],\n",
    "                name = '1'\n",
    "            ))\n",
    "        second_slide_data = entity_sentiments_df_exploded.iloc[sixth:2*sixth]\n",
    "        frames.append(go.Frame(\n",
    "                data=[go.Heatmap(\n",
    "                    z=second_slide_data[\"Compound\"],\n",
    "                    x=second_slide_data[\"Entity\"],\n",
    "                    y=second_slide_data[\"Country\"],\n",
    "                    colorscale=\"RdBu\"\n",
    "                )],\n",
    "                name = '2'\n",
    "            ))\n",
    "        third_slide_data = entity_sentiments_df_exploded.iloc[2*sixth:3*sixth]\n",
    "        frames.append(go.Frame(\n",
    "                data=[go.Heatmap(\n",
    "                    z=third_slide_data[\"Compound\"],\n",
    "                    x=third_slide_data[\"Entity\"],\n",
    "                    y=third_slide_data[\"Country\"],\n",
    "                    colorscale=\"RdBu\"\n",
    "                )],\n",
    "                name = '3'\n",
    "            ))\n",
    "        fourth_slide_data = entity_sentiments_df_exploded.iloc[3*sixth:4*sixth]\n",
    "        frames.append(go.Frame(\n",
    "                data=[go.Heatmap(\n",
    "                    z=fourth_slide_data[\"Compound\"],\n",
    "                    x=fourth_slide_data[\"Entity\"],\n",
    "                    y=fourth_slide_data[\"Country\"],\n",
    "                    colorscale=\"RdBu\"\n",
    "                )],\n",
    "                name = '4'\n",
    "            ))\n",
    "        \n",
    "        fifth_slide_data = entity_sentiments_df_exploded.iloc[4*sixth:5*sixth]\n",
    "        frames.append(go.Frame(\n",
    "                data=[go.Heatmap(\n",
    "                    z=fifth_slide_data[\"Compound\"],\n",
    "                    x=fifth_slide_data[\"Entity\"],\n",
    "                    y=fifth_slide_data[\"Country\"],\n",
    "                    colorscale=\"RdBu\"\n",
    "                )],\n",
    "                name = '5'\n",
    "            ))\n",
    "        sixth_slide_data = entity_sentiments_df_exploded.iloc[5*sixth:]\n",
    "        frames.append(go.Frame(\n",
    "                data=[go.Heatmap(\n",
    "                    z=sixth_slide_data[\"Compound\"],\n",
    "                    x=sixth_slide_data[\"Entity\"],\n",
    "                    y=sixth_slide_data[\"Country\"],\n",
    "                    colorscale=\"RdBu\"\n",
    "                )],\n",
    "                name = '6'\n",
    "            ))\n",
    "        '''\n",
    "        seventh_slide_data = entity_sentiments_df_exploded.iloc[6*sixth:7*sixth]\n",
    "        frames.append(go.Frame(\n",
    "                data=[go.Heatmap(\n",
    "                    z=seventh_slide_data[\"Compound\"],\n",
    "                    x=seventh_slide_data[\"Entity\"],\n",
    "                    y=seventh_slide_data[\"Country\"],\n",
    "                    colorscale=\"RdBu\"\n",
    "                )],\n",
    "                name = '7'\n",
    "            ))\n",
    "        eigth_slide_data = entity_sentiments_df_exploded.iloc[7*sixth:8*sixth]\n",
    "        frames.append(go.Frame(\n",
    "                data=[go.Heatmap(\n",
    "                    z=eigth_slide_data[\"Compound\"],\n",
    "                    x=eigth_slide_data[\"Entity\"],\n",
    "                    y=eigth_slide_data[\"Country\"],\n",
    "                    colorscale=\"RdBu\"\n",
    "                )],\n",
    "                name = '8'\n",
    "            ))\n",
    "        ninth_slide_data = entity_sentiments_df_exploded.iloc[8*sixth:]\n",
    "        frames.append(go.Frame(\n",
    "                data=[go.Heatmap(\n",
    "                    z=ninth_slide_data[\"Compound\"],\n",
    "                    x=ninth_slide_data[\"Entity\"],\n",
    "                    y=ninth_slide_data[\"Country\"],\n",
    "                    colorscale=\"RdBu\"\n",
    "                )],\n",
    "                name = '9'\n",
    "            ))\n",
    "            '''\n",
    "    elif (war_names[i] != 'Cold War Sovietic Side Before'): \n",
    "        third = int(len(entity_sentiments_df_exploded)/3)\n",
    "        first_slide_data = entity_sentiments_df_exploded.iloc[:third]\n",
    "        frames.append(go.Frame(\n",
    "                data=[go.Heatmap(\n",
    "                    z=first_slide_data[\"Compound\"],\n",
    "                    x=first_slide_data[\"Entity\"],\n",
    "                    y=first_slide_data[\"Country\"],\n",
    "                    colorscale=\"RdBu\"\n",
    "                )],\n",
    "                name = '1'\n",
    "            ))\n",
    "        second_slide_data = entity_sentiments_df_exploded.iloc[third:2*third]\n",
    "        frames.append(go.Frame(\n",
    "                data=[go.Heatmap(\n",
    "                    z=second_slide_data[\"Compound\"],\n",
    "                    x=second_slide_data[\"Entity\"],\n",
    "                    y=second_slide_data[\"Country\"],\n",
    "                    colorscale=\"RdBu\"\n",
    "                )],\n",
    "                name = '2'\n",
    "            ))\n",
    "        third_slide_data = entity_sentiments_df_exploded.iloc[2*third:]\n",
    "        frames.append(go.Frame(\n",
    "                data=[go.Heatmap(\n",
    "                    z=third_slide_data[\"Compound\"],\n",
    "                    x=third_slide_data[\"Entity\"],\n",
    "                    y=third_slide_data[\"Country\"],\n",
    "                    colorscale=\"RdBu\"\n",
    "                )],\n",
    "                name = '3'\n",
    "            ))\n",
    "    else:\n",
    "        first_slide_data = entity_sentiments_df_exploded\n",
    "        frames.append(go.Frame(\n",
    "                data=[go.Heatmap(\n",
    "                    z=first_slide_data[\"Compound\"],\n",
    "                    x=first_slide_data[\"Entity\"],\n",
    "                    y=first_slide_data[\"Country\"],\n",
    "                    colorscale=\"RdBu\"\n",
    "                )],\n",
    "                name = '1'\n",
    "            ))\n",
    "        \n",
    "    heatmap = go.Heatmap(\n",
    "        z=[first_slide_data[\"Compound\"]],\n",
    "        x=first_slide_data[\"Entity\"],\n",
    "        y=first_slide_data[\"Country\"],\n",
    "        colorscale=\"RdBu\",\n",
    "        colorbar=dict(title=\"Sentiment Score\")\n",
    "    )\n",
    "\n",
    "    # Create the heatmap\n",
    "    fig = go.Figure(\n",
    "        data=[heatmap] ,     # Color gradient\n",
    "        frames = frames  # Colorbar title\n",
    ")\n",
    "\n",
    "    # Customize layout\n",
    "    fig.update_layout(\n",
    "        title=f\"Cmpound Score by Country and Entity, for {war_names[i]}\",\n",
    "        xaxis=dict(title=\"Entities\"),\n",
    "        yaxis=dict(title=\"Country\", automargin=True),\n",
    "        width=800,  # Adjust width\n",
    "        height=800,  # Adjust height\n",
    "        sliders=[{\n",
    "        \"pad\": {\"t\": 50, \"b\": 20},\n",
    "        \"steps\": [\n",
    "            {\"args\": [[frame.name]],\n",
    "            \"label\": frame.name,\n",
    "            \"method\": \"animate\"}\n",
    "            for frame in frames\n",
    "        ],\n",
    "        \"transition\": {\"duration\": 500},\n",
    "        }],\n",
    "    )\n",
    "    fig.write_html(f\"heatmap_{i}.html\")\n",
    "    fig.show()"
   ]
  },
  {
   "cell_type": "code",
   "execution_count": null,
   "metadata": {},
   "outputs": [],
   "source": []
  }
 ],
 "metadata": {
  "kernelspec": {
   "display_name": "ada",
   "language": "python",
   "name": "python3"
  },
  "language_info": {
   "codemirror_mode": {
    "name": "ipython",
    "version": 3
   },
   "file_extension": ".py",
   "mimetype": "text/x-python",
   "name": "python",
   "nbconvert_exporter": "python",
   "pygments_lexer": "ipython3",
   "version": "3.11.10"
  }
 },
 "nbformat": 4,
 "nbformat_minor": 2
}
